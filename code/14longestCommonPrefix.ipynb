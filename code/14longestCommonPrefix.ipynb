{
 "cells": [
  {
   "cell_type": "markdown",
   "metadata": {},
   "source": [
    "# 最长公共子串"
   ]
  },
  {
   "cell_type": "markdown",
   "metadata": {},
   "source": [
    "思路：\n",
    "- 水平扫描\n",
    "    - 从开头两字符串比较得到最长公共子串，用公共子串和后面的字符串比较，又得新的公共子串继续后面比较，一次重复下去，最后得到最长公共子串\n",
    "    - 公式表示：$L C P\\left(S_{1} \\ldots S_{n}\\right)=L C P\\left(L C P\\left(L C P\\left(S_{1}, S_{2}\\right), S_{3}\\right), \\ldots S_{n}\\right)$\n",
    "- 垂直扫描 --自己的第一次思路\n",
    "    - 我们从前往后枚举字符串的每一列，先比较每个字符串相同列上的字符（即不同字符串相同下标的字符）然后再进行对下一列的比较\n",
    "- 分治法\n",
    "    - 对水平扫描的优化\n",
    "    - 让字符串从中间分开，两边分别使用水平扫描，依次往下拆分到两两字符串比较。\n",
    "    - 本质就是将水平扫描进行分治法处理\n"
   ]
  },
  {
   "cell_type": "markdown",
   "metadata": {},
   "source": [
    "注意：\n",
    "- 对于空字符串的特殊处理"
   ]
  },
  {
   "cell_type": "markdown",
   "metadata": {
    "ExecuteTime": {
     "end_time": "2020-04-16T06:30:51.520022Z",
     "start_time": "2020-04-16T06:30:51.516023Z"
    }
   },
   "source": [
    "第一次思路：先找出最短字符串长度，在这个长度中循环比较所有每个字符串对应位置上的字符是否相同，直到不同时或循环结束，得出答案"
   ]
  },
  {
   "cell_type": "code",
   "execution_count": 1,
   "metadata": {
    "ExecuteTime": {
     "end_time": "2020-04-17T05:26:59.865091Z",
     "start_time": "2020-04-17T05:26:59.856096Z"
    }
   },
   "outputs": [
    {
     "name": "stdout",
     "output_type": "stream",
     "text": [
      "\n"
     ]
    }
   ],
   "source": [
    "class Solution:\n",
    "    def longestCommonPrefix(strs) -> str:\n",
    "\n",
    "        if len(strs) < 1:\n",
    "            return \"\"\n",
    "\n",
    "        min_len = len(min(strs,key=len))  #找到字符串中最小的长度\n",
    "        ans = \"\"\n",
    "        flag = True  #是否相同标识\n",
    "\n",
    "        for i in range(min_len):\n",
    "            ch = strs[0][i]\n",
    "            for str in strs:\n",
    "                if str[i] == ch:\n",
    "                    continue\n",
    "                else:\n",
    "                    flag = False\n",
    "                    break\n",
    "            if not flag:\n",
    "                break\n",
    "            else:\n",
    "                ans += ch\n",
    "\n",
    "        return ans\n",
    "\n",
    "if __name__ == '__main__':\n",
    "    print(Solution.longestCommonPrefix([]))"
   ]
  },
  {
   "cell_type": "markdown",
   "metadata": {},
   "source": [
    "# 答案"
   ]
  },
  {
   "cell_type": "markdown",
   "metadata": {},
   "source": [
    "## 垂直扫描"
   ]
  },
  {
   "cell_type": "code",
   "execution_count": 5,
   "metadata": {
    "ExecuteTime": {
     "end_time": "2020-04-16T06:31:44.319385Z",
     "start_time": "2020-04-16T06:31:44.312389Z"
    }
   },
   "outputs": [],
   "source": [
    "class Solution:\n",
    "    def longestCommonPrefix(self, strs) -> str:\n",
    "\n",
    "        if len(strs) < 1:\n",
    "            return \"\"\n",
    "\n",
    "        min_len = len(min(strs,key=len))\n",
    "        ans = \"\"\n",
    "        flag = True\n",
    "\n",
    "        for i in range(min_len):\n",
    "            ch = strs[0][i]\n",
    "            for str in strs:\n",
    "                if str[i] == ch:\n",
    "                    continue\n",
    "                else:\n",
    "                    flag = False\n",
    "            if not flag:\n",
    "                break\n",
    "            else:\n",
    "                ans += ch\n",
    "\n",
    "        return ans"
   ]
  },
  {
   "cell_type": "markdown",
   "metadata": {},
   "source": [
    "## 水平扫描"
   ]
  },
  {
   "cell_type": "code",
   "execution_count": 5,
   "metadata": {
    "ExecuteTime": {
     "end_time": "2020-04-17T11:20:51.413879Z",
     "start_time": "2020-04-17T11:20:51.404885Z"
    }
   },
   "outputs": [],
   "source": [
    "class Solution:\n",
    "    def longestCommonPrefix(self, strs) -> str:\n",
    "\n",
    "        if not strs:\n",
    "            return \"\"\n",
    "        res = strs[0]\n",
    "        i = 1\n",
    "        while i < len(strs):\n",
    "            while strs[i].find(res) != 0:\n",
    "                res = res[0:len(res) - 1]  #如果不是最长公共子串，去掉最后一位再去判断\n",
    "            i += 1\n",
    "        return res"
   ]
  },
  {
   "cell_type": "markdown",
   "metadata": {
    "ExecuteTime": {
     "end_time": "2020-04-17T11:21:05.673913Z",
     "start_time": "2020-04-17T11:21:05.668917Z"
    }
   },
   "source": [
    "## 分治法"
   ]
  },
  {
   "cell_type": "code",
   "execution_count": 9,
   "metadata": {
    "ExecuteTime": {
     "end_time": "2020-04-17T11:30:33.693225Z",
     "start_time": "2020-04-17T11:30:33.684231Z"
    }
   },
   "outputs": [],
   "source": [
    "class Solution:\n",
    "    def longestCommonPrefix(self, strs) -> str:\n",
    "\n",
    "        if len(strs) < 1:\n",
    "            return \"\"\n",
    "\n",
    "        return Solution.commonPrefix(strs)\n",
    "\n",
    "\n",
    "\n",
    "    def commonPrefix(strs):\n",
    "        strs_len = len(strs)\n",
    "        if strs_len == 1:\n",
    "            return \"\".join(strs)  #列表转字符串，因为列表没有find函数\n",
    "\n",
    "        left = strs[:strs_len//2]\n",
    "        right = strs[strs_len//2:]\n",
    "\n",
    "        l = Solution.commonPrefix(left)\n",
    "        r = Solution.commonPrefix(right)\n",
    "\n",
    "        res = l\n",
    "        while r.find(res) !=0:\n",
    "            res = res[:len(res)-1]\n",
    "        return res"
   ]
  }
 ],
 "metadata": {
  "hide_input": false,
  "kernelspec": {
   "display_name": "Python 3",
   "language": "python",
   "name": "python3"
  },
  "language_info": {
   "codemirror_mode": {
    "name": "ipython",
    "version": 3
   },
   "file_extension": ".py",
   "mimetype": "text/x-python",
   "name": "python",
   "nbconvert_exporter": "python",
   "pygments_lexer": "ipython3",
   "version": "3.7.0"
  },
  "toc": {
   "base_numbering": 1,
   "nav_menu": {},
   "number_sections": true,
   "sideBar": true,
   "skip_h1_title": false,
   "title_cell": "Table of Contents",
   "title_sidebar": "Contents",
   "toc_cell": false,
   "toc_position": {},
   "toc_section_display": true,
   "toc_window_display": false
  },
  "varInspector": {
   "cols": {
    "lenName": 16,
    "lenType": 16,
    "lenVar": 40
   },
   "kernels_config": {
    "python": {
     "delete_cmd_postfix": "",
     "delete_cmd_prefix": "del ",
     "library": "var_list.py",
     "varRefreshCmd": "print(var_dic_list())"
    },
    "r": {
     "delete_cmd_postfix": ") ",
     "delete_cmd_prefix": "rm(",
     "library": "var_list.r",
     "varRefreshCmd": "cat(var_dic_list()) "
    }
   },
   "types_to_exclude": [
    "module",
    "function",
    "builtin_function_or_method",
    "instance",
    "_Feature"
   ],
   "window_display": false
  }
 },
 "nbformat": 4,
 "nbformat_minor": 2
}
