{
 "cells": [
  {
   "cell_type": "markdown",
   "metadata": {},
   "source": [
    "# \t面试题19\t正则表达式匹配  "
   ]
  },
  {
   "cell_type": "markdown",
   "metadata": {},
   "source": [
    "思路：\n",
    "- 非确定有限状态机（NFA）\n",
    "    - 当第二个字符不是‘*’的情况\n",
    "        - 模式串和字符串匹配或者模式串为‘.’，继续匹配剩余字符，否则返回false\n",
    "    - 当第二个字符是‘*’的情况\n",
    "        - 如果‘*’前一个字符和字符串不匹配，则跳过该模式\n",
    "        - 如果匹配，则有两种选择\n",
    "            - 模式向后移动2位 （匹配0位）\n",
    "            - 模式保持不变，字符串向后移动一位（匹配多位）\n",
    "- 动态规划\n",
    "    - $dp[i][j]$  表示的状态是 s 的前 i 项和 p 的前 j 项是否匹配\n",
    "    - 当第二个字符不是‘*’的情况\n",
    "        - 模式串和字符串匹配或者模式串为‘.’, $dp[i][j] = dp[i-1][j-1]$\n",
    "    - 当第二个字符是‘*’的情况\n",
    "        - 如果‘*’前一个字符和字符串不匹配，则跳过该模式, $dp[i][j] = dp[i][j-2]$\n",
    "        - 如果匹配，则有两种选择\n",
    "            - 当匹配0个时，如 ab和abb* ,这时我们需要去掉p中的b*后进行比较, $dp[i][j] = dp[i][j-2]$\n",
    "            - 当匹配多个时，如abbb和ab*，我们需要将s[i]前面的与p重新比较, $dp[i][j] = dp[i-1][j]$\n",
    "    - 以上情况都不匹配，则 $dp[i][j] = false$\n",
    "    - $d p(i)(j)=\\left\\{\\begin{array}{ll}d p(i-1)(j-1), & \\mathrm{s}(\\mathrm{i})=\\mathrm{p}(\\mathrm{j}) \\text { or } \\mathrm{p}(\\mathrm{j})='.' \\\\ d p(i)(j-2), & \\mathrm{p}(\\mathrm{j})=^{*}, \\mathrm{p}(\\mathrm{j}-1) !=\\mathrm{s}(\\mathrm{i}) \\\\ d p(i-1)(j) \\text { or } d p(i)(j-2), & \\mathrm{p}(\\mathrm{j})=*, \\mathrm{p}(\\mathrm{j}-1)=\\mathrm{s}(\\mathrm{i}) \\text { or } \\mathrm{p}(\\mathrm{j}-1)='.' \\\\\\text { False } & \\text { else }\\end{array}\\right.$\n",
    "    - 给s,p前面都加上一个字符‘#’，表示从空字符开始匹配\n",
    "    - https://leetcode-cn.com/problems/zheng-ze-biao-da-shi-pi-pei-lcof/solution/hui-su-dong-tai-gui-hua-by-ml-zimingmeng/\n",
    "    - https://leetcode-cn.com/problems/zheng-ze-biao-da-shi-pi-pei-lcof/solution/dong-tai-gui-hua-chao-xiang-xi-jie-da-you-fan-ru-j/\n",
    "- 回溯法\n",
    "    - 思路和上面的差不多，与非确定有限状态机都是使用递归"
   ]
  },
  {
   "cell_type": "markdown",
   "metadata": {},
   "source": [
    "注意：\n",
    "- 非确定有限状态机\n",
    "    - 字符串s用完，模式串p还有剩余不代表匹配失败，e.g. string: '', pattern: 'c*'\n",
    "- 动态规划\n",
    "    - 字符串前面加符号，从空字符开始判断\n",
    "    - if i == 0: 不仅表示字符串s为空情况，只考虑带‘*’的情况，也限制了它进入下面的判断，引起问题，如s=‘’，p=‘.’"
   ]
  },
  {
   "cell_type": "markdown",
   "metadata": {
    "ExecuteTime": {
     "end_time": "2020-06-15T12:09:00.251811Z",
     "start_time": "2020-06-15T12:09:00.246822Z"
    }
   },
   "source": [
    "仿照书上的思路改写的，先用的下标来定位，但无法解决 eg s：'a' p：'ab*',就想这种星号在最后的情况，和其他情况一起会造成下标不一致，从而字符串的超过范围\n",
    "\n",
    "后来通过切片改进，感觉逻辑是对的，但提交时会超时\n",
    "\n",
    "删除三个并集情况的第一个，能通过提交了，第一个情况存在重复了感觉，加多了递归造成超时"
   ]
  },
  {
   "cell_type": "code",
   "execution_count": 1,
   "metadata": {
    "ExecuteTime": {
     "end_time": "2020-06-16T02:59:31.538965Z",
     "start_time": "2020-06-16T02:59:31.529962Z"
    }
   },
   "outputs": [
    {
     "name": "stdout",
     "output_type": "stream",
     "text": [
      "True\n"
     ]
    }
   ],
   "source": [
    "class Solution:\n",
    "    def isMatch(self, s: str, p: str) -> bool:\n",
    "\n",
    "\n",
    "        return self.matchCore(s, p)\n",
    "\n",
    "    def matchCore(self, s, p):\n",
    "        # 递归出口，都匹配完表示匹配成功\n",
    "        if len(s) == 0 and len(p) == 0:\n",
    "            return True\n",
    "        # 字符串还剩余，模式串匹配完，则无法继续匹配，匹配失败\n",
    "        if s.strip() and len(p) == 0:\n",
    "            return False\n",
    "        # 带*处理\n",
    "        if len(p) > 1 and p[1] == '*':  \n",
    "            if len(s) != 0:\n",
    "                # 如果s和p第一个对应，返回三个情况的并集\n",
    "                if s[0] == p[0] or p[0] == '.':\n",
    "                    # s向后移动1个，模式向后移动2个\n",
    "                    # 保持模式不变\n",
    "                    # 模式向后移动2个\n",
    "#                     return self.matchCore(s[1:], p[2:]) \\\n",
    "#                            or self.matchCore(s[1:], p) \\\n",
    "#                            or self.matchCore(s, p[2:]) \n",
    "                    return self.matchCore(s[1:], p) \\\n",
    "                           or self.matchCore(s, p[2:]) \n",
    "                # s和p不匹配，忽略这个模式\n",
    "                else:\n",
    "                    return self.matchCore(s, p[2:])\n",
    "            # s用完，p还有，忽略这个模式\n",
    "            else:\n",
    "                return self.matchCore(s, p[2:])\n",
    "        # 不带*处理\n",
    "        elif len(s) != 0:\n",
    "            # s和p对应或者p为字符‘.’\n",
    "            if s[0] == p[0] or p[0] == '.':\n",
    "                return self.matchCore(s[1:], p[1:])\n",
    "\n",
    "        return False\n",
    "\n",
    "\n",
    "s = Solution()\n",
    "\n",
    "print(s.isMatch(\"\", \"a*\"))\n"
   ]
  },
  {
   "cell_type": "markdown",
   "metadata": {},
   "source": [
    "参考别人思路写的，没有超时有点奇怪，可能我那个判断多了递归太多\n",
    "\n",
    "参考：https://leetcode-cn.com/problems/zheng-ze-biao-da-shi-pi-pei-lcof/solution/mian-shi-ti-19-zheng-ze-biao-da-shi-pi-pei-di-gui-/"
   ]
  },
  {
   "cell_type": "code",
   "execution_count": 2,
   "metadata": {
    "ExecuteTime": {
     "end_time": "2020-06-16T02:59:31.545966Z",
     "start_time": "2020-06-16T02:59:31.540964Z"
    }
   },
   "outputs": [
    {
     "name": "stdout",
     "output_type": "stream",
     "text": [
      "True\n"
     ]
    }
   ],
   "source": [
    "class Solution:\n",
    "    def isMatch(self, s: str, p: str) -> bool:\n",
    "\n",
    "        if s is None or p is None:\n",
    "            return False\n",
    "        return self.matchCore(s, p)\n",
    "\n",
    "    def matchCore(self, s, p):\n",
    "        # s 和 p都为0 表示匹配完成\n",
    "        if len(s) == 0 and len(p) == 0:\n",
    "            return True\n",
    "        # s还有字符，而模式串已经用完，匹配无法完成表示匹配失败\n",
    "        if len(s) != 0 and len(p) == 0:\n",
    "            return False\n",
    "        # 针对带有*的处理\n",
    "        if len(p) > 1 and p[1] == '*':\n",
    "            # s和p第一个字符对应不上，直接跳过这个匹配\n",
    "            # e.g. string: '', pattern: 'c*'\n",
    "            # e.g. string: 'a', pattern: 'c*a'\n",
    "            if self.matchCore(s, p[2:]):\n",
    "                return True\n",
    "            # s和p第一个字符对应\n",
    "            # e.g. string: 'a', pattern: 'a*'\n",
    "            if s and s[0] == p[0]:\n",
    "                return self.matchCore(s[1:], p)\n",
    "             # p第一个字符为‘.’\n",
    "             # e.g. string: 'c', pattern: '.*'\n",
    "            if s and p[0] == '.':\n",
    "                return self.matchCore(s[1:], p)\n",
    "        # 没有*的处理\n",
    "        # 两种情况就是s和p的字符对应，或者p字符为‘.’都表示成功匹配\n",
    "        # 字符串s和模式串p都进入下个字符的匹配\n",
    "        elif s and (s[0] == p[0] or p[0] == '.'):\n",
    "            return self.matchCore(s[1:], p[1:])\n",
    "        #以上都没有，则表示匹配失败\n",
    "        return False\n",
    "\n",
    "\n",
    "s = Solution()\n",
    "print(s.isMatch(\"\", \"a*\"))"
   ]
  },
  {
   "cell_type": "markdown",
   "metadata": {},
   "source": [
    "# 答案"
   ]
  },
  {
   "cell_type": "markdown",
   "metadata": {},
   "source": [
    "## 非确定有限状态机"
   ]
  },
  {
   "cell_type": "code",
   "execution_count": 3,
   "metadata": {
    "ExecuteTime": {
     "end_time": "2020-06-16T02:59:31.551970Z",
     "start_time": "2020-06-16T02:59:31.546965Z"
    }
   },
   "outputs": [],
   "source": [
    "class Solution:\n",
    "    def isMatch(self, s: str, p: str) -> bool:\n",
    "\n",
    "        if s is None or p is None:\n",
    "            return False\n",
    "        return self.matchCore(s, p)\n",
    "\n",
    "    def matchCore(self, s, p):\n",
    "\n",
    "        if len(s) == 0 and len(p) == 0:\n",
    "            return True\n",
    "        if len(s) != 0 and len(p) == 0:\n",
    "            return False\n",
    "\n",
    "        if len(p) > 1 and p[1] == '*':\n",
    "            if self.matchCore(s, p[2:]):\n",
    "                return True\n",
    "            if s and s[0] == p[0]:\n",
    "                return self.matchCore(s[1:], p)\n",
    "            if s and p[0] == '.':\n",
    "                return self.matchCore(s[1:], p)\n",
    "        elif s and (s[0] == p[0] or p[0] == '.'):\n",
    "            return self.matchCore(s[1:], p[1:])\n",
    "        return False"
   ]
  },
  {
   "cell_type": "markdown",
   "metadata": {},
   "source": [
    "## 动态规划"
   ]
  },
  {
   "cell_type": "code",
   "execution_count": 4,
   "metadata": {
    "ExecuteTime": {
     "end_time": "2020-06-16T02:59:31.559969Z",
     "start_time": "2020-06-16T02:59:31.554969Z"
    }
   },
   "outputs": [],
   "source": [
    "class Solution:\n",
    "    def isMatch(self, s: str, p: str) -> bool:\n",
    "        s, p = '#' + s, '#' + p\n",
    "        s_len, p_len = len(s), len(p)\n",
    "        dp = [[False] * p_len for _ in range(s_len)]\n",
    "        dp[0][0] = True\n",
    "\n",
    "        for i in range(s_len):\n",
    "            for j in range(1, p_len):\n",
    "                # 字符串s为空情况，只考虑带‘*’的情况\n",
    "                if i == 0:\n",
    "                    dp[i][j] = j > 1 and p[j] == '*' and dp[i][j - 2]\n",
    "                # 模式串p和字符串s对应或模式串p为符合‘.’，就看前面的匹配结果\n",
    "                elif p[j] == s[i] or p[j] == '.':\n",
    "                    dp[i][j] = dp[i - 1][j - 1]\n",
    "                # 模式串p为‘*’的情况\n",
    "                elif p[j] == '*':\n",
    "                    # 模式串‘*’前的字符和字符串s匹配，分为匹配0个和匹配多个，满足其中一个都行\n",
    "                    if p[j - 1] == s[i] or p[j - 1] == '.':\n",
    "                        dp[i][j] = dp[i - 1][j] or dp[i][j - 2]\n",
    "                    # 模式串‘*’前的字符和字符串s不匹配，直接跳过该模式\n",
    "                    else:\n",
    "                        dp[i][j] = dp[i][j - 2]\n",
    "                else:\n",
    "                    dp[i][j] = False\n",
    "        return dp[-1][-1]"
   ]
  },
  {
   "cell_type": "markdown",
   "metadata": {},
   "source": [
    "## 回溯法"
   ]
  },
  {
   "cell_type": "code",
   "execution_count": 5,
   "metadata": {
    "ExecuteTime": {
     "end_time": "2020-06-16T03:08:55.225700Z",
     "start_time": "2020-06-16T03:08:55.221687Z"
    }
   },
   "outputs": [],
   "source": [
    "class Solution:\n",
    "    def isMatch(self, s: str, p: str) -> bool:\n",
    "        if not p: return not s\n",
    "        # 第一个字母是否匹配\n",
    "        first_match = bool(s and p[0] in {s[0],'.'})\n",
    "        # 如果 p 第二个字母是 *\n",
    "        if len(p) >= 2 and p[1] == \"*\":\n",
    "            return self.isMatch(s, p[2:]) or \\\n",
    "            first_match and self.isMatch(s[1:], p)\n",
    "        else:\n",
    "            return first_match and self.isMatch(s[1:], p[1:])"
   ]
  }
 ],
 "metadata": {
  "kernelspec": {
   "display_name": "Python 3",
   "language": "python",
   "name": "python3"
  },
  "language_info": {
   "codemirror_mode": {
    "name": "ipython",
    "version": 3
   },
   "file_extension": ".py",
   "mimetype": "text/x-python",
   "name": "python",
   "nbconvert_exporter": "python",
   "pygments_lexer": "ipython3",
   "version": "3.7.0"
  },
  "toc": {
   "base_numbering": 1,
   "nav_menu": {},
   "number_sections": true,
   "sideBar": true,
   "skip_h1_title": false,
   "title_cell": "Table of Contents",
   "title_sidebar": "Contents",
   "toc_cell": false,
   "toc_position": {},
   "toc_section_display": true,
   "toc_window_display": false
  },
  "varInspector": {
   "cols": {
    "lenName": 16,
    "lenType": 16,
    "lenVar": 40
   },
   "kernels_config": {
    "python": {
     "delete_cmd_postfix": "",
     "delete_cmd_prefix": "del ",
     "library": "var_list.py",
     "varRefreshCmd": "print(var_dic_list())"
    },
    "r": {
     "delete_cmd_postfix": ") ",
     "delete_cmd_prefix": "rm(",
     "library": "var_list.r",
     "varRefreshCmd": "cat(var_dic_list()) "
    }
   },
   "types_to_exclude": [
    "module",
    "function",
    "builtin_function_or_method",
    "instance",
    "_Feature"
   ],
   "window_display": false
  }
 },
 "nbformat": 4,
 "nbformat_minor": 2
}
