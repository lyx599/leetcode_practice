{
 "cells": [
  {
   "cell_type": "markdown",
   "metadata": {},
   "source": [
    "# 最接近的三数之和"
   ]
  },
  {
   "cell_type": "markdown",
   "metadata": {},
   "source": [
    "思路：\n",
    "- 暴力法\n",
    "    - 遍历所有组合，进行判断得出答案\n",
    "    - 复杂度$O\\left(n^{3}\\right)$，明显会超时\n",
    "-排序+双指针\n",
    "    - 先对数组进行排序\n",
    "    - 然后遍历排序好的数组，对当前遍历的数字下一位和末位设置指针，对三数之和进行判断\n",
    "        - 如果比最小间距小，则更新最小间距的三数之和的值\n",
    "        - 如果当前三数之和与target相等，则直接返回和值\n",
    "        - 如果当前三数之和与target小于0，则移动左指针\n",
    "        - 如果当前三数之和与target大于0，则移动右指针\n",
    "    - 时间复杂度$O\\left(n^{2}\\right)$"
   ]
  },
  {
   "cell_type": "markdown",
   "metadata": {},
   "source": [
    "注意："
   ]
  },
  {
   "cell_type": "markdown",
   "metadata": {
    "ExecuteTime": {
     "end_time": "2020-04-19T08:34:58.703083Z",
     "start_time": "2020-04-19T08:34:58.697086Z"
    }
   },
   "source": [
    "第一次思路：首先想到暴力法，然后在思考如何优化，开始想到了排序和双指针，因为和三数之和的题类似。但是一直没有确定到第一个数应该从哪里遍历，开始想的用target和排序的后的数组中间的数比较进行定位第一个数，再在首尾设置指针，但总会出现漏洞。主要没注意到排序后进行所有遍历其实已经降低复杂度了。主要是双指针降低了复杂度"
   ]
  },
  {
   "cell_type": "code",
   "execution_count": 2,
   "metadata": {
    "ExecuteTime": {
     "end_time": "2020-04-19T08:35:10.381329Z",
     "start_time": "2020-04-19T08:35:10.372334Z"
    }
   },
   "outputs": [
    {
     "name": "stdout",
     "output_type": "stream",
     "text": [
      "3\n"
     ]
    }
   ],
   "source": [
    "class Solution:\n",
    "    def threeSumClosest(nums, target: int) -> int:\n",
    "\n",
    "        nums.sort()\n",
    "\n",
    "        nums_len = len(nums)\n",
    "        gap = 100000\n",
    "\n",
    "        for i in range(nums_len):\n",
    "\n",
    "            left = i + 1\n",
    "            right = nums_len - 1\n",
    "\n",
    "            while left < right:\n",
    "                cur_sum = nums[i] + nums[left] + nums[right]\n",
    "                if abs(cur_sum - target) < gap:\n",
    "                    gap = abs(cur_sum - target)\n",
    "                    ans = cur_sum\n",
    "                if cur_sum - target == 0:\n",
    "                    return cur_sum\n",
    "                if cur_sum - target > 0:\n",
    "                    right -= 1\n",
    "                if cur_sum - target < 0:\n",
    "                    left += 1\n",
    "        return ans\n",
    "\n",
    "\n",
    "\n",
    "\n",
    "if __name__ == '__main__':\n",
    "    print(Solution.threeSumClosest([0,1,2],3))\n"
   ]
  },
  {
   "cell_type": "markdown",
   "metadata": {},
   "source": [
    "# 答案"
   ]
  },
  {
   "cell_type": "markdown",
   "metadata": {},
   "source": [
    "## 排序+双指针"
   ]
  },
  {
   "cell_type": "code",
   "execution_count": 4,
   "metadata": {
    "ExecuteTime": {
     "end_time": "2020-04-19T08:36:18.407979Z",
     "start_time": "2020-04-19T08:36:18.398984Z"
    }
   },
   "outputs": [],
   "source": [
    "class Solution:\n",
    "    def threeSumClosest(self, nums, target: int) -> int:\n",
    "        nums.sort()\n",
    "\n",
    "        nums_len = len(nums)\n",
    "        gap = 100000\n",
    "\n",
    "        for i in range(nums_len):\n",
    "\n",
    "            left = i + 1\n",
    "            right = nums_len - 1\n",
    "\n",
    "            while left < right:\n",
    "                cur_sum = nums[i] + nums[left] + nums[right]\n",
    "                if abs(cur_sum - target) < gap:\n",
    "                    gap = abs(cur_sum - target)\n",
    "                    ans = cur_sum\n",
    "                if cur_sum - target == 0:\n",
    "                    return cur_sum\n",
    "                if cur_sum - target > 0:\n",
    "                    right -= 1\n",
    "                if cur_sum - target < 0:\n",
    "                    left += 1\n",
    "        return ans"
   ]
  }
 ],
 "metadata": {
  "hide_input": false,
  "kernelspec": {
   "display_name": "Python 3",
   "language": "python",
   "name": "python3"
  },
  "language_info": {
   "codemirror_mode": {
    "name": "ipython",
    "version": 3
   },
   "file_extension": ".py",
   "mimetype": "text/x-python",
   "name": "python",
   "nbconvert_exporter": "python",
   "pygments_lexer": "ipython3",
   "version": "3.7.0"
  },
  "toc": {
   "base_numbering": 1,
   "nav_menu": {},
   "number_sections": true,
   "sideBar": true,
   "skip_h1_title": false,
   "title_cell": "Table of Contents",
   "title_sidebar": "Contents",
   "toc_cell": false,
   "toc_position": {},
   "toc_section_display": true,
   "toc_window_display": false
  },
  "varInspector": {
   "cols": {
    "lenName": 16,
    "lenType": 16,
    "lenVar": 40
   },
   "kernels_config": {
    "python": {
     "delete_cmd_postfix": "",
     "delete_cmd_prefix": "del ",
     "library": "var_list.py",
     "varRefreshCmd": "print(var_dic_list())"
    },
    "r": {
     "delete_cmd_postfix": ") ",
     "delete_cmd_prefix": "rm(",
     "library": "var_list.r",
     "varRefreshCmd": "cat(var_dic_list()) "
    }
   },
   "types_to_exclude": [
    "module",
    "function",
    "builtin_function_or_method",
    "instance",
    "_Feature"
   ],
   "window_display": false
  }
 },
 "nbformat": 4,
 "nbformat_minor": 2
}
