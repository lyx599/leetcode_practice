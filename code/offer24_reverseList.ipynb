{
 "cells": [
  {
   "cell_type": "markdown",
   "metadata": {},
   "source": [
    "# 面试题24\t反转链表  "
   ]
  },
  {
   "cell_type": "markdown",
   "metadata": {},
   "source": [
    "思路：\n",
    "- 头插法\n",
    "    - 新建一个反转链表的头节点reverse_head\n",
    "    - 遍历链表，使用reverse_head进行头插法反转链表\n",
    "    - 返回reverse_head.next 即为答案\n",
    "    - 时间复杂度 $O(n)$  遍历一遍链表\n",
    "    - 空间复杂度 $O(n)$  新建链表大小和原链表相同\n",
    "- 双指针\n",
    "    - 使用双指针pre，cur，对于原来的链表，pre指向前一个节点，cur指向后一个节点\n",
    "    - 初始pre指向None ， cur指向头节点\n",
    "    - 先记录cur下一个节点t\n",
    "    - 让cur指向pre，pre指向cur，cur指向t\n",
    "    - 重复操作，直到cur遍历完链表\n",
    "    - 实际感觉是3个指针\n",
    "    - 时间复杂度 $O(n)$  遍历一遍链表\n",
    "    - 空间复杂度 $O(1)$  常数辅助空间\n",
    "- 递归\n",
    "    - 使用递归函数，一直递归到链表的最后一个结点，该结点就是反转后的头结点，记作 ans .\n",
    "    - 此后，每次函数在返回的过程中，让当前结点的下一个结点的 next 指针指向当前节点。\n",
    "    - 同时让当前结点的 next 指针指向 NULL ，从而实现从链表尾部开始的局部反转\n",
    "    - 当递归函数全部出栈后，链表反转完成。"
   ]
  },
  {
   "cell_type": "markdown",
   "metadata": {},
   "source": [
    "注意："
   ]
  },
  {
   "cell_type": "code",
   "execution_count": 1,
   "metadata": {
    "ExecuteTime": {
     "end_time": "2020-06-17T14:22:34.322941Z",
     "start_time": "2020-06-17T14:22:34.316949Z"
    }
   },
   "outputs": [
    {
     "name": "stdout",
     "output_type": "stream",
     "text": [
      "<__main__.ListNode object at 0x00000289DBE740F0>\n"
     ]
    }
   ],
   "source": [
    "# Definition for singly-linked list.\n",
    "class ListNode:\n",
    "    def __init__(self, x):\n",
    "        self.val = x\n",
    "        self.next = None\n",
    "\n",
    "\n",
    "class Solution:\n",
    "    def reverseList(self, head: ListNode) -> ListNode:\n",
    "        reverse_head = ListNode(0)\n",
    "        while head:\n",
    "            node = ListNode(head.val)\n",
    "            node.next = reverse_head.next\n",
    "            reverse_head.next = node\n",
    "            head = head.next\n",
    "        return reverse_head.next\n",
    "\n",
    "\n",
    "head = ListNode(1)\n",
    "node = ListNode(2)\n",
    "head.next = node\n",
    "\n",
    "s = Solution()\n",
    "print(s.reverseList(head))"
   ]
  },
  {
   "cell_type": "markdown",
   "metadata": {},
   "source": [
    "# 答案"
   ]
  },
  {
   "cell_type": "markdown",
   "metadata": {},
   "source": [
    "## 头插法"
   ]
  },
  {
   "cell_type": "code",
   "execution_count": 2,
   "metadata": {
    "ExecuteTime": {
     "end_time": "2020-06-17T14:22:34.329949Z",
     "start_time": "2020-06-17T14:22:34.324938Z"
    }
   },
   "outputs": [],
   "source": [
    "# Definition for singly-linked list.\n",
    "# class ListNode:\n",
    "#     def __init__(self, x):\n",
    "#         self.val = x\n",
    "#         self.next = None\n",
    "\n",
    "class Solution:\n",
    "    def reverseList(self, head: ListNode) -> ListNode:\n",
    "        reverse_head = ListNode(0)\n",
    "        while head:\n",
    "            node = ListNode(head.val)\n",
    "            node.next = reverse_head.next\n",
    "            reverse_head.next = node\n",
    "            head = head.next\n",
    "        return reverse_head.next"
   ]
  },
  {
   "cell_type": "markdown",
   "metadata": {
    "ExecuteTime": {
     "end_time": "2020-06-17T12:58:01.226209Z",
     "start_time": "2020-06-17T12:58:01.223221Z"
    }
   },
   "source": [
    "## 双指针法"
   ]
  },
  {
   "cell_type": "code",
   "execution_count": 3,
   "metadata": {
    "ExecuteTime": {
     "end_time": "2020-06-17T14:22:34.335941Z",
     "start_time": "2020-06-17T14:22:34.330955Z"
    }
   },
   "outputs": [],
   "source": [
    "# Definition for singly-linked list.\n",
    "# class ListNode:\n",
    "#     def __init__(self, x):\n",
    "#         self.val = x\n",
    "#         self.next = None\n",
    "\n",
    "class Solution:\n",
    "    def reverseList(self, head: ListNode) -> ListNode:\n",
    "        pre = None\n",
    "        cur = head\n",
    "        while cur:\n",
    "            forward = cur.next\n",
    "            cur.next = pre\n",
    "            pre = cur\n",
    "            cur = forward\n",
    "        return pre"
   ]
  },
  {
   "cell_type": "markdown",
   "metadata": {},
   "source": [
    "## 递归"
   ]
  },
  {
   "cell_type": "code",
   "execution_count": 4,
   "metadata": {
    "ExecuteTime": {
     "end_time": "2020-06-17T14:22:34.342942Z",
     "start_time": "2020-06-17T14:22:34.337940Z"
    }
   },
   "outputs": [],
   "source": [
    "# Definition for singly-linked list.\n",
    "# class ListNode:\n",
    "#     def __init__(self, x):\n",
    "#         self.val = x\n",
    "#         self.next = None\n",
    "\n",
    "class Solution:\n",
    "    def reverseList(self, head: ListNode) -> ListNode:\n",
    "        if not head or not head.next:\n",
    "            return head\n",
    "        ans = self.reverseList(head.next)\n",
    "        # 当前节点的下一个节点指向自己，相当于反转指向\n",
    "        head.next.next = head\n",
    "        # 当前节点指向空指针，防止下一次反转连接出错\n",
    "        head.next = None\n",
    "        # 返回的始终是最后一个节点\n",
    "        return ans"
   ]
  }
 ],
 "metadata": {
  "kernelspec": {
   "display_name": "Python 3",
   "language": "python",
   "name": "python3"
  },
  "language_info": {
   "codemirror_mode": {
    "name": "ipython",
    "version": 3
   },
   "file_extension": ".py",
   "mimetype": "text/x-python",
   "name": "python",
   "nbconvert_exporter": "python",
   "pygments_lexer": "ipython3",
   "version": "3.7.0"
  },
  "toc": {
   "base_numbering": 1,
   "nav_menu": {},
   "number_sections": true,
   "sideBar": true,
   "skip_h1_title": false,
   "title_cell": "Table of Contents",
   "title_sidebar": "Contents",
   "toc_cell": false,
   "toc_position": {},
   "toc_section_display": true,
   "toc_window_display": false
  },
  "varInspector": {
   "cols": {
    "lenName": 16,
    "lenType": 16,
    "lenVar": 40
   },
   "kernels_config": {
    "python": {
     "delete_cmd_postfix": "",
     "delete_cmd_prefix": "del ",
     "library": "var_list.py",
     "varRefreshCmd": "print(var_dic_list())"
    },
    "r": {
     "delete_cmd_postfix": ") ",
     "delete_cmd_prefix": "rm(",
     "library": "var_list.r",
     "varRefreshCmd": "cat(var_dic_list()) "
    }
   },
   "types_to_exclude": [
    "module",
    "function",
    "builtin_function_or_method",
    "instance",
    "_Feature"
   ],
   "window_display": false
  }
 },
 "nbformat": 4,
 "nbformat_minor": 2
}
