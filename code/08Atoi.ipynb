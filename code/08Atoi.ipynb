{
 "cells": [
  {
   "cell_type": "markdown",
   "metadata": {},
   "source": [
    "# 字符串转换整数"
   ]
  },
  {
   "cell_type": "markdown",
   "metadata": {},
   "source": [
    "思路：\n",
    "- 自动机\n",
    "  - 程序在每个时刻有一个状态 s，每次从序列中输入一个字符 c，并根据字符 c 转移到下一个状态 s'。这样，我们只需要建立一个覆盖所有情况的从 s 与 c 映射到 s' 的表格即可解决题目中的问题"
   ]
  },
  {
   "cell_type": "markdown",
   "metadata": {},
   "source": [
    "注意："
   ]
  },
  {
   "cell_type": "markdown",
   "metadata": {
    "ExecuteTime": {
     "end_time": "2020-04-10T11:10:29.439057Z",
     "start_time": "2020-04-10T11:10:29.434058Z"
    }
   },
   "source": [
    "自己的思路：\n",
    "根据题目信息，设置一个首字符标识量定位第一个字符，根据各个条件进行判断，还有一些特例判断。\n",
    "\n",
    "健壮性不够，只能算暴力解出来了"
   ]
  },
  {
   "cell_type": "code",
   "execution_count": 2,
   "metadata": {
    "ExecuteTime": {
     "end_time": "2020-04-10T11:01:21.492690Z",
     "start_time": "2020-04-10T11:01:21.483694Z"
    },
    "code_folding": []
   },
   "outputs": [
    {
     "name": "stdout",
     "output_type": "stream",
     "text": [
      "0\n"
     ]
    }
   ],
   "source": [
    "class Solution(object):\n",
    "    def myAtoi(str):\n",
    "        \"\"\"\n",
    "        :type str: str\n",
    "        :rtype: int\n",
    "        \"\"\"\n",
    "\n",
    "        first = True\n",
    "        str_len = len(str)\n",
    "        if str_len < 1:\n",
    "            return 0\n",
    "        ans =''\n",
    "        for i in range(str_len):\n",
    "            if first and str[i]==' ':\n",
    "                continue\n",
    "            elif first and (str[i]=='-' or str[i]=='+'):\n",
    "                first = False\n",
    "                ans += str[i]\n",
    "            elif first and (str[i]<'0' or str[i]>'9'):  #这个在-+符合后面，因为这个判断包含了-+号\n",
    "                return 0\n",
    "            elif str[i]>='0' and str[i]<='9':\n",
    "                first = False\n",
    "                ans += str[i]\n",
    "            else:\n",
    "                break\n",
    "        if len(ans) < 1:\n",
    "            return 0\n",
    "        if len(ans) == 1 and('-' in ans or '+' in ans):\n",
    "            return 0\n",
    "        ans = int(ans)\n",
    "        if ans > 2**31 -1:\n",
    "            return 2**31 -1\n",
    "        elif ans < -2**31:\n",
    "            return -2**31\n",
    "        else:\n",
    "            return ans\n",
    "\n",
    "if __name__ == '__main__':\n",
    "    print(Solution.myAtoi(' '))"
   ]
  },
  {
   "cell_type": "markdown",
   "metadata": {},
   "source": [
    "# 答案"
   ]
  },
  {
   "cell_type": "code",
   "execution_count": 1,
   "metadata": {
    "ExecuteTime": {
     "end_time": "2020-04-12T08:41:53.842334Z",
     "start_time": "2020-04-12T08:41:53.832340Z"
    }
   },
   "outputs": [],
   "source": [
    "class Solution(object):\n",
    "    def myAtoi(self, str):\n",
    "        \"\"\"\n",
    "        :type str: str\n",
    "        :rtype: int\n",
    "        \"\"\"\n",
    "        first = True\n",
    "        str_len = len(str)\n",
    "        if str_len < 1:\n",
    "            return 0\n",
    "        ans =''\n",
    "        for i in range(str_len):\n",
    "            if first and str[i]==' ':\n",
    "                continue\n",
    "            elif first and (str[i]=='-' or str[i]=='+'):\n",
    "                first = False\n",
    "                ans += str[i]\n",
    "            elif first and (str[i]<'0' or str[i]>'9'):\n",
    "                return 0\n",
    "            elif str[i]>='0' and str[i]<='9':\n",
    "                first = False\n",
    "                ans += str[i]\n",
    "            else:\n",
    "                break\n",
    "        if len(ans) < 1:\n",
    "            return 0\n",
    "        if len(ans) == 1 and('-' in ans or '+' in ans):\n",
    "            return 0\n",
    "        ans = int(ans)\n",
    "        if ans > 2**31 -1:\n",
    "            return 2**31 -1\n",
    "        elif ans < -2**31:\n",
    "            return -2**31\n",
    "        else:\n",
    "            return ans"
   ]
  },
  {
   "cell_type": "markdown",
   "metadata": {},
   "source": [
    "## 自动机"
   ]
  },
  {
   "cell_type": "code",
   "execution_count": 4,
   "metadata": {
    "ExecuteTime": {
     "end_time": "2020-04-12T10:47:40.702137Z",
     "start_time": "2020-04-12T10:47:40.692141Z"
    }
   },
   "outputs": [],
   "source": [
    "class automation:\n",
    "    def getch(self,c):\n",
    "        if c == ' ':\n",
    "            return 0\n",
    "        if c == '-' or c == '+':\n",
    "            return 1\n",
    "        if c.isdigit():\n",
    "            return 2\n",
    "        return 3\n",
    "\n",
    "class Solution(object):\n",
    "    def myAtoi(self, str):\n",
    "        \"\"\"\n",
    "        :type str: str\n",
    "        :rtype: int\n",
    "        \"\"\"\n",
    "        #状态表\n",
    "        table = {\n",
    "            'start': ['start', 'signed', 'in_number', 'end'],\n",
    "            'signed': ['end', 'end', 'in_number', 'end'],\n",
    "            'in_number': ['end', 'end', 'in_number', 'end'],\n",
    "            'end': ['end', 'end', 'end', 'end'],\n",
    "        }\n",
    "        #设置初始值\n",
    "        state = 'start'\n",
    "        sign = 1  #初始符号假设为 +\n",
    "        ans = 0   #正好对应无法转换的字符串返回0\n",
    "\n",
    "        for c in str:\n",
    "            flag = automation().getch(c)\n",
    "            state = table[state][flag]\n",
    "            if state == 'end':\n",
    "                break\n",
    "            if state == 'signed':\n",
    "                if c == '-':\n",
    "                    sign = -1\n",
    "            if state == 'in_number':\n",
    "                ans = ans * 10 + int(c)\n",
    "\n",
    "        ans = ans * sign\n",
    "\n",
    "        if ans > 2**31 -1:\n",
    "            return 2**31 -1\n",
    "        elif ans < -2**31:\n",
    "            return -2**31\n",
    "        else:\n",
    "            return ans"
   ]
  }
 ],
 "metadata": {
  "hide_input": false,
  "kernelspec": {
   "display_name": "Python 3",
   "language": "python",
   "name": "python3"
  },
  "language_info": {
   "codemirror_mode": {
    "name": "ipython",
    "version": 3
   },
   "file_extension": ".py",
   "mimetype": "text/x-python",
   "name": "python",
   "nbconvert_exporter": "python",
   "pygments_lexer": "ipython3",
   "version": "3.7.0"
  },
  "toc": {
   "base_numbering": 1,
   "nav_menu": {},
   "number_sections": true,
   "sideBar": true,
   "skip_h1_title": false,
   "title_cell": "Table of Contents",
   "title_sidebar": "Contents",
   "toc_cell": false,
   "toc_position": {},
   "toc_section_display": true,
   "toc_window_display": false
  },
  "varInspector": {
   "cols": {
    "lenName": 16,
    "lenType": 16,
    "lenVar": 40
   },
   "kernels_config": {
    "python": {
     "delete_cmd_postfix": "",
     "delete_cmd_prefix": "del ",
     "library": "var_list.py",
     "varRefreshCmd": "print(var_dic_list())"
    },
    "r": {
     "delete_cmd_postfix": ") ",
     "delete_cmd_prefix": "rm(",
     "library": "var_list.r",
     "varRefreshCmd": "cat(var_dic_list()) "
    }
   },
   "types_to_exclude": [
    "module",
    "function",
    "builtin_function_or_method",
    "instance",
    "_Feature"
   ],
   "window_display": false
  }
 },
 "nbformat": 4,
 "nbformat_minor": 2
}
