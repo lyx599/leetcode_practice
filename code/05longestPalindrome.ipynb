{
 "cells": [
  {
   "cell_type": "markdown",
   "metadata": {},
   "source": [
    "# 最长回文子串"
   ]
  },
  {
   "cell_type": "markdown",
   "metadata": {},
   "source": [
    "思路：\n",
    "- 暴力法\n",
    "    - 枚举所有长度大于2的子串，并依次它们判断是否为回文\n",
    "- 中心扩散法\n",
    "    - 回文左右成镜像，因此可以从中心向两边展开进行判断回文\n",
    "    - 对每个中心进行回文判断，最后选取最长的回文 \n",
    "    - 回文中心可能是一个字符或者两个字符，因此中心个数为2n-1   eg：abba 两个字符 abcba 一个字符 与回文奇偶有关系\n",
    "- 动态规划\n",
    "    - 根据一个回文去掉两头以后，剩下的部分依然是回文，构成状态转移\n",
    "    - 状态转移方程 `dp[i][j] = (s[i] == s[j]) and dp[i + 1][j - 1]`\n",
    "    - 边界条件是：表达式 [i + 1, j - 1] 不构成区间，即长度严格小于 2，即 j - 1 - (i + 1) + 1 < 2 ，整理得 j - i < 3\n",
    "    - 这个结论很显然：当子串 s[i, j] 的长度等于 2 或者等于 3 的时候，我其实只需要判断一下头尾两个字符是否相等就可以直接下结论了。\n",
    "\n",
    "        - 如果子串 s[i + 1, j - 1] 只有 1 个字符，即去掉两头，剩下中间部分只有 11 个字符，当然是回文；\n",
    "        - 如果子串 s[i + 1, j - 1] 为空串，那么子串 s[i, j] 一定是回文子串。\n",
    "        \n",
    "      因此，在 s[i] == s[j] 成立和 j - i < 3 的前提下，直接可以下结论，dp[i][j] = true，否则才执行状态转移。\n",
    "\n",
    "\n",
    "\n"
   ]
  },
  {
   "cell_type": "markdown",
   "metadata": {},
   "source": [
    "注意：\n",
    "- 要对空字符串，一个字符特例进行判断\n",
    "- 可以对字符串插入#字符，使他变为始终为奇数的字符串，再使用中心扩散进行计算，得出答案后去掉#"
   ]
  },
  {
   "cell_type": "code",
   "execution_count": null,
   "metadata": {},
   "outputs": [],
   "source": []
  },
  {
   "cell_type": "markdown",
   "metadata": {},
   "source": [
    "自己第一个思路和中心扩展法类似，但由于是从两边向里面推进，所以对一些特殊的回文如abb无法判断。\n",
    "\n",
    "只能判断对称的回文"
   ]
  },
  {
   "cell_type": "code",
   "execution_count": 10,
   "metadata": {
    "ExecuteTime": {
     "end_time": "2020-04-02T10:09:11.078936Z",
     "start_time": "2020-04-02T10:09:11.071940Z"
    }
   },
   "outputs": [
    {
     "name": "stdout",
     "output_type": "stream",
     "text": [
      "a\n"
     ]
    }
   ],
   "source": [
    "class Solution(object):\n",
    "    def longestPalindrome(s):\n",
    "        \"\"\"\n",
    "        :type s: str\n",
    "        :rtype: str\n",
    "        \"\"\"\n",
    "        s_len = len(s)\n",
    "        flag = False\n",
    "        cur = -1\n",
    "        for i in range(s_len // 2):\n",
    "            if not flag and s[i] == s[s_len-i-1]:\n",
    "                flag = True\n",
    "                cur = i\n",
    "            if s[i] != s[s_len-i-1]:\n",
    "                flag = False\n",
    "                cur = -1\n",
    "        if s_len == 0:\n",
    "            return \"\"\n",
    "        if cur == -1:\n",
    "            return s[0]\n",
    "        else:\n",
    "            return  s[cur:s_len-cur]\n",
    "\n",
    "\n",
    "\n",
    "\n",
    "if __name__ == '__main__':\n",
    "\n",
    "    s = 'abb'\n",
    "    print(Solution.longestPalindrome(s))"
   ]
  },
  {
   "cell_type": "markdown",
   "metadata": {},
   "source": [
    "# 答案"
   ]
  },
  {
   "cell_type": "markdown",
   "metadata": {},
   "source": [
    "## 中心扩展法"
   ]
  },
  {
   "cell_type": "markdown",
   "metadata": {},
   "source": [
    "根据别人的修改的，for i in range(s_len-1): 如果len不减一的话，对于ac输入，输出c，但减不减一都能通过，说明力扣对2个答案都认可\n",
    "\n",
    "个人更倾向减一符合逻辑，不会存在下标溢出，这个未报错的原因是 right < len(s)先判断了，所以未判断后面一个"
   ]
  },
  {
   "cell_type": "code",
   "execution_count": 4,
   "metadata": {
    "ExecuteTime": {
     "end_time": "2020-04-02T10:00:14.889078Z",
     "start_time": "2020-04-02T10:00:14.879085Z"
    }
   },
   "outputs": [],
   "source": [
    "class Solution(object):\n",
    "    def longestPalindrome(self, s):\n",
    "        \"\"\"\n",
    "        :type s: str\n",
    "        :rtype: str\n",
    "        \"\"\"\n",
    "        s_len = len(s)\n",
    "\n",
    "        if s_len < 2:\n",
    "            return s\n",
    "        start = 0\n",
    "        end = 0\n",
    "        for i in range(s_len-1):\n",
    "            len1 = Solution().expandAroundCenter(s,i,i)\n",
    "            len2 = Solution().expandAroundCenter(s,i,i+1)\n",
    "            max_len = max(len1,len2)\n",
    "            if max_len > end - start:\n",
    "                start = i - (max_len -1) // 2  #长度减一才能匹配2个字符为中心的回文，具体原理还不清楚\n",
    "                end = i + max_len // 2\n",
    "        return s[start:end+1]\n",
    "\n",
    "    def expandAroundCenter(self,s,left,right):\n",
    "\n",
    "        while left>=0 and right < len(s) and s[left] == s[right]:\n",
    "            left = left - 1\n",
    "            right = right + 1\n",
    "        return right - left -1 #减1才是字符串长度"
   ]
  },
  {
   "cell_type": "markdown",
   "metadata": {},
   "source": [
    "## 动态规划"
   ]
  },
  {
   "cell_type": "code",
   "execution_count": 1,
   "metadata": {
    "ExecuteTime": {
     "end_time": "2020-04-04T13:20:30.634515Z",
     "start_time": "2020-04-04T13:20:30.617525Z"
    }
   },
   "outputs": [],
   "source": [
    "class Solution(object):\n",
    "    def longestPalindrome(self, s):\n",
    "        \"\"\"\n",
    "        :type s: str\n",
    "        :rtype: str\n",
    "        \"\"\"\n",
    "        s_len = len(s)\n",
    "\n",
    "        if s_len < 2:\n",
    "            return s\n",
    "\n",
    "        dp = [[False for _ in range(s_len)]for _ in range(s_len)]\n",
    "        max_len = 1\n",
    "        start = 0  #这两个参数主要处理ac等这种非回文字符串的情况，输出第一个字符，因为它无法进入dp判断，相当于默认第一个字符为最长回文\n",
    "\n",
    "        for i in range(s_len):\n",
    "            dp[i][i] = True\n",
    "\n",
    "        for j in range(1,s_len ):\n",
    "            for i in range(0,j):\n",
    "                if s[i] == s[j]:\n",
    "                    if j - i < 3:\n",
    "                        dp[i][j] = True\n",
    "                    else:\n",
    "                        dp[i][j] = dp[i+1][j-1]\n",
    "                else:\n",
    "                    dp[i][j] = False\n",
    "\n",
    "                if dp[i][j]:\n",
    "                    cur_len = j - i + 1\n",
    "                    if cur_len > max_len:\n",
    "                        max_len = cur_len\n",
    "                        start = i\n",
    "        return s[start:start+max_len]"
   ]
  }
 ],
 "metadata": {
  "hide_input": false,
  "kernelspec": {
   "display_name": "Python 3",
   "language": "python",
   "name": "python3"
  },
  "language_info": {
   "codemirror_mode": {
    "name": "ipython",
    "version": 3
   },
   "file_extension": ".py",
   "mimetype": "text/x-python",
   "name": "python",
   "nbconvert_exporter": "python",
   "pygments_lexer": "ipython3",
   "version": "3.7.0"
  },
  "toc": {
   "base_numbering": 1,
   "nav_menu": {},
   "number_sections": true,
   "sideBar": true,
   "skip_h1_title": false,
   "title_cell": "Table of Contents",
   "title_sidebar": "Contents",
   "toc_cell": false,
   "toc_position": {},
   "toc_section_display": true,
   "toc_window_display": false
  },
  "varInspector": {
   "cols": {
    "lenName": 16,
    "lenType": 16,
    "lenVar": 40
   },
   "kernels_config": {
    "python": {
     "delete_cmd_postfix": "",
     "delete_cmd_prefix": "del ",
     "library": "var_list.py",
     "varRefreshCmd": "print(var_dic_list())"
    },
    "r": {
     "delete_cmd_postfix": ") ",
     "delete_cmd_prefix": "rm(",
     "library": "var_list.r",
     "varRefreshCmd": "cat(var_dic_list()) "
    }
   },
   "types_to_exclude": [
    "module",
    "function",
    "builtin_function_or_method",
    "instance",
    "_Feature"
   ],
   "window_display": false
  }
 },
 "nbformat": 4,
 "nbformat_minor": 2
}
