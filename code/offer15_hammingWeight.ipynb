{
 "cells": [
  {
   "cell_type": "markdown",
   "metadata": {},
   "source": [
    "# 面试题15\t二进制中1的个数  "
   ]
  },
  {
   "cell_type": "markdown",
   "metadata": {},
   "source": [
    "思路：\n",
    "- 逐位判断\n",
    "    - 通过移位1，让1与n做位与运算逐位判断n中1的个数\n",
    "    - 循环32次\n",
    "- (n -1) & n\n",
    "    - 通过(n -1) & n，每次让n中最右边的1消除来记录1的个数\n",
    "    - 时间复杂度 $O(M)$ ：(n -1) & n 操作仅有减法和与运算，占用 $O(1)$  ；设 M 为二进制数字 n 中 1 的个数，则需循环 M 次（每轮消去一个 1 ），占用 $O(M)$  。\n",
    "    - 空间复杂度 $O(1)$ ： 变量 resres 使用常数大小额外空间。"
   ]
  },
  {
   "cell_type": "markdown",
   "metadata": {},
   "source": [
    "注意：\n",
    "- 右移n是错误的，因为如果n为负时，最左边时1，右移时会一直在最左边添加1，造成无限循环，但这里提交时对的"
   ]
  },
  {
   "cell_type": "code",
   "execution_count": 1,
   "metadata": {
    "ExecuteTime": {
     "end_time": "2020-06-11T02:46:35.362658Z",
     "start_time": "2020-06-11T02:46:35.358657Z"
    }
   },
   "outputs": [],
   "source": [
    "class Solution:\n",
    "    def hammingWeight(self, n: int) -> int:\n",
    "\n",
    "        ans = 0\n",
    "        while s:\n",
    "            ans += 1\n",
    "            n = (n - 1) & n\n",
    "        return ans"
   ]
  },
  {
   "cell_type": "markdown",
   "metadata": {},
   "source": [
    "# 答案"
   ]
  },
  {
   "cell_type": "markdown",
   "metadata": {},
   "source": [
    "右移n时错误的，但提交能通过"
   ]
  },
  {
   "cell_type": "code",
   "execution_count": 2,
   "metadata": {
    "ExecuteTime": {
     "end_time": "2020-06-11T02:46:35.368658Z",
     "start_time": "2020-06-11T02:46:35.363658Z"
    }
   },
   "outputs": [],
   "source": [
    "class Solution:\n",
    "    def hammingWeight(self, n: int) -> int:\n",
    "\n",
    "        ans = 0\n",
    "        while n:\n",
    "            ans += n & 1\n",
    "            n >>= 1\n",
    "        return ans"
   ]
  },
  {
   "cell_type": "markdown",
   "metadata": {},
   "source": [
    "## 逐位检查"
   ]
  },
  {
   "cell_type": "code",
   "execution_count": 3,
   "metadata": {
    "ExecuteTime": {
     "end_time": "2020-06-11T02:46:35.373660Z",
     "start_time": "2020-06-11T02:46:35.369659Z"
    }
   },
   "outputs": [],
   "source": [
    "class Solution:\n",
    "    def hammingWeight(self, n: int) -> int:\n",
    "\n",
    "        ans = 0\n",
    "        for i in range(0, 32):\n",
    "            if (1 << i) & n:\n",
    "                ans += 1\n",
    "\n",
    "        return ans"
   ]
  },
  {
   "cell_type": "markdown",
   "metadata": {
    "ExecuteTime": {
     "end_time": "2020-06-11T02:46:26.298700Z",
     "start_time": "2020-06-11T02:46:26.294706Z"
    }
   },
   "source": [
    "## (n -1) & n"
   ]
  },
  {
   "cell_type": "code",
   "execution_count": 4,
   "metadata": {
    "ExecuteTime": {
     "end_time": "2020-06-11T02:46:35.379662Z",
     "start_time": "2020-06-11T02:46:35.374660Z"
    }
   },
   "outputs": [],
   "source": [
    "class Solution:\n",
    "    def hammingWeight(self, n: int) -> int:\n",
    "\n",
    "        ans = 0\n",
    "        while s:\n",
    "            ans += 1\n",
    "            n = (n - 1) & n\n",
    "        return ans"
   ]
  }
 ],
 "metadata": {
  "kernelspec": {
   "display_name": "Python 3",
   "language": "python",
   "name": "python3"
  },
  "language_info": {
   "codemirror_mode": {
    "name": "ipython",
    "version": 3
   },
   "file_extension": ".py",
   "mimetype": "text/x-python",
   "name": "python",
   "nbconvert_exporter": "python",
   "pygments_lexer": "ipython3",
   "version": "3.7.0"
  },
  "toc": {
   "base_numbering": 1,
   "nav_menu": {},
   "number_sections": true,
   "sideBar": true,
   "skip_h1_title": false,
   "title_cell": "Table of Contents",
   "title_sidebar": "Contents",
   "toc_cell": false,
   "toc_position": {},
   "toc_section_display": true,
   "toc_window_display": false
  },
  "varInspector": {
   "cols": {
    "lenName": 16,
    "lenType": 16,
    "lenVar": 40
   },
   "kernels_config": {
    "python": {
     "delete_cmd_postfix": "",
     "delete_cmd_prefix": "del ",
     "library": "var_list.py",
     "varRefreshCmd": "print(var_dic_list())"
    },
    "r": {
     "delete_cmd_postfix": ") ",
     "delete_cmd_prefix": "rm(",
     "library": "var_list.r",
     "varRefreshCmd": "cat(var_dic_list()) "
    }
   },
   "types_to_exclude": [
    "module",
    "function",
    "builtin_function_or_method",
    "instance",
    "_Feature"
   ],
   "window_display": false
  }
 },
 "nbformat": 4,
 "nbformat_minor": 2
}
