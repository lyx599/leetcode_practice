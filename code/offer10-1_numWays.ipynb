{
 "cells": [
  {
   "cell_type": "markdown",
   "metadata": {},
   "source": [
    "# 面试题10- II. 青蛙跳台阶问题"
   ]
  },
  {
   "cell_type": "markdown",
   "metadata": {},
   "source": [
    "思路：\n",
    "- 迭代法\n",
    "    - 在所有跳法中，青蛙的最后一步只有两种情况： 跳上 1 级或 2 级台阶。\n",
    "      - 当为 1 级台阶： 剩 n−1 个台阶，此情况共有 f(n−1) 种跳法；\n",
    "      - 当为 2 级台阶： 剩 n−2 个台阶，此情况共有 f(n−2) 种跳法。\n",
    "      - f(n) 为以上两种情况之和，即 f(n)=f(n-1)+f(n-2)，以上递推性质为斐波那契数列\n",
    "    - 其他方法和求解斐波拉契相似，只是起始数字不同"
   ]
  },
  {
   "cell_type": "markdown",
   "metadata": {},
   "source": [
    "注意：\n",
    "- 当n=0时，f(0) = 1 "
   ]
  },
  {
   "cell_type": "code",
   "execution_count": 3,
   "metadata": {
    "ExecuteTime": {
     "end_time": "2020-06-08T08:49:52.586737Z",
     "start_time": "2020-06-08T08:49:52.581739Z"
    }
   },
   "outputs": [
    {
     "name": "stdout",
     "output_type": "stream",
     "text": [
      "5\n"
     ]
    }
   ],
   "source": [
    "class Solution:\n",
    "    def numWays(self, n: int) -> int:\n",
    "        if n == 0:\n",
    "            return 0\n",
    "        if n == 1:\n",
    "            return 1\n",
    "        if n == 2:\n",
    "            return 2\n",
    "\n",
    "        first_num = 1\n",
    "        second_num = 2\n",
    "        for i in range(3, n + 1):\n",
    "            ans = first_num + second_num\n",
    "            first_num = second_num\n",
    "            second_num = ans\n",
    "\n",
    "        ans = ans % 1000000007\n",
    "        return ans\n",
    "\n",
    "\n",
    "s = Solution()\n",
    "print(s.numWays(4))"
   ]
  },
  {
   "cell_type": "markdown",
   "metadata": {},
   "source": [
    "# 答案"
   ]
  },
  {
   "cell_type": "markdown",
   "metadata": {},
   "source": [
    "## 迭代法"
   ]
  },
  {
   "cell_type": "code",
   "execution_count": 4,
   "metadata": {
    "ExecuteTime": {
     "end_time": "2020-06-08T08:50:12.896734Z",
     "start_time": "2020-06-08T08:50:12.892739Z"
    }
   },
   "outputs": [],
   "source": [
    "class Solution:\n",
    "    def numWays(self, n: int) -> int:\n",
    "        if n == 0:\n",
    "            return 1\n",
    "        if n == 1:\n",
    "            return 1\n",
    "        if n == 2:\n",
    "            return 2\n",
    "\n",
    "        first_num = 1\n",
    "        second_num = 2\n",
    "        for i in range(3, n + 1):\n",
    "            ans = first_num + second_num\n",
    "            first_num = second_num\n",
    "            second_num = ans\n",
    "\n",
    "        ans = ans % 1000000007\n",
    "        return ans"
   ]
  }
 ],
 "metadata": {
  "kernelspec": {
   "display_name": "Python 3",
   "language": "python",
   "name": "python3"
  },
  "toc": {
   "base_numbering": 1,
   "nav_menu": {},
   "number_sections": true,
   "sideBar": true,
   "skip_h1_title": false,
   "title_cell": "Table of Contents",
   "title_sidebar": "Contents",
   "toc_cell": false,
   "toc_position": {},
   "toc_section_display": true,
   "toc_window_display": false
  },
  "varInspector": {
   "cols": {
    "lenName": 16,
    "lenType": 16,
    "lenVar": 40
   },
   "kernels_config": {
    "python": {
     "delete_cmd_postfix": "",
     "delete_cmd_prefix": "del ",
     "library": "var_list.py",
     "varRefreshCmd": "print(var_dic_list())"
    },
    "r": {
     "delete_cmd_postfix": ") ",
     "delete_cmd_prefix": "rm(",
     "library": "var_list.r",
     "varRefreshCmd": "cat(var_dic_list()) "
    }
   },
   "types_to_exclude": [
    "module",
    "function",
    "builtin_function_or_method",
    "instance",
    "_Feature"
   ],
   "window_display": false
  }
 },
 "nbformat": 4,
 "nbformat_minor": 2
}
