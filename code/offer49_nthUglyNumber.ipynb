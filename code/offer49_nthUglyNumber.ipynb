{
 "cells": [
  {
   "cell_type": "markdown",
   "metadata": {},
   "source": [
    "# 剑指 Offer 49\t丑数  "
   ]
  },
  {
   "cell_type": "markdown",
   "metadata": {},
   "source": [
    "思路：\n",
    "- 动态规划\n",
    "    - 关键在于如何按顺序递推丑数\n",
    "    - 一个丑数由较小的丑数*2，*3，*5得到，并找到其中顺序规律\n",
    "    - 时间复杂度 $O(N)$ ： 其中 N = n ，动态规划需遍历计算 dp 列表。\n",
    "    - 空间复杂度 $O(N)$ ： 长度为 N 的 dp 列表使用 $O(N)$) 的额外空间。\n",
    "    - https://leetcode-cn.com/problems/chou-shu-lcof/solution/mian-shi-ti-49-chou-shu-dong-tai-gui-hua-qing-xi-t/"
   ]
  },
  {
   "cell_type": "markdown",
   "metadata": {},
   "source": [
    "注意："
   ]
  },
  {
   "cell_type": "markdown",
   "metadata": {},
   "source": [
    "暴力法，稳定超时，通过暴力法想到了要从小到大来乘得到丑数，但没有找到其中的规律，没找到如何乘以2,3,5并保持顺序大小"
   ]
  },
  {
   "cell_type": "code",
   "execution_count": 1,
   "metadata": {
    "ExecuteTime": {
     "end_time": "2020-07-21T09:09:22.647869Z",
     "start_time": "2020-07-21T09:09:22.632853Z"
    }
   },
   "outputs": [
    {
     "name": "stdout",
     "output_type": "stream",
     "text": [
      "1536\n"
     ]
    }
   ],
   "source": [
    "class Solution:\n",
    "    def nthUglyNumber(self, n: int) -> int:\n",
    "        chou = [1, 2, 3, 4, 5]\n",
    "        count = 5\n",
    "        if n < 1:\n",
    "            return\n",
    "        if n < 6:\n",
    "            return chou[n - 1]\n",
    "        for num in range(6, 2**32):\n",
    "            if num / 2 in chou or num / 3 in chou or num / 5 in chou:\n",
    "                chou.append(num)\n",
    "                count += 1\n",
    "            if count == n:\n",
    "                break\n",
    "        return chou[-1]\n",
    "\n",
    "\n",
    "s = Solution()\n",
    "print(s.nthUglyNumber(100))"
   ]
  },
  {
   "cell_type": "code",
   "execution_count": 2,
   "metadata": {
    "ExecuteTime": {
     "end_time": "2020-07-21T09:09:22.654864Z",
     "start_time": "2020-07-21T09:09:22.648863Z"
    }
   },
   "outputs": [
    {
     "name": "stdout",
     "output_type": "stream",
     "text": [
      "12\n"
     ]
    }
   ],
   "source": [
    "class Solution:\n",
    "    def nthUglyNumber(self, n: int) -> int:\n",
    "\n",
    "        if n < 1:\n",
    "            return\n",
    "        dp = [1]\n",
    "        a = b = c = 0\n",
    "        for i in range(n - 1):\n",
    "            num1 = dp[a] * 2\n",
    "            num2 = dp[b] * 3\n",
    "            num3 = dp[c] * 5\n",
    "            dp.append(min(num1, num2, num3))\n",
    "            if dp[-1] == dp[a] * 2:\n",
    "                a += 1\n",
    "            if dp[-1] == dp[b] * 3:\n",
    "                b += 1\n",
    "            if dp[-1] == dp[c] * 5:\n",
    "                c += 1\n",
    "        return dp[-1]\n",
    "\n",
    "s = Solution()\n",
    "print(s.nthUglyNumber(10))"
   ]
  },
  {
   "cell_type": "markdown",
   "metadata": {},
   "source": [
    "# 答案"
   ]
  },
  {
   "cell_type": "markdown",
   "metadata": {},
   "source": [
    "## 动态规划"
   ]
  },
  {
   "cell_type": "code",
   "execution_count": 3,
   "metadata": {
    "ExecuteTime": {
     "end_time": "2020-07-21T09:09:22.661859Z",
     "start_time": "2020-07-21T09:09:22.656857Z"
    }
   },
   "outputs": [],
   "source": [
    "class Solution:\n",
    "    def nthUglyNumber(self, n: int) -> int:\n",
    "        if n < 1:\n",
    "            return \n",
    "        dp = [1]\n",
    "        a = b = c = 0\n",
    "        for i in range(n - 1):\n",
    "            num1 = dp[a] * 2\n",
    "            num2 = dp[b] * 3\n",
    "            num3 = dp[c] * 5\n",
    "            dp.append(min(num1, num2, num3))\n",
    "            if dp[-1] == dp[a] * 2:\n",
    "                a += 1\n",
    "            if dp[-1] == dp[b] * 3:\n",
    "                b += 1\n",
    "            if dp[-1] == dp[c] * 5:\n",
    "                c += 1\n",
    "        return dp[-1]"
   ]
  }
 ],
 "metadata": {
  "kernelspec": {
   "display_name": "Python 3",
   "language": "python",
   "name": "python3"
  },
  "language_info": {
   "codemirror_mode": {
    "name": "ipython",
    "version": 3
   },
   "file_extension": ".py",
   "mimetype": "text/x-python",
   "name": "python",
   "nbconvert_exporter": "python",
   "pygments_lexer": "ipython3",
   "version": "3.7.0"
  },
  "toc": {
   "base_numbering": 1,
   "nav_menu": {},
   "number_sections": true,
   "sideBar": true,
   "skip_h1_title": false,
   "title_cell": "Table of Contents",
   "title_sidebar": "Contents",
   "toc_cell": false,
   "toc_position": {},
   "toc_section_display": true,
   "toc_window_display": false
  },
  "varInspector": {
   "cols": {
    "lenName": 16,
    "lenType": 16,
    "lenVar": 40
   },
   "kernels_config": {
    "python": {
     "delete_cmd_postfix": "",
     "delete_cmd_prefix": "del ",
     "library": "var_list.py",
     "varRefreshCmd": "print(var_dic_list())"
    },
    "r": {
     "delete_cmd_postfix": ") ",
     "delete_cmd_prefix": "rm(",
     "library": "var_list.r",
     "varRefreshCmd": "cat(var_dic_list()) "
    }
   },
   "types_to_exclude": [
    "module",
    "function",
    "builtin_function_or_method",
    "instance",
    "_Feature"
   ],
   "window_display": false
  }
 },
 "nbformat": 4,
 "nbformat_minor": 4
}
