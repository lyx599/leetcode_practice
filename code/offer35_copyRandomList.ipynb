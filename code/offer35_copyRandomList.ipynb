{
 "cells": [
  {
   "cell_type": "markdown",
   "metadata": {},
   "source": [
    "# 剑指 Offer 35\t复杂链表的复制  "
   ]
  },
  {
   "cell_type": "markdown",
   "metadata": {},
   "source": [
    "思路：\n",
    "- DFS\n",
    "    - 将复杂链表当成图来考虑，用哈希表来定位random连接的节点\n",
    "    - 先递归遍历next节点，克隆所以的next节点，并记录在哈希表visited中\n",
    "    - 每层递归返回中，在哈希表visited中查找当前节点random的连接节点\n",
    "    - 时间复杂度 $O(N)$: 递归遍历了所有节点\n",
    "    - 空间复杂度 $O(N)$: 哈希表存入了链表中的每个节点\n",
    "- BFS\n",
    "    - 和DFS思路差不多，把DFS改为BFS\n",
    "    - 同样使用哈希表来定位random连接的节点\n",
    "    - 同时拷贝next节点和random节点，并加入队列，如果他们不再队列中\n",
    "    - 直到队列为空\n",
    "    - 时间复杂度 $O(N)$: 遍历了所有节点\n",
    "    - 空间复杂度 $O(N)$: 哈希表存入了链表中的每个节点\n",
    "    \n",
    "- 迭代\n",
    "    - 分为三步：\n",
    "    - 1. 先将每个节点复制一个放在每个节点的后面\n",
    "    - 2. 遍历链表，复制的节点通过原节点连接random节点\n",
    "    - 3. 将链表原节点和复制节点分开为2个链表，即得到答案\n",
    "    - 时间复杂度 $O(N)$: 遍历了3遍复杂链表，时间复杂度$O(3N)$\n",
    "    - 空间复杂度 $O(1)$: 常数辅助变量"
   ]
  },
  {
   "cell_type": "markdown",
   "metadata": {},
   "source": [
    "注意：\n",
    "- 本题考察的是深复制\n",
    "- 对于用户定义的类的实例，默认情况下是可哈希的；它们都是不相等的，并且它们的哈希值都是id()"
   ]
  },
  {
   "cell_type": "markdown",
   "metadata": {},
   "source": [
    "- 考察的是深复制\n",
    "- 考虑到了先拷贝next，在拷贝random\n",
    "- 没有想到能把它当图处理，采用深度优先和广度优先\n",
    "- 没有搞清楚random的节点怎么判断是第几个节点\n",
    "- 通过哈希表进行判断random连接的节点，通过键的寻找定位连接的节点"
   ]
  },
  {
   "cell_type": "code",
   "execution_count": 1,
   "metadata": {
    "ExecuteTime": {
     "end_time": "2020-07-03T08:24:10.522933Z",
     "start_time": "2020-07-03T08:24:10.515932Z"
    }
   },
   "outputs": [],
   "source": [
    "# Definition for a Node.\n",
    "class Node:\n",
    "    def __init__(self, x: int, next: 'Node' = None, random: 'Node' = None):\n",
    "        self.val = int(x)\n",
    "        self.next = next\n",
    "        self.random = random\n",
    "\n",
    "\n",
    "class Solution:\n",
    "    def copyRandomList(self, head: 'Node') -> 'Node':\n",
    "        # 通过这个哈希表找到random连接的节点，存储格式  原节点：克隆节点\n",
    "        visited = {}\n",
    "\n",
    "        def dfs(head):\n",
    "            if not head:\n",
    "                return None\n",
    "            if head in visited:\n",
    "                return visited[head]\n",
    "            clone = Node(head.val, None, None)\n",
    "            visited[head] = clone\n",
    "#           先克隆完所有的next节点\n",
    "            clone.next = dfs(head.next)\n",
    "            clone.random = dfs(head.random)\n",
    "            return clone\n",
    "        return dfs(head)"
   ]
  },
  {
   "cell_type": "markdown",
   "metadata": {},
   "source": [
    "# 答案"
   ]
  },
  {
   "cell_type": "markdown",
   "metadata": {},
   "source": [
    "## DFS"
   ]
  },
  {
   "cell_type": "code",
   "execution_count": 2,
   "metadata": {
    "ExecuteTime": {
     "end_time": "2020-07-03T08:24:10.528942Z",
     "start_time": "2020-07-03T08:24:10.523933Z"
    }
   },
   "outputs": [],
   "source": [
    "\"\"\"\n",
    "# Definition for a Node.\n",
    "class Node:\n",
    "    def __init__(self, x: int, next: 'Node' = None, random: 'Node' = None):\n",
    "        self.val = int(x)\n",
    "        self.next = next\n",
    "        self.random = random\n",
    "\"\"\"\n",
    "class Solution:\n",
    "    def copyRandomList(self, head: 'Node') -> 'Node':\n",
    "        visited = {}\n",
    "\n",
    "        def dfs(head):  \n",
    "            if not head:\n",
    "                return None\n",
    "            if head in visited:\n",
    "                return visited[head]\n",
    "            clone = Node(head.val, None, None)\n",
    "            visited[head] = clone\n",
    "            clone.next = dfs(head.next)\n",
    "#             此时节点都进入visited了，可以直接去取不用调用函数，其实这两种作用是相同的\n",
    "#             clone.random = dfs(head.random)\n",
    "            clone.random = visited.get(head.random)\n",
    "            return clone\n",
    "        return dfs(head)"
   ]
  },
  {
   "cell_type": "markdown",
   "metadata": {},
   "source": [
    "## BFS"
   ]
  },
  {
   "cell_type": "code",
   "execution_count": 3,
   "metadata": {
    "ExecuteTime": {
     "end_time": "2020-07-03T08:24:10.536936Z",
     "start_time": "2020-07-03T08:24:10.530935Z"
    }
   },
   "outputs": [],
   "source": [
    "\"\"\"\n",
    "# Definition for a Node.\n",
    "class Node:\n",
    "    def __init__(self, x: int, next: 'Node' = None, random: 'Node' = None):\n",
    "        self.val = int(x)\n",
    "        self.next = next\n",
    "        self.random = random\n",
    "\"\"\"\n",
    "class Solution:\n",
    "    def copyRandomList(self, head: 'Node') -> 'Node':\n",
    "        import collections\n",
    "        visited = {}\n",
    "\n",
    "        def bfs(head):\n",
    "            if not head:\n",
    "                return None\n",
    "            queue = collections.deque()\n",
    "            queue.append(head)\n",
    "            clone = Node(head.val, None, None)\n",
    "            visited[head] = clone\n",
    "            while queue:\n",
    "                node = queue.popleft()\n",
    "                if node.next and node.next not in visited:\n",
    "                    clone = Node(node.next.val, None, None)\n",
    "                    visited[node.next] = clone\n",
    "                    queue.append(node.next)\n",
    "                if node.random and node.random not in visited:\n",
    "                    clone = Node(node.random.val, None, None)\n",
    "                    visited[node.random] = clone\n",
    "                    queue.append(node.random)\n",
    "                visited[node].next = visited.get(node.next)\n",
    "                visited[node].random = visited.get(node.random)\n",
    "            return visited[head]\n",
    "        return bfs(head)"
   ]
  },
  {
   "cell_type": "markdown",
   "metadata": {},
   "source": [
    "## 迭代"
   ]
  },
  {
   "cell_type": "code",
   "execution_count": 4,
   "metadata": {
    "ExecuteTime": {
     "end_time": "2020-07-03T08:24:10.542938Z",
     "start_time": "2020-07-03T08:24:10.537936Z"
    }
   },
   "outputs": [],
   "source": [
    "\"\"\"\n",
    "# Definition for a Node.\n",
    "class Node:\n",
    "    def __init__(self, x: int, next: 'Node' = None, random: 'Node' = None):\n",
    "        self.val = int(x)\n",
    "        self.next = next\n",
    "        self.random = random\n",
    "\"\"\"\n",
    "class Solution:\n",
    "    def copyRandomList(self, head: 'Node') -> 'Node':\n",
    "        if not head:\n",
    "            return None\n",
    "        # 复制每一个节点的值，让它在节点后面\n",
    "        p = head\n",
    "        while p:\n",
    "            clone = Node(p.val, None, None)\n",
    "            next_node = p.next\n",
    "            clone.next = next_node\n",
    "            p.next = clone\n",
    "            p = next_node\n",
    "        # 连接random\n",
    "        p = head\n",
    "        while p:\n",
    "            clone_p = p.next\n",
    "            if not p.random:\n",
    "                clone_p.random = None\n",
    "            else:\n",
    "                clone_p.random = p.random.next\n",
    "            p = p.next.next\n",
    "        # 分开2个链表\n",
    "        clone_head = head.next\n",
    "        q = clone_head\n",
    "        p = head\n",
    "        while q.next:\n",
    "            p.next = p.next.next\n",
    "            q.next = q.next.next\n",
    "            p = p.next\n",
    "            q = q.next\n",
    "        return clone_head"
   ]
  }
 ],
 "metadata": {
  "kernelspec": {
   "display_name": "Python 3",
   "language": "python",
   "name": "python3"
  },
  "language_info": {
   "codemirror_mode": {
    "name": "ipython",
    "version": 3
   },
   "file_extension": ".py",
   "mimetype": "text/x-python",
   "name": "python",
   "nbconvert_exporter": "python",
   "pygments_lexer": "ipython3",
   "version": "3.7.0"
  },
  "toc": {
   "base_numbering": 1,
   "nav_menu": {},
   "number_sections": true,
   "sideBar": true,
   "skip_h1_title": false,
   "title_cell": "Table of Contents",
   "title_sidebar": "Contents",
   "toc_cell": false,
   "toc_position": {},
   "toc_section_display": true,
   "toc_window_display": false
  },
  "varInspector": {
   "cols": {
    "lenName": 16,
    "lenType": 16,
    "lenVar": 40
   },
   "kernels_config": {
    "python": {
     "delete_cmd_postfix": "",
     "delete_cmd_prefix": "del ",
     "library": "var_list.py",
     "varRefreshCmd": "print(var_dic_list())"
    },
    "r": {
     "delete_cmd_postfix": ") ",
     "delete_cmd_prefix": "rm(",
     "library": "var_list.r",
     "varRefreshCmd": "cat(var_dic_list()) "
    }
   },
   "types_to_exclude": [
    "module",
    "function",
    "builtin_function_or_method",
    "instance",
    "_Feature"
   ],
   "window_display": false
  }
 },
 "nbformat": 4,
 "nbformat_minor": 2
}
