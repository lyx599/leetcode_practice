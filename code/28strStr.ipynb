{
 "cells": [
  {
   "cell_type": "markdown",
   "metadata": {},
   "source": [
    "# 实现strStr"
   ]
  },
  {
   "cell_type": "markdown",
   "metadata": {},
   "source": [
    "思路：\n",
    "- 双指针法\n",
    "    - 遍历haystack 字符串，找到与needle字符串第一个字符匹配的字符\n",
    "    - 依次遍历比较是否匹配，如果匹配成功返回haystack匹配的第一个字符的位置，匹配失败则回溯到下一个字符继续遍历\n",
    "- 滑动窗口法\n",
    "    - 将长度为 L 的滑动窗口沿着 haystack 字符串逐步移动，并将窗口内的子串与 needle 字符串相比较\n",
    "- KMP"
   ]
  },
  {
   "cell_type": "markdown",
   "metadata": {},
   "source": [
    "注意：\n",
    "- needle为空 返回0\n",
    "- haystack为空 返回-1"
   ]
  },
  {
   "cell_type": "markdown",
   "metadata": {
    "ExecuteTime": {
     "end_time": "2020-05-04T11:57:40.694198Z",
     "start_time": "2020-05-04T11:57:40.687203Z"
    }
   },
   "source": [
    "第一次思路：暴力法，两重循环遍历得到答案\n",
    "\n",
    "虽然答案对了，但是逻辑上感觉还是有很多问题，下标也存在问题"
   ]
  },
  {
   "cell_type": "code",
   "execution_count": 3,
   "metadata": {
    "ExecuteTime": {
     "end_time": "2020-05-04T11:58:10.203296Z",
     "start_time": "2020-05-04T11:58:10.190303Z"
    }
   },
   "outputs": [
    {
     "name": "stdout",
     "output_type": "stream",
     "text": [
      "-1\n"
     ]
    }
   ],
   "source": [
    "class Solution:\n",
    "    def strStr(self, haystack: str, needle: str) -> int:\n",
    "\n",
    "        h_len = len(haystack)\n",
    "        n_len = len(needle)\n",
    "        if n_len < 1: #特例\n",
    "            return 0\n",
    "        if h_len < 1:#特例\n",
    "            return -1\n",
    "        j = 0\n",
    "        ans = -1\n",
    "        for i in range(h_len):\n",
    "            if h_len - i < n_len: #本来为了提高效率，意外解决了needle比haystack的情况判断 如 aaa，aaaa（长度对比也存在问题 应该是h_len - i -1 < n_len，但会错误判断a，a）\n",
    "                return -1\n",
    "            if haystack[i] == needle[j]:\n",
    "                ans = i\n",
    "                for k in range(i,h_len):\n",
    "                    if haystack[k] == needle[j]:\n",
    "                        j += 1\n",
    "                    else: #匹配失败 重置条件\n",
    "                        j = 0\n",
    "                        ans = -1\n",
    "                        break\n",
    "                    if j == n_len:\n",
    "                        return ans\n",
    "        return ans\n",
    "\n",
    "\n",
    "s = Solution()\n",
    "haystack = \"aaaa\"\n",
    "needle = \"ab\"\n",
    "print(s.strStr(haystack,needle))"
   ]
  },
  {
   "cell_type": "code",
   "execution_count": null,
   "metadata": {},
   "outputs": [],
   "source": []
  },
  {
   "cell_type": "markdown",
   "metadata": {},
   "source": [
    "# 答案"
   ]
  },
  {
   "cell_type": "markdown",
   "metadata": {},
   "source": [
    "## 双指针法"
   ]
  },
  {
   "cell_type": "code",
   "execution_count": 5,
   "metadata": {
    "ExecuteTime": {
     "end_time": "2020-05-04T12:09:40.492881Z",
     "start_time": "2020-05-04T12:09:40.485884Z"
    }
   },
   "outputs": [],
   "source": [
    "class Solution:\n",
    "    def strStr(self, haystack: str, needle: str) -> int:\n",
    "\n",
    "        h_len = len(haystack)\n",
    "        n_len = len(needle)\n",
    "        if n_len < 1: #特例\n",
    "            return 0\n",
    "        if h_len < 1:#特例\n",
    "            return -1\n",
    "        j = 0\n",
    "        ans = -1\n",
    "        for i in range(h_len):\n",
    "            if h_len - i < n_len: #本来为了提高效率，意外解决了needle比haystack的情况判断 如 aaa，aaaa（长度对比也存在问题 应该是h_len - i -1 < n_len，但会错误判断a，a）\n",
    "                return -1\n",
    "            if haystack[i] == needle[j]:\n",
    "                ans = i\n",
    "                for k in range(i,h_len):\n",
    "                    if haystack[k] == needle[j]:\n",
    "                        j += 1\n",
    "                    else: #匹配失败 重置条件\n",
    "                        j = 0\n",
    "                        ans = -1\n",
    "                        break\n",
    "                    if j == n_len:\n",
    "                        return ans\n",
    "        return ans"
   ]
  },
  {
   "cell_type": "markdown",
   "metadata": {},
   "source": [
    "官方版本，逻辑清楚些"
   ]
  },
  {
   "cell_type": "code",
   "execution_count": 2,
   "metadata": {
    "ExecuteTime": {
     "end_time": "2020-05-07T08:33:40.697414Z",
     "start_time": "2020-05-07T08:33:40.691418Z"
    }
   },
   "outputs": [],
   "source": [
    "class Solution:\n",
    "    def strStr(self, haystack: str, needle: str) -> int:\n",
    "        L, n = len(needle), len(haystack)\n",
    "        if L == 0:\n",
    "            return 0\n",
    "\n",
    "        pn = 0\n",
    "        while pn < n - L + 1:\n",
    "            # find the position of the first needle character\n",
    "            # in the haystack string\n",
    "            while pn < n - L + 1 and haystack[pn] != needle[0]:\n",
    "                pn += 1\n",
    "            \n",
    "            # compute the max match string\n",
    "            curr_len = pL = 0\n",
    "            while pL < L and pn < n and haystack[pn] == needle[pL]:\n",
    "                pn += 1\n",
    "                pL += 1\n",
    "                curr_len += 1\n",
    "            \n",
    "            # if the whole needle string is found,\n",
    "            # return its start position\n",
    "            if curr_len == L:\n",
    "                return pn - L\n",
    "            \n",
    "            # otherwise, backtrack\n",
    "            pn = pn - curr_len + 1\n",
    "            \n",
    "        return -1"
   ]
  },
  {
   "cell_type": "markdown",
   "metadata": {},
   "source": [
    "## 滑动窗口"
   ]
  },
  {
   "cell_type": "code",
   "execution_count": 4,
   "metadata": {
    "ExecuteTime": {
     "end_time": "2020-05-04T12:06:37.781029Z",
     "start_time": "2020-05-04T12:06:37.775032Z"
    }
   },
   "outputs": [],
   "source": [
    "class Solution:\n",
    "    def strStr(self, haystack: str, needle: str) -> int:\n",
    "        L, n = len(needle), len(haystack)\n",
    "\n",
    "        for start in range(n - L + 1):\n",
    "            if haystack[start: start + L] == needle:\n",
    "                return start\n",
    "        return -1"
   ]
  },
  {
   "cell_type": "markdown",
   "metadata": {},
   "source": [
    "## KMP"
   ]
  }
 ],
 "metadata": {
  "hide_input": false,
  "kernelspec": {
   "display_name": "Python 3",
   "language": "python",
   "name": "python3"
  },
  "language_info": {
   "codemirror_mode": {
    "name": "ipython",
    "version": 3
   },
   "file_extension": ".py",
   "mimetype": "text/x-python",
   "name": "python",
   "nbconvert_exporter": "python",
   "pygments_lexer": "ipython3",
   "version": "3.7.0"
  },
  "toc": {
   "base_numbering": 1,
   "nav_menu": {},
   "number_sections": true,
   "sideBar": true,
   "skip_h1_title": false,
   "title_cell": "Table of Contents",
   "title_sidebar": "Contents",
   "toc_cell": false,
   "toc_position": {},
   "toc_section_display": true,
   "toc_window_display": false
  },
  "varInspector": {
   "cols": {
    "lenName": 16,
    "lenType": 16,
    "lenVar": 40
   },
   "kernels_config": {
    "python": {
     "delete_cmd_postfix": "",
     "delete_cmd_prefix": "del ",
     "library": "var_list.py",
     "varRefreshCmd": "print(var_dic_list())"
    },
    "r": {
     "delete_cmd_postfix": ") ",
     "delete_cmd_prefix": "rm(",
     "library": "var_list.r",
     "varRefreshCmd": "cat(var_dic_list()) "
    }
   },
   "types_to_exclude": [
    "module",
    "function",
    "builtin_function_or_method",
    "instance",
    "_Feature"
   ],
   "window_display": false
  }
 },
 "nbformat": 4,
 "nbformat_minor": 2
}
