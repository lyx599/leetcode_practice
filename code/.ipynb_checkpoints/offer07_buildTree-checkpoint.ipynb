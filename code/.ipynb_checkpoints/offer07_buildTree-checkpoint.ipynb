{
 "cells": [
  {
   "cell_type": "markdown",
   "metadata": {},
   "source": [
    "# 面试题07 重建二叉树"
   ]
  },
  {
   "cell_type": "markdown",
   "metadata": {},
   "source": [
    "思路：\n",
    "- 递归法\n",
    "    - 前序遍历的第一个节点是根节点，只要找到根节点在中序遍历中的位置，在根节点之前被访问的节点都位于左子树，在根节点之后被访问的节点都位于右子树，由此可知左子树和右子树分别有多少个节点。\n",
    "    - 根据该特点递归生成左右子树\n",
    "    - 时间复杂度：O(n)。对于每个节点都有创建过程以及根据左右子树重建过程。\n",
    "    - 空间复杂度：O(n)。存储整棵树的开销。\n",
    "- 迭代法\n",
    "    - 使用前序遍历的第一个元素创建根节点。\n",
    "    - 创建一个栈，将根节点压入栈内。\n",
    "    - 初始化中序遍历下标为 0。\n",
    "    - 遍历前序遍历的每个元素，判断其上一个元素（即栈顶元素）是否等于中序遍历下标指向的元素。-\n",
    "    - 若上一个元素不等于中序遍历下标指向的元素，则将当前元素作为其上一个元素的左子节点，并将当前元素压入栈内。\n",
    "    - 若上一个元素等于中序遍历下标指向的元素，则从栈内弹出一个元素，同时令中序遍历下标指向下一个元素，之后继续判断栈顶元素是否等于中序遍历下标指向的元素，若相等则重复该操作，直至栈为空或者元素不相等。然后令当前元素为最后一个相同元素的右节点，并将它压入栈内。\n",
    "    - 遍历结束，返回根节点。\n",
    "    - 时间复杂度：O(n)。前序遍历和后序遍历都被遍历。\n",
    "    - 空间复杂度：O(n)。额外使用栈存储已经遍历过的节点。"
   ]
  },
  {
   "cell_type": "markdown",
   "metadata": {},
   "source": [
    "注意：\n",
    "- 根据题目描述输入的前序遍历和中序遍历的结果中都不含重复的数字，其表明树中每个节点值都是唯一的"
   ]
  },
  {
   "cell_type": "markdown",
   "metadata": {
    "ExecuteTime": {
     "end_time": "2020-06-06T13:47:29.560002Z",
     "start_time": "2020-06-06T13:47:29.556001Z"
    }
   },
   "source": [
    "第一次思路："
   ]
  },
  {
   "cell_type": "code",
   "execution_count": 4,
   "metadata": {
    "ExecuteTime": {
     "end_time": "2020-06-06T14:24:09.199888Z",
     "start_time": "2020-06-06T14:24:09.193903Z"
    }
   },
   "outputs": [
    {
     "name": "stdout",
     "output_type": "stream",
     "text": [
      "<__main__.TreeNode object at 0x00000232C7F681D0>\n"
     ]
    }
   ],
   "source": [
    "# Definition for a binary tree node.\n",
    "class TreeNode:\n",
    "    def __init__(self, x):\n",
    "        self.val = x\n",
    "        self.left = None\n",
    "        self.right = None\n",
    "\n",
    "class Solution:\n",
    "    def buildTree(self, preorder: [int], inorder: [int]) -> TreeNode:\n",
    "\n",
    "        if preorder is None or inorder is None:\n",
    "            return None\n",
    "\n",
    "        pre_len = len(preorder)\n",
    "        in_len = len(inorder)\n",
    "        if pre_len < 1 or in_len < 1:\n",
    "            return None\n",
    "\n",
    "        return self.constructTree(preorder,inorder)\n",
    "\n",
    "    def constructTree(self,preorder, inorder):\n",
    "        if preorder is None or inorder is None:\n",
    "            return None\n",
    "\n",
    "        root_val = preorder[0]\n",
    "        root = TreeNode(root_val)\n",
    "\n",
    "        in_len = len(inorder)\n",
    "        in_index = 0\n",
    "        pre_len = len(preorder)\n",
    "        #只有一个值时，直接返回节点\n",
    "        if pre_len == 1 and in_len == 1 and preorder[0] == inorder[0]:\n",
    "            return root\n",
    "        #中序中找到当前根节点，来区分左右子树\n",
    "        while in_index < in_len and inorder[in_index] != root_val:\n",
    "            in_index += 1\n",
    "\n",
    "        if in_index == in_len:\n",
    "            return 'invalid input'\n",
    "        #中序中左子树的长度\n",
    "        left_len = in_index\n",
    "        # right_len = in_len - in_index - 1\n",
    "        #递归生成左右子树，对左右子树元素个数要进行判断\n",
    "        if left_len > 0:\n",
    "            root.left = self.constructTree(preorder[1:1+left_len], inorder[0:in_index])\n",
    "        if left_len < pre_len - 1:\n",
    "            root.right = self.constructTree(preorder[1+left_len:], inorder[in_index+1:])\n",
    "\n",
    "        return root\n",
    "\n",
    "\n",
    "s = Solution()\n",
    "preorder = [3,1,2,4]\n",
    "inorder = [1,2,3,4]\n",
    "print(s.buildTree(preorder,inorder))"
   ]
  },
  {
   "cell_type": "markdown",
   "metadata": {},
   "source": [
    "# 答案"
   ]
  },
  {
   "cell_type": "markdown",
   "metadata": {},
   "source": [
    "## 递归法"
   ]
  },
  {
   "cell_type": "code",
   "execution_count": 3,
   "metadata": {
    "ExecuteTime": {
     "end_time": "2020-06-06T13:47:59.692944Z",
     "start_time": "2020-06-06T13:47:59.686962Z"
    }
   },
   "outputs": [],
   "source": [
    "# Definition for a binary tree node.\n",
    "# class TreeNode:\n",
    "#     def __init__(self, x):\n",
    "#         self.val = x\n",
    "#         self.left = None\n",
    "#         self.right = None\n",
    "\n",
    "class Solution:\n",
    "    def buildTree(self, preorder: [int], inorder: [int]) -> TreeNode:\n",
    "\n",
    "        if preorder is None or inorder is None:\n",
    "            return None\n",
    "\n",
    "        pre_len = len(preorder)\n",
    "        in_len = len(inorder)\n",
    "        if pre_len < 1 or in_len < 1:\n",
    "            return None\n",
    "\n",
    "        return self.constructTree(preorder,inorder)\n",
    "\n",
    "    def constructTree(self,preorder, inorder):\n",
    "        if preorder is None or inorder is None:\n",
    "            return None\n",
    "\n",
    "        root_val = preorder[0]\n",
    "        root = TreeNode(root_val)\n",
    "\n",
    "        in_len = len(inorder)\n",
    "        in_index = 0\n",
    "        pre_len = len(preorder)\n",
    "\n",
    "        if pre_len == 1 and in_len == 1 and preorder[0] == inorder[0]:\n",
    "            return root\n",
    "\n",
    "        while in_index < in_len and inorder[in_index] != root_val:\n",
    "            in_index += 1\n",
    "\n",
    "        if in_index == in_len:\n",
    "            return 'invalid input'\n",
    "\n",
    "        left_len = in_index\n",
    "        # right_len = in_len - in_index - 1\n",
    "        if left_len > 0:\n",
    "            root.left = self.constructTree(preorder[1:1+left_len], inorder[0:in_index])\n",
    "        if left_len < pre_len - 1:\n",
    "            root.right = self.constructTree(preorder[1+left_len:], inorder[in_index+1:])\n",
    "\n",
    "        return root"
   ]
  },
  {
   "cell_type": "markdown",
   "metadata": {
    "ExecuteTime": {
     "end_time": "2020-06-07T07:09:25.570639Z",
     "start_time": "2020-06-07T07:09:25.563652Z"
    }
   },
   "source": [
    "## 迭代法"
   ]
  },
  {
   "cell_type": "code",
   "execution_count": 4,
   "metadata": {
    "ExecuteTime": {
     "end_time": "2020-06-07T07:21:58.975720Z",
     "start_time": "2020-06-07T07:21:58.969734Z"
    }
   },
   "outputs": [],
   "source": [
    "# Definition for a binary tree node.\n",
    "class TreeNode:\n",
    "    def __init__(self, x):\n",
    "        self.val = x\n",
    "        self.left = None\n",
    "        self.right = None\n",
    "\n",
    "class Solution:\n",
    "    def buildTree(self, preorder: [int], inorder: [int]) -> TreeNode:\n",
    "\n",
    "        if preorder is None or inorder is None:\n",
    "            return None\n",
    "\n",
    "        pre_len = len(preorder)\n",
    "        in_len = len(inorder)\n",
    "        if pre_len < 1 or in_len < 1:\n",
    "            return None\n",
    "        \n",
    "        stack = []\n",
    "        root_val = preorder[0]\n",
    "        root = TreeNode(root_val)\n",
    "        inorder_index = 0\n",
    "        stack.append(root)\n",
    "        \n",
    "        for i in range(1, pre_len):\n",
    "            cur_val = preorder[i]\n",
    "            last_node = stack[-1]\n",
    "            if inorder[inorder_index] != last_node.val:\n",
    "                node = TreeNode(cur_val)\n",
    "                last_node.left = node\n",
    "                stack.append(node)\n",
    "            else:\n",
    "                while stack and stack[-1].val == inorder[inorder_index]:\n",
    "                    inorder_index += 1\n",
    "                    last_node = stack.pop()\n",
    "                node = TreeNode(cur_val)\n",
    "                last_node.right = node\n",
    "                stack.append(node)\n",
    "        return root"
   ]
  }
 ],
 "metadata": {
  "kernelspec": {
   "display_name": "Python 3",
   "language": "python",
   "name": "python3"
  },
  "language_info": {
   "codemirror_mode": {
    "name": "ipython",
    "version": 3
   },
   "file_extension": ".py",
   "mimetype": "text/x-python",
   "name": "python",
   "nbconvert_exporter": "python",
   "pygments_lexer": "ipython3",
   "version": "3.7.0"
  },
  "toc": {
   "base_numbering": 1,
   "nav_menu": {},
   "number_sections": true,
   "sideBar": true,
   "skip_h1_title": false,
   "title_cell": "Table of Contents",
   "title_sidebar": "Contents",
   "toc_cell": false,
   "toc_position": {},
   "toc_section_display": true,
   "toc_window_display": false
  },
  "varInspector": {
   "cols": {
    "lenName": 16,
    "lenType": 16,
    "lenVar": 40
   },
   "kernels_config": {
    "python": {
     "delete_cmd_postfix": "",
     "delete_cmd_prefix": "del ",
     "library": "var_list.py",
     "varRefreshCmd": "print(var_dic_list())"
    },
    "r": {
     "delete_cmd_postfix": ") ",
     "delete_cmd_prefix": "rm(",
     "library": "var_list.r",
     "varRefreshCmd": "cat(var_dic_list()) "
    }
   },
   "types_to_exclude": [
    "module",
    "function",
    "builtin_function_or_method",
    "instance",
    "_Feature"
   ],
   "window_display": false
  }
 },
 "nbformat": 4,
 "nbformat_minor": 2
}
