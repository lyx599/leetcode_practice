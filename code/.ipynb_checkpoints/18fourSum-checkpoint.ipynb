{
 "cells": [
  {
   "cell_type": "markdown",
   "metadata": {},
   "source": [
    "# 18 四数之和"
   ]
  },
  {
   "cell_type": "markdown",
   "metadata": {},
   "source": [
    "思路：\n",
    "- 排序+双指针\n",
    "    - 思路和三数之和类似，只是多加了一重循环进行遍历\n",
    "- 散列表\n",
    "    - 将四数之和通过哈希表转化为两数之和\n",
    "    - 哈希表key为两数之和，value为和为key的数对的下标列表"
   ]
  },
  {
   "cell_type": "markdown",
   "metadata": {},
   "source": [
    "注意：\n",
    "- 对少于4个数字的数组进行特判\n",
    "- 重复答案的处理"
   ]
  },
  {
   "cell_type": "markdown",
   "metadata": {
    "ExecuteTime": {
     "end_time": "2020-04-20T04:23:34.045171Z",
     "start_time": "2020-04-20T04:23:34.040174Z"
    }
   },
   "source": [
    "第一次思路：看到题想到和三数之和类似，不同的是多了一个target。因为多了一个数，因此多加入一重循环进行遍历查找。思路可以三数之和"
   ]
  },
  {
   "cell_type": "code",
   "execution_count": 2,
   "metadata": {
    "ExecuteTime": {
     "end_time": "2020-04-20T04:27:12.341435Z",
     "start_time": "2020-04-20T04:27:12.331443Z"
    }
   },
   "outputs": [
    {
     "name": "stdout",
     "output_type": "stream",
     "text": [
      "[[-2, -1, 1, 2], [-2, 0, 0, 2], [-1, 0, 0, 1]]\n"
     ]
    }
   ],
   "source": [
    "class Solution:\n",
    "    def fourSum(self, nums, target: int):\n",
    "\n",
    "        nums_len = len(nums)\n",
    "\n",
    "        if nums_len < 4:\n",
    "            return []\n",
    "\n",
    "        ans = []\n",
    "        nums.sort()\n",
    "\n",
    "        for i in range(nums_len):\n",
    "            if i > 0 and nums[i] == nums[i-1]:  #去掉重复判断的数字\n",
    "                continue\n",
    "            for j in range(i+1,nums_len):\n",
    "                if j > i+1 and nums[j] == nums[j-1]:  #去掉重复判断的数字\n",
    "                    continue\n",
    "                L = j + 1\n",
    "                R = nums_len - 1\n",
    "                while L < R:\n",
    "                    cursum = nums[i] + nums[j] + nums[L] + nums[R]\n",
    "                    if cursum - target > 0:\n",
    "                        R -= 1\n",
    "                    elif cursum - target < 0:\n",
    "                        L += 1\n",
    "                    else:\n",
    "                        ans.append([nums[i],nums[j],nums[L],nums[R]])\n",
    "                        while L < R and nums[L] == nums[L+1]: #处理指针重复\n",
    "                            L += 1\n",
    "                        while L < R and nums[R] == nums[R-1]: #处理指针重复\n",
    "                            R -= 1\n",
    "                        L += 1\n",
    "                        R -= 1\n",
    "        return ans\n",
    "\n",
    "\n",
    "s = Solution()\n",
    "print(s.fourSum([1, 0, -1, 0, -2, 2],0))\n"
   ]
  },
  {
   "cell_type": "markdown",
   "metadata": {},
   "source": [
    "# 答案"
   ]
  },
  {
   "cell_type": "markdown",
   "metadata": {},
   "source": [
    "## 排序+双指针"
   ]
  },
  {
   "cell_type": "code",
   "execution_count": 4,
   "metadata": {
    "ExecuteTime": {
     "end_time": "2020-04-20T05:45:24.611231Z",
     "start_time": "2020-04-20T05:45:24.602236Z"
    }
   },
   "outputs": [],
   "source": [
    "class Solution:\n",
    "    def fourSum(self, nums, target: int):\n",
    "        nums_len = len(nums)\n",
    "\n",
    "        if nums_len < 4:\n",
    "            return []\n",
    "\n",
    "        ans = []\n",
    "        nums.sort()\n",
    "\n",
    "        for i in range(nums_len):\n",
    "            if i > 0 and nums[i] == nums[i-1]:\n",
    "                continue\n",
    "            for j in range(i+1,nums_len):\n",
    "                if j > i+1 and nums[j] == nums[j-1]:\n",
    "                    continue\n",
    "                L = j + 1\n",
    "                R = nums_len - 1\n",
    "                while L < R:\n",
    "                    cursum = nums[i] + nums[j] + nums[L] + nums[R]\n",
    "                    if cursum - target > 0:\n",
    "                        R -= 1\n",
    "                    elif cursum - target < 0:\n",
    "                        L += 1\n",
    "                    else:\n",
    "                        ans.append([nums[i],nums[j],nums[L],nums[R]])\n",
    "                        while L < R and nums[L] == nums[L+1]:\n",
    "                            L += 1\n",
    "                        while L < R and nums[R] == nums[R-1]:\n",
    "                            R -= 1\n",
    "                        L += 1\n",
    "                        R -= 1\n",
    "        return ans"
   ]
  },
  {
   "cell_type": "markdown",
   "metadata": {},
   "source": [
    "## 散列表"
   ]
  },
  {
   "cell_type": "markdown",
   "metadata": {},
   "source": [
    "动画解题思路https://leetcode-cn.com/problems/4sum/solution/tong-guo-san-lie-biao-jie-jue-ci-ti-by-wotxdx/"
   ]
  },
  {
   "cell_type": "code",
   "execution_count": 6,
   "metadata": {
    "ExecuteTime": {
     "end_time": "2020-04-20T09:51:50.223493Z",
     "start_time": "2020-04-20T09:51:50.214499Z"
    }
   },
   "outputs": [],
   "source": [
    "class Solution:\n",
    "    def fourSum(self, nums, target: int):\n",
    "        nums_len = len(nums)\n",
    "\n",
    "        if nums_len < 4:\n",
    "            return []\n",
    "\n",
    "        ans = []\n",
    "        nums.sort()\n",
    "        table = {}\n",
    "        res = set()\n",
    "\n",
    "        for i in range(nums_len-1):\n",
    "            for j in range(i+1,nums_len):\n",
    "                cur_sum = nums[i] + nums[j]\n",
    "                if target - cur_sum in table:\n",
    "                    for temp in table[target - cur_sum]:\n",
    "                        if temp[1] < i:  # i下标必须大于里面所有的下标，避免重复答案\n",
    "                              res.add((nums[temp[0]],nums[temp[1]],nums[i],nums[j]))\n",
    "                if cur_sum not in table:\n",
    "                    table[cur_sum] = []\n",
    "                table[cur_sum].append((i,j))\n",
    "        for r in res:\n",
    "            ans.append(list(r))\n",
    "        return ans"
   ]
  }
 ],
 "metadata": {
  "hide_input": false,
  "kernelspec": {
   "display_name": "Python 3",
   "language": "python",
   "name": "python3"
  },
  "language_info": {
   "codemirror_mode": {
    "name": "ipython",
    "version": 3
   },
   "file_extension": ".py",
   "mimetype": "text/x-python",
   "name": "python",
   "nbconvert_exporter": "python",
   "pygments_lexer": "ipython3",
   "version": "3.7.0"
  },
  "toc": {
   "base_numbering": 1,
   "nav_menu": {},
   "number_sections": true,
   "sideBar": true,
   "skip_h1_title": false,
   "title_cell": "Table of Contents",
   "title_sidebar": "Contents",
   "toc_cell": false,
   "toc_position": {},
   "toc_section_display": true,
   "toc_window_display": false
  },
  "varInspector": {
   "cols": {
    "lenName": 16,
    "lenType": 16,
    "lenVar": 40
   },
   "kernels_config": {
    "python": {
     "delete_cmd_postfix": "",
     "delete_cmd_prefix": "del ",
     "library": "var_list.py",
     "varRefreshCmd": "print(var_dic_list())"
    },
    "r": {
     "delete_cmd_postfix": ") ",
     "delete_cmd_prefix": "rm(",
     "library": "var_list.r",
     "varRefreshCmd": "cat(var_dic_list()) "
    }
   },
   "types_to_exclude": [
    "module",
    "function",
    "builtin_function_or_method",
    "instance",
    "_Feature"
   ],
   "window_display": false
  }
 },
 "nbformat": 4,
 "nbformat_minor": 2
}
