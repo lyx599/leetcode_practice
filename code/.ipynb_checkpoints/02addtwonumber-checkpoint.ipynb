{
 "cells": [
  {
   "cell_type": "markdown",
   "metadata": {},
   "source": [
    "# 02两数相加"
   ]
  },
  {
   "cell_type": "markdown",
   "metadata": {},
   "source": [
    "难度：medium"
   ]
  },
  {
   "cell_type": "markdown",
   "metadata": {},
   "source": [
    "思路：\n",
    "\n",
    "- 对位相加\n",
    "- 进位加1"
   ]
  },
  {
   "cell_type": "markdown",
   "metadata": {},
   "source": [
    "注意：\n",
    "- 答案指针指向开头第一个节点\n",
    "- 不同位数相加，同时循环会一个循环完了，一个还没有，造成null错误"
   ]
  },
  {
   "cell_type": "code",
   "execution_count": 2,
   "metadata": {
    "ExecuteTime": {
     "end_time": "2020-03-25T04:12:16.966960Z",
     "start_time": "2020-03-25T04:12:16.957963Z"
    }
   },
   "outputs": [],
   "source": [
    "# Definition for singly-linked list.\n",
    "class ListNode(object):\n",
    "    def __init__(self, x):\n",
    "        self.val = x\n",
    "        self.next = None\n",
    "\n",
    "class Solution(object):\n",
    "    def addTwoNumbers(l1, l2):\n",
    "        \"\"\"\n",
    "        :type l1: ListNode\n",
    "        :type l2: ListNode\n",
    "        :rtype: ListNode\n",
    "        \"\"\"\n",
    "        flag = 0\n",
    "        new = 1\n",
    "\n",
    "        while l1 or l2:\n",
    "            sum = 0\n",
    "            if l1:\n",
    "                sum += l1.val\n",
    "                l1 = l1.next\n",
    "            if l2:\n",
    "                sum += l2.val\n",
    "                l2 = l2.next\n",
    "\n",
    "            if flag:\n",
    "                sum += 1\n",
    "                flag = 0\n",
    "\n",
    "            if sum > 9:\n",
    "                flag = 1\n",
    "                sum = sum % 10\n",
    "\n",
    "            if new:\n",
    "                tem_note = ListNode(sum)\n",
    "                head_note = tem_note\n",
    "                new = 0\n",
    "            else:\n",
    "                tem_note.next = ListNode(sum)\n",
    "                tem_note = tem_note.next\n",
    "\n",
    "        if flag:\n",
    "            tem_note.next = ListNode(1)\n",
    "            tem_note = tem_note.next\n",
    "        return head_note"
   ]
  },
  {
   "cell_type": "code",
   "execution_count": 8,
   "metadata": {
    "ExecuteTime": {
     "end_time": "2020-03-25T04:14:19.729066Z",
     "start_time": "2020-03-25T04:14:19.719073Z"
    }
   },
   "outputs": [
    {
     "name": "stdout",
     "output_type": "stream",
     "text": [
      "7\n",
      "0\n",
      "8\n"
     ]
    }
   ],
   "source": [
    " temp_node = ListNode(3)\n",
    "l1 = temp_node\n",
    "temp_node.next = ListNode(4)\n",
    "temp_node = temp_node.next\n",
    "temp_node.next = ListNode(3)\n",
    "temp_node = temp_node.next\n",
    "\n",
    "temp_node = ListNode(4)\n",
    "l2 = temp_node\n",
    "temp_node.next = ListNode(6)\n",
    "temp_node = temp_node.next\n",
    "temp_node.next = ListNode(4)\n",
    "temp_node = temp_node.next\n",
    "\n",
    "l3 = Solution.addTwoNumbers(l1,l2)\n",
    "while l3:\n",
    "    print(l3.val)\n",
    "    l3 = l3.next"
   ]
  },
  {
   "cell_type": "code",
   "execution_count": null,
   "metadata": {},
   "outputs": [],
   "source": []
  }
 ],
 "metadata": {
  "hide_input": false,
  "kernelspec": {
   "display_name": "Python 3",
   "language": "python",
   "name": "python3"
  },
  "language_info": {
   "codemirror_mode": {
    "name": "ipython",
    "version": 3
   },
   "file_extension": ".py",
   "mimetype": "text/x-python",
   "name": "python",
   "nbconvert_exporter": "python",
   "pygments_lexer": "ipython3",
   "version": "3.7.0"
  },
  "toc": {
   "base_numbering": 1,
   "nav_menu": {},
   "number_sections": true,
   "sideBar": true,
   "skip_h1_title": false,
   "title_cell": "Table of Contents",
   "title_sidebar": "Contents",
   "toc_cell": false,
   "toc_position": {},
   "toc_section_display": true,
   "toc_window_display": false
  },
  "varInspector": {
   "cols": {
    "lenName": 16,
    "lenType": 16,
    "lenVar": 40
   },
   "kernels_config": {
    "python": {
     "delete_cmd_postfix": "",
     "delete_cmd_prefix": "del ",
     "library": "var_list.py",
     "varRefreshCmd": "print(var_dic_list())"
    },
    "r": {
     "delete_cmd_postfix": ") ",
     "delete_cmd_prefix": "rm(",
     "library": "var_list.r",
     "varRefreshCmd": "cat(var_dic_list()) "
    }
   },
   "types_to_exclude": [
    "module",
    "function",
    "builtin_function_or_method",
    "instance",
    "_Feature"
   ],
   "window_display": false
  }
 },
 "nbformat": 4,
 "nbformat_minor": 2
}
