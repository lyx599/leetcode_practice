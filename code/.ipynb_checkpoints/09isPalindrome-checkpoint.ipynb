{
 "cells": [
  {
   "cell_type": "markdown",
   "metadata": {},
   "source": [
    "# 回文数"
   ]
  },
  {
   "cell_type": "markdown",
   "metadata": {},
   "source": [
    "思路："
   ]
  },
  {
   "cell_type": "markdown",
   "metadata": {},
   "source": [
    "注意："
   ]
  },
  {
   "cell_type": "markdown",
   "metadata": {},
   "source": [
    "第一次思路：负数一定不是回文数，通过与0比较进行判断，将其余数字转字符串再翻转后转整数，翻转后的整数和原来的数进行比较，相等就是回文数\n",
    "\n",
    "看到有提出整数溢出问题，溢出一定不是回文数"
   ]
  },
  {
   "cell_type": "code",
   "execution_count": 10,
   "metadata": {
    "ExecuteTime": {
     "end_time": "2020-04-13T05:34:19.361982Z",
     "start_time": "2020-04-13T05:34:19.353986Z"
    }
   },
   "outputs": [
    {
     "name": "stdout",
     "output_type": "stream",
     "text": [
      "False\n"
     ]
    }
   ],
   "source": [
    "class Solution(object):\n",
    "    def isPalindrome(x):\n",
    "        \"\"\"\n",
    "        :type x: int\n",
    "        :rtype: bool\n",
    "        \"\"\"\n",
    "        if x < 0:\n",
    "            return False\n",
    "\n",
    "        x_str = str(x)\n",
    "        x_rev = int(x_str[::-1])\n",
    "        if x_rev == x:\n",
    "            return True\n",
    "        else:\n",
    "            return False\n",
    "\n",
    "if __name__ == '__main__':\n",
    "    print(Solution.isPalindrome(10))"
   ]
  },
  {
   "cell_type": "markdown",
   "metadata": {},
   "source": [
    "优化一下，转为字符串后翻转，直接比较翻转的字符串和整数的字符串"
   ]
  },
  {
   "cell_type": "code",
   "execution_count": 13,
   "metadata": {
    "ExecuteTime": {
     "end_time": "2020-04-13T05:57:30.759613Z",
     "start_time": "2020-04-13T05:57:30.753616Z"
    }
   },
   "outputs": [
    {
     "name": "stdout",
     "output_type": "stream",
     "text": [
      "False\n"
     ]
    }
   ],
   "source": [
    "class Solution(object):\n",
    "    def isPalindrome(x):\n",
    "        \"\"\"\n",
    "        :type x: int\n",
    "        :rtype: bool\n",
    "        \"\"\"\n",
    "        x_str = str(x)\n",
    "        x_rev = x_str[::-1]\n",
    "        if x_rev == x_str:\n",
    "            return True\n",
    "        else:\n",
    "            return False\n",
    "\n",
    "if __name__ == '__main__':\n",
    "    print(Solution.isPalindrome(-121))"
   ]
  },
  {
   "cell_type": "markdown",
   "metadata": {},
   "source": [
    "# 答案"
   ]
  },
  {
   "cell_type": "markdown",
   "metadata": {},
   "source": [
    "## 自己的解法"
   ]
  },
  {
   "cell_type": "code",
   "execution_count": 14,
   "metadata": {
    "ExecuteTime": {
     "end_time": "2020-04-13T06:00:22.050740Z",
     "start_time": "2020-04-13T06:00:22.045744Z"
    }
   },
   "outputs": [],
   "source": [
    "class Solution(object):\n",
    "    def isPalindrome(self, x):\n",
    "        \"\"\"\n",
    "        :type x: int\n",
    "        :rtype: bool\n",
    "        \"\"\"\n",
    "        if x < 0:\n",
    "            return False\n",
    "\n",
    "        x_str = str(x)\n",
    "        x_rev = int(x_str[::-1])\n",
    "        if x_rev == x:\n",
    "            return True\n",
    "        else:\n",
    "            return False"
   ]
  },
  {
   "cell_type": "code",
   "execution_count": 15,
   "metadata": {
    "ExecuteTime": {
     "end_time": "2020-04-13T06:00:30.091791Z",
     "start_time": "2020-04-13T06:00:30.085794Z"
    }
   },
   "outputs": [],
   "source": [
    "class Solution(object):\n",
    "    def isPalindrome(self, x):\n",
    "        \"\"\"\n",
    "        :type x: int\n",
    "        :rtype: bool\n",
    "        \"\"\"\n",
    "        x_str = str(x)\n",
    "        x_rev = x_str[::-1]\n",
    "        if x_rev == x_str:\n",
    "            return True\n",
    "        else:\n",
    "            return False"
   ]
  },
  {
   "cell_type": "markdown",
   "metadata": {},
   "source": [
    "## 翻转一半数字"
   ]
  },
  {
   "cell_type": "code",
   "execution_count": 16,
   "metadata": {
    "ExecuteTime": {
     "end_time": "2020-04-13T06:24:33.382624Z",
     "start_time": "2020-04-13T06:24:33.375628Z"
    }
   },
   "outputs": [],
   "source": [
    "class Solution(object):\n",
    "    def isPalindrome(self, x):\n",
    "        \"\"\"\n",
    "        :type x: int\n",
    "        :rtype: bool\n",
    "        \"\"\"\n",
    "#         特殊情况：\n",
    "#         如上所述，当 x < 0 时，x 不是回文数。\n",
    "#         同样地，如果数字的最后一位是 0，为了使该数字为回文，\n",
    "#         则其第一位数字也应该是 0\n",
    "#         只有 0 满足这一属性\n",
    "        if x < 0 or (x != 0 and x % 10 == 0):  #后一个判断对应10,100等这类数字\n",
    "            return False\n",
    "        else:\n",
    "            reverse_x = 0\n",
    "            while x > reverse_x:\n",
    "                remainder = x % 10\n",
    "                reverse_x = reverse_x * 10 + remainder\n",
    "                x = x // 10\n",
    "#         当数字长度为奇数时，我们可以通过 reverse_x/10 去除处于中位的数字。\n",
    "#         例如，当输入为 12321 时，在 while 循环的末尾我们可以得到 x = 12，reverse_x = 123，\n",
    "#         由于处于中位的数字不影响回文（它总是与自己相等），所以我们可以简单地将其去除。\n",
    "            if reverse_x == x or reverse_x // 10 == x:\n",
    "                return True\n",
    "            else:\n",
    "                return False"
   ]
  }
 ],
 "metadata": {
  "hide_input": false,
  "kernelspec": {
   "display_name": "Python 3",
   "language": "python",
   "name": "python3"
  },
  "language_info": {
   "codemirror_mode": {
    "name": "ipython",
    "version": 3
   },
   "file_extension": ".py",
   "mimetype": "text/x-python",
   "name": "python",
   "nbconvert_exporter": "python",
   "pygments_lexer": "ipython3",
   "version": "3.7.0"
  },
  "toc": {
   "base_numbering": 1,
   "nav_menu": {},
   "number_sections": true,
   "sideBar": true,
   "skip_h1_title": false,
   "title_cell": "Table of Contents",
   "title_sidebar": "Contents",
   "toc_cell": false,
   "toc_position": {},
   "toc_section_display": true,
   "toc_window_display": false
  },
  "varInspector": {
   "cols": {
    "lenName": 16,
    "lenType": 16,
    "lenVar": 40
   },
   "kernels_config": {
    "python": {
     "delete_cmd_postfix": "",
     "delete_cmd_prefix": "del ",
     "library": "var_list.py",
     "varRefreshCmd": "print(var_dic_list())"
    },
    "r": {
     "delete_cmd_postfix": ") ",
     "delete_cmd_prefix": "rm(",
     "library": "var_list.r",
     "varRefreshCmd": "cat(var_dic_list()) "
    }
   },
   "types_to_exclude": [
    "module",
    "function",
    "builtin_function_or_method",
    "instance",
    "_Feature"
   ],
   "window_display": false
  }
 },
 "nbformat": 4,
 "nbformat_minor": 2
}
