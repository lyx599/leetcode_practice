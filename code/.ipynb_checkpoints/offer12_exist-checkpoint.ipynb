{
 "cells": [
  {
   "cell_type": "markdown",
   "metadata": {},
   "source": [
    "# \t面试题12  矩阵中的路径  "
   ]
  },
  {
   "cell_type": "markdown",
   "metadata": {},
   "source": [
    "思路：\n",
    "- 回溯法\n",
    "    - 遍历所有字符，使用DFS寻找路径，并使用辅助矩阵记录访问过的字符\n",
    "    - DFS\n",
    "        - 判断是否访问过\n",
    "        - 比较是否符合路径上的字符\n",
    "        - 如果符合，就记录访问\n",
    "        - 如果字符索引等于字符长度则返回True\n",
    "        - 从上下左右继续递归寻找路径上下一个字符\n",
    "        - 递归结束撤销访问记录\n",
    "    - 经典矩阵搜索问题"
   ]
  },
  {
   "cell_type": "markdown",
   "metadata": {},
   "source": [
    "注意：\n",
    "- 参数传递\n",
    "- 记录在递归完后要还原"
   ]
  },
  {
   "cell_type": "markdown",
   "metadata": {},
   "source": [
    "经典回溯法问题，基本都是DFS或者BFS，python传参机制还不熟悉"
   ]
  },
  {
   "cell_type": "code",
   "execution_count": 1,
   "metadata": {
    "ExecuteTime": {
     "end_time": "2020-06-09T02:57:29.612182Z",
     "start_time": "2020-06-09T02:57:29.606189Z"
    }
   },
   "outputs": [
    {
     "name": "stdout",
     "output_type": "stream",
     "text": [
      "False\n"
     ]
    }
   ],
   "source": [
    "class Solution:\n",
    "    def exist(self, board: [[str]], word: str) -> bool:\n",
    "\n",
    "        if not board:\n",
    "            return None\n",
    "\n",
    "        row = len(board)\n",
    "        col = len(board[0])\n",
    "        visited = [[False for i in range(col)] for j in range(row)]\n",
    "        word_index = 0\n",
    "        for i in range(row):\n",
    "            for j in range(col):\n",
    "                if self.dfs(board, visited, word, i, j, word_index):\n",
    "                    return True\n",
    "        return False\n",
    "\n",
    "    def dfs(self, board, visited, word, row, col, word_index):\n",
    "\n",
    "        if not visited[row][col]:\n",
    "            if board[row][col] == word[word_index]:\n",
    "                visited[row][col] = True\n",
    "                if word_index == len(word) - 1:#找到路径，递归结束\n",
    "                    return True\n",
    "                else:\n",
    "                    word_index += 1 #寻找下一个字符\n",
    "                    if row > 0:\n",
    "                        if self.dfs(board, visited, word, row - 1, col, word_index):\n",
    "                            return True\n",
    "                    if row < len(board) - 1:\n",
    "                        if self.dfs(board, visited, word, row + 1, col, word_index):\n",
    "                            return True\n",
    "                    if col > 0:\n",
    "                        if self.dfs(board, visited, word, row, col - 1, word_index):\n",
    "                            return True\n",
    "                    if col < len(board[0]) - 1:\n",
    "                        if self.dfs(board, visited, word, row, col + 1, word_index):\n",
    "                            return True\n",
    "                    visited[row][col] = False #还原在外层的if 也是成立的，逻辑上是一样的\n",
    "                #visited[row][col] = False 一样的\n",
    "        return False\n",
    "\n",
    "\n",
    "s = Solution()\n",
    "# board = [[\"A\",\"B\",\"C\",\"E\"],[\"S\",\"F\",\"C\",\"S\"],[\"A\",\"D\",\"E\",\"E\"]]\n",
    "board = [[\"a\", \"a\"]]\n",
    "# word = \"ABCCED\"\n",
    "word = \"aaa\"\n",
    "print(s.exist(board, word))"
   ]
  },
  {
   "cell_type": "markdown",
   "metadata": {},
   "source": [
    "# 答案"
   ]
  },
  {
   "cell_type": "markdown",
   "metadata": {},
   "source": [
    "## 回溯法"
   ]
  },
  {
   "cell_type": "code",
   "execution_count": 2,
   "metadata": {
    "ExecuteTime": {
     "end_time": "2020-06-09T02:57:29.619184Z",
     "start_time": "2020-06-09T02:57:29.614182Z"
    }
   },
   "outputs": [],
   "source": [
    "class Solution:\n",
    "    def exist(self, board: [[str]], word: str) -> bool:\n",
    "        if not board:\n",
    "            return None\n",
    "\n",
    "        row = len(board)\n",
    "        col = len(board[0])\n",
    "        visited = [[False for i in range(col)] for j in range(row)]\n",
    "        word_index = 0\n",
    "        for i in range(row):\n",
    "            for j in range(col):\n",
    "                if self.dfs(board, visited, word, i, j, word_index):\n",
    "                    return True\n",
    "        return False\n",
    "\n",
    "    def dfs(self, board, visited, word, row, col, word_index):\n",
    "\n",
    "        if not visited[row][col]:\n",
    "            if board[row][col] == word[word_index]:\n",
    "                visited[row][col] = True\n",
    "                if word_index == len(word) - 1:\n",
    "                    return True\n",
    "                else:\n",
    "                    word_index += 1\n",
    "                    if row > 0:\n",
    "                        if self.dfs(board, visited, word, row - 1, col, word_index):\n",
    "                            return True\n",
    "                    if row < len(board) - 1:\n",
    "                        if self.dfs(board, visited, word, row + 1, col, word_index):\n",
    "                            return True\n",
    "                    if col > 0:\n",
    "                        if self.dfs(board, visited, word, row, col - 1, word_index):\n",
    "                            return True\n",
    "                    if col < len(board[0]) - 1:\n",
    "                        if self.dfs(board, visited, word, row, col + 1, word_index):\n",
    "                            return True\n",
    "                    visited[row][col] = False\n",
    "        return False"
   ]
  }
 ],
 "metadata": {
  "kernelspec": {
   "display_name": "Python 3",
   "language": "python",
   "name": "python3"
  },
  "language_info": {
   "codemirror_mode": {
    "name": "ipython",
    "version": 3
   },
   "file_extension": ".py",
   "mimetype": "text/x-python",
   "name": "python",
   "nbconvert_exporter": "python",
   "pygments_lexer": "ipython3",
   "version": "3.7.0"
  },
  "toc": {
   "base_numbering": 1,
   "nav_menu": {},
   "number_sections": true,
   "sideBar": true,
   "skip_h1_title": false,
   "title_cell": "Table of Contents",
   "title_sidebar": "Contents",
   "toc_cell": false,
   "toc_position": {},
   "toc_section_display": true,
   "toc_window_display": false
  },
  "varInspector": {
   "cols": {
    "lenName": 16,
    "lenType": 16,
    "lenVar": 40
   },
   "kernels_config": {
    "python": {
     "delete_cmd_postfix": "",
     "delete_cmd_prefix": "del ",
     "library": "var_list.py",
     "varRefreshCmd": "print(var_dic_list())"
    },
    "r": {
     "delete_cmd_postfix": ") ",
     "delete_cmd_prefix": "rm(",
     "library": "var_list.r",
     "varRefreshCmd": "cat(var_dic_list()) "
    }
   },
   "types_to_exclude": [
    "module",
    "function",
    "builtin_function_or_method",
    "instance",
    "_Feature"
   ],
   "window_display": false
  }
 },
 "nbformat": 4,
 "nbformat_minor": 2
}
