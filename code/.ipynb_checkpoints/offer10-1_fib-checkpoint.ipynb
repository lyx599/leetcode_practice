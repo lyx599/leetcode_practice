{
 "cells": [
  {
   "cell_type": "markdown",
   "metadata": {},
   "source": [
    "# 面试题10- I\t斐波那契数列  "
   ]
  },
  {
   "cell_type": "markdown",
   "metadata": {},
   "source": [
    "思路：\n",
    "- 递归法\n",
    "    - \n",
    "- 迭代法\n",
    "    - 超时"
   ]
  },
  {
   "cell_type": "markdown",
   "metadata": {},
   "source": [
    "注意："
   ]
  },
  {
   "cell_type": "markdown",
   "metadata": {},
   "source": [
    "第一次思路："
   ]
  },
  {
   "cell_type": "code",
   "execution_count": 1,
   "metadata": {
    "ExecuteTime": {
     "end_time": "2020-06-08T03:02:55.406536Z",
     "start_time": "2020-06-08T03:02:55.402543Z"
    }
   },
   "outputs": [
    {
     "name": "stdout",
     "output_type": "stream",
     "text": [
      "2\n"
     ]
    }
   ],
   "source": [
    "class Solution:\n",
    "    def fib(self, n: int) -> int:\n",
    "\n",
    "        if n == 0:\n",
    "            return 0\n",
    "        if n == 1:\n",
    "            return 1\n",
    "\n",
    "        F = [0, 1]\n",
    "        for i in range(2, n+1):\n",
    "            F.append(F[i-1]+F[i-2])\n",
    "\n",
    "        ans = F[-1] % 1000000007\n",
    "        return ans\n",
    "\n",
    "s = Solution()\n",
    "print(s.fib(3))\n"
   ]
  },
  {
   "cell_type": "markdown",
   "metadata": {},
   "source": [
    "# 答案"
   ]
  },
  {
   "cell_type": "markdown",
   "metadata": {},
   "source": [
    "## 递归法"
   ]
  },
  {
   "cell_type": "code",
   "execution_count": 4,
   "metadata": {
    "ExecuteTime": {
     "end_time": "2020-06-08T03:09:03.532970Z",
     "start_time": "2020-06-08T03:09:03.529967Z"
    }
   },
   "outputs": [],
   "source": [
    "class Solution:\n",
    "    def fib(self, n: int) -> int:\n",
    "\n",
    "        ans = self.fib_recursion(n)\n",
    "\n",
    "        ans = ans % 1000000007\n",
    "        return ans\n",
    "\n",
    "    def fib_recursion(self,n):\n",
    "        if n == 0:\n",
    "            return 0\n",
    "        if n == 1:\n",
    "            return 1\n",
    "\n",
    "        return self.fib(n-1) + self.fib(n-2)"
   ]
  },
  {
   "cell_type": "markdown",
   "metadata": {
    "ExecuteTime": {
     "end_time": "2020-06-08T03:03:26.077366Z",
     "start_time": "2020-06-08T03:03:26.074364Z"
    }
   },
   "source": [
    "## 迭代法"
   ]
  },
  {
   "cell_type": "code",
   "execution_count": 2,
   "metadata": {
    "ExecuteTime": {
     "end_time": "2020-06-08T03:03:02.415019Z",
     "start_time": "2020-06-08T03:03:02.411027Z"
    }
   },
   "outputs": [],
   "source": [
    "class Solution:\n",
    "    def fib(self, n: int) -> int:\n",
    "        if n == 0:\n",
    "            return 0\n",
    "        if n == 1:\n",
    "            return 1\n",
    "\n",
    "        F = [0, 1]\n",
    "        for i in range(2, n+1):\n",
    "            F.append(F[i-1]+F[i-2])\n",
    "\n",
    "        ans = F[-1] % 1000000007\n",
    "        return ans"
   ]
  }
 ],
 "metadata": {
  "kernelspec": {
   "display_name": "Python 3",
   "language": "python",
   "name": "python3"
  },
  "toc": {
   "base_numbering": 1,
   "nav_menu": {},
   "number_sections": true,
   "sideBar": true,
   "skip_h1_title": false,
   "title_cell": "Table of Contents",
   "title_sidebar": "Contents",
   "toc_cell": false,
   "toc_position": {},
   "toc_section_display": true,
   "toc_window_display": false
  },
  "varInspector": {
   "cols": {
    "lenName": 16,
    "lenType": 16,
    "lenVar": 40
   },
   "kernels_config": {
    "python": {
     "delete_cmd_postfix": "",
     "delete_cmd_prefix": "del ",
     "library": "var_list.py",
     "varRefreshCmd": "print(var_dic_list())"
    },
    "r": {
     "delete_cmd_postfix": ") ",
     "delete_cmd_prefix": "rm(",
     "library": "var_list.r",
     "varRefreshCmd": "cat(var_dic_list()) "
    }
   },
   "types_to_exclude": [
    "module",
    "function",
    "builtin_function_or_method",
    "instance",
    "_Feature"
   ],
   "window_display": false
  }
 },
 "nbformat": 4,
 "nbformat_minor": 2
}
