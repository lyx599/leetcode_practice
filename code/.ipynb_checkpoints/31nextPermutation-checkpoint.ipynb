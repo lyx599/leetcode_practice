{
 "cells": [
  {
   "cell_type": "markdown",
   "metadata": {},
   "source": [
    "# 31下一个排列"
   ]
  },
  {
   "cell_type": "markdown",
   "metadata": {},
   "source": [
    "思路：\n",
    "- 一遍遍历\n",
    "    - https://leetcode-cn.com/problems/next-permutation/solution/xia-yi-ge-pai-lie-by-leetcode/\n",
    "    - 从后往前扫描，找到那个比前一个小的数，已遍历的数字一定是逆序的\n",
    "    - 关键在于交换数字，在翻转\n",
    "    - 这个算法不太好描述，直接看解析"
   ]
  },
  {
   "cell_type": "markdown",
   "metadata": {},
   "source": [
    "注意：\n",
    "- 重复的数字，因此nums[i] <= nums[i-1]，就是前一个数一定要比后一个数小\n",
    "- 找到比数i-1大的数j时 要跳出循环"
   ]
  },
  {
   "cell_type": "markdown",
   "metadata": {},
   "source": [
    "第一次思路：寻找下一个排列，因此从后往前寻找当前数i比下一个数i-1大的位置，且已找到的数是按逆序排列的，用找到的数i-1与遍历过的数的最小数比较，也就是从后往前数的第一个（因为一定是逆序），分情况讨论这两个数的大小，看翻转数组时是否包含数i-1。（这个思路做出来是错误的） ，前面思路是对的，就是后面如何进行交换来找到下一个排列\n",
    "\n",
    "正确解法应该找到遍历数组中第一个比数i-1大的数x，交换数x与数i-1，然后在翻转数i-1后面的数"
   ]
  },
  {
   "cell_type": "code",
   "execution_count": 2,
   "metadata": {
    "ExecuteTime": {
     "end_time": "2020-05-20T08:34:50.062206Z",
     "start_time": "2020-05-20T08:34:50.050213Z"
    }
   },
   "outputs": [
    {
     "name": "stdout",
     "output_type": "stream",
     "text": [
      "None\n",
      "[1, 1, 5]\n"
     ]
    }
   ],
   "source": [
    "class Solution:\n",
    "    def nextPermutation(self, nums) -> None:\n",
    "        \"\"\"\n",
    "        Do not return anything, modify nums in-place instead.\n",
    "        \"\"\"\n",
    "        num_len = len(nums)\n",
    "        i = num_len - 1\n",
    "        while i > 0 and nums[i] <= nums[i-1]: #前一个数一定要比后一个小 因此是<=\n",
    "            i -= 1\n",
    "        if i == 0: #没有更大的下一个排列情况，数组已逆序排好\n",
    "            self.rever(nums,0,num_len-1)\n",
    "        else:\n",
    "            i = i - 1\n",
    "            j = num_len -1\n",
    "            while j > i:\n",
    "                if nums[j] > nums[i]: #交换数字，遍历过的数字依然是逆序排列\n",
    "                    t = nums[i]\n",
    "                    nums[i] = nums[j]\n",
    "                    nums[j] = t\n",
    "                    break  #找到后要跳出循环\n",
    "                else:\n",
    "                    j -= 1\n",
    "            i = i + 1\n",
    "            j = num_len - 1\n",
    "            self.rever(nums,i,j)\n",
    "\n",
    "\n",
    "    def rever(self,nums,i,j):\n",
    "        while j > i:\n",
    "            t = nums[i]\n",
    "            nums[i] = nums[j]\n",
    "            nums[j] = t\n",
    "            i += 1\n",
    "            j -=1\n",
    "\n",
    "\n",
    "s = Solution()\n",
    "haystack = \"aaaa\"\n",
    "nums = [5,1,1]\n",
    "print(s.nextPermutation(nums))\n",
    "print(nums)\n"
   ]
  },
  {
   "cell_type": "markdown",
   "metadata": {},
   "source": [
    "# 答案"
   ]
  },
  {
   "cell_type": "code",
   "execution_count": 4,
   "metadata": {
    "ExecuteTime": {
     "end_time": "2020-05-20T08:35:16.485411Z",
     "start_time": "2020-05-20T08:35:16.475419Z"
    }
   },
   "outputs": [],
   "source": [
    "class Solution:\n",
    "    def nextPermutation(self, nums: [int]) -> None:\n",
    "        \"\"\"\n",
    "        Do not return anything, modify nums in-place instead.\n",
    "        \"\"\"\n",
    "        num_len = len(nums)\n",
    "        i = num_len - 1\n",
    "        while i > 0 and nums[i] <= nums[i-1]:\n",
    "            i -= 1\n",
    "        if i == 0:\n",
    "            self.rever(nums,0,num_len-1)\n",
    "        else:\n",
    "            i = i - 1\n",
    "            j = num_len -1\n",
    "            while j > i:\n",
    "                if nums[j] > nums[i]:\n",
    "                    t = nums[i]\n",
    "                    nums[i] = nums[j]\n",
    "                    nums[j] = t\n",
    "                    break\n",
    "                else:\n",
    "                    j -= 1\n",
    "            i = i + 1\n",
    "            j = num_len - 1\n",
    "            self.rever(nums,i,j)\n",
    "\n",
    "\n",
    "    def rever(self,nums,i,j):\n",
    "        while j > i:\n",
    "            t = nums[i]\n",
    "            nums[i] = nums[j]\n",
    "            nums[j] = t\n",
    "            i += 1\n",
    "            j -=1"
   ]
  }
 ],
 "metadata": {
  "hide_input": false,
  "kernelspec": {
   "display_name": "Python 3",
   "language": "python",
   "name": "python3"
  },
  "language_info": {
   "codemirror_mode": {
    "name": "ipython",
    "version": 3
   },
   "file_extension": ".py",
   "mimetype": "text/x-python",
   "name": "python",
   "nbconvert_exporter": "python",
   "pygments_lexer": "ipython3",
   "version": "3.7.0"
  },
  "toc": {
   "base_numbering": 1,
   "nav_menu": {},
   "number_sections": true,
   "sideBar": true,
   "skip_h1_title": false,
   "title_cell": "Table of Contents",
   "title_sidebar": "Contents",
   "toc_cell": false,
   "toc_position": {},
   "toc_section_display": true,
   "toc_window_display": false
  },
  "varInspector": {
   "cols": {
    "lenName": 16,
    "lenType": 16,
    "lenVar": 40
   },
   "kernels_config": {
    "python": {
     "delete_cmd_postfix": "",
     "delete_cmd_prefix": "del ",
     "library": "var_list.py",
     "varRefreshCmd": "print(var_dic_list())"
    },
    "r": {
     "delete_cmd_postfix": ") ",
     "delete_cmd_prefix": "rm(",
     "library": "var_list.r",
     "varRefreshCmd": "cat(var_dic_list()) "
    }
   },
   "types_to_exclude": [
    "module",
    "function",
    "builtin_function_or_method",
    "instance",
    "_Feature"
   ],
   "window_display": false
  }
 },
 "nbformat": 4,
 "nbformat_minor": 2
}
