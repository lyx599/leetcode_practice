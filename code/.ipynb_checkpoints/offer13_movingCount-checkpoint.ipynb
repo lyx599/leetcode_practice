{
 "cells": [
  {
   "cell_type": "markdown",
   "metadata": {},
   "source": [
    "# \t面试题13\t机器人的运动范围  "
   ]
  },
  {
   "cell_type": "markdown",
   "metadata": {},
   "source": [
    "思路：\n",
    "- BFS\n",
    "    - \n",
    "- 递推"
   ]
  },
  {
   "cell_type": "markdown",
   "metadata": {},
   "source": [
    "注意：\n",
    "- 隐藏的优化：我们在搜索的过程中搜索方向可以缩减为向右和向下，而不必再向上和向左进行搜索"
   ]
  },
  {
   "cell_type": "code",
   "execution_count": null,
   "metadata": {},
   "outputs": [],
   "source": []
  },
  {
   "cell_type": "code",
   "execution_count": 2,
   "metadata": {
    "ExecuteTime": {
     "end_time": "2020-06-10T02:58:10.101709Z",
     "start_time": "2020-06-10T02:58:10.094708Z"
    }
   },
   "outputs": [
    {
     "name": "stdout",
     "output_type": "stream",
     "text": [
      "1\n"
     ]
    }
   ],
   "source": [
    "class Solution:\n",
    "    def __init__(self):\n",
    "        self.count = 0\n",
    "\n",
    "    def movingCount(self, m: int, n: int, k: int) -> int:\n",
    "\n",
    "        if m < 1 or n < 1:\n",
    "            return 0\n",
    "        if k == 0:\n",
    "            return 1\n",
    "        visited = [[False for i in range(n)] for j in range(m)]\n",
    "\n",
    "        self.dfs(m, n, 0, 0, k, visited)\n",
    "        return self.count\n",
    "\n",
    "    def dfs(self, m, n, row, col, k, visited):\n",
    "        if visited[row][col]:\n",
    "            return\n",
    "        if self.num_sum(row, col) > k:\n",
    "            return\n",
    "        else:\n",
    "            visited[row][col] = True\n",
    "            self.count += 1\n",
    "            if row > 0:\n",
    "                self.dfs(m, n, row - 1, col, k, visited)\n",
    "            if row < m - 1:\n",
    "                self.dfs(m, n, row + 1, col, k, visited)\n",
    "            if col > 0:\n",
    "                self.dfs(m, n, row, col - 1, k, visited)\n",
    "            if col < n - 1:\n",
    "                self.dfs(m, n, row, col + 1, k, visited)\n",
    "\n",
    "    def num_sum(self, row, col):\n",
    "        sum = 0\n",
    "        while row:\n",
    "            sum += row % 10\n",
    "            row = row // 10\n",
    "        while col:\n",
    "            sum += col % 10\n",
    "            col = col // 10\n",
    "        return sum\n",
    "\n",
    "\n",
    "s = Solution()\n",
    "m = 3\n",
    "n = 4\n",
    "k = 0\n",
    "print(s.movingCount(m, n, k))"
   ]
  },
  {
   "cell_type": "markdown",
   "metadata": {},
   "source": [
    "# 答案"
   ]
  },
  {
   "cell_type": "markdown",
   "metadata": {},
   "source": [
    "## DFS"
   ]
  },
  {
   "cell_type": "code",
   "execution_count": 3,
   "metadata": {
    "ExecuteTime": {
     "end_time": "2020-06-10T07:17:06.824572Z",
     "start_time": "2020-06-10T07:17:06.782561Z"
    }
   },
   "outputs": [],
   "source": [
    "class Solution:\n",
    "    def __init__(self):\n",
    "        self.count = 0\n",
    "\n",
    "    def movingCount(self, m: int, n: int, k: int) -> int:\n",
    "\n",
    "        if m < 1 or n < 1:\n",
    "            return 0\n",
    "        if k == 0:\n",
    "            return 1\n",
    "        visited = [[False for i in range(n)] for j in range(m)]\n",
    "\n",
    "        self.dfs(m, n, 0, 0, k, visited)\n",
    "        return self.count\n",
    "\n",
    "    def dfs(self, m, n, row, col, k, visited):\n",
    "        if visited[row][col]:\n",
    "            return\n",
    "        if self.num_sum(row, col) > k:\n",
    "            return\n",
    "        else:\n",
    "            visited[row][col] = True\n",
    "            self.count += 1\n",
    "#             可以不向左向上搜索\n",
    "#             if row > 0:\n",
    "#                 self.dfs(m, n, row - 1, col, k, visited)\n",
    "            if row < m - 1:\n",
    "                self.dfs(m, n, row + 1, col, k, visited)\n",
    "#             if col > 0:\n",
    "#                 self.dfs(m, n, row, col - 1, k, visited)\n",
    "            if col < n - 1:\n",
    "                self.dfs(m, n, row, col + 1, k, visited)\n",
    "\n",
    "    def num_sum(self, row, col):\n",
    "        sum = 0\n",
    "        while row:\n",
    "            sum += row % 10\n",
    "            row = row // 10\n",
    "        while col:\n",
    "            sum += col % 10\n",
    "            col = col // 10\n",
    "        return sum"
   ]
  },
  {
   "cell_type": "markdown",
   "metadata": {},
   "source": [
    "## BFS"
   ]
  },
  {
   "cell_type": "code",
   "execution_count": 4,
   "metadata": {
    "ExecuteTime": {
     "end_time": "2020-06-10T07:17:34.591254Z",
     "start_time": "2020-06-10T07:17:34.583251Z"
    }
   },
   "outputs": [],
   "source": [
    "class Solution:\n",
    "    def movingCount(self, m: int, n: int, k: int) -> int:\n",
    "\n",
    "        from queue import Queue\n",
    "        q = Queue()\n",
    "        ans = set()\n",
    "        q.put((0, 0))\n",
    "        while not q.empty():\n",
    "            x, y = q.get()\n",
    "            if (x, y) not in ans and 0 <= x < m and 0 <= y < n and self.num_sum(x, y) <= k:\n",
    "                ans.add((x, y))\n",
    "                for nx, ny in [(x + 1, y), (x, y + 1)]:\n",
    "                    q.put((nx, ny))\n",
    "        return len(ans)\n",
    "\n",
    "    def num_sum(self, row, col):\n",
    "        sum = 0\n",
    "        while row:\n",
    "            sum += row % 10\n",
    "            row = row // 10\n",
    "        while col:\n",
    "            sum += col % 10\n",
    "            col = col // 10\n",
    "        return sum"
   ]
  },
  {
   "cell_type": "markdown",
   "metadata": {},
   "source": [
    "## 递推"
   ]
  },
  {
   "cell_type": "code",
   "execution_count": null,
   "metadata": {},
   "outputs": [],
   "source": []
  }
 ],
 "metadata": {
  "kernelspec": {
   "display_name": "Python 3",
   "language": "python",
   "name": "python3"
  },
  "language_info": {
   "codemirror_mode": {
    "name": "ipython",
    "version": 3
   },
   "file_extension": ".py",
   "mimetype": "text/x-python",
   "name": "python",
   "nbconvert_exporter": "python",
   "pygments_lexer": "ipython3",
   "version": "3.7.0"
  },
  "toc": {
   "base_numbering": 1,
   "nav_menu": {},
   "number_sections": true,
   "sideBar": true,
   "skip_h1_title": false,
   "title_cell": "Table of Contents",
   "title_sidebar": "Contents",
   "toc_cell": false,
   "toc_position": {},
   "toc_section_display": true,
   "toc_window_display": false
  },
  "varInspector": {
   "cols": {
    "lenName": 16,
    "lenType": 16,
    "lenVar": 40
   },
   "kernels_config": {
    "python": {
     "delete_cmd_postfix": "",
     "delete_cmd_prefix": "del ",
     "library": "var_list.py",
     "varRefreshCmd": "print(var_dic_list())"
    },
    "r": {
     "delete_cmd_postfix": ") ",
     "delete_cmd_prefix": "rm(",
     "library": "var_list.r",
     "varRefreshCmd": "cat(var_dic_list()) "
    }
   },
   "types_to_exclude": [
    "module",
    "function",
    "builtin_function_or_method",
    "instance",
    "_Feature"
   ],
   "window_display": false
  }
 },
 "nbformat": 4,
 "nbformat_minor": 2
}
