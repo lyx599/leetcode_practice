{
 "cells": [
  {
   "cell_type": "markdown",
   "metadata": {},
   "source": [
    "# 电话号码的字母组合"
   ]
  },
  {
   "cell_type": "markdown",
   "metadata": {},
   "source": [
    "思路：\n",
    "- 暴力法\n",
    "    - 穷举所有情况\n",
    "- 分治法\n",
    "    - 暴力法的优化版本\n",
    "    - 原理是将原始问题切分一个个子问题，从整体看就是一个字符串左右两边的组合进行遍历结合，将问题化小，就变为2个字符的遍历结合\n",
    "- 回溯法\n",
    "    - 对这个问题感觉还是暴力法\n",
    "    - 后面遇到回溯法的问题再研究"
   ]
  },
  {
   "cell_type": "markdown",
   "metadata": {},
   "source": [
    "注意：对空字符串的特判"
   ]
  },
  {
   "cell_type": "markdown",
   "metadata": {
    "ExecuteTime": {
     "end_time": "2020-04-19T11:43:52.176929Z",
     "start_time": "2020-04-19T11:43:52.172934Z"
    }
   },
   "source": [
    "第一次思路：首先想到暴力法，然后再想优化，将原始问题切分一个个子问题，从整体看就是一个字符串左右两边的组合进行遍历结合，将问题化小，就变为2个字符的遍历结合。\n",
    "\n",
    "最后效率好像和暴力法的效率一样的"
   ]
  },
  {
   "cell_type": "code",
   "execution_count": 8,
   "metadata": {
    "ExecuteTime": {
     "end_time": "2020-04-19T12:57:29.846868Z",
     "start_time": "2020-04-19T12:57:29.836873Z"
    }
   },
   "outputs": [
    {
     "name": "stdout",
     "output_type": "stream",
     "text": [
      "[]\n"
     ]
    }
   ],
   "source": [
    "class Solution:\n",
    "\n",
    "    table = [[],[],['a','b','c'],['d','e','f'],['g','h','i'],['j','k','l']\n",
    "             ,['m','n','o'],['p','q','r','s'],['t','u','v'],['w','x','y','z']]\n",
    "\n",
    "    def letterCombinations(self,digits: str):\n",
    "        if len(digits) < 1:\n",
    "            return []\n",
    "\n",
    "        return self.combination(digits)\n",
    "\n",
    "    def combination(self,s):\n",
    "        str_len = len(s)\n",
    "        if str_len == 1:\n",
    "            return self.table[int(s)]\n",
    "        left = s[:str_len//2]\n",
    "        right = s[str_len//2:]\n",
    "        L = self.combination(left)\n",
    "        R = self.combination(right)\n",
    "        res = []\n",
    "        for l in L:\n",
    "            for r in R:\n",
    "               res.append(l+r)\n",
    "\n",
    "        return res\n",
    "\n",
    "s = Solution()\n",
    "print(s.letterCombinations(''))"
   ]
  },
  {
   "cell_type": "markdown",
   "metadata": {},
   "source": [
    "# 答案"
   ]
  },
  {
   "cell_type": "markdown",
   "metadata": {},
   "source": [
    "## 分治法"
   ]
  },
  {
   "cell_type": "code",
   "execution_count": 5,
   "metadata": {
    "ExecuteTime": {
     "end_time": "2020-04-19T11:44:38.572094Z",
     "start_time": "2020-04-19T11:44:38.565097Z"
    }
   },
   "outputs": [],
   "source": [
    "class Solution:\n",
    "\n",
    "    table = [[],[],['a','b','c'],['d','e','f'],['g','h','i'],['j','k','l']\n",
    "             ,['m','n','o'],['p','q','r','s'],['t','u','v'],['w','x','y','z']]\n",
    "\n",
    "    def letterCombinations(self,digits: str):\n",
    "        if len(digits) < 1:\n",
    "            return []\n",
    "\n",
    "        return self.combination(digits)\n",
    "\n",
    "\n",
    "    def combination(self,s):\n",
    "        str_len = len(s)\n",
    "        if str_len == 1:\n",
    "            return self.table[int(s)]\n",
    "        left = s[:str_len//2]\n",
    "        right = s[str_len//2:]\n",
    "        L = self.combination(left)\n",
    "        R = self.combination(right)\n",
    "        res = []\n",
    "        for l in L:\n",
    "            for r in R:\n",
    "               res.append(l+r)\n",
    "\n",
    "        return res"
   ]
  },
  {
   "cell_type": "markdown",
   "metadata": {},
   "source": [
    "## 暴力法--回溯法"
   ]
  },
  {
   "cell_type": "markdown",
   "metadata": {},
   "source": [
    "参考 https://leetcode-cn.com/problems/letter-combinations-of-a-phone-number/solution/pythondian-hua-hao-ma-de-zi-mu-zu-he-by-jutraman/"
   ]
  },
  {
   "cell_type": "code",
   "execution_count": 7,
   "metadata": {
    "ExecuteTime": {
     "end_time": "2020-04-19T12:50:49.387508Z",
     "start_time": "2020-04-19T12:50:49.378514Z"
    }
   },
   "outputs": [],
   "source": [
    "class Solution:\n",
    "\n",
    "\n",
    "    def letterCombinations(self,digits: str):\n",
    "        table = {'2':'abc','3':'def','4':'ghi','5':'jkl','6':'mno',\n",
    "                 '7':'pqrs','8':'tuv','9':'wxyz'}\n",
    "\n",
    "        if len(digits) < 1:\n",
    "            return []\n",
    "        ans =['']\n",
    "\n",
    "        for num in digits:\n",
    "            ans =[i+j for i in ans for j in table[num]]\n",
    "\n",
    "        return ans"
   ]
  }
 ],
 "metadata": {
  "hide_input": false,
  "kernelspec": {
   "display_name": "Python 3",
   "language": "python",
   "name": "python3"
  },
  "language_info": {
   "codemirror_mode": {
    "name": "ipython",
    "version": 3
   },
   "file_extension": ".py",
   "mimetype": "text/x-python",
   "name": "python",
   "nbconvert_exporter": "python",
   "pygments_lexer": "ipython3",
   "version": "3.7.0"
  },
  "toc": {
   "base_numbering": 1,
   "nav_menu": {},
   "number_sections": true,
   "sideBar": true,
   "skip_h1_title": false,
   "title_cell": "Table of Contents",
   "title_sidebar": "Contents",
   "toc_cell": false,
   "toc_position": {},
   "toc_section_display": true,
   "toc_window_display": false
  },
  "varInspector": {
   "cols": {
    "lenName": 16,
    "lenType": 16,
    "lenVar": 40
   },
   "kernels_config": {
    "python": {
     "delete_cmd_postfix": "",
     "delete_cmd_prefix": "del ",
     "library": "var_list.py",
     "varRefreshCmd": "print(var_dic_list())"
    },
    "r": {
     "delete_cmd_postfix": ") ",
     "delete_cmd_prefix": "rm(",
     "library": "var_list.r",
     "varRefreshCmd": "cat(var_dic_list()) "
    }
   },
   "types_to_exclude": [
    "module",
    "function",
    "builtin_function_or_method",
    "instance",
    "_Feature"
   ],
   "window_display": false
  }
 },
 "nbformat": 4,
 "nbformat_minor": 2
}
