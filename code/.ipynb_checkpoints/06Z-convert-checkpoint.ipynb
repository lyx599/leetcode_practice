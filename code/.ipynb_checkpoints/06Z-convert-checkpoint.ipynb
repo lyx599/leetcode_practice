{
 "cells": [
  {
   "cell_type": "markdown",
   "metadata": {},
   "source": [
    "# Z字形变换"
   ]
  },
  {
   "cell_type": "markdown",
   "metadata": {},
   "source": [
    "思路：\n",
    "  - 行索引法\n",
    "      - 每个字符 c 在 Z字形中对应的行索引先从 s_1增大至 s_n，再从 s_n减小至 s_1…… 如此反复。\n",
    "      - 因此，解决方案为：模拟这个行索引的变化，在遍历 s 中把每个字符填到正确的行\n"
   ]
  },
  {
   "cell_type": "markdown",
   "metadata": {},
   "source": [
    "注意：\n",
    "- 行索引注意对输入行数为一行的特殊判定"
   ]
  },
  {
   "cell_type": "markdown",
   "metadata": {},
   "source": [
    "第一次思路：有几行生成几个列表，每个列表按顺序存储，最后把个列表的字符串连接起来。难点在于顺序存储的循环，按照题目的说法，先顺序存再倒序存。\n",
    "\n",
    "行索引法是对这个方法的优化"
   ]
  },
  {
   "cell_type": "code",
   "execution_count": 2,
   "metadata": {
    "ExecuteTime": {
     "end_time": "2020-04-07T04:20:29.898078Z",
     "start_time": "2020-04-07T04:20:29.889082Z"
    }
   },
   "outputs": [
    {
     "name": "stdout",
     "output_type": "stream",
     "text": [
      "LCIRETOESIIGEDHN\n"
     ]
    }
   ],
   "source": [
    "class Solution(object):\n",
    "    def convert(s, numRows):\n",
    "        \"\"\"\n",
    "        :type s: str\n",
    "        :type numRows: int\n",
    "        :rtype: str\n",
    "        \"\"\"\n",
    "        s_len = len(s)\n",
    "        flag = []\n",
    "        ans = ''\n",
    "        for i in range(numRows):\n",
    "            flag.append(i)\n",
    "            locals()['s'+str(i)] = []\n",
    "        flag = flag[:] + flag[::-1][1:-1]   #顺序存储循环，3行的顺序为1232\n",
    "\n",
    "        for i in range(s_len):\n",
    "            cur = i % len(flag)\n",
    "            locals()['s'+str(flag[cur])].append(s[i])\n",
    "\n",
    "        for i in range(numRows):\n",
    "            t_str = \"\".join(locals()['s'+str(i)])\n",
    "            ans = ans + t_str\n",
    "\n",
    "        return ans\n",
    "\n",
    "\n",
    "\n",
    "\n",
    "\n",
    "\n",
    "\n",
    "if __name__ == '__main__':\n",
    "\n",
    "    s = 'LEETCODEISHIRING'\n",
    "    print(Solution.convert(s,3))"
   ]
  },
  {
   "cell_type": "markdown",
   "metadata": {},
   "source": [
    "# 答案"
   ]
  },
  {
   "cell_type": "markdown",
   "metadata": {},
   "source": [
    "## 自己的方法"
   ]
  },
  {
   "cell_type": "code",
   "execution_count": 3,
   "metadata": {
    "ExecuteTime": {
     "end_time": "2020-04-07T04:21:01.200445Z",
     "start_time": "2020-04-07T04:21:01.192450Z"
    }
   },
   "outputs": [],
   "source": [
    "class Solution(object):\n",
    "    def convert(self, s, numRows):\n",
    "        \"\"\"\n",
    "        :type s: str\n",
    "        :type numRows: int\n",
    "        :rtype: str\n",
    "        \"\"\"\n",
    "        s_len = len(s)\n",
    "        flag = []\n",
    "        ans = ''\n",
    "        for i in range(numRows):\n",
    "            flag.append(i)\n",
    "            locals()['s'+str(i)] = []\n",
    "        flag = flag[:] + flag[::-1][1:-1]\n",
    "\n",
    "        for i in range(s_len):\n",
    "            cur = i % len(flag)\n",
    "            locals()['s'+str(flag[cur])].append(s[i])\n",
    "\n",
    "        for i in range(numRows):\n",
    "            t_str = \"\".join(locals()['s'+str(i)])\n",
    "            ans = ans + t_str\n",
    "\n",
    "        return ans"
   ]
  },
  {
   "cell_type": "markdown",
   "metadata": {},
   "source": [
    "## 行索引法"
   ]
  },
  {
   "cell_type": "code",
   "execution_count": 4,
   "metadata": {
    "ExecuteTime": {
     "end_time": "2020-04-07T10:55:27.967773Z",
     "start_time": "2020-04-07T10:55:27.955780Z"
    }
   },
   "outputs": [],
   "source": [
    "class Solution(object):\n",
    "    def convert(self, s, numRows):\n",
    "        \"\"\"\n",
    "        :type s: str\n",
    "        :type numRows: int\n",
    "        :rtype: str\n",
    "        \"\"\"\n",
    "        s_len = len(s)\n",
    "        if numRows < 2: #对于一行特例判断\n",
    "            return s\n",
    "        flag = -1\n",
    "        cur = 0\n",
    "        str = [\"\" for _ in range(numRows)]\n",
    "\n",
    "        for i in range(s_len):\n",
    "            str[cur] += s[i]\n",
    "            if cur == 0 or cur == numRows-1: #到头尾时掉转方向\n",
    "                flag = -flag\n",
    "            cur = cur + flag\n",
    "\n",
    "        ans = \"\".join(str)\n",
    "        return ans"
   ]
  }
 ],
 "metadata": {
  "hide_input": false,
  "kernelspec": {
   "display_name": "Python 3",
   "language": "python",
   "name": "python3"
  },
  "language_info": {
   "codemirror_mode": {
    "name": "ipython",
    "version": 3
   },
   "file_extension": ".py",
   "mimetype": "text/x-python",
   "name": "python",
   "nbconvert_exporter": "python",
   "pygments_lexer": "ipython3",
   "version": "3.7.0"
  },
  "toc": {
   "base_numbering": 1,
   "nav_menu": {},
   "number_sections": true,
   "sideBar": true,
   "skip_h1_title": false,
   "title_cell": "Table of Contents",
   "title_sidebar": "Contents",
   "toc_cell": false,
   "toc_position": {},
   "toc_section_display": true,
   "toc_window_display": false
  },
  "varInspector": {
   "cols": {
    "lenName": 16,
    "lenType": 16,
    "lenVar": 40
   },
   "kernels_config": {
    "python": {
     "delete_cmd_postfix": "",
     "delete_cmd_prefix": "del ",
     "library": "var_list.py",
     "varRefreshCmd": "print(var_dic_list())"
    },
    "r": {
     "delete_cmd_postfix": ") ",
     "delete_cmd_prefix": "rm(",
     "library": "var_list.r",
     "varRefreshCmd": "cat(var_dic_list()) "
    }
   },
   "types_to_exclude": [
    "module",
    "function",
    "builtin_function_or_method",
    "instance",
    "_Feature"
   ],
   "window_display": false
  }
 },
 "nbformat": 4,
 "nbformat_minor": 2
}
