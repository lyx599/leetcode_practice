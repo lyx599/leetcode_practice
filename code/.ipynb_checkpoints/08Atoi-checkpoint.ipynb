{
 "cells": [
  {
   "cell_type": "markdown",
   "metadata": {},
   "source": [
    "# 字符串转换整数"
   ]
  },
  {
   "cell_type": "markdown",
   "metadata": {},
   "source": [
    "思路："
   ]
  },
  {
   "cell_type": "markdown",
   "metadata": {},
   "source": [
    "注意："
   ]
  },
  {
   "cell_type": "markdown",
   "metadata": {
    "ExecuteTime": {
     "end_time": "2020-04-10T11:10:29.439057Z",
     "start_time": "2020-04-10T11:10:29.434058Z"
    }
   },
   "source": [
    "自己的思路：\n",
    "根据题目信息，设置一个首字符标识量定位第一个字符，根据各个条件进行判断，还有一些特例判断。\n",
    "\n",
    "健壮性不够，只能算暴力解出来了"
   ]
  },
  {
   "cell_type": "code",
   "execution_count": 2,
   "metadata": {
    "ExecuteTime": {
     "end_time": "2020-04-10T11:01:21.492690Z",
     "start_time": "2020-04-10T11:01:21.483694Z"
    },
    "code_folding": []
   },
   "outputs": [
    {
     "name": "stdout",
     "output_type": "stream",
     "text": [
      "0\n"
     ]
    }
   ],
   "source": [
    "class Solution(object):\n",
    "    def myAtoi(str):\n",
    "        \"\"\"\n",
    "        :type str: str\n",
    "        :rtype: int\n",
    "        \"\"\"\n",
    "\n",
    "        first = True\n",
    "        str_len = len(str)\n",
    "        if str_len < 1:\n",
    "            return 0\n",
    "        ans =''\n",
    "        for i in range(str_len):\n",
    "            if first and str[i]==' ':\n",
    "                continue\n",
    "            elif first and (str[i]=='-' or str[i]=='+'):\n",
    "                first = False\n",
    "                ans += str[i]\n",
    "            elif first and (str[i]<'0' or str[i]>'9'):\n",
    "                return 0\n",
    "            elif str[i]>='0' and str[i]<='9':\n",
    "                first = False\n",
    "                ans += str[i]\n",
    "            else:\n",
    "                break\n",
    "        if len(ans) < 1:\n",
    "            return 0\n",
    "        if len(ans) == 1 and('-' in ans or '+' in ans):\n",
    "            return 0\n",
    "        ans = int(ans)\n",
    "        if ans > 2**31 -1:\n",
    "            return 2**31 -1\n",
    "        elif ans < -2**31:\n",
    "            return -2**31\n",
    "        else:\n",
    "            return ans\n",
    "\n",
    "if __name__ == '__main__':\n",
    "    print(Solution.myAtoi(' '))"
   ]
  },
  {
   "cell_type": "markdown",
   "metadata": {},
   "source": [
    "# 答案"
   ]
  },
  {
   "cell_type": "code",
   "execution_count": 1,
   "metadata": {
    "ExecuteTime": {
     "end_time": "2020-04-10T10:49:20.007053Z",
     "start_time": "2020-04-10T10:49:19.998058Z"
    }
   },
   "outputs": [],
   "source": [
    "class Solution(object):\n",
    "    def myAtoi(self, str):\n",
    "        \"\"\"\n",
    "        :type str: str\n",
    "        :rtype: int\n",
    "        \"\"\"\n",
    "        first = True\n",
    "        str_len = len(str)\n",
    "        if str_len < 1:\n",
    "            return 0\n",
    "        ans =''\n",
    "        for i in range(str_len):\n",
    "            if first and str[i]==' ':\n",
    "                continue\n",
    "            elif first and (str[i]=='-' or str[i]=='+'):\n",
    "                first = False\n",
    "                ans += str[i]\n",
    "            elif first and (str[i]<'0' or str[i]>'9'):\n",
    "                return 0\n",
    "            elif str[i]>='0' and str[i]<='9':\n",
    "                first = False\n",
    "                ans += str[i]\n",
    "            else:\n",
    "                break\n",
    "        if len(ans) < 1:\n",
    "            return 0\n",
    "        if len(ans) == 1 and('-' in ans or '+' in ans):\n",
    "            return 0\n",
    "        ans = int(ans)\n",
    "        if ans > 2**31 -1:\n",
    "            return 2**31 -1\n",
    "        elif ans < -2**31:\n",
    "            return -2**31\n",
    "        else:\n",
    "            return ans"
   ]
  }
 ],
 "metadata": {
  "hide_input": false,
  "kernelspec": {
   "display_name": "Python 3",
   "language": "python",
   "name": "python3"
  },
  "language_info": {
   "codemirror_mode": {
    "name": "ipython",
    "version": 3
   },
   "file_extension": ".py",
   "mimetype": "text/x-python",
   "name": "python",
   "nbconvert_exporter": "python",
   "pygments_lexer": "ipython3",
   "version": "3.7.0"
  },
  "toc": {
   "base_numbering": 1,
   "nav_menu": {},
   "number_sections": true,
   "sideBar": true,
   "skip_h1_title": false,
   "title_cell": "Table of Contents",
   "title_sidebar": "Contents",
   "toc_cell": false,
   "toc_position": {},
   "toc_section_display": true,
   "toc_window_display": false
  },
  "varInspector": {
   "cols": {
    "lenName": 16,
    "lenType": 16,
    "lenVar": 40
   },
   "kernels_config": {
    "python": {
     "delete_cmd_postfix": "",
     "delete_cmd_prefix": "del ",
     "library": "var_list.py",
     "varRefreshCmd": "print(var_dic_list())"
    },
    "r": {
     "delete_cmd_postfix": ") ",
     "delete_cmd_prefix": "rm(",
     "library": "var_list.r",
     "varRefreshCmd": "cat(var_dic_list()) "
    }
   },
   "types_to_exclude": [
    "module",
    "function",
    "builtin_function_or_method",
    "instance",
    "_Feature"
   ],
   "window_display": false
  }
 },
 "nbformat": 4,
 "nbformat_minor": 2
}
