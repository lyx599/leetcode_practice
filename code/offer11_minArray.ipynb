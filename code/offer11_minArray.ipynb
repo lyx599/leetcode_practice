{
 "cells": [
  {
   "cell_type": "markdown",
   "metadata": {},
   "source": [
    "# 面试题11\t旋转数组的最小数字  "
   ]
  },
  {
   "cell_type": "markdown",
   "metadata": {},
   "source": [
    "思路：\n",
    "- 二分查找\n",
    "    - 每次取中间值和前面的值和后面的值比较\n",
    "    - 如果前中后的值都相等，则只能顺序遍历当前左右下标查找最小值\n",
    "    - 如果大于等于前面的值，说明最小值在中间值的后面\n",
    "    - 如果小于等于后面的值，说明最小值在中间值的前面\n",
    "    - 当左边的下标和右边的下标相差1时，则找到最小值，右边下标的数即为最小值\n",
    "    - 详细完整思路见剑指offer\n",
    "    - 时间复杂度: $O(log_2N)$： 在特例情况下（例如[1,1,1,1]），会退化到 $O(N)$\n",
    "    - 空间复杂度: $O(1)$ , i , j , m 指针使用常数大小的额外空间。"
   ]
  },
  {
   "cell_type": "markdown",
   "metadata": {},
   "source": [
    "注意：\n",
    "- 当旋转个数为0时，依然符合题意，此时数组是升序，最小的数为第一个"
   ]
  },
  {
   "cell_type": "markdown",
   "metadata": {},
   "source": [
    "磕磕绊绊改对了，但逻辑并不完善，先看过了解题思路依然没有完全掌握写出来有一定偏差\n",
    "旋转数组的性质\n",
    "- 旋转前面的数大于等于旋转部分的数"
   ]
  },
  {
   "cell_type": "code",
   "execution_count": null,
   "metadata": {
    "ExecuteTime": {
     "end_time": "2020-06-08T13:35:21.423391Z",
     "start_time": "2020-06-08T13:35:21.397Z"
    }
   },
   "outputs": [],
   "source": [
    "class Solution:\n",
    "    def minArray(self, numbers: [int]) -> int:\n",
    "\n",
    "        if not numbers:\n",
    "            return None\n",
    "        numbers_len = len(numbers)\n",
    "        left = 0\n",
    "        right = numbers_len - 1\n",
    "        # 针对升序情况\n",
    "        if numbers[left] < numbers[right]:\n",
    "            return numbers[left]\n",
    "        while left != right - 1:\n",
    "            mid = (left + right) // 2\n",
    "            if numbers[mid] > numbers[left]:\n",
    "                left = mid\n",
    "            elif numbers[mid] < numbers[right]:\n",
    "                right = mid\n",
    "            #中间的数和左边的数相同，就进入顺序查找，本来应该是左中右3个数都相等时，才进入\n",
    "            else:\n",
    "                return self.find_mid(numbers, left, right)\n",
    "\n",
    "        return numbers[right]\n",
    "    # 顺序遍历查找最小的数\n",
    "    def find_mid(self, numbers, left, right):\n",
    "        min_num = numbers[left]\n",
    "        for i in range(left, right + 1):\n",
    "            if min_num > numbers[i]:\n",
    "                min_num = numbers[i]\n",
    "\n",
    "        return min_num\n",
    "\n",
    "s = Solution()\n",
    "print(s.minArray([3,3,1]))"
   ]
  },
  {
   "cell_type": "markdown",
   "metadata": {},
   "source": [
    "# 答案"
   ]
  },
  {
   "cell_type": "markdown",
   "metadata": {},
   "source": [
    "## 自己的答案"
   ]
  },
  {
   "cell_type": "code",
   "execution_count": null,
   "metadata": {
    "ExecuteTime": {
     "end_time": "2020-06-08T13:35:21.424387Z",
     "start_time": "2020-06-08T13:35:21.401Z"
    }
   },
   "outputs": [],
   "source": [
    "class Solution:\n",
    "    def minArray(self, numbers: [int]) -> int:\n",
    "\n",
    "        if not numbers:\n",
    "            return None\n",
    "        numbers_len = len(numbers)\n",
    "        left = 0\n",
    "        right = numbers_len - 1\n",
    "        # 针对升序情况\n",
    "        if numbers[left] < numbers[right]:\n",
    "            return numbers[left]\n",
    "        while left != right - 1:\n",
    "            mid = (left + right) // 2\n",
    "            if numbers[mid] > numbers[left]:\n",
    "                left = mid\n",
    "            elif numbers[mid] < numbers[right]:\n",
    "                right = mid\n",
    "            #中间的数和左边的数相同，就进入顺序查找，本来应该是左中右3个数都相等时，才进入\n",
    "            else:\n",
    "                return self.find_mid(numbers, left, right)\n",
    "\n",
    "        return numbers[right]\n",
    "    # 顺序遍历查找最小的数\n",
    "    def find_mid(self, numbers, left, right):\n",
    "        min_num = numbers[left]\n",
    "        for i in range(left, right + 1):\n",
    "            if min_num > numbers[i]:\n",
    "                min_num = numbers[i]\n",
    "\n",
    "        return min_num"
   ]
  },
  {
   "cell_type": "markdown",
   "metadata": {},
   "source": [
    "## 剑指offer答案\n",
    "逻辑要清晰完善一些"
   ]
  },
  {
   "cell_type": "code",
   "execution_count": null,
   "metadata": {
    "ExecuteTime": {
     "end_time": "2020-06-08T13:35:21.425387Z",
     "start_time": "2020-06-08T13:35:21.403Z"
    }
   },
   "outputs": [],
   "source": [
    "class Solution:\n",
    "    def minArray(self, numbers: List[int]) -> int:  \n",
    "        if not numbers:\n",
    "            return None\n",
    "        numbers_len = len(numbers)\n",
    "        left = 0\n",
    "        right = numbers_len - 1\n",
    "        # 针对升序，直接返回第一个数\n",
    "        mid = left\n",
    "        while numbers[left] >= numbers[right]:\n",
    "            if left == right - 1:\n",
    "                return numbers[right]\n",
    "            mid = (left + right) // 2\n",
    "            #如果左中右三个下标指向的数相等，则只能顺序查找\n",
    "            if numbers[left] == numbers[mid] and numbers[mid] == numbers[right]:\n",
    "                return self.find_mid(numbers, left, right)\n",
    "\n",
    "            if numbers[left] <= numbers[mid]:\n",
    "                left = mid\n",
    "            if numbers[right] >= numbers[mid]:\n",
    "                right = mid\n",
    "\n",
    "        return numbers[mid]\n",
    "\n",
    "    def find_mid(self, numbers, left, right):\n",
    "        min_num = numbers[left]\n",
    "        for i in range(left, right + 1):\n",
    "            if min_num > numbers[i]:\n",
    "                min_num = numbers[i]\n",
    "\n",
    "        return min_num"
   ]
  }
 ],
 "metadata": {
  "kernelspec": {
   "display_name": "Python 3",
   "language": "python",
   "name": "python3"
  },
  "language_info": {
   "codemirror_mode": {
    "name": "ipython",
    "version": 3
   },
   "file_extension": ".py",
   "mimetype": "text/x-python",
   "name": "python",
   "nbconvert_exporter": "python",
   "pygments_lexer": "ipython3",
   "version": "3.7.0"
  },
  "toc": {
   "base_numbering": 1,
   "nav_menu": {},
   "number_sections": true,
   "sideBar": true,
   "skip_h1_title": false,
   "title_cell": "Table of Contents",
   "title_sidebar": "Contents",
   "toc_cell": false,
   "toc_position": {},
   "toc_section_display": true,
   "toc_window_display": false
  },
  "varInspector": {
   "cols": {
    "lenName": 16,
    "lenType": 16,
    "lenVar": 40
   },
   "kernels_config": {
    "python": {
     "delete_cmd_postfix": "",
     "delete_cmd_prefix": "del ",
     "library": "var_list.py",
     "varRefreshCmd": "print(var_dic_list())"
    },
    "r": {
     "delete_cmd_postfix": ") ",
     "delete_cmd_prefix": "rm(",
     "library": "var_list.r",
     "varRefreshCmd": "cat(var_dic_list()) "
    }
   },
   "types_to_exclude": [
    "module",
    "function",
    "builtin_function_or_method",
    "instance",
    "_Feature"
   ],
   "window_display": false
  }
 },
 "nbformat": 4,
 "nbformat_minor": 2
}
