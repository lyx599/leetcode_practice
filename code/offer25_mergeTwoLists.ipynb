{
 "cells": [
  {
   "cell_type": "markdown",
   "metadata": {},
   "source": [
    "# 面试题25\t合并两个排序的链表  "
   ]
  },
  {
   "cell_type": "markdown",
   "metadata": {},
   "source": [
    "思路：\n",
    "- 遍历两链表\n",
    "    - 新建一个头节点ans，用于接收两个链表比较后得到的小的节点\n",
    "    - 遍历两个链表，将较小的节点加入头节点，移动该链表\n",
    "    - 直到其中一个链表遍历完成\n",
    "    - 然后将剩下的链表连接到头节点后面\n",
    "    - 时间复杂度 $O(N + M)$ ,遍历两个链表\n",
    "    - 空间复杂度 $O(1)$\n",
    "- 遍历一个链表\n",
    "    - 新建一个头节点head，让它指向链表l1\n",
    "    - 遍历链表l2，让它与l1下一个节点比较大小，\n",
    "    - 如果小于，则l2的节点插入到l1的后面，l2向后遍历重复操作\n",
    "    - 如果大于等于，则移动到l1下一个节点\n",
    "    - 遍历过程中判断l1是否到达链表尾部，如果到达则连接l2的剩余节点，返回头节点指向\n",
    "    - 时间复杂度 $O(N + M)$ ,遍历两个链表\n",
    "    - 空间复杂度 $O(1)$\n",
    "- 递归\n",
    "    - 比较当前两个链表头节点大小，让小的节点的链表连接下一个递归的比较结果\n",
    "    - 时间复杂度 $O(N + M)$ ,遍历两个链表\n",
    "    - 空间复杂度 $O(N + M)$"
   ]
  },
  {
   "cell_type": "markdown",
   "metadata": {},
   "source": [
    "注意："
   ]
  },
  {
   "cell_type": "code",
   "execution_count": 1,
   "metadata": {
    "ExecuteTime": {
     "end_time": "2020-06-18T08:30:50.273471Z",
     "start_time": "2020-06-18T08:30:50.266470Z"
    }
   },
   "outputs": [],
   "source": [
    "# Definition for singly-linked list.\n",
    "class ListNode:\n",
    "    def __init__(self, x):\n",
    "        self.val = x\n",
    "        self.next = None\n",
    "\n",
    "class Solution:\n",
    "    def mergeTwoLists(self, l1: ListNode, l2: ListNode) -> ListNode:\n",
    "        if not l1:\n",
    "            return l2\n",
    "        if not l2:\n",
    "            return l1\n",
    "        ans = ListNode(-1)\n",
    "        p = ans\n",
    "        while l1 or l2:\n",
    "            if l1.val <= l2.val:\n",
    "                temp = l1\n",
    "                l1 = l1.next\n",
    "                temp.next = None\n",
    "            else:\n",
    "                temp = l2\n",
    "                l2 = l2.next\n",
    "                temp.next = None\n",
    "            p.next = temp\n",
    "            p = temp\n",
    "        if not l1:\n",
    "            p.next = l2\n",
    "        elif not l2:\n",
    "            p.next = l1\n",
    "        return ans.next\n"
   ]
  },
  {
   "cell_type": "markdown",
   "metadata": {},
   "source": [
    "# 答案"
   ]
  },
  {
   "cell_type": "markdown",
   "metadata": {},
   "source": [
    "## 遍历两个链表"
   ]
  },
  {
   "cell_type": "code",
   "execution_count": 2,
   "metadata": {
    "ExecuteTime": {
     "end_time": "2020-06-18T08:30:50.280477Z",
     "start_time": "2020-06-18T08:30:50.275472Z"
    }
   },
   "outputs": [],
   "source": [
    "# Definition for singly-linked list.\n",
    "# class ListNode:\n",
    "#     def __init__(self, x):\n",
    "#         self.val = x\n",
    "#         self.next = None\n",
    "\n",
    "class Solution:\n",
    "    def mergeTwoLists(self, l1: ListNode, l2: ListNode) -> ListNode:\n",
    "        if not l1:\n",
    "            return l2\n",
    "        if not l2:\n",
    "            return l1\n",
    "        ans = ListNode(-1)\n",
    "        p = ans\n",
    "        while  l1 and  l2:\n",
    "            if l1.val <= l2.val:\n",
    "                temp = l1\n",
    "                l1 = l1.next\n",
    "                temp.next = None\n",
    "            else:\n",
    "                temp = l2\n",
    "                l2 = l2.next\n",
    "                temp.next = None\n",
    "            p.next = temp\n",
    "            p = temp\n",
    "        if not l1:\n",
    "            p.next = l2\n",
    "        elif not l2:\n",
    "            p.next = l1\n",
    "        return ans.next"
   ]
  },
  {
   "cell_type": "markdown",
   "metadata": {},
   "source": [
    "## 遍历一个链表"
   ]
  },
  {
   "cell_type": "code",
   "execution_count": 3,
   "metadata": {
    "ExecuteTime": {
     "end_time": "2020-06-18T08:30:50.287474Z",
     "start_time": "2020-06-18T08:30:50.281474Z"
    }
   },
   "outputs": [],
   "source": [
    "# Definition for singly-linked list.\n",
    "# class ListNode:\n",
    "#     def __init__(self, x):\n",
    "#         self.val = x\n",
    "#         self.next = None\n",
    "\n",
    "class Solution:\n",
    "    def mergeTwoLists(self, l1: ListNode, l2: ListNode) -> ListNode:\n",
    "        if not l1:\n",
    "            return l2\n",
    "        if not l2:\n",
    "            return l1\n",
    "        head = ListNode(-1)\n",
    "        head.next = l1\n",
    "        p = head\n",
    "        while l2:\n",
    "            if not p.next:\n",
    "                p.next = l2\n",
    "                return head.next\n",
    "            if p.next.val > l2.val:\n",
    "                temp = l2\n",
    "                l2 = l2.next\n",
    "                temp.next = p.next\n",
    "                p.next = temp\n",
    "            else:\n",
    "                p = p.next\n",
    "        return head.next"
   ]
  },
  {
   "cell_type": "markdown",
   "metadata": {},
   "source": [
    "## 递归"
   ]
  },
  {
   "cell_type": "code",
   "execution_count": 4,
   "metadata": {
    "ExecuteTime": {
     "end_time": "2020-06-18T08:30:50.296478Z",
     "start_time": "2020-06-18T08:30:50.288475Z"
    }
   },
   "outputs": [],
   "source": [
    "# Definition for singly-linked list.\n",
    "# class ListNode:\n",
    "#     def __init__(self, x):\n",
    "#         self.val = x\n",
    "#         self.next = None\n",
    "\n",
    "class Solution:\n",
    "    def mergeTwoLists(self, l1: ListNode, l2: ListNode) -> ListNode:\n",
    "        if not l1:\n",
    "            return l2\n",
    "        if not l2:\n",
    "            return l1\n",
    "        if l1.val < l2.val:\n",
    "            l1.next = self.mergeTwoLists(l1.next, l2)\n",
    "            return l1\n",
    "        else:\n",
    "            l2.next = self.mergeTwoLists(l1, l2.next)\n",
    "            return l2"
   ]
  }
 ],
 "metadata": {
  "kernelspec": {
   "display_name": "Python 3",
   "language": "python",
   "name": "python3"
  },
  "language_info": {
   "codemirror_mode": {
    "name": "ipython",
    "version": 3
   },
   "file_extension": ".py",
   "mimetype": "text/x-python",
   "name": "python",
   "nbconvert_exporter": "python",
   "pygments_lexer": "ipython3",
   "version": "3.7.0"
  },
  "toc": {
   "base_numbering": 1,
   "nav_menu": {},
   "number_sections": true,
   "sideBar": true,
   "skip_h1_title": false,
   "title_cell": "Table of Contents",
   "title_sidebar": "Contents",
   "toc_cell": false,
   "toc_position": {},
   "toc_section_display": true,
   "toc_window_display": false
  },
  "varInspector": {
   "cols": {
    "lenName": 16,
    "lenType": 16,
    "lenVar": 40
   },
   "kernels_config": {
    "python": {
     "delete_cmd_postfix": "",
     "delete_cmd_prefix": "del ",
     "library": "var_list.py",
     "varRefreshCmd": "print(var_dic_list())"
    },
    "r": {
     "delete_cmd_postfix": ") ",
     "delete_cmd_prefix": "rm(",
     "library": "var_list.r",
     "varRefreshCmd": "cat(var_dic_list()) "
    }
   },
   "types_to_exclude": [
    "module",
    "function",
    "builtin_function_or_method",
    "instance",
    "_Feature"
   ],
   "window_display": false
  }
 },
 "nbformat": 4,
 "nbformat_minor": 2
}
