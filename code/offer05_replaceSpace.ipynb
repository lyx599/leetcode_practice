{
 "cells": [
  {
   "cell_type": "markdown",
   "metadata": {},
   "source": [
    "# 面试题05. 替换空格"
   ]
  },
  {
   "cell_type": "markdown",
   "metadata": {},
   "source": [
    "思路：\n",
    "- 一次遍历\n",
    "    - 因为python中字符串都被设计成不可变的类型，即无法直接修改字符串的某一位字符，需要新建一个字符串实现，这道题的难度就降低很多（无法进行原地改变）\n",
    "    - 初始化一个列表ans\n",
    "    - 遍历字符串，遇到空格就加入%20，遇到其他字符直接加入列表\n",
    "    - 列表转字符串，即得到答案\n",
    "    - 时间复杂度 $O(n)$ 空间复杂度 $O(n)$"
   ]
  },
  {
   "cell_type": "markdown",
   "metadata": {},
   "source": [
    "注意：\n",
    "- python中字符串都被设计成不可变的类型\n",
    "- 如果能原地改变是，从后遍历数组，并使用双指针，可降低复杂度"
   ]
  },
  {
   "cell_type": "code",
   "execution_count": 2,
   "metadata": {
    "ExecuteTime": {
     "end_time": "2020-05-22T07:58:33.240588Z",
     "start_time": "2020-05-22T07:58:33.233591Z"
    }
   },
   "outputs": [
    {
     "name": "stdout",
     "output_type": "stream",
     "text": [
      "We%20are%20happy.\n"
     ]
    }
   ],
   "source": [
    "class Solution:\n",
    "    def replaceSpace(self, s: str) -> str:\n",
    "\n",
    "        ans = []\n",
    "        for c in s:\n",
    "            if c == ' ':\n",
    "                ans.append('%20')\n",
    "            else:\n",
    "                ans.append(c)\n",
    "        return ''.join(ans)\n",
    "\n",
    "\n",
    "\n",
    "s = Solution()\n",
    "strs = 'We are happy.'\n",
    "print(s.replaceSpace(strs))"
   ]
  },
  {
   "cell_type": "markdown",
   "metadata": {},
   "source": [
    "# 答案"
   ]
  },
  {
   "cell_type": "code",
   "execution_count": 3,
   "metadata": {
    "ExecuteTime": {
     "end_time": "2020-05-22T07:58:47.085530Z",
     "start_time": "2020-05-22T07:58:47.079532Z"
    }
   },
   "outputs": [],
   "source": [
    "class Solution:\n",
    "    def replaceSpace(self, s: str) -> str:\n",
    "        ans = []\n",
    "        for c in s:\n",
    "            if c == ' ':\n",
    "                ans.append('%20')\n",
    "            else:\n",
    "                ans.append(c)\n",
    "        return ''.join(ans)"
   ]
  }
 ],
 "metadata": {
  "hide_input": false,
  "kernelspec": {
   "display_name": "Python 3",
   "language": "python",
   "name": "python3"
  },
  "language_info": {
   "codemirror_mode": {
    "name": "ipython",
    "version": 3
   },
   "file_extension": ".py",
   "mimetype": "text/x-python",
   "name": "python",
   "nbconvert_exporter": "python",
   "pygments_lexer": "ipython3",
   "version": "3.7.0"
  },
  "toc": {
   "base_numbering": 1,
   "nav_menu": {},
   "number_sections": true,
   "sideBar": true,
   "skip_h1_title": false,
   "title_cell": "Table of Contents",
   "title_sidebar": "Contents",
   "toc_cell": false,
   "toc_position": {},
   "toc_section_display": true,
   "toc_window_display": false
  },
  "varInspector": {
   "cols": {
    "lenName": 16,
    "lenType": 16,
    "lenVar": 40
   },
   "kernels_config": {
    "python": {
     "delete_cmd_postfix": "",
     "delete_cmd_prefix": "del ",
     "library": "var_list.py",
     "varRefreshCmd": "print(var_dic_list())"
    },
    "r": {
     "delete_cmd_postfix": ") ",
     "delete_cmd_prefix": "rm(",
     "library": "var_list.r",
     "varRefreshCmd": "cat(var_dic_list()) "
    }
   },
   "types_to_exclude": [
    "module",
    "function",
    "builtin_function_or_method",
    "instance",
    "_Feature"
   ],
   "window_display": false
  }
 },
 "nbformat": 4,
 "nbformat_minor": 2
}
