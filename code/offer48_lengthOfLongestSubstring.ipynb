{
 "cells": [
  {
   "cell_type": "markdown",
   "metadata": {},
   "source": [
    "# 剑指 Offer 48\t最长不含重复字符的子字符串  "
   ]
  },
  {
   "cell_type": "markdown",
   "metadata": {},
   "source": [
    "思路：\n",
    "- 滑动窗口\n",
    "    - 题目中要求答案必须是 子串 的长度，意味着子串内的字符在原字符串中一定是连续的。因此我们可以将答案看作原字符串的一个滑动窗口，并维护窗口内不能有重复字符，同时更新窗口的最大值。\n",
    "    - 依次判断字符串，当遇到重复字符时，找到当前窗口的重复字符索引，窗口起始位置更换为当前窗口重复字符索引加一位置\n",
    "    - 每判断一次比较当前是否为最长子串，一直到字符串遍历完\n",
    "    - 时间复杂度 $O(N^2)$ : N为字符串长度，如遇重复字符需在子串中线性查找，因此时间复杂度为$O(N^2)$ \n",
    "        - 使用哈希表可降低复杂度，$O(N)$\n",
    "    - 空间复杂度$O(1)$ : 常数变量，字符的 ASCII 码范围为 0 ~ 127 ，哈希表 dicdic 最多使用 O(128) = O(1) 大小的额外空间\n",
    "- 动态规划\n",
    "    - https://leetcode-cn.com/problems/zui-chang-bu-han-zhong-fu-zi-fu-de-zi-zi-fu-chuan-lcof/solution/mian-shi-ti-48-zui-chang-bu-han-zhong-fu-zi-fu-d-9/\n",
    "    - 时间复杂度 $O(N)$ ：其中 N 为字符串长度，动态规划需遍历计算 dp 列表\n",
    "    - 空间复杂度 $O(1)$ ：字符的 ASCII 码范围为 0 ~ 127 ，哈希表 dicdic 最多使用 O(128) = O(1) 大小的额外空间"
   ]
  },
  {
   "cell_type": "markdown",
   "metadata": {},
   "source": [
    "注意："
   ]
  },
  {
   "cell_type": "code",
   "execution_count": 1,
   "metadata": {
    "ExecuteTime": {
     "end_time": "2020-07-20T13:20:39.601117Z",
     "start_time": "2020-07-20T13:20:39.594128Z"
    }
   },
   "outputs": [
    {
     "name": "stdout",
     "output_type": "stream",
     "text": [
      "0\n"
     ]
    }
   ],
   "source": [
    "class Solution:\n",
    "    def lengthOfLongestSubstring(self, s: str) -> int:\n",
    "\n",
    "        s_len = len(s)\n",
    "        max_len = 0\n",
    "        window = []\n",
    "        for i in range(s_len):\n",
    "            if s[i] in window:\n",
    "                window = window[window.index(s[i]) + 1:]\n",
    "                window.append(s[i])\n",
    "            else:\n",
    "                window.append(s[i])\n",
    "            if len(window) > max_len:\n",
    "                max_len = len(window)\n",
    "        return max_len\n",
    "\n",
    "\n",
    "s = Solution()\n",
    "print(s.lengthOfLongestSubstring(''))\n"
   ]
  },
  {
   "cell_type": "markdown",
   "metadata": {},
   "source": [
    "# 答案"
   ]
  },
  {
   "cell_type": "markdown",
   "metadata": {},
   "source": [
    "## 滑动窗口"
   ]
  },
  {
   "cell_type": "code",
   "execution_count": 2,
   "metadata": {
    "ExecuteTime": {
     "end_time": "2020-07-20T13:20:39.609117Z",
     "start_time": "2020-07-20T13:20:39.602120Z"
    }
   },
   "outputs": [],
   "source": [
    "class Solution:\n",
    "    def lengthOfLongestSubstring(self, s: str) -> int:\n",
    "        s_len = len(s)\n",
    "        max_len = 0\n",
    "        window = []\n",
    "        for i in range(s_len):\n",
    "            if s[i] in window:\n",
    "                window = window[window.index(s[i]) + 1:]\n",
    "                window.append(s[i])\n",
    "            else:\n",
    "                window.append(s[i])\n",
    "            if len(window) > max_len:\n",
    "                max_len = len(window)\n",
    "        return max_len"
   ]
  },
  {
   "cell_type": "markdown",
   "metadata": {},
   "source": [
    "## 滑动窗口---双指针"
   ]
  },
  {
   "cell_type": "code",
   "execution_count": 3,
   "metadata": {
    "ExecuteTime": {
     "end_time": "2020-07-20T13:20:39.615119Z",
     "start_time": "2020-07-20T13:20:39.610110Z"
    }
   },
   "outputs": [],
   "source": [
    "class Solution:\n",
    "    def lengthOfLongestSubstring(self, s: str) -> int:\n",
    "        head = 0\n",
    "        tail = 0\n",
    "        # 初始长度设置为1，特殊判断没有字符串的情况\n",
    "        if len(s) < 1:\n",
    "            return len(s)\n",
    "        max_len = 1 #针对bbbb这种情况，因为是先tail + 1\n",
    "        while tail < len(s) - 1:\n",
    "            tail += 1\n",
    "            if s[tail] not in s[head:tail]:\n",
    "                max_len = max(max_len, tail - head + 1)\n",
    "            else:\n",
    "                while s[head] != s[tail]:\n",
    "                    head += 1\n",
    "                head += 1 #找到的head索引是和后面相等的，因此要加一\n",
    "        return max_len"
   ]
  },
  {
   "cell_type": "markdown",
   "metadata": {},
   "source": [
    "## 滑动窗口---哈希表"
   ]
  },
  {
   "cell_type": "code",
   "execution_count": 4,
   "metadata": {
    "ExecuteTime": {
     "end_time": "2020-07-20T13:20:39.621125Z",
     "start_time": "2020-07-20T13:20:39.616112Z"
    }
   },
   "outputs": [],
   "source": [
    "class Solution:\n",
    "    def lengthOfLongestSubstring(self, s: str) -> int:\n",
    "\n",
    "        head = 0\n",
    "        max_len = 0\n",
    "        dic = {}\n",
    "        for tail in range(len(s)):\n",
    "            if s[tail] in dic:\n",
    "                # head = max(dic[s[tail]], head) + 1\n",
    "                # max作用防止head后退回去，如abba的情况，中间存在重复\n",
    "                head = max(dic[s[tail]], head)\n",
    "            # dic[s[tail]] = tail\n",
    "            # 指向当前位子的下一位，这样更新head时 不需要加1\n",
    "            # 避免tmmzuxt情况的错误\n",
    "            dic[s[tail]] = tail + 1\n",
    "            max_len = max(max_len, tail - head + 1)\n",
    "\n",
    "        return max_len"
   ]
  },
  {
   "cell_type": "markdown",
   "metadata": {},
   "source": [
    "## 动态规划"
   ]
  },
  {
   "cell_type": "code",
   "execution_count": 5,
   "metadata": {
    "ExecuteTime": {
     "end_time": "2020-07-20T13:20:39.627122Z",
     "start_time": "2020-07-20T13:20:39.622112Z"
    }
   },
   "outputs": [],
   "source": [
    "class Solution:\n",
    "    def lengthOfLongestSubstring(self, s: str) -> int:\n",
    "        dic = {}\n",
    "        dp = [0]\n",
    "        for j in range(len(s)):\n",
    "            i = dic.get(s[j], -1)\n",
    "            dic[s[j]] = j\n",
    "            if dp[j] >= j - i:\n",
    "                dp.append(j - i)\n",
    "            else:\n",
    "                dp.append(dp[j] + 1)\n",
    "        return max(dp)"
   ]
  },
  {
   "cell_type": "markdown",
   "metadata": {},
   "source": [
    "优化空间复杂度为$O(1)$,因为dp[j]只与dp[j-1]有关系，因此用tmp来代替dp[j-1]"
   ]
  },
  {
   "cell_type": "code",
   "execution_count": 6,
   "metadata": {
    "ExecuteTime": {
     "end_time": "2020-07-20T13:20:39.633123Z",
     "start_time": "2020-07-20T13:20:39.628122Z"
    }
   },
   "outputs": [],
   "source": [
    "class Solution:\n",
    "    def lengthOfLongestSubstring(self, s: str) -> int:\n",
    "        dic = {}\n",
    "        ans = tmp = 0\n",
    "        for j in range(len(s)):\n",
    "            i = dic.get(s[j], -1) # 获取索引 i\n",
    "            dic[s[j]] = j # 更新哈希表\n",
    "            tmp = tmp + 1 if tmp < j - i else j - i\n",
    "            ans = max(ans, tmp)\n",
    "        return ans"
   ]
  }
 ],
 "metadata": {
  "kernelspec": {
   "display_name": "Python 3",
   "language": "python",
   "name": "python3"
  },
  "language_info": {
   "codemirror_mode": {
    "name": "ipython",
    "version": 3
   },
   "file_extension": ".py",
   "mimetype": "text/x-python",
   "name": "python",
   "nbconvert_exporter": "python",
   "pygments_lexer": "ipython3",
   "version": "3.7.0"
  },
  "toc": {
   "base_numbering": 1,
   "nav_menu": {},
   "number_sections": true,
   "sideBar": true,
   "skip_h1_title": false,
   "title_cell": "Table of Contents",
   "title_sidebar": "Contents",
   "toc_cell": false,
   "toc_position": {},
   "toc_section_display": true,
   "toc_window_display": false
  },
  "varInspector": {
   "cols": {
    "lenName": 16,
    "lenType": 16,
    "lenVar": 40
   },
   "kernels_config": {
    "python": {
     "delete_cmd_postfix": "",
     "delete_cmd_prefix": "del ",
     "library": "var_list.py",
     "varRefreshCmd": "print(var_dic_list())"
    },
    "r": {
     "delete_cmd_postfix": ") ",
     "delete_cmd_prefix": "rm(",
     "library": "var_list.r",
     "varRefreshCmd": "cat(var_dic_list()) "
    }
   },
   "types_to_exclude": [
    "module",
    "function",
    "builtin_function_or_method",
    "instance",
    "_Feature"
   ],
   "window_display": false
  }
 },
 "nbformat": 4,
 "nbformat_minor": 4
}
