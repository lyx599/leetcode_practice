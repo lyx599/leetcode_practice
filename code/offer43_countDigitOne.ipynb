{
 "cells": [
  {
   "cell_type": "markdown",
   "metadata": {},
   "source": [
    "# 剑指 Offer 43 1～n整数中1出现的次数  "
   ]
  },
  {
   "cell_type": "markdown",
   "metadata": {},
   "source": [
    "思路：\n",
    "- 暴力法\n",
    "    - 循环遍历1~n，对每个数进行1的个数判别\n",
    "- 递归\n",
    "    - 从高位依次递归向下寻找1出现的次数\n",
    "    - 最高位分为1和其他数字两种情况\n",
    "    - 如1234，high=1，pow=1000，last=234\n",
    "        - 0~999范围，f(pow-1)\n",
    "        - 1000~1234范围，此时高位（也就是千位）的1的个数就是235个，其他位的个数就是f(last)\n",
    "        - last + 1 + f(pow - 1) + f(last)\n",
    "    - 如3234，high=3，pow=1000，last=234\n",
    "        - 0~999范围，f(pow-1)\n",
    "        - 1000~1999范围，此时高位（也就是千位）的1的个数就是1000（pow）个，其他位的个数就是f(pow-1)（也就是f(999)）\n",
    "        - 2000~2999范围，此时高位（也就是千位）的1的个数就是f(pow-1)（也就是f(999)）\n",
    "        - 3000~3234范围，此时高位（也就是千位）的1的个数就是f(last)\n",
    "        - pow + high * f(pow-1) + f(last)\n",
    "    - 时间复杂度 $O(N)$：n为整数的位数，估计应该是这个\n",
    "    - 空间复杂度 ：本应该是满二叉树，但递归到个位时，要根据个位数的大小递归个位树高的满二叉树的次数\n",
    "        - 最差情况$O(2^{n+9} - 1)$， 递归$2^{n+9} - 1$次， n为整数的位数\n",
    "    - https://leetcode-cn.com/problems/1nzheng-shu-zhong-1chu-xian-de-ci-shu-lcof/solution/javadi-gui-by-xujunyi/\n",
    "- 从个位向高位遍历求解\n",
    "    - 假设我们对5014这个数字求解。\n",
    "    - （1）个位上1出现的个数：记高位为high=501，当前位为cur=4。\n",
    "        那么高位从0~500变化的过程中，每一个变化中1只出现1次，即（高位1）这样的数字；\n",
    "        高位是501时，因为当前位是4，所以1只能出现一次，即5011。\n",
    "        所以总共出现的次数为high*1+1=502。\n",
    "    - （2）十位1出现的个数：记高位high=50，当前位为cur=1，低位为low=4。\n",
    "        那么高位从0~ 49变化的过程中，每一个变化中1出现10次，即（高位10）~（高位19）这样的数字；\n",
    "        高位为50的时候，因为当前位是1，所以我们要看低位来决定出现的次数，因为低位为4，所以此时出现5次，即5010~5014这样的数字。\n",
    "        所以总共出现的次数为high*10+4=504。\n",
    "    - （3）百位1出现的个数：记高位high=5，当前位cur=0，低位为low=14。\n",
    "        那么高位从0~ 4的过程中，每一个变化1出现100次，即（高位100）~（高位199）这样的数字；\n",
    "        高位为5的时候，因为当前位为0，所以不存在出现1的可能性。\n",
    "        所以总共出现的次数为high*100+0=500。\n",
    "    -  （4）千位1出现的次数：记高位high=0，当前位cur=5，低位low=014。\n",
    "        那么因为没有高位所以直接看当前位，因为当前位为5，所以1出现的次数为1000，即1000~1999这样的数字。\n",
    "        所以总共出现的次数为high*1000+1000=1000。\n",
    "    - 综上，最终的结果将每个位置出现1的次数累加即可。\n",
    "    - 时间复杂度 $O(N)$：n为整数的位数\n",
    "    - 空间复杂度 $O(1)$：常量辅助变量\n",
    "    - 减少了递归的重复计算\n",
    "    - https://leetcode-cn.com/problems/1nzheng-shu-zhong-1chu-xian-de-ci-shu-lcof/solution/c-cong-ge-wei-bian-li-dao-zui-gao-wei-yi-ci-qiu-ji/"
   ]
  },
  {
   "cell_type": "markdown",
   "metadata": {},
   "source": [
    "注意："
   ]
  },
  {
   "cell_type": "code",
   "execution_count": null,
   "metadata": {},
   "outputs": [],
   "source": []
  },
  {
   "cell_type": "markdown",
   "metadata": {},
   "source": [
    "# 答案"
   ]
  },
  {
   "cell_type": "markdown",
   "metadata": {},
   "source": [
    "## 递归"
   ]
  },
  {
   "cell_type": "code",
   "execution_count": 1,
   "metadata": {
    "ExecuteTime": {
     "end_time": "2020-07-10T13:24:47.801117Z",
     "start_time": "2020-07-10T13:24:47.796136Z"
    }
   },
   "outputs": [],
   "source": [
    "class Solution:\n",
    "    def countDigitOne(self, n: int) -> int:\n",
    "        if n <= 0:\n",
    "            return 0\n",
    "        num_s = str(n)\n",
    "        Pow = 10 ** (len(num_s) - 1)\n",
    "        high = int(num_s[0])\n",
    "        last = n - high * Pow\n",
    "        if high == 1:\n",
    "            return last + 1 + self.countDigitOne(last) + self.countDigitOne(Pow - 1)\n",
    "        else:\n",
    "            return high * self.countDigitOne(Pow - 1) + Pow + self.countDigitOne(last)"
   ]
  },
  {
   "cell_type": "markdown",
   "metadata": {},
   "source": [
    "## 从个位向高位遍历求解"
   ]
  },
  {
   "cell_type": "code",
   "execution_count": 2,
   "metadata": {
    "ExecuteTime": {
     "end_time": "2020-07-10T13:24:47.807126Z",
     "start_time": "2020-07-10T13:24:47.802126Z"
    }
   },
   "outputs": [],
   "source": [
    "class Solution:\n",
    "    def countDigitOne(self, n: int) -> int:\n",
    "        count = 0\n",
    "        num_s = str(n)[::-1]\n",
    "        for i in range(len(num_s)):\n",
    "            cur = int(num_s[i])\n",
    "            low = n % (10 ** i)\n",
    "            high = n // (10 ** (i + 1))\n",
    "            if cur == 0:\n",
    "                count = count + high * 10 ** i\n",
    "            if cur == 1:\n",
    "                count = count + low + 1 + high * 10 ** i\n",
    "            if cur > 1:\n",
    "                count = count + high * 10 ** i + 10 ** i\n",
    "        return count"
   ]
  },
  {
   "cell_type": "code",
   "execution_count": 3,
   "metadata": {
    "ExecuteTime": {
     "end_time": "2020-07-10T13:24:47.812121Z",
     "start_time": "2020-07-10T13:24:47.808119Z"
    }
   },
   "outputs": [],
   "source": [
    "class Solution:\n",
    "    def countDigitOne(self, n: int) -> int:\n",
    "        digit, res = 1, 0\n",
    "        high, cur, low = n // 10, n % 10, 0\n",
    "        while high != 0 or cur != 0:\n",
    "            if cur == 0: res += high * digit\n",
    "            elif cur == 1: res += high * digit + low + 1\n",
    "            else: res += (high + 1) * digit\n",
    "            low += cur * digit\n",
    "            cur = high % 10\n",
    "            high //= 10\n",
    "            digit *= 10\n",
    "        return res"
   ]
  }
 ],
 "metadata": {
  "kernelspec": {
   "display_name": "Python 3",
   "language": "python",
   "name": "python3"
  },
  "language_info": {
   "codemirror_mode": {
    "name": "ipython",
    "version": 3
   },
   "file_extension": ".py",
   "mimetype": "text/x-python",
   "name": "python",
   "nbconvert_exporter": "python",
   "pygments_lexer": "ipython3",
   "version": "3.7.0"
  },
  "toc": {
   "base_numbering": 1,
   "nav_menu": {},
   "number_sections": true,
   "sideBar": true,
   "skip_h1_title": false,
   "title_cell": "Table of Contents",
   "title_sidebar": "Contents",
   "toc_cell": false,
   "toc_position": {},
   "toc_section_display": true,
   "toc_window_display": false
  },
  "varInspector": {
   "cols": {
    "lenName": 16,
    "lenType": 16,
    "lenVar": 40
   },
   "kernels_config": {
    "python": {
     "delete_cmd_postfix": "",
     "delete_cmd_prefix": "del ",
     "library": "var_list.py",
     "varRefreshCmd": "print(var_dic_list())"
    },
    "r": {
     "delete_cmd_postfix": ") ",
     "delete_cmd_prefix": "rm(",
     "library": "var_list.r",
     "varRefreshCmd": "cat(var_dic_list()) "
    }
   },
   "types_to_exclude": [
    "module",
    "function",
    "builtin_function_or_method",
    "instance",
    "_Feature"
   ],
   "window_display": false
  }
 },
 "nbformat": 4,
 "nbformat_minor": 2
}
