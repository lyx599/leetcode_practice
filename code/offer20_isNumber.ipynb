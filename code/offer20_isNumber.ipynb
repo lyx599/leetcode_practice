{
 "cells": [
  {
   "cell_type": "markdown",
   "metadata": {},
   "source": [
    "# \t面试题20\t表示数值的字符串  "
   ]
  },
  {
   "cell_type": "markdown",
   "metadata": {},
   "source": [
    "思路：\n",
    "- 有限状态机\n",
    "    - 字符类型共5种\n",
    "        - 空格、数字(0—9)、正负号 (+−)、小数点 (..) 、幂符号 (e) \n",
    "    - 状态定义\n",
    "    - https://leetcode-cn.com/problems/biao-shi-shu-zhi-de-zi-fu-chuan-lcof/solution/mian-shi-ti-20-biao-shi-shu-zhi-de-zi-fu-chuan-y-2/"
   ]
  },
  {
   "cell_type": "markdown",
   "metadata": {},
   "source": [
    "注意："
   ]
  },
  {
   "cell_type": "markdown",
   "metadata": {},
   "source": [
    "第一次解答发现没有考虑空格，添加空格判断后，发现 -.1 也是数值，这里定义的数值和平常考虑的不太相同"
   ]
  },
  {
   "cell_type": "code",
   "execution_count": 1,
   "metadata": {
    "ExecuteTime": {
     "end_time": "2020-06-16T11:24:59.328916Z",
     "start_time": "2020-06-16T11:24:59.323916Z"
    }
   },
   "outputs": [
    {
     "name": "stdout",
     "output_type": "stream",
     "text": [
      "True\n"
     ]
    }
   ],
   "source": [
    "class Solution:\n",
    "    def isNumber(self, s: str) -> bool:\n",
    "       \n",
    "        status = [[1, 2, 3, 0], [0, 2, 3, 0], [0, 2, 3, 6], [4, 5, 0, 0], [0, 5, 0, 0], [0, 5, 0, 0],\n",
    "                  [0, 7, 3, 0], [0, 7, 0, 0]]\n",
    "        cur = 0\n",
    "        for item in s:\n",
    "            if item == '+' or item == '-':\n",
    "                next_status = status[cur][0]\n",
    "            elif '0' <= item <= '9':\n",
    "                next_status = status[cur][1]\n",
    "            elif item == 'e' or item == 'E':\n",
    "                next_status = status[cur][2]\n",
    "            elif item == '.':\n",
    "                next_status = status[cur][3]\n",
    "            elif item == ' ':\n",
    "                continue\n",
    "            else:\n",
    "                return False\n",
    "            if next_status == 0:\n",
    "                return False\n",
    "            else:\n",
    "                cur = next_status\n",
    "        if cur in [2, 5, 7]:\n",
    "            return True\n",
    "        else:\n",
    "            return False\n",
    "\n",
    "\n",
    "s = Solution()\n",
    "\n",
    "print(s.isNumber(\"0\"))\n"
   ]
  },
  {
   "cell_type": "markdown",
   "metadata": {},
   "source": [
    "# 答案"
   ]
  },
  {
   "cell_type": "code",
   "execution_count": 2,
   "metadata": {
    "ExecuteTime": {
     "end_time": "2020-06-16T11:35:56.940252Z",
     "start_time": "2020-06-16T11:35:56.934251Z"
    }
   },
   "outputs": [],
   "source": [
    "class Solution:\n",
    "    def isNumber(self, s: str) -> bool:\n",
    "        states = [\n",
    "            {' ': 0, 's': 1, 'd': 2, '.': 4},  # 0. start with 'blank'\n",
    "            {'d': 2, '.': 4},  # 1. 'sign' before 'e'\n",
    "            {'d': 2, '.': 3, 'e': 5, ' ': 8},  # 2. 'digit' before 'dot'\n",
    "            {'d': 3, 'e': 5, ' ': 8},  # 3. 'digit' after 'dot'\n",
    "            {'d': 3},  # 4. 'digit' after 'dot' (‘blank’ before 'dot')\n",
    "            {'s': 6, 'd': 7},  # 5. 'e'\n",
    "            {'d': 7},  # 6. 'sign' after 'e'\n",
    "            {'d': 7, ' ': 8},  # 7. 'digit' after 'e'\n",
    "            {' ': 8}  # 8. end with 'blank'\n",
    "        ]\n",
    "        p = 0  # start with state 0\n",
    "        for c in s:\n",
    "            if '0' <= c <= '9':\n",
    "                t = 'd'  # digit\n",
    "            elif c in \"+-\":\n",
    "                t = 's'  # sign\n",
    "            else:\n",
    "                t = c  # dot, blank, e\n",
    "            if t not in states[p]: return False\n",
    "            p = states[p][t]\n",
    "        return p in (2, 3, 7, 8)"
   ]
  }
 ],
 "metadata": {
  "kernelspec": {
   "display_name": "Python 3",
   "language": "python",
   "name": "python3"
  },
  "language_info": {
   "codemirror_mode": {
    "name": "ipython",
    "version": 3
   },
   "file_extension": ".py",
   "mimetype": "text/x-python",
   "name": "python",
   "nbconvert_exporter": "python",
   "pygments_lexer": "ipython3",
   "version": "3.7.0"
  },
  "toc": {
   "base_numbering": 1,
   "nav_menu": {},
   "number_sections": true,
   "sideBar": true,
   "skip_h1_title": false,
   "title_cell": "Table of Contents",
   "title_sidebar": "Contents",
   "toc_cell": false,
   "toc_position": {},
   "toc_section_display": true,
   "toc_window_display": false
  },
  "varInspector": {
   "cols": {
    "lenName": 16,
    "lenType": 16,
    "lenVar": 40
   },
   "kernels_config": {
    "python": {
     "delete_cmd_postfix": "",
     "delete_cmd_prefix": "del ",
     "library": "var_list.py",
     "varRefreshCmd": "print(var_dic_list())"
    },
    "r": {
     "delete_cmd_postfix": ") ",
     "delete_cmd_prefix": "rm(",
     "library": "var_list.r",
     "varRefreshCmd": "cat(var_dic_list()) "
    }
   },
   "types_to_exclude": [
    "module",
    "function",
    "builtin_function_or_method",
    "instance",
    "_Feature"
   ],
   "window_display": false
  }
 },
 "nbformat": 4,
 "nbformat_minor": 2
}
