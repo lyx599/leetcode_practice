{
 "cells": [
  {
   "cell_type": "markdown",
   "metadata": {},
   "source": [
    "# 剑指 Offer 29\t顺时针打印矩阵  "
   ]
  },
  {
   "cell_type": "markdown",
   "metadata": {},
   "source": [
    "思路：\n",
    "- 自己的解答--类似题解的按层模拟\n",
    "    - 顺着题目意思，设置上下左右边界，从外向内顺时针打印\n",
    "    - 时间复杂度 $O(N*M)$ ：遍历了一遍矩阵\n",
    "    - 空间复杂度 $O(N*M)$ ：答案保持打印顺序和矩阵大小一样\n",
    "- 按层模拟\n",
    "    - 将矩阵看成若干层，首先打印最外层的元素，其次打印次外层的元素，直到打印最内层的元素\n",
    "    - https://leetcode-cn.com/problems/shun-shi-zhen-da-yin-ju-zhen-lcof/solution/shun-shi-zhen-da-yin-ju-zhen-by-leetcode-solution/\n",
    "    - 时间复杂度：$O(mn)$，其中 m 和 n 分别是输入矩阵的行数和列数。矩阵中的每个元素都要被访问一次。\n",
    "    - 空间复杂度：$O(1)$，除了输出数组以外，空间复杂度是常数。\n",
    "- 模拟\n",
    "    - 模拟打印矩阵的路径。初始位置是矩阵的左上角，初始方向是向右，当路径超出界限或者进入之前访问过的位置时，则顺时针旋转，进入下一个方向。\n",
    "    - 判断路径是否进入之前访问过的位置需要使用一个与输入矩阵大小相同的辅助矩阵 visited，其中的每个元素表示该位置是否被访问过。当一个元素被访问时，将visited 中的对应位置的元素设为已访问。\n",
    "    - 如何判断路径是否结束？由于矩阵中的每个元素都被访问一次，因此路径的长度即为矩阵中的元素数量，当路径的长度达到矩阵中的元素数量时即为完整路径，将该路径返回。\n",
    "    - 时间复杂度：$O(mn)$，其中 mm 和 nn 分别是输入矩阵的行数和列数。矩阵中的每个元素都要被访问一次。\n",
    "    - 空间复杂度：$O(mn)$。需要创建一个大小为m×n 的矩阵 visited 记录每个位置是否被访问过。"
   ]
  },
  {
   "cell_type": "markdown",
   "metadata": {},
   "source": [
    "注意："
   ]
  },
  {
   "cell_type": "markdown",
   "metadata": {},
   "source": [
    "顺着题意，设置上下左右边界，从外向内顺时针打印，感觉边界判定有点复杂，其中两个count == size 跳出循环针对非正方形会回退的情况，因为是按照右下左上的顺序，如果往右刚好遍历完了，他仍然会执行下面的遍历，到往左时会回退重复打印元素。"
   ]
  },
  {
   "cell_type": "code",
   "execution_count": 1,
   "metadata": {
    "ExecuteTime": {
     "end_time": "2020-06-23T13:03:29.948027Z",
     "start_time": "2020-06-23T13:03:29.940043Z"
    }
   },
   "outputs": [
    {
     "name": "stdout",
     "output_type": "stream",
     "text": [
      "[1, 2, 3, 4, 8, 12, 11, 10, 9, 5, 6, 7]\n"
     ]
    }
   ],
   "source": [
    "# Definition for a binary tree node.\n",
    "class Solution:\n",
    "    def spiralOrder(self, matrix: [[int]]) -> [int]:\n",
    "\n",
    "        if not matrix:\n",
    "            return []\n",
    "        top = 0\n",
    "        bottom = len(matrix)\n",
    "        right = len(matrix[0])\n",
    "        left = 0\n",
    "        count = 0\n",
    "        ans = []\n",
    "        size = bottom * right\n",
    "        i = 0\n",
    "        j = 0\n",
    "        while count < size:\n",
    "            while j < right:\n",
    "                ans.append(matrix[i][j])\n",
    "                j += 1\n",
    "                count += 1\n",
    "            j -= 1\n",
    "            if count == size:\n",
    "                break\n",
    "            while i < bottom - 1:\n",
    "                i += 1\n",
    "                ans.append(matrix[i][j])\n",
    "                count += 1\n",
    "            if count == size:\n",
    "                break\n",
    "            while j >= left + 1:\n",
    "                j -= 1\n",
    "                ans.append(matrix[i][j])\n",
    "                count += 1\n",
    "#             if count == size:\n",
    "#                 break\n",
    "            while i > top + 1:\n",
    "                i -= 1\n",
    "                ans.append(matrix[i][j])\n",
    "                count += 1\n",
    "#             if count == size:\n",
    "#                 break\n",
    "            top = top + 1\n",
    "            bottom = bottom - 1\n",
    "            right = right - 1\n",
    "            left = left + 1\n",
    "            j += 1\n",
    "        return ans\n",
    "\n",
    "\n",
    "s = Solution()\n",
    "print(s.spiralOrder([[1,2,3,4],[5,6,7,8],[9,10,11,12]]))\n"
   ]
  },
  {
   "cell_type": "markdown",
   "metadata": {},
   "source": [
    "# 答案"
   ]
  },
  {
   "cell_type": "markdown",
   "metadata": {},
   "source": [
    "## 自己的答案"
   ]
  },
  {
   "cell_type": "code",
   "execution_count": 3,
   "metadata": {
    "ExecuteTime": {
     "end_time": "2020-06-23T13:09:41.989620Z",
     "start_time": "2020-06-23T13:09:41.984610Z"
    }
   },
   "outputs": [],
   "source": [
    "class Solution:\n",
    "    def spiralOrder(self, matrix: [[int]]) -> [int]:\n",
    "        if not matrix:\n",
    "            return []\n",
    "        top = 0\n",
    "        bottom = len(matrix)\n",
    "        right = len(matrix[0])\n",
    "        left = 0\n",
    "        count = 0\n",
    "        ans = []\n",
    "        size = bottom * right\n",
    "        i = 0\n",
    "        j = 0\n",
    "        while count < size:\n",
    "            while j < right:\n",
    "                ans.append(matrix[i][j])\n",
    "                j += 1\n",
    "                count += 1\n",
    "            j -= 1\n",
    "            if count == size:\n",
    "                break\n",
    "            while i < bottom - 1:\n",
    "                i += 1\n",
    "                ans.append(matrix[i][j])\n",
    "                count += 1\n",
    "            if count == size:\n",
    "                break\n",
    "            while j >= left + 1:\n",
    "                j -= 1\n",
    "                ans.append(matrix[i][j])\n",
    "                count += 1\n",
    "            # if count == size:\n",
    "            #     break\n",
    "            while i > top + 1:\n",
    "                i -= 1\n",
    "                ans.append(matrix[i][j])\n",
    "                count += 1\n",
    "            # if count == size:\n",
    "            #     break\n",
    "            top = top + 1\n",
    "            bottom = bottom - 1\n",
    "            right = right - 1\n",
    "            left = left + 1\n",
    "            j += 1\n",
    "        return ans"
   ]
  },
  {
   "cell_type": "markdown",
   "metadata": {},
   "source": [
    "## 按层模拟"
   ]
  },
  {
   "cell_type": "code",
   "execution_count": 5,
   "metadata": {
    "ExecuteTime": {
     "end_time": "2020-06-23T14:09:35.790584Z",
     "start_time": "2020-06-23T14:09:35.783602Z"
    }
   },
   "outputs": [],
   "source": [
    "class Solution:\n",
    "    def spiralOrder(self, matrix: [[int]]) -> [int]:\n",
    "        if not matrix:\n",
    "            return []\n",
    "        rows, columns = len(matrix), len(matrix[0])\n",
    "        ans = []\n",
    "        top, left, bottom, right = 0, 0, rows - 1, columns - 1 #bottom, right取真实坐标值，便于后面计算\n",
    "        while left <= right and top <= bottom:\n",
    "            for columns in range(left, right + 1):#左闭右开，right+1\n",
    "                ans.append(matrix[top][columns])\n",
    "            for rows in range(top + 1, bottom + 1):#左闭右开，bottom+1\n",
    "                ans.append(matrix[rows][right])\n",
    "            if left < right and top < bottom:#添加判断，避免类似于自己解法的回退\n",
    "                for columns in range(right - 1, left, -1):#左闭右开，left不用减一\n",
    "                    ans.append(matrix[bottom][columns])\n",
    "                for rows in range(bottom, top, -1):#左闭右开，top不用减一\n",
    "                    ans.append(matrix[rows][left])\n",
    "            top += 1\n",
    "            left += 1\n",
    "            right -= 1\n",
    "            bottom -= 1\n",
    "        return ans"
   ]
  },
  {
   "cell_type": "markdown",
   "metadata": {},
   "source": [
    "## 模拟"
   ]
  },
  {
   "cell_type": "code",
   "execution_count": 7,
   "metadata": {
    "ExecuteTime": {
     "end_time": "2020-06-23T14:16:00.509010Z",
     "start_time": "2020-06-23T14:16:00.503015Z"
    }
   },
   "outputs": [],
   "source": [
    "class Solution:\n",
    "    def spiralOrder(self, matrix: [[int]]) -> [int]:\n",
    "        if not matrix or not matrix[0]:\n",
    "            return list()\n",
    "        \n",
    "        rows, columns = len(matrix), len(matrix[0])\n",
    "        visited = [[False] * columns for _ in range(rows)]\n",
    "        total = rows * columns\n",
    "        order = [0] * total\n",
    "\n",
    "        directions = [[0, 1], [1, 0], [0, -1], [-1, 0]]\n",
    "        row, column = 0, 0\n",
    "        directionIndex = 0\n",
    "        for i in range(total):\n",
    "            order[i] = matrix[row][column]\n",
    "            visited[row][column] = True\n",
    "            nextRow, nextColumn = row + directions[directionIndex][0], column + directions[directionIndex][1]\n",
    "            if not (0 <= nextRow < rows and 0 <= nextColumn < columns and not visited[nextRow][nextColumn]):\n",
    "                directionIndex = (directionIndex + 1) % 4\n",
    "            row += directions[directionIndex][0]\n",
    "            column += directions[directionIndex][1]\n",
    "        return order"
   ]
  }
 ],
 "metadata": {
  "kernelspec": {
   "display_name": "Python 3",
   "language": "python",
   "name": "python3"
  },
  "language_info": {
   "codemirror_mode": {
    "name": "ipython",
    "version": 3
   },
   "file_extension": ".py",
   "mimetype": "text/x-python",
   "name": "python",
   "nbconvert_exporter": "python",
   "pygments_lexer": "ipython3",
   "version": "3.7.0"
  },
  "toc": {
   "base_numbering": 1,
   "nav_menu": {},
   "number_sections": true,
   "sideBar": true,
   "skip_h1_title": false,
   "title_cell": "Table of Contents",
   "title_sidebar": "Contents",
   "toc_cell": false,
   "toc_position": {},
   "toc_section_display": true,
   "toc_window_display": false
  },
  "varInspector": {
   "cols": {
    "lenName": 16,
    "lenType": 16,
    "lenVar": 40
   },
   "kernels_config": {
    "python": {
     "delete_cmd_postfix": "",
     "delete_cmd_prefix": "del ",
     "library": "var_list.py",
     "varRefreshCmd": "print(var_dic_list())"
    },
    "r": {
     "delete_cmd_postfix": ") ",
     "delete_cmd_prefix": "rm(",
     "library": "var_list.r",
     "varRefreshCmd": "cat(var_dic_list()) "
    }
   },
   "types_to_exclude": [
    "module",
    "function",
    "builtin_function_or_method",
    "instance",
    "_Feature"
   ],
   "window_display": false
  }
 },
 "nbformat": 4,
 "nbformat_minor": 2
}
