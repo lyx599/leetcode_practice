{
 "cells": [
  {
   "cell_type": "markdown",
   "metadata": {},
   "source": [
    "# 剑指 Offer 27 二叉树的镜像  "
   ]
  },
  {
   "cell_type": "markdown",
   "metadata": {},
   "source": [
    "思路：\n",
    "- 递归\n",
    "    - 首先判断二叉树是否为空，为空直接返回\n",
    "    - 交换左右节点，先序遍历递归交换左右节点\n",
    "    - 时间复杂度 $O(N)$ ：每个元素都必须访问一次，所以是$O(N)$ \n",
    "    - 空间复杂度 $O(N)$ ： 最差情况下（当二叉树退化为链表），递归时系统需使用 $O(N)$ 大小的栈空间\n",
    "- 辅助栈\n",
    "    - 先将root入栈\n",
    "    - 将栈顶节点node弹出，将node左右节点入栈\n",
    "    - 交换node的左右节点\n",
    "    - 直到栈为空\n",
    "    - 时间复杂度 $O(N)$ ： 每个元素都必须访问一次，所以是$O(N)$ \n",
    "    - 空间复杂度 $O(N)$ ： 最差情况下（当为满二叉树时），栈 stack 最多同时存储 N/2 个节点，占用 $O(N)$  额外空间。"
   ]
  },
  {
   "cell_type": "markdown",
   "metadata": {},
   "source": [
    "注意："
   ]
  },
  {
   "cell_type": "code",
   "execution_count": 1,
   "metadata": {
    "ExecuteTime": {
     "end_time": "2020-06-23T01:39:47.614189Z",
     "start_time": "2020-06-23T01:39:47.609185Z"
    }
   },
   "outputs": [],
   "source": [
    "# Definition for a binary tree node.\n",
    "class TreeNode:\n",
    "    def __init__(self, x):\n",
    "        self.val = x\n",
    "        self.left = None\n",
    "        self.right = None\n",
    "\n",
    "class Solution:\n",
    "    def mirrorTree(self, root: TreeNode) -> TreeNode:\n",
    "        if not root:\n",
    "            return None\n",
    "        ans = root\n",
    "        self.mirror(root)\n",
    "        return ans\n",
    "\n",
    "    def mirror(self, root: TreeNode):\n",
    "        if not root.left and not root.right:\n",
    "            return\n",
    "        temp = root.left\n",
    "        root.left = root.right\n",
    "        root.right = temp\n",
    "        # 开始写错了判断，一直没找到错误，这里写成了判空的条件了，为空才能进入\n",
    "#         if not root.left:\n",
    "#             self.mirror(root.left)\n",
    "#         if not root.right:\n",
    "#             self.mirror(root.right)\n",
    "        if root.left:\n",
    "            self.mirror(root.left)\n",
    "        if root.right:\n",
    "            self.mirror(root.right)\n",
    "        "
   ]
  },
  {
   "cell_type": "markdown",
   "metadata": {},
   "source": [
    "# 答案"
   ]
  },
  {
   "cell_type": "markdown",
   "metadata": {},
   "source": [
    "## 递归"
   ]
  },
  {
   "cell_type": "code",
   "execution_count": 2,
   "metadata": {
    "ExecuteTime": {
     "end_time": "2020-06-23T01:39:47.621183Z",
     "start_time": "2020-06-23T01:39:47.615184Z"
    }
   },
   "outputs": [],
   "source": [
    "# Definition for a binary tree node.\n",
    "# class TreeNode:\n",
    "#     def __init__(self, x):\n",
    "#         self.val = x\n",
    "#         self.left = None\n",
    "#         self.right = None\n",
    "\n",
    "class Solution:\n",
    "    def mirrorTree(self, root: TreeNode) -> TreeNode:\n",
    "        if not root:\n",
    "            return None\n",
    "        root.left, root.right = root.right, root.left\n",
    "        self.mirrorTree(root.left)\n",
    "        self.mirrorTree(root.right)\n",
    "        # 最后运行此段时表示递归已经完成，回到了第一次调用\n",
    "        return root"
   ]
  },
  {
   "cell_type": "markdown",
   "metadata": {},
   "source": [
    "## 迭代（辅助栈）"
   ]
  },
  {
   "cell_type": "code",
   "execution_count": 4,
   "metadata": {
    "ExecuteTime": {
     "end_time": "2020-06-23T01:46:21.274199Z",
     "start_time": "2020-06-23T01:46:21.271190Z"
    }
   },
   "outputs": [],
   "source": [
    "# Definition for a binary tree node.\n",
    "# class TreeNode:\n",
    "#     def __init__(self, x):\n",
    "#         self.val = x\n",
    "#         self.left = None\n",
    "#         self.right = None\n",
    "\n",
    "class Solution:\n",
    "    def mirrorTree(self, root: TreeNode) -> TreeNode:\n",
    "        if not root:\n",
    "            return None\n",
    "        tree_stack = [root]\n",
    "        while tree_stack:\n",
    "            node = tree_stack.pop()\n",
    "            if node.left == node.right == None:\n",
    "                continue\n",
    "            if node.left:\n",
    "                tree_stack.append(node.left)\n",
    "            if node.right:\n",
    "                tree_stack.append(node.right)\n",
    "            node.left, node.right = node.right, node.left\n",
    "        return root"
   ]
  }
 ],
 "metadata": {
  "kernelspec": {
   "display_name": "Python 3",
   "language": "python",
   "name": "python3"
  },
  "language_info": {
   "codemirror_mode": {
    "name": "ipython",
    "version": 3
   },
   "file_extension": ".py",
   "mimetype": "text/x-python",
   "name": "python",
   "nbconvert_exporter": "python",
   "pygments_lexer": "ipython3",
   "version": "3.7.0"
  },
  "toc": {
   "base_numbering": 1,
   "nav_menu": {},
   "number_sections": true,
   "sideBar": true,
   "skip_h1_title": false,
   "title_cell": "Table of Contents",
   "title_sidebar": "Contents",
   "toc_cell": false,
   "toc_position": {},
   "toc_section_display": true,
   "toc_window_display": false
  },
  "varInspector": {
   "cols": {
    "lenName": 16,
    "lenType": 16,
    "lenVar": 40
   },
   "kernels_config": {
    "python": {
     "delete_cmd_postfix": "",
     "delete_cmd_prefix": "del ",
     "library": "var_list.py",
     "varRefreshCmd": "print(var_dic_list())"
    },
    "r": {
     "delete_cmd_postfix": ") ",
     "delete_cmd_prefix": "rm(",
     "library": "var_list.r",
     "varRefreshCmd": "cat(var_dic_list()) "
    }
   },
   "types_to_exclude": [
    "module",
    "function",
    "builtin_function_or_method",
    "instance",
    "_Feature"
   ],
   "window_display": false
  }
 },
 "nbformat": 4,
 "nbformat_minor": 2
}
