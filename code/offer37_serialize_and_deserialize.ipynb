{
 "cells": [
  {
   "cell_type": "markdown",
   "metadata": {},
   "source": [
    "# 剑指 Offer 37\t序列化二叉树  "
   ]
  },
  {
   "cell_type": "markdown",
   "metadata": {
    "ExecuteTime": {
     "end_time": "2020-07-04T08:39:02.199232Z",
     "start_time": "2020-07-04T08:39:02.193228Z"
    }
   },
   "source": [
    "思路：\n",
    "- 层序遍历\n",
    "    - 关键点在于序列一定要是可逆的，序列包含了二叉树完整的信息\n",
    "    - 将节点后null都记录下来，每一个节点在序列中的位置就是固定的\n",
    "    - 也就是要在序列中表示出你是叶子节点，以此判断后面的数字是否和你有关系\n",
    "    - 时间复杂度 $O(N)$ ： N 为二叉树的节点数，层序遍历需要访问所有节点，最差情况下需要访问 N+1 个null ，总体复杂度为 $O(2N + 1) = O(N)$。\n",
    "    - 空间复杂度 $O(N)$ ： 最差情况下，队列 queue同时存储$\\frac{N+1}{2}$ 个节点（或 N+1 个 null ），使用  $O(N)$ ；列表 ans 使用$O(N)$ \n",
    "    - https://leetcode-cn.com/problems/xu-lie-hua-er-cha-shu-lcof/solution/mian-shi-ti-37-xu-lie-hua-er-cha-shu-ceng-xu-bian-/"
   ]
  },
  {
   "cell_type": "markdown",
   "metadata": {},
   "source": [
    "注意：\n",
    "- root为空 直接返回列表[]\n",
    "- 题目只要序列化和反序列化可逆，就正确，不一定null的个数要对应题目，可以输出所有节点的null\n",
    "- 题目关键点就在于要记录节点后面的null，使得序列中的位置固定"
   ]
  },
  {
   "cell_type": "markdown",
   "metadata": {},
   "source": [
    "- 使用层序遍历\n",
    "- 这个树一定是一个满二叉树\n",
    "- 通过索引来确定节点之间的关系（父子关系)---满二叉树可以通过顺序存储的索引来确定关系\n",
    "- 通过树的高度来确定具体的操作节点数\n",
    "\n",
    "\n",
    "错误在于，这个树不能当成满二叉树思考，可能一边很快到达叶子节点，而另外一边还有很多非叶子节点，也就是一边比另一边的高度相差大于1，叶子节点的None不能进入队列生成左右子树None来凑成满二叉树"
   ]
  },
  {
   "cell_type": "code",
   "execution_count": 1,
   "metadata": {
    "ExecuteTime": {
     "end_time": "2020-07-04T13:23:33.421918Z",
     "start_time": "2020-07-04T13:23:33.404914Z"
    }
   },
   "outputs": [
    {
     "data": {
      "text/plain": [
       "<__main__.TreeNode at 0x21e0dac6ac8>"
      ]
     },
     "execution_count": 1,
     "metadata": {},
     "output_type": "execute_result"
    }
   ],
   "source": [
    "# Definition for a binary tree node.\n",
    "class TreeNode(object):\n",
    "    def __init__(self, x):\n",
    "        self.val = x\n",
    "        self.left = None\n",
    "        self.right = None\n",
    "\n",
    "class Codec:\n",
    "\n",
    "    def serialize(self, root):\n",
    "        import collections\n",
    "        \"\"\"Encodes a tree to a single string.\n",
    "\n",
    "        :type root: TreeNode\n",
    "        :rtype: str\n",
    "        \"\"\"\n",
    "        if not root:\n",
    "            return \"[]\"\n",
    "        h = self.height(root)\n",
    "        num = 2 ** h - 1\n",
    "        ans = []\n",
    "        count = 0\n",
    "        queue = collections.deque()\n",
    "        queue.append(root)\n",
    "        while queue:\n",
    "            if count == num:\n",
    "                break\n",
    "            node = queue.popleft()\n",
    "            if node is None:\n",
    "                ans.append('null')\n",
    "                count += 1\n",
    "                continue\n",
    "            else:\n",
    "                ans.append(str(node.val))\n",
    "            queue.append(node.left)\n",
    "            queue.append(node.right)\n",
    "            count += 1\n",
    "        return '[' + ','.join(ans) + ']'\n",
    "\n",
    "    def deserialize(self, data):\n",
    "        \"\"\"Decodes your encoded data to tree.\n",
    "\n",
    "        :type data: str\n",
    "        :rtype: TreeNode\n",
    "        \"\"\"\n",
    "        import collections\n",
    "        import math\n",
    "        if data == \"[]\": return\n",
    "        data_list = data[1:-1].split(',')\n",
    "        data_list_len = len(data_list)\n",
    "        h = math.log(data_list_len + 1, 2)\n",
    "        num = 2 ** h - 2 ** (h - 1) - 1\n",
    "        queue = collections.deque()\n",
    "        root = TreeNode(int(data_list[0]))\n",
    "        queue.append(root)\n",
    "        count = 0\n",
    "        while queue:\n",
    "            if count == num:\n",
    "                break\n",
    "            node = queue.popleft()\n",
    "            if node is None:\n",
    "                count += 1\n",
    "                continue\n",
    "            if data_list[2 * count + 1] == 'null':\n",
    "                node.left = None\n",
    "            else:\n",
    "                node.left = TreeNode(int(data_list[2 * count + 1]))\n",
    "            if data_list[2 * count + 2] == 'null':\n",
    "                node.right = None\n",
    "            else:\n",
    "                node.right = TreeNode(int(data_list[2 * count + 2]))\n",
    "            queue.append(node.left)\n",
    "            queue.append(node.right)\n",
    "            count += 1\n",
    "        return root\n",
    "\n",
    "    def height(self, root):\n",
    "        if not root:\n",
    "            return 0\n",
    "        left = 1 + self.height(root.left)\n",
    "        right = 1 + self.height(root.right)\n",
    "        val = max(left, right)\n",
    "        return val\n",
    "        \n",
    "root = TreeNode(5)\n",
    "\n",
    "root.left = TreeNode(2)\n",
    "root.right = TreeNode(3)\n",
    "\n",
    "root.left.left = None\n",
    "root.left.right = None\n",
    "root.right.left = TreeNode(2)\n",
    "root.right.right = TreeNode(4)\n",
    "\n",
    "root.right.left.left = TreeNode(3)\n",
    "root.right.left.right = TreeNode(1)\n",
    "# Your Codec object will be instantiated and called as such:\n",
    "codec = Codec()\n",
    "codec.deserialize(codec.serialize(root))"
   ]
  },
  {
   "cell_type": "markdown",
   "metadata": {},
   "source": [
    "# 答案"
   ]
  },
  {
   "cell_type": "code",
   "execution_count": 2,
   "metadata": {
    "ExecuteTime": {
     "end_time": "2020-07-04T13:23:33.429920Z",
     "start_time": "2020-07-04T13:23:33.423920Z"
    }
   },
   "outputs": [],
   "source": [
    "# Definition for a binary tree node.\n",
    "# class TreeNode(object):\n",
    "#     def __init__(self, x):\n",
    "#         self.val = x\n",
    "#         self.left = None\n",
    "#         self.right = None\n",
    "\n",
    "class Codec:\n",
    "\n",
    "    def serialize(self, root):\n",
    "        \"\"\"Encodes a tree to a single string.\n",
    "\n",
    "        :type root: TreeNode\n",
    "        :rtype: str\n",
    "        \"\"\"\n",
    "        import collections\n",
    "        if not root:\n",
    "            return '[]'\n",
    "        ans = []\n",
    "        queue = collections.deque()\n",
    "        queue.append(root)\n",
    "        while queue:\n",
    "            node = queue.popleft()\n",
    "            if node is None:\n",
    "                ans.append('null')\n",
    "                continue\n",
    "            else:\n",
    "                ans.append(str(node.val))\n",
    "            queue.append(node.left)\n",
    "            queue.append(node.right)\n",
    "        return '[' + \",\".join(ans) + ']'\n",
    "\n",
    "    def deserialize(self, data):\n",
    "        \"\"\"Decodes your encoded data to tree.\n",
    "\n",
    "        :type data: str\n",
    "        :rtype: TreeNode\n",
    "        \"\"\"\n",
    "        import collections\n",
    "        if data == '[]':\n",
    "            return\n",
    "        data_list = data[1:-1].split(',')\n",
    "        # data_list_len = len(data_list)\n",
    "        queue = collections.deque()\n",
    "        root = TreeNode(int(data_list[0]))\n",
    "        queue.append(root)\n",
    "        i = 1\n",
    "        while queue:\n",
    "            node = queue.popleft()\n",
    "            if data_list[i] != 'null':\n",
    "                node.left = TreeNode(int(data_list[i]))\n",
    "                queue.append(node.left)\n",
    "            i += 1\n",
    "            if data_list[i] != 'null':\n",
    "                node.right = TreeNode(int(data_list[i]))\n",
    "                queue.append(node.right)\n",
    "            i += 1\n",
    "\n",
    "        return root\n",
    "        \n",
    "\n",
    "# Your Codec object will be instantiated and called as such:\n",
    "# codec = Codec()\n",
    "# codec.deserialize(codec.serialize(root))"
   ]
  }
 ],
 "metadata": {
  "kernelspec": {
   "display_name": "Python 3",
   "language": "python",
   "name": "python3"
  },
  "language_info": {
   "codemirror_mode": {
    "name": "ipython",
    "version": 3
   },
   "file_extension": ".py",
   "mimetype": "text/x-python",
   "name": "python",
   "nbconvert_exporter": "python",
   "pygments_lexer": "ipython3",
   "version": "3.7.0"
  },
  "toc": {
   "base_numbering": 1,
   "nav_menu": {},
   "number_sections": true,
   "sideBar": true,
   "skip_h1_title": false,
   "title_cell": "Table of Contents",
   "title_sidebar": "Contents",
   "toc_cell": false,
   "toc_position": {},
   "toc_section_display": true,
   "toc_window_display": false
  },
  "varInspector": {
   "cols": {
    "lenName": 16,
    "lenType": 16,
    "lenVar": 40
   },
   "kernels_config": {
    "python": {
     "delete_cmd_postfix": "",
     "delete_cmd_prefix": "del ",
     "library": "var_list.py",
     "varRefreshCmd": "print(var_dic_list())"
    },
    "r": {
     "delete_cmd_postfix": ") ",
     "delete_cmd_prefix": "rm(",
     "library": "var_list.r",
     "varRefreshCmd": "cat(var_dic_list()) "
    }
   },
   "types_to_exclude": [
    "module",
    "function",
    "builtin_function_or_method",
    "instance",
    "_Feature"
   ],
   "window_display": false
  }
 },
 "nbformat": 4,
 "nbformat_minor": 2
}
