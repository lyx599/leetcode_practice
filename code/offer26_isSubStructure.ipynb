{
 "cells": [
  {
   "cell_type": "markdown",
   "metadata": {},
   "source": [
    "# 剑指 Offer 26 树的子结构"
   ]
  },
  {
   "cell_type": "markdown",
   "metadata": {},
   "source": [
    "思路：\n",
    "- 先序遍历\n",
    "    - 解题分为两步：1，在A中找到B的根节点值，2判断找到的A节点和B是否结构相同\n",
    "    - 在A中找到B的根节点值\n",
    "        - 先序遍历A，看是否存在与B根节点相同的值得节点\n",
    "        - 要完整遍历完A，因为可能存在多个与B根节点相同的节点\n",
    "    - 判断找到的A节点和B是否结构相同\n",
    "        - 同时先序遍历找到的A节点和B，判断他们的结构和节点的值是否相同"
   ]
  },
  {
   "cell_type": "markdown",
   "metadata": {},
   "source": [
    "注意：\n",
    "- 要完整遍历完A，因为可能存在多个与B根节点相同的节点"
   ]
  },
  {
   "cell_type": "markdown",
   "metadata": {
    "ExecuteTime": {
     "end_time": "2020-06-22T13:52:18.195755Z",
     "start_time": "2020-06-22T13:52:18.192747Z"
    }
   },
   "source": [
    "一开始我的想法和这个题解是相同的，但是没有想清楚递归的条件，卡在了递归如何传出找到的节点A来和B判断，同时也担心递归栈溢出"
   ]
  },
  {
   "cell_type": "code",
   "execution_count": 18,
   "metadata": {
    "ExecuteTime": {
     "end_time": "2020-06-22T13:45:55.993269Z",
     "start_time": "2020-06-22T13:45:55.988288Z"
    }
   },
   "outputs": [],
   "source": [
    "# Definition for a binary tree node.\n",
    "class TreeNode:\n",
    "    def __init__(self, x):\n",
    "        self.val = x\n",
    "        self.left = None\n",
    "        self.right = None\n",
    "\n",
    "\n",
    "class Solution:\n",
    "    def isSubStructure(self, A: TreeNode, B: TreeNode) -> bool:\n",
    "        if not A:\n",
    "            return False\n",
    "        if not B:\n",
    "            return False\n",
    "        if A.val == B.val:\n",
    "            if self.subStructure(A, B):\n",
    "                return True\n",
    "        return self.isSubStructure(A.left, B) or self.isSubStructure(A.right, B)\n",
    "\n",
    "    def subStructure(self, A: TreeNode, B: TreeNode):\n",
    "        if not B:\n",
    "            return True\n",
    "        if not A:\n",
    "            return False\n",
    "        if A.val != B.val:\n",
    "            return False\n",
    "        return self.subStructure(A.left, B.left) and self.subStructure(A.right, B.right)\n"
   ]
  },
  {
   "cell_type": "markdown",
   "metadata": {},
   "source": [
    "# 答案"
   ]
  },
  {
   "cell_type": "code",
   "execution_count": 19,
   "metadata": {
    "ExecuteTime": {
     "end_time": "2020-06-22T13:46:08.465535Z",
     "start_time": "2020-06-22T13:46:08.459540Z"
    }
   },
   "outputs": [],
   "source": [
    "# Definition for a binary tree node.\n",
    "# class TreeNode:\n",
    "#     def __init__(self, x):\n",
    "#         self.val = x\n",
    "#         self.left = None\n",
    "#         self.right = None\n",
    "\n",
    "class Solution:\n",
    "    def isSubStructure(self, A: TreeNode, B: TreeNode) -> bool:\n",
    "        if not A:\n",
    "            return False\n",
    "        if not B:\n",
    "            return False\n",
    "        if A.val == B.val:\n",
    "            if self.subStructure(A, B):\n",
    "                return True\n",
    "        return self.isSubStructure(A.left, B) or self.isSubStructure(A.right, B)\n",
    "\n",
    "    def subStructure(self, A: TreeNode, B: TreeNode):\n",
    "        if not B:\n",
    "            return True\n",
    "        if not A:\n",
    "            return False\n",
    "        if A.val != B.val:\n",
    "            return False\n",
    "        return self.subStructure(A.left, B.left) and self.subStructure(A.right, B.right)"
   ]
  }
 ],
 "metadata": {
  "kernelspec": {
   "display_name": "Python 3",
   "language": "python",
   "name": "python3"
  },
  "language_info": {
   "codemirror_mode": {
    "name": "ipython",
    "version": 3
   },
   "file_extension": ".py",
   "mimetype": "text/x-python",
   "name": "python",
   "nbconvert_exporter": "python",
   "pygments_lexer": "ipython3",
   "version": "3.7.0"
  },
  "toc": {
   "base_numbering": 1,
   "nav_menu": {},
   "number_sections": true,
   "sideBar": true,
   "skip_h1_title": false,
   "title_cell": "Table of Contents",
   "title_sidebar": "Contents",
   "toc_cell": false,
   "toc_position": {},
   "toc_section_display": true,
   "toc_window_display": false
  },
  "varInspector": {
   "cols": {
    "lenName": 16,
    "lenType": 16,
    "lenVar": 40
   },
   "kernels_config": {
    "python": {
     "delete_cmd_postfix": "",
     "delete_cmd_prefix": "del ",
     "library": "var_list.py",
     "varRefreshCmd": "print(var_dic_list())"
    },
    "r": {
     "delete_cmd_postfix": ") ",
     "delete_cmd_prefix": "rm(",
     "library": "var_list.r",
     "varRefreshCmd": "cat(var_dic_list()) "
    }
   },
   "types_to_exclude": [
    "module",
    "function",
    "builtin_function_or_method",
    "instance",
    "_Feature"
   ],
   "window_display": false
  }
 },
 "nbformat": 4,
 "nbformat_minor": 2
}
