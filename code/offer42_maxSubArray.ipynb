{
 "cells": [
  {
   "cell_type": "markdown",
   "metadata": {},
   "source": [
    "# 剑指 Offer 42\t连续子数组的最大和  "
   ]
  },
  {
   "cell_type": "markdown",
   "metadata": {},
   "source": [
    "思路：\n",
    "- 动态规划\n",
    "    - 状态定义\n",
    "        - dp[i] 表示以nums[i]结尾的连续子数组的最大和\n",
    "    - 转移方程\n",
    "        - 如果dp[i - 1]< 0 ,则表明是负贡献，此时dp[i-1]+nums[i]不如nums[i]本身，dp[i] = nums[i]\n",
    "        - 如果dp[i - 1]> 0 , dp[i] = dp[i-1] + nums[i]\n",
    "    - 初始状态\n",
    "        - ，dp[0] = nums[0],即以 nums[0] 结尾的连续子数组最大和为nums[0]\n",
    "    - 返回值\n",
    "        - dp列表中的最大值\n",
    "    - 时间复杂度 $O(N)$ ： 线性遍历数组 nums 即可获得结果，使用 $O(N)$ 时间。\n",
    "    - 空间复杂度 \n",
    "        - 如果在原列表上进行修改，省下了dp列表空间，则复杂度 $O(1)$ \n",
    "        - 如果不在原列表上修改，则复杂度 $O(N)$ \n",
    "- 贪心算法\n",
    "    - 如果前面的子数组小于0，则从下一个数开始重新计算子数组的和\n",
    "    - 如果前面的子数组大于0，则加入当前数，并计算数组的最大和，同时更新最大和并记录当前子数组的和\n",
    "    - 时间复杂度 $O(N)$ ： 遍历一次数组\n",
    "    - 空间复杂度 $O(1)$ ： 常数变量"
   ]
  },
  {
   "cell_type": "markdown",
   "metadata": {},
   "source": [
    "注意："
   ]
  },
  {
   "cell_type": "markdown",
   "metadata": {},
   "source": [
    "# 答案"
   ]
  },
  {
   "cell_type": "markdown",
   "metadata": {},
   "source": [
    "## 动态规划"
   ]
  },
  {
   "cell_type": "code",
   "execution_count": 1,
   "metadata": {
    "ExecuteTime": {
     "end_time": "2020-07-09T12:25:15.168637Z",
     "start_time": "2020-07-09T12:25:15.164635Z"
    }
   },
   "outputs": [],
   "source": [
    "class Solution:\n",
    "    def maxSubArray(self, nums: [int]) -> int:\n",
    "        dp = [nums[0]]\n",
    "        for i in range(1, len(nums)):\n",
    "            if dp[i - 1] < 0:\n",
    "                dp.append(nums[i])\n",
    "            else:\n",
    "                dp.append(nums[i] + dp[i - 1])\n",
    "        return max(dp)"
   ]
  },
  {
   "cell_type": "markdown",
   "metadata": {},
   "source": [
    "中途记录最大值，能优化时间，max函数的复杂度也是O(N)"
   ]
  },
  {
   "cell_type": "code",
   "execution_count": 2,
   "metadata": {
    "ExecuteTime": {
     "end_time": "2020-07-09T12:25:15.176637Z",
     "start_time": "2020-07-09T12:25:15.170635Z"
    }
   },
   "outputs": [],
   "source": [
    "class Solution:\n",
    "    def maxSubArray(self, nums: [int]) -> int:\n",
    "        dp = [nums[0]]\n",
    "        max_val = nums[0]\n",
    "        for i in range(1, len(nums)):\n",
    "            if dp[i - 1] < 0:\n",
    "                if nums[i] > max_val:\n",
    "                    max_val = nums[i]\n",
    "                dp.append(nums[i])\n",
    "            else:\n",
    "                val = nums[i] + dp[i - 1]\n",
    "                if val > max_val:\n",
    "                    max_val = val\n",
    "                dp.append(val)\n",
    "        return max_val"
   ]
  },
  {
   "cell_type": "markdown",
   "metadata": {},
   "source": [
    "直接在原列表上进行修改，降低了空间复杂度"
   ]
  },
  {
   "cell_type": "code",
   "execution_count": 3,
   "metadata": {
    "ExecuteTime": {
     "end_time": "2020-07-09T12:25:15.202643Z",
     "start_time": "2020-07-09T12:25:15.198642Z"
    }
   },
   "outputs": [],
   "source": [
    "class Solution:\n",
    "    def maxSubArray(self, nums: [int]) -> int:\n",
    "        max_val = nums[0]\n",
    "        for i in range(1, len(nums)):\n",
    "            if nums[i - 1] < 0:\n",
    "                if nums[i] > max_val:\n",
    "                    max_val = nums[i]\n",
    "            else:\n",
    "                nums[i] = nums[i] + nums[i - 1]\n",
    "                if nums[i] > max_val:\n",
    "                    max_val = nums[i]\n",
    "        return max_val"
   ]
  },
  {
   "cell_type": "markdown",
   "metadata": {},
   "source": [
    "## 贪心算法"
   ]
  },
  {
   "cell_type": "code",
   "execution_count": 4,
   "metadata": {
    "ExecuteTime": {
     "end_time": "2020-07-09T12:25:15.209644Z",
     "start_time": "2020-07-09T12:25:15.203642Z"
    }
   },
   "outputs": [],
   "source": [
    "class Solution:\n",
    "    def maxSubArray(self, nums: [int]) -> int:\n",
    "        max_val = float('-inf')\n",
    "        curmax = 0\n",
    "        for i in range(0, len(nums)):\n",
    "            if curmax < 0:\n",
    "                curmax = nums[i]\n",
    "            else:\n",
    "                curmax = nums[i] + curmax\n",
    "            if curmax > max_val:\n",
    "                max_val = curmax\n",
    "        return max_val"
   ]
  }
 ],
 "metadata": {
  "kernelspec": {
   "display_name": "Python 3",
   "language": "python",
   "name": "python3"
  },
  "language_info": {
   "codemirror_mode": {
    "name": "ipython",
    "version": 3
   },
   "file_extension": ".py",
   "mimetype": "text/x-python",
   "name": "python",
   "nbconvert_exporter": "python",
   "pygments_lexer": "ipython3",
   "version": "3.7.0"
  },
  "toc": {
   "base_numbering": 1,
   "nav_menu": {},
   "number_sections": true,
   "sideBar": true,
   "skip_h1_title": false,
   "title_cell": "Table of Contents",
   "title_sidebar": "Contents",
   "toc_cell": false,
   "toc_position": {},
   "toc_section_display": true,
   "toc_window_display": false
  },
  "varInspector": {
   "cols": {
    "lenName": 16,
    "lenType": 16,
    "lenVar": 40
   },
   "kernels_config": {
    "python": {
     "delete_cmd_postfix": "",
     "delete_cmd_prefix": "del ",
     "library": "var_list.py",
     "varRefreshCmd": "print(var_dic_list())"
    },
    "r": {
     "delete_cmd_postfix": ") ",
     "delete_cmd_prefix": "rm(",
     "library": "var_list.r",
     "varRefreshCmd": "cat(var_dic_list()) "
    }
   },
   "types_to_exclude": [
    "module",
    "function",
    "builtin_function_or_method",
    "instance",
    "_Feature"
   ],
   "window_display": false
  }
 },
 "nbformat": 4,
 "nbformat_minor": 2
}
