{
 "cells": [
  {
   "cell_type": "markdown",
   "metadata": {},
   "source": [
    "# 24两两交换链表中的节点"
   ]
  },
  {
   "cell_type": "markdown",
   "metadata": {},
   "source": [
    "思路：\n",
    "- 自己的思路\n",
    "    - 见下面\n",
    "- 递归\n",
    "    - 从链表的头节点 head 开始递归。每次递归都负责交换一对节点。由 firstNode 和 secondNode 表示要交换的两个节点。\n",
    "    - 下一次递归则是传递的是下一对需要交换的节点。若链表中还有节点，则继续递归。\n",
    "    - 交换了两个节点以后，返回 secondNode，因为它是交换后的新头。\n",
    "    - 在所有节点交换完成以后，我们返回交换后的头，实际上是原始链表的第二个节点。\n",
    "    - 参考https://leetcode-cn.com/problems/swap-nodes-in-pairs/solution/liang-liang-jiao-huan-lian-biao-zhong-de-jie-di-19/\n",
    "- 迭代\n",
    "    - 遍历链表，找到两个交换节点\n",
    "    - 交换两个节点，并使用一个节点记录交换节点前一个节点的前驱\n",
    "    - 更新前驱节点，指向交换后，后面未交换的头结点\n",
    "    - 其实一开始思路是这个，但没有弄清楚其中的连接，下面的解答弄复杂了"
   ]
  },
  {
   "cell_type": "markdown",
   "metadata": {},
   "source": [
    "注意："
   ]
  },
  {
   "cell_type": "markdown",
   "metadata": {},
   "source": [
    "第一次思路：由于是两两交换链表节点，这种一般就是改变节点的指向。因此先设置快慢两个指针，指向两个要交换的节点，由于后面的节点要被交换到前面，再连接到前一个节点，会造成链表断裂，因此设置一个t指针先指向两个交换节点的后面节点。最后对于刚好处理完节点，让最后一个节点指向空（因为此时它的指向是上一个节点），对于还剩一个节点，让交换完的最后节点指向这个节点。"
   ]
  },
  {
   "cell_type": "code",
   "execution_count": 1,
   "metadata": {
    "ExecuteTime": {
     "end_time": "2020-04-25T03:38:06.536289Z",
     "start_time": "2020-04-25T03:38:06.529292Z"
    }
   },
   "outputs": [],
   "source": [
    "# Definition for singly-linked list.\n",
    "class ListNode:\n",
    "    def __init__(self, x):\n",
    "        self.val = x\n",
    "        self.next = None\n",
    "\n",
    "class Solution:\n",
    "    def swapPairs(self, head: ListNode) -> ListNode:\n",
    "\n",
    "        start = ListNode(None)\n",
    "        p = start\n",
    "        t = head\n",
    "        while t and t.next:\n",
    "            #先指向前后要交换的节点和未处理的节点\n",
    "            slow = t\n",
    "            fast = t.next\n",
    "            t = fast.next\n",
    "            \n",
    "            #交换顺序\n",
    "            p.next = fast\n",
    "            p.next.next = slow\n",
    "            p = slow\n",
    "\n",
    "        if t.next: #还剩一个节点\n",
    "            p.next = t.next\n",
    "        else:  #刚好处理完节点\n",
    "            p.next = None\n",
    "\n",
    "        return start.next\n"
   ]
  },
  {
   "cell_type": "markdown",
   "metadata": {},
   "source": [
    "# 答案"
   ]
  },
  {
   "cell_type": "code",
   "execution_count": 4,
   "metadata": {
    "ExecuteTime": {
     "end_time": "2020-04-24T13:26:44.111481Z",
     "start_time": "2020-04-24T13:26:44.104485Z"
    }
   },
   "outputs": [],
   "source": [
    "# Definition for singly-linked list.\n",
    "# class ListNode:\n",
    "#     def __init__(self, x):\n",
    "#         self.val = x\n",
    "#         self.next = None\n",
    "\n",
    "class Solution:\n",
    "    def swapPairs(self, head: ListNode) -> ListNode: \n",
    "        start = ListNode(None)\n",
    "        p = start\n",
    "        t = head\n",
    "        while t and t.next:\n",
    "            slow = t\n",
    "            fast = t.next\n",
    "            t = fast.next\n",
    "            \n",
    "            p.next = fast\n",
    "            p.next.next = slow\n",
    "            p = slow\n",
    "        \n",
    "        if t:\n",
    "            p.next = t\n",
    "        else:\n",
    "            p.next = None\n",
    "        \n",
    "        return start.next"
   ]
  },
  {
   "cell_type": "markdown",
   "metadata": {},
   "source": [
    "## 递归"
   ]
  },
  {
   "cell_type": "markdown",
   "metadata": {},
   "source": [
    "这个递归真的很精彩\n",
    "\n",
    "利用了递归的特点，相当于从链表后面开始交换，便于连接，避免了像迭代要使用一个节点来进行连接。"
   ]
  },
  {
   "cell_type": "code",
   "execution_count": 5,
   "metadata": {
    "ExecuteTime": {
     "end_time": "2020-04-25T05:26:43.249237Z",
     "start_time": "2020-04-25T05:26:43.241242Z"
    }
   },
   "outputs": [],
   "source": [
    "# Definition for singly-linked list.\n",
    "# class ListNode:\n",
    "#     def __init__(self, x):\n",
    "#         self.val = x\n",
    "#         self.next = None\n",
    "\n",
    "class Solution:\n",
    "    def swapPairs(self, head: ListNode) -> ListNode: \n",
    "        if not head or not head.next:  #递归出口 当前没有节点或者只有一个节点，就不需要交换了\n",
    "            return head\n",
    "\n",
    "        firstnode = head\n",
    "        secondnode = head.next\n",
    "\n",
    "        firstnode.next = self.swapPairs(secondnode.next)  #连接后面完成交换的子链表\n",
    "        secondnode.next = firstnode\n",
    "\n",
    "        return secondnode"
   ]
  },
  {
   "cell_type": "markdown",
   "metadata": {},
   "source": [
    "## 迭代"
   ]
  },
  {
   "cell_type": "code",
   "execution_count": 4,
   "metadata": {
    "ExecuteTime": {
     "end_time": "2020-04-25T05:11:11.899557Z",
     "start_time": "2020-04-25T05:11:11.894559Z"
    }
   },
   "outputs": [],
   "source": [
    "# Definition for singly-linked list.\n",
    "# class ListNode:\n",
    "#     def __init__(self, x):\n",
    "#         self.val = x\n",
    "#         self.next = None\n",
    "\n",
    "class Solution:\n",
    "    def swapPairs(self, head: ListNode) -> ListNode: \n",
    "        start = ListNode(None)\n",
    "        start.next = head\n",
    "\n",
    "        preNode = start\n",
    "\n",
    "        while head and head.next:\n",
    "\n",
    "            firstnode = head\n",
    "            secondnode = head.next\n",
    "            #交换节点\n",
    "            firstnode.next = secondnode.next\n",
    "            secondnode.next = firstnode\n",
    "\n",
    "            preNode.next = secondnode #连接两个交换节点的头结点\n",
    "            preNode = firstnode #移动到交换完的两个节点的后一个节点，等待连接下一个交换的头结点\n",
    "            head = firstnode.next\n",
    "\n",
    "        return start.next"
   ]
  }
 ],
 "metadata": {
  "hide_input": false,
  "kernelspec": {
   "display_name": "Python 3",
   "language": "python",
   "name": "python3"
  },
  "language_info": {
   "codemirror_mode": {
    "name": "ipython",
    "version": 3
   },
   "file_extension": ".py",
   "mimetype": "text/x-python",
   "name": "python",
   "nbconvert_exporter": "python",
   "pygments_lexer": "ipython3",
   "version": "3.7.0"
  },
  "toc": {
   "base_numbering": 1,
   "nav_menu": {},
   "number_sections": true,
   "sideBar": true,
   "skip_h1_title": false,
   "title_cell": "Table of Contents",
   "title_sidebar": "Contents",
   "toc_cell": false,
   "toc_position": {},
   "toc_section_display": true,
   "toc_window_display": false
  },
  "varInspector": {
   "cols": {
    "lenName": 16,
    "lenType": 16,
    "lenVar": 40
   },
   "kernels_config": {
    "python": {
     "delete_cmd_postfix": "",
     "delete_cmd_prefix": "del ",
     "library": "var_list.py",
     "varRefreshCmd": "print(var_dic_list())"
    },
    "r": {
     "delete_cmd_postfix": ") ",
     "delete_cmd_prefix": "rm(",
     "library": "var_list.r",
     "varRefreshCmd": "cat(var_dic_list()) "
    }
   },
   "types_to_exclude": [
    "module",
    "function",
    "builtin_function_or_method",
    "instance",
    "_Feature"
   ],
   "window_display": false
  }
 },
 "nbformat": 4,
 "nbformat_minor": 2
}
