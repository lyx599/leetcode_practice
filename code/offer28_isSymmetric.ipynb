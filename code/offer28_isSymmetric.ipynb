{
 "cells": [
  {
   "cell_type": "markdown",
   "metadata": {},
   "source": [
    "# \t剑指 Offer 28\t对称的二叉树  "
   ]
  },
  {
   "cell_type": "markdown",
   "metadata": {},
   "source": [
    "思路：\n",
    "- 自己的方法\n",
    "    - 生成二叉树的镜像，得到镜像头节点mirror_root\n",
    "    - 同时递归先序遍历原二叉树和镜像二叉树，判断是否相同\n",
    "    - 由于生成镜像会改变原数的结构，所以先深复制原二叉树\n",
    "    - 时间复杂度 $O(N+N+N)$ ：复制，镜像，遍历每个操作时间都是 $O(N)$\n",
    "    - 空间复杂度 $O(N+N)$ ： 最差情况下（当二叉树退化为链表），递归时系统需使用 $O(N+N)$ 大小的栈空间\n",
    "- 递归\n",
    "    - 对于树中任意两个对称节点 L 和 R ，一定有：\n",
    "        - L.val = R.val ：即此两对称节点值相等。\n",
    "        - L.left.val = R.right.val ：即 L 的 左子节点 和 R 的 右子节点 对称；\n",
    "        - L.right.val = R.left.val ：即 L 的 右子节点 和 R 的 左子节点 对称。\n",
    "    - 时间复杂度 $O(N)$ ： 其中 N 为二叉树的节点数量，每次执行 recur() 可以判断一对节点是否对称，因此最多调用 N/2 次 recur() 方法。\n",
    "    - 空间复杂度 $O(N)$ ： 最差情况下，二叉树退化为链表，系统使用 $O(N)$ 大小的栈空间。\n",
    "- 迭代\n",
    "    - 方法类似于递归，在加入队列时将对称的两个点依次加入进队列\n",
    "    - 时间复杂度 $O(N)$ ： \n",
    "    - 空间复杂度 $O(N)$ ："
   ]
  },
  {
   "cell_type": "markdown",
   "metadata": {},
   "source": [
    "注意：\n",
    "- 树为空时，返回True"
   ]
  },
  {
   "cell_type": "markdown",
   "metadata": {},
   "source": [
    "第一次想到了树中节点是对称的，但是没有理清递归的过程，没有找到起始节点是2个对称节点，就使用了下面的笨办法"
   ]
  },
  {
   "cell_type": "code",
   "execution_count": 1,
   "metadata": {
    "ExecuteTime": {
     "end_time": "2020-06-23T07:40:36.377507Z",
     "start_time": "2020-06-23T07:40:36.369505Z"
    }
   },
   "outputs": [],
   "source": [
    "# Definition for a binary tree node.\n",
    "class TreeNode:\n",
    "    def __init__(self, x):\n",
    "        self.val = x\n",
    "        self.left = None\n",
    "        self.right = None\n",
    "\n",
    "\n",
    "class Solution:\n",
    "    def isSymmetric(self, root: TreeNode) -> bool:\n",
    "        import copy\n",
    "        if not root:\n",
    "            return False\n",
    "        root_copy = copy.deepcopy(root)\n",
    "        mirror_root = self.mirror(root)\n",
    "        return self.preOrder(root_copy, mirror_root)\n",
    "\n",
    "    def mirror(self, root: TreeNode):\n",
    "        if not root:\n",
    "            return None\n",
    "        root.left, root.right = root.right, root.left\n",
    "        self.mirror(root.left)\n",
    "        self.mirror(root.right)\n",
    "        return root\n",
    "\n",
    "    def preOrder(self, a_root, b_root):\n",
    "        if not a_root and not b_root:\n",
    "            return True\n",
    "        if a_root and not b_root:\n",
    "            return False\n",
    "        if not a_root and b_root:\n",
    "            return False\n",
    "        if a_root.val == b_root.val:\n",
    "            return self.preOrder(a_root.left, b_root.left) and self.preOrder(a_root.right, b_root.right)\n",
    "        else:\n",
    "            return False\n"
   ]
  },
  {
   "cell_type": "markdown",
   "metadata": {},
   "source": [
    "# 答案"
   ]
  },
  {
   "cell_type": "markdown",
   "metadata": {},
   "source": [
    "## 自己的方法"
   ]
  },
  {
   "cell_type": "code",
   "execution_count": 2,
   "metadata": {
    "ExecuteTime": {
     "end_time": "2020-06-23T07:40:36.384511Z",
     "start_time": "2020-06-23T07:40:36.378507Z"
    }
   },
   "outputs": [],
   "source": [
    "# Definition for a binary tree node.\n",
    "# class TreeNode:\n",
    "#     def __init__(self, x):\n",
    "#         self.val = x\n",
    "#         self.left = None\n",
    "#         self.right = None\n",
    "\n",
    "class Solution:\n",
    "    def isSymmetric(self, root: TreeNode) -> bool:\n",
    "        import copy\n",
    "        if not root:\n",
    "            return True\n",
    "        root_copy = copy.deepcopy(root)\n",
    "        mirror_root = self.mirror(root)\n",
    "        return self.preOrder(root_copy, mirror_root)\n",
    "\n",
    "    def mirror(self, root: TreeNode):\n",
    "        if not root:\n",
    "            return None\n",
    "        root.left, root.right = root.right, root.left\n",
    "        self.mirror(root.left)\n",
    "        self.mirror(root.right)\n",
    "        return root\n",
    "\n",
    "    def preOrder(self, a_root, b_root):\n",
    "        if not a_root and not b_root:\n",
    "            return True\n",
    "        if a_root and not b_root:\n",
    "            return False\n",
    "        if not a_root and b_root:\n",
    "            return False\n",
    "        if a_root.val == b_root.val:\n",
    "            return self.preOrder(a_root.left, b_root.left) and self.preOrder(a_root.right, b_root.right)\n",
    "        else:\n",
    "            return False"
   ]
  },
  {
   "cell_type": "markdown",
   "metadata": {},
   "source": [
    "## 递归"
   ]
  },
  {
   "cell_type": "code",
   "execution_count": 3,
   "metadata": {
    "ExecuteTime": {
     "end_time": "2020-06-23T07:40:36.389510Z",
     "start_time": "2020-06-23T07:40:36.386509Z"
    }
   },
   "outputs": [],
   "source": [
    "# Definition for a binary tree node.\n",
    "# class TreeNode:\n",
    "#     def __init__(self, x):\n",
    "#         self.val = x\n",
    "#         self.left = None\n",
    "#         self.right = None\n",
    "\n",
    "class Solution:\n",
    "    def isSymmetric(self, root: TreeNode) -> bool:\n",
    "        if not root:\n",
    "            return True\n",
    "        return self.recur(root.left,root.right)\n",
    "\n",
    "    def recur(self, l, r):\n",
    "        if not l and not r:\n",
    "            return True\n",
    "        if not l or not r or l.val != r.val:\n",
    "            return False\n",
    "        return self.recur(l.left, r.right) and self.recur(l.right, r.left)"
   ]
  },
  {
   "cell_type": "markdown",
   "metadata": {},
   "source": [
    "## 迭代"
   ]
  },
  {
   "cell_type": "code",
   "execution_count": 4,
   "metadata": {
    "ExecuteTime": {
     "end_time": "2020-06-23T07:40:36.395511Z",
     "start_time": "2020-06-23T07:40:36.391512Z"
    }
   },
   "outputs": [],
   "source": [
    "# Definition for a binary tree node.\n",
    "# class TreeNode:\n",
    "#     def __init__(self, x):\n",
    "#         self.val = x\n",
    "#         self.left = None\n",
    "#         self.right = None\n",
    "\n",
    "class Solution:\n",
    "    def isSymmetric(self, root: TreeNode) -> bool:\n",
    "        if not root:\n",
    "            return True\n",
    "        queue = [root.left, root.right]\n",
    "        while queue:\n",
    "            l = queue.pop(0)\n",
    "            r = queue.pop(0)\n",
    "            if not l and not r:\n",
    "                continue\n",
    "            if not l or not r:\n",
    "                return False\n",
    "            if l.val != r.val:\n",
    "                return False\n",
    "            queue.append(l.left)\n",
    "            queue.append(r.right)\n",
    "            queue.append(l.right)\n",
    "            queue.append(r.left)\n",
    "        return True"
   ]
  }
 ],
 "metadata": {
  "kernelspec": {
   "display_name": "Python 3",
   "language": "python",
   "name": "python3"
  },
  "language_info": {
   "codemirror_mode": {
    "name": "ipython",
    "version": 3
   },
   "file_extension": ".py",
   "mimetype": "text/x-python",
   "name": "python",
   "nbconvert_exporter": "python",
   "pygments_lexer": "ipython3",
   "version": "3.7.0"
  },
  "toc": {
   "base_numbering": 1,
   "nav_menu": {},
   "number_sections": true,
   "sideBar": true,
   "skip_h1_title": false,
   "title_cell": "Table of Contents",
   "title_sidebar": "Contents",
   "toc_cell": false,
   "toc_position": {},
   "toc_section_display": true,
   "toc_window_display": false
  },
  "varInspector": {
   "cols": {
    "lenName": 16,
    "lenType": 16,
    "lenVar": 40
   },
   "kernels_config": {
    "python": {
     "delete_cmd_postfix": "",
     "delete_cmd_prefix": "del ",
     "library": "var_list.py",
     "varRefreshCmd": "print(var_dic_list())"
    },
    "r": {
     "delete_cmd_postfix": ") ",
     "delete_cmd_prefix": "rm(",
     "library": "var_list.r",
     "varRefreshCmd": "cat(var_dic_list()) "
    }
   },
   "types_to_exclude": [
    "module",
    "function",
    "builtin_function_or_method",
    "instance",
    "_Feature"
   ],
   "window_display": false
  }
 },
 "nbformat": 4,
 "nbformat_minor": 2
}
