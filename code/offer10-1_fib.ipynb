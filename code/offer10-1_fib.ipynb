{
 "cells": [
  {
   "cell_type": "markdown",
   "metadata": {},
   "source": [
    "# 面试题10- I\t斐波那契数列  "
   ]
  },
  {
   "cell_type": "markdown",
   "metadata": {},
   "source": [
    "思路：\n",
    "- 递归法\n",
    "    - 利用斐波那契数列性质公式  $F(N)=F(N-1)+F(N-2)$\n",
    "    - 缺点：大量重复的递归计算，例如 f(n) 和 f(n−1) 两者向下递归需要 各自计算 f(n−2) 的值\n",
    "    - 时间复杂度  $O(n^2)$\n",
    "    - 超时\n",
    "- 迭代法\n",
    "    - 利用斐波那契数列性质公式  $F(N)=F(N-1)+F(N-2)$\n",
    "    - 时间复杂度  $O(n)$\n",
    "    - 空间复杂度  $O(n)$\n",
    "- 矩阵快速幂\n",
    "    - $[\\boldsymbol{f}(\\boldsymbol{n}) \\quad \\boldsymbol{f}(\\boldsymbol{n}-\\mathbf{1})]=\\left[\\begin{array}{ll}\\mathbf{1} & \\mathbf{0}\\end{array}\\right] \\cdot\\left[\\begin{array}{ll}\\mathbf{1} & \\mathbf{1} \\\\ \\mathbf{1} & \\mathbf{0}\\end{array}\\right]^{\\boldsymbol{n}-\\mathbf{1}}$\n",
    "    - 求幂可以采用快速幂解法把时间复杂度降为logn\n",
    "    - 时间复杂度  $O(logn)$"
   ]
  },
  {
   "cell_type": "markdown",
   "metadata": {},
   "source": [
    "注意：\n",
    "- 由于 Python 中整形数字的大小限制 取决计算机的内存 （可理解为无限大），因此可不考虑大数越界问题\n",
    "- 如果考虑大数越界问题，可对每次结果都取余"
   ]
  },
  {
   "cell_type": "markdown",
   "metadata": {},
   "source": [
    "第一次思路："
   ]
  },
  {
   "cell_type": "code",
   "execution_count": null,
   "metadata": {
    "ExecuteTime": {
     "end_time": "2020-06-08T07:42:03.447403Z",
     "start_time": "2020-06-08T07:42:03.410Z"
    }
   },
   "outputs": [],
   "source": [
    "class Solution:\n",
    "    def fib(self, n: int) -> int:\n",
    "\n",
    "        if n == 0:\n",
    "            return 0\n",
    "        if n == 1:\n",
    "            return 1\n",
    "\n",
    "        F = [0, 1]\n",
    "        for i in range(2, n+1):\n",
    "            F.append(F[i-1]+F[i-2])\n",
    "\n",
    "        ans = F[-1] % 1000000007\n",
    "        return ans\n",
    "\n",
    "s = Solution()\n",
    "print(s.fib(3))\n"
   ]
  },
  {
   "cell_type": "markdown",
   "metadata": {},
   "source": [
    "# 答案"
   ]
  },
  {
   "cell_type": "markdown",
   "metadata": {},
   "source": [
    "## 递归法 -- 超时"
   ]
  },
  {
   "cell_type": "code",
   "execution_count": null,
   "metadata": {
    "ExecuteTime": {
     "end_time": "2020-06-08T07:42:03.449403Z",
     "start_time": "2020-06-08T07:42:03.413Z"
    }
   },
   "outputs": [],
   "source": [
    "class Solution:\n",
    "    def fib(self, n: int) -> int:\n",
    "\n",
    "        ans = self.fib_recursion(n)\n",
    "\n",
    "        ans = ans % 1000000007\n",
    "        return ans\n",
    "\n",
    "    def fib_recursion(self,n):\n",
    "        if n == 0:\n",
    "            return 0\n",
    "        if n == 1:\n",
    "            return 1\n",
    "\n",
    "        return self.fib(n-1) + self.fib(n-2)"
   ]
  },
  {
   "cell_type": "markdown",
   "metadata": {},
   "source": [
    "## 递归记忆法"
   ]
  },
  {
   "cell_type": "code",
   "execution_count": null,
   "metadata": {
    "ExecuteTime": {
     "end_time": "2020-06-08T07:42:03.450404Z",
     "start_time": "2020-06-08T07:42:03.416Z"
    }
   },
   "outputs": [],
   "source": [
    "class Solution:\n",
    "    def fib(self, n: int) -> int:\n",
    "        self.hashmap = {}\n",
    "        self.hashmap[0]=0\n",
    "        self.hashmap[1]=1\n",
    "        self.mod = 10**9 + 7\n",
    "        def helper(n):\n",
    "            if n<2:\n",
    "                return n\n",
    "            if n in self.hashmap:\n",
    "                return self.hashmap[n]\n",
    "            else:\n",
    "                result = helper(n-1)+helper(n-2)\n",
    "                self.hashmap[n]=result\n",
    "                return result\n",
    "        return helper(n)%self.mod\n",
    "\n",
    "# 作者：zxy-50\n",
    "# 链接：https://leetcode-cn.com/problems/fei-bo-na-qi-shu-lie-lcof/solution/python3ji-yi-xing-di-gui-by-zxy-50/\n",
    "# 来源：力扣（LeetCode）\n",
    "# 著作权归作者所有。商业转载请联系作者获得授权，非商业转载请注明出处。"
   ]
  },
  {
   "cell_type": "markdown",
   "metadata": {
    "ExecuteTime": {
     "end_time": "2020-06-08T03:03:26.077366Z",
     "start_time": "2020-06-08T03:03:26.074364Z"
    }
   },
   "source": [
    "## 迭代法"
   ]
  },
  {
   "cell_type": "code",
   "execution_count": null,
   "metadata": {
    "ExecuteTime": {
     "end_time": "2020-06-08T07:42:03.450404Z",
     "start_time": "2020-06-08T07:42:03.418Z"
    }
   },
   "outputs": [],
   "source": [
    "class Solution:\n",
    "    def fib(self, n: int) -> int:\n",
    "        if n == 0:\n",
    "            return 0\n",
    "        if n == 1:\n",
    "            return 1\n",
    "\n",
    "        F = [0, 1]\n",
    "        for i in range(2, n+1):\n",
    "            F.append(F[i-1]+F[i-2])\n",
    "\n",
    "        ans = F[-1] % 1000000007\n",
    "        return ans"
   ]
  },
  {
   "cell_type": "markdown",
   "metadata": {},
   "source": [
    "## 迭代法改进版"
   ]
  },
  {
   "cell_type": "markdown",
   "metadata": {},
   "source": [
    "空间复杂度$O(1)$"
   ]
  },
  {
   "cell_type": "code",
   "execution_count": null,
   "metadata": {
    "ExecuteTime": {
     "end_time": "2020-06-08T07:42:03.451404Z",
     "start_time": "2020-06-08T07:42:03.420Z"
    }
   },
   "outputs": [],
   "source": [
    "class Solution:\n",
    "    def fib(self, n: int) -> int:\n",
    "\n",
    "        if n == 0:\n",
    "            return 0\n",
    "        if n == 1:\n",
    "            return 1\n",
    "\n",
    "        first_num = 0\n",
    "        second_num = 1\n",
    "        for i in range(2, n+1):\n",
    "            ans = first_num + second_num\n",
    "            first_num = second_num\n",
    "            second_num = ans\n",
    "\n",
    "        ans = ans % 1000000007\n",
    "        return ans"
   ]
  }
 ],
 "metadata": {
  "kernelspec": {
   "display_name": "Python 3",
   "language": "python",
   "name": "python3"
  },
  "language_info": {
   "codemirror_mode": {
    "name": "ipython",
    "version": 3
   },
   "file_extension": ".py",
   "mimetype": "text/x-python",
   "name": "python",
   "nbconvert_exporter": "python",
   "pygments_lexer": "ipython3",
   "version": "3.7.0"
  },
  "toc": {
   "base_numbering": 1,
   "nav_menu": {},
   "number_sections": true,
   "sideBar": true,
   "skip_h1_title": false,
   "title_cell": "Table of Contents",
   "title_sidebar": "Contents",
   "toc_cell": false,
   "toc_position": {},
   "toc_section_display": true,
   "toc_window_display": false
  },
  "varInspector": {
   "cols": {
    "lenName": 16,
    "lenType": 16,
    "lenVar": 40
   },
   "kernels_config": {
    "python": {
     "delete_cmd_postfix": "",
     "delete_cmd_prefix": "del ",
     "library": "var_list.py",
     "varRefreshCmd": "print(var_dic_list())"
    },
    "r": {
     "delete_cmd_postfix": ") ",
     "delete_cmd_prefix": "rm(",
     "library": "var_list.r",
     "varRefreshCmd": "cat(var_dic_list()) "
    }
   },
   "types_to_exclude": [
    "module",
    "function",
    "builtin_function_or_method",
    "instance",
    "_Feature"
   ],
   "window_display": false
  }
 },
 "nbformat": 4,
 "nbformat_minor": 2
}
