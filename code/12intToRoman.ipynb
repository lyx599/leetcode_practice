{
 "cells": [
  {
   "cell_type": "markdown",
   "metadata": {},
   "source": [
    "# 整数转罗马数字"
   ]
  },
  {
   "cell_type": "markdown",
   "metadata": {},
   "source": [
    "思路：\n",
    "- 构造最小单元\n",
    "    - 每个数字的构建规则相同，通过最小单元来构建数字，位数不同使用的字母不同\n",
    "- 贪心算法\n",
    "    - 将所有最小单元数字的表示列出来\n",
    "    - 罗马数字尽量用最少的字符来表达数字，因此我们每次尽量使用最大的数来表示"
   ]
  },
  {
   "cell_type": "markdown",
   "metadata": {},
   "source": [
    "注意："
   ]
  },
  {
   "cell_type": "markdown",
   "metadata": {},
   "source": [
    "自己第一次思路：通过最小单元来构建数字，每个数字的构建规则相同，只是位数不同使用的字母不同。\n",
    "\n",
    "因此构建好数字规则，从个位开始向上处理，调用对应位数上的字母，最后将答案翻转得到正确答案\n",
    "\n",
    "再提交时显示错误，输入3 输出\"\"，但在本地运行是正确答案，未找到原因.\n",
    "\n",
    "找到原因为提交时应该选择python3，以前一直提交的是python"
   ]
  },
  {
   "cell_type": "code",
   "execution_count": 6,
   "metadata": {
    "ExecuteTime": {
     "end_time": "2020-04-16T03:03:40.304203Z",
     "start_time": "2020-04-16T03:03:40.294210Z"
    }
   },
   "outputs": [
    {
     "name": "stdout",
     "output_type": "stream",
     "text": [
      "III\n"
     ]
    }
   ],
   "source": [
    "class Solution(object):\n",
    "    def intToRoman(num):\n",
    "        \"\"\"\n",
    "        :type num: int\n",
    "        :rtype: str\n",
    "        \"\"\"\n",
    "        roman = [['I','V','X'],\n",
    "                 ['X','L','C'],\n",
    "                 ['C','D','M'],\n",
    "                 ['M']]   #题目只要求3999以内的\n",
    "        flag = 0  #位数标识\n",
    "        ans = []\n",
    "\n",
    "        while(num / 10 != 0):\n",
    "\n",
    "            number = num % 10\n",
    "            if number == 0:  #对于数字0直接跳过\n",
    "                num = num // 10\n",
    "                flag += 1\n",
    "                continue;\n",
    "            elif number < 4:\n",
    "                ans.append(roman[flag][0] * number)\n",
    "            elif number == 4:\n",
    "                ans.append(roman[flag][0] +roman[flag][1])\n",
    "            elif number < 9:\n",
    "                ans.append(roman[flag][1] + roman[flag][0] * (number-5))\n",
    "            else:\n",
    "                ans.append(roman[flag][0] +roman[flag][2])\n",
    "\n",
    "            num = num // 10\n",
    "            flag += 1\n",
    "        return \"\".join(ans[::-1]) #因为从个位数开始存入因此需要翻转\n",
    "\n",
    "\n",
    "if __name__ == '__main__':\n",
    "    print(Solution.intToRoman(3))"
   ]
  },
  {
   "cell_type": "markdown",
   "metadata": {
    "ExecuteTime": {
     "end_time": "2020-04-16T02:38:26.741933Z",
     "start_time": "2020-04-16T02:38:26.727942Z"
    }
   },
   "source": [
    "# 答案"
   ]
  },
  {
   "cell_type": "markdown",
   "metadata": {},
   "source": [
    "## 自己的解"
   ]
  },
  {
   "cell_type": "code",
   "execution_count": 2,
   "metadata": {
    "ExecuteTime": {
     "end_time": "2020-04-16T02:43:12.776224Z",
     "start_time": "2020-04-16T02:43:12.767229Z"
    }
   },
   "outputs": [],
   "source": [
    "class Solution:\n",
    "    def intToRoman(self, num: int) -> str:\n",
    "        roman = [['I','V','X'],\n",
    "                 ['X','L','C'],\n",
    "                 ['C','D','M'],\n",
    "                 ['M']]   #题目只要求3999以内的\n",
    "        flag = 0  #位数标识\n",
    "        ans = []\n",
    "\n",
    "        while(num / 10 != 0):\n",
    "\n",
    "            number = num % 10\n",
    "            if number == 0:  #对于数字0直接跳过\n",
    "                num = num // 10\n",
    "                flag += 1\n",
    "                continue;\n",
    "            elif number < 4:\n",
    "                ans.append(roman[flag][0] * number)\n",
    "            elif number == 4:\n",
    "                ans.append(roman[flag][0] +roman[flag][1])\n",
    "            elif number < 9:\n",
    "                ans.append(roman[flag][1] + roman[flag][0] * (number-5))\n",
    "            else:\n",
    "                ans.append(roman[flag][0] +roman[flag][2])\n",
    "\n",
    "            num = num // 10\n",
    "            flag += 1\n",
    "        return \"\".join(ans[::-1]) #因为从个位数开始存入因此需要翻转"
   ]
  },
  {
   "cell_type": "markdown",
   "metadata": {},
   "source": [
    "## 贪心算法"
   ]
  },
  {
   "cell_type": "code",
   "execution_count": 4,
   "metadata": {
    "ExecuteTime": {
     "end_time": "2020-04-16T03:00:36.085019Z",
     "start_time": "2020-04-16T03:00:36.078021Z"
    }
   },
   "outputs": [],
   "source": [
    "class Solution:\n",
    "    def intToRoman(self, num: int) -> str:\n",
    "\n",
    "        hashmap = {1000: 'M', 900: 'CM', 500: 'D', 400: 'CD', 100: 'C', 90: 'XC',\n",
    "                   50: 'L', 40: 'XL', 10: 'X', 9: 'IX',5: 'V', 4: 'IV', 1: 'I'}\n",
    "        ans = \"\"\n",
    "\n",
    "        for key in hashmap:\n",
    "            if num // key != 0:\n",
    "                count = num // key\n",
    "                ans += hashmap[key] * count\n",
    "                num = num % key\n",
    "\n",
    "        return ans"
   ]
  },
  {
   "cell_type": "markdown",
   "metadata": {},
   "source": [
    "## 暴力法"
   ]
  },
  {
   "cell_type": "markdown",
   "metadata": {},
   "source": [
    "将所有组合列出来，再用这些组合对数字进行分解。\n",
    "\n",
    "用空间去换取时间，但是对于大范围数字不适用"
   ]
  },
  {
   "cell_type": "code",
   "execution_count": 5,
   "metadata": {
    "ExecuteTime": {
     "end_time": "2020-04-16T03:03:34.542428Z",
     "start_time": "2020-04-16T03:03:34.535432Z"
    }
   },
   "outputs": [],
   "source": [
    "class Solution:\n",
    "    def intToRoman(self, num: int) -> str:\n",
    "        M = [\"\", \"M\", \"MM\", \"MMM\"] # 1000，2000，3000\n",
    "        C = [\"\", \"C\", \"CC\", \"CCC\", \"CD\", \"D\", \"DC\", \"DCC\", \"DCCC\", \"CM\"] # 100~900\n",
    "        X = [\"\", \"X\", \"XX\", \"XXX\", \"XL\", \"L\", \"LX\", \"LXX\", \"LXXX\", \"XC\"] # 10~90\n",
    "        I = [\"\", \"I\", \"II\", \"III\", \"IV\", \"V\", \"VI\", \"VII\", \"VIII\", \"IX\"] # 1~9\n",
    "        return M[num//1000] + C[(num%1000)//100] + X[(num%100)//10] + I[num%10]"
   ]
  }
 ],
 "metadata": {
  "hide_input": false,
  "kernelspec": {
   "display_name": "Python 3",
   "language": "python",
   "name": "python3"
  },
  "language_info": {
   "codemirror_mode": {
    "name": "ipython",
    "version": 3
   },
   "file_extension": ".py",
   "mimetype": "text/x-python",
   "name": "python",
   "nbconvert_exporter": "python",
   "pygments_lexer": "ipython3",
   "version": "3.7.0"
  },
  "toc": {
   "base_numbering": 1,
   "nav_menu": {},
   "number_sections": true,
   "sideBar": true,
   "skip_h1_title": false,
   "title_cell": "Table of Contents",
   "title_sidebar": "Contents",
   "toc_cell": false,
   "toc_position": {},
   "toc_section_display": true,
   "toc_window_display": false
  },
  "varInspector": {
   "cols": {
    "lenName": 16,
    "lenType": 16,
    "lenVar": 40
   },
   "kernels_config": {
    "python": {
     "delete_cmd_postfix": "",
     "delete_cmd_prefix": "del ",
     "library": "var_list.py",
     "varRefreshCmd": "print(var_dic_list())"
    },
    "r": {
     "delete_cmd_postfix": ") ",
     "delete_cmd_prefix": "rm(",
     "library": "var_list.r",
     "varRefreshCmd": "cat(var_dic_list()) "
    }
   },
   "types_to_exclude": [
    "module",
    "function",
    "builtin_function_or_method",
    "instance",
    "_Feature"
   ],
   "window_display": false
  }
 },
 "nbformat": 4,
 "nbformat_minor": 2
}
