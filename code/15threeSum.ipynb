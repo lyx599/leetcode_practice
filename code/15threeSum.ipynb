{
 "cells": [
  {
   "cell_type": "markdown",
   "metadata": {},
   "source": [
    "# 三数之和"
   ]
  },
  {
   "cell_type": "markdown",
   "metadata": {},
   "source": [
    "思路：\n",
    "- 暴力法\n",
    "    - 暴力遍历所有组合，再进行判断是否和为0\n",
    "- 排序 + 双指针\n",
    "    - 先对数组进行排序\n",
    "    - 跳过正数判断--因为对数组排过序，正数后面相加必不为0\n",
    "    - 跳过重复的数值，去重\n",
    "    - 然后从小到大依次对数字进行判断，用双指针指向当前数字的后一位和数组的最后一位\n",
    "        - 当三数之和大于0，右指针向左移\n",
    "        - 当三数之和小于0，左指针向右移\n",
    "        - 当三数之和等于0，记录当前答案，并对两个指针的下一位进行判重，避免重复答案如[-2,0,0,2,2]，判重后左右指针各向下一位移动\n",
    "    - 参考https://github.com/grandyang/leetcode/issues/15"
   ]
  },
  {
   "cell_type": "markdown",
   "metadata": {},
   "source": [
    "注意："
   ]
  },
  {
   "cell_type": "markdown",
   "metadata": {},
   "source": [
    "第一次思路：暴力遍历所有组合，再进行判断是否和为0。对得到的组合进行排序，再用set进行去重。\n",
    "\n",
    "对于大数据，果断超时\n",
    "\n",
    "有两个点是嵌套列表的排序和去重"
   ]
  },
  {
   "cell_type": "code",
   "execution_count": 2,
   "metadata": {
    "ExecuteTime": {
     "end_time": "2020-04-18T03:58:32.298124Z",
     "start_time": "2020-04-18T03:58:32.289128Z"
    }
   },
   "outputs": [
    {
     "name": "stdout",
     "output_type": "stream",
     "text": [
      "[[-1, -1, 2], [-1, 0, 1]]\n"
     ]
    }
   ],
   "source": [
    "class Solution:\n",
    "    def threeSum(nums:[]) ->[[]]:\n",
    "\n",
    "        nums_len = len(nums)\n",
    "        res = []\n",
    "        ans = []\n",
    "\n",
    "        for i in range(nums_len):\n",
    "            for j in range(i+1,nums_len):\n",
    "                for k in range(j+1,nums_len):\n",
    "                    if nums[i] + nums[j] + nums[k] == 0:\n",
    "                        res.append([nums[i],nums[j],nums[k]])\n",
    "        # ans = [t.sort() for t in ans]\n",
    "        for t in res:\n",
    "            ans.append(sorted(t))\n",
    "\n",
    "        ans = [list(t) for t in set(tuple(_) for _ in ans)]\n",
    "        return ans\n",
    "\n",
    "\n",
    "\n",
    "\n",
    "\n",
    "if __name__ == '__main__':\n",
    "    print(Solution.threeSum([-1, 0, 1, 2, -1, -4]))"
   ]
  },
  {
   "cell_type": "markdown",
   "metadata": {},
   "source": [
    "# 答案"
   ]
  },
  {
   "cell_type": "markdown",
   "metadata": {},
   "source": [
    "## 排序+双指针"
   ]
  },
  {
   "cell_type": "code",
   "execution_count": 1,
   "metadata": {
    "ExecuteTime": {
     "end_time": "2020-04-19T03:27:42.234267Z",
     "start_time": "2020-04-19T03:27:42.225272Z"
    }
   },
   "outputs": [],
   "source": [
    "class Solution:\n",
    "    def threeSum(self, nums):\n",
    "        nums_len = len(nums)\n",
    "        res = []\n",
    "        ans = []\n",
    "\n",
    "        nums.sort()\n",
    "\n",
    "        for i in range(nums_len):\n",
    "            if nums[i] > 0: #正数后不再有和为0\n",
    "                break\n",
    "            if i != 0 and nums[i-1] == nums[i]: #去掉重复判断的数字\n",
    "                continue\n",
    "            left = i + 1\n",
    "            right = nums_len - 1\n",
    "            while left < right:\n",
    "                if nums[i] + nums[left] + nums[right] > 0:\n",
    "                    right -= 1\n",
    "                elif nums[i] + nums[left] + nums[right] < 0:\n",
    "                    left += 1\n",
    "                else:\n",
    "                    ans.append([nums[i], nums[left], nums[right]])\n",
    "                    while left < right and nums[left] == nums[left+1]:\n",
    "                        left += 1\n",
    "                    while left < right and nums[right] == nums[right-1]:\n",
    "                        right -= 1\n",
    "                    left += 1\n",
    "                    right -= 1\n",
    "\n",
    "\n",
    "        return ans"
   ]
  }
 ],
 "metadata": {
  "hide_input": false,
  "kernelspec": {
   "display_name": "Python 3",
   "language": "python",
   "name": "python3"
  },
  "language_info": {
   "codemirror_mode": {
    "name": "ipython",
    "version": 3
   },
   "file_extension": ".py",
   "mimetype": "text/x-python",
   "name": "python",
   "nbconvert_exporter": "python",
   "pygments_lexer": "ipython3",
   "version": "3.7.0"
  },
  "toc": {
   "base_numbering": 1,
   "nav_menu": {},
   "number_sections": true,
   "sideBar": true,
   "skip_h1_title": false,
   "title_cell": "Table of Contents",
   "title_sidebar": "Contents",
   "toc_cell": false,
   "toc_position": {},
   "toc_section_display": true,
   "toc_window_display": false
  },
  "varInspector": {
   "cols": {
    "lenName": 16,
    "lenType": 16,
    "lenVar": 40
   },
   "kernels_config": {
    "python": {
     "delete_cmd_postfix": "",
     "delete_cmd_prefix": "del ",
     "library": "var_list.py",
     "varRefreshCmd": "print(var_dic_list())"
    },
    "r": {
     "delete_cmd_postfix": ") ",
     "delete_cmd_prefix": "rm(",
     "library": "var_list.r",
     "varRefreshCmd": "cat(var_dic_list()) "
    }
   },
   "types_to_exclude": [
    "module",
    "function",
    "builtin_function_or_method",
    "instance",
    "_Feature"
   ],
   "window_display": false
  }
 },
 "nbformat": 4,
 "nbformat_minor": 2
}
