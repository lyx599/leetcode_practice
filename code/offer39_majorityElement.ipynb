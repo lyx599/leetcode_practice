{
 "cells": [
  {
   "cell_type": "markdown",
   "metadata": {},
   "source": [
    "# 剑指 Offer 39\t数组中出现次数超过一半的数字  "
   ]
  },
  {
   "cell_type": "markdown",
   "metadata": {},
   "source": [
    "思路：\n",
    "- 哈希表投票法\n",
    "    - 遍历数组，将数字映射到哈希表中并统计出现的次数\n",
    "    - 遍历过程中记录出现次数最多的数字，最后返回这个数字\n",
    "    - 时间复杂度 $O(N)$: 遍历数组一次\n",
    "    - 空间复杂度 $O(N)$: 因有一个数字超过数组的一半，辅助字典最差情况占$N / 2$的空间\n",
    "- 排序法\n",
    "    - 因数字超过数组的一半，排序后，数组中间的数字一定是这个众数\n",
    "    - 时间复杂度 $O(N \\log _{2} N)$: 排序算法的复杂度\n",
    "    - 空间复杂度 $O(1)$: 常数辅助变量\n",
    "- 投票法\n",
    "    - 由于众数出现的次数超过数组长度的一半；若记众数的票数为 +1 ，非众数的票数为 −1 ，则一定有所有数字的票数和>0 \n",
    "    - 为构建正负抵消，假设数组首个元素$n_1$为众数，遍历统计票数，当发生正负抵消时，剩余数组的众数一定不变 ，这是因为（设真正的众数为 x ）：\n",
    "        - 当 $n_1 = x$： 抵消的所有数字中，有一半是众数x\n",
    "        - 当 $n_1 \\neq x$： 抵消的所有数字中，少于或等于一半是众数x\n",
    "    - 关键在于每个标记vote==0时，更换假设的众数\n",
    "    - 时间复杂度 $O(N)$: 遍历数组一次\n",
    "    - 空间复杂度 $O(1)$: 常数辅助变量\n",
    "- https://leetcode-cn.com/problems/shu-zu-zhong-chu-xian-ci-shu-chao-guo-yi-ban-de-shu-zi-lcof/solution/mian-shi-ti-39-shu-zu-zhong-chu-xian-ci-shu-chao-3/"
   ]
  },
  {
   "cell_type": "markdown",
   "metadata": {},
   "source": [
    "注意:\n",
    "- 题目假设数组是非空的，并且给定的数组总是存在多数元素\n",
    "- 若题目没有明确表明存在众数，需要对投票法加一个验证，验证得到的数是否在数组中出现次数超过一半"
   ]
  },
  {
   "cell_type": "code",
   "execution_count": 1,
   "metadata": {
    "ExecuteTime": {
     "end_time": "2020-07-06T08:19:50.534885Z",
     "start_time": "2020-07-06T08:19:50.528891Z"
    }
   },
   "outputs": [
    {
     "name": "stdout",
     "output_type": "stream",
     "text": [
      "2\n"
     ]
    }
   ],
   "source": [
    "class Solution:\n",
    "    def majorityElement(self, nums: [int]) -> int:\n",
    "\n",
    "        count = {}\n",
    "        max_count = 0\n",
    "        for i in range(len(nums)):\n",
    "            count[nums[i]] = 1 + count.get(nums[i], 0)\n",
    "            if count[nums[i]] > max_count:\n",
    "                max_count = count[nums[i]]\n",
    "                max_num = nums[i]\n",
    "        return max_num\n",
    "\n",
    "\n",
    "s = Solution()\n",
    "print(s.majorityElement([1, 2, 3, 2, 2, 2, 5, 4, 2]))\n"
   ]
  },
  {
   "cell_type": "markdown",
   "metadata": {},
   "source": [
    "# 答案"
   ]
  },
  {
   "cell_type": "markdown",
   "metadata": {},
   "source": [
    "## 哈希表统计法"
   ]
  },
  {
   "cell_type": "code",
   "execution_count": 2,
   "metadata": {
    "ExecuteTime": {
     "end_time": "2020-07-06T08:19:50.540879Z",
     "start_time": "2020-07-06T08:19:50.535878Z"
    }
   },
   "outputs": [],
   "source": [
    "class Solution:\n",
    "    def majorityElement(self, nums: [int]) -> int:\n",
    "        count = {}\n",
    "        max_count = 0\n",
    "        for i in range(len(nums)):\n",
    "            count[nums[i]] = 1 + count.get(nums[i], 0)\n",
    "            if count[nums[i]] > max_count:\n",
    "                max_count = count[nums[i]]\n",
    "                max_num = nums[i]\n",
    "        return max_num"
   ]
  },
  {
   "cell_type": "markdown",
   "metadata": {},
   "source": [
    "## 排序法"
   ]
  },
  {
   "cell_type": "code",
   "execution_count": 3,
   "metadata": {
    "ExecuteTime": {
     "end_time": "2020-07-06T08:19:50.545880Z",
     "start_time": "2020-07-06T08:19:50.542890Z"
    }
   },
   "outputs": [],
   "source": [
    "class Solution:\n",
    "    def majorityElement(self, nums: [int]) -> int:\n",
    "        nums.sort()\n",
    "        return nums[len(nums) // 2]"
   ]
  },
  {
   "cell_type": "markdown",
   "metadata": {},
   "source": [
    "## 投票法"
   ]
  },
  {
   "cell_type": "code",
   "execution_count": 4,
   "metadata": {
    "ExecuteTime": {
     "end_time": "2020-07-06T08:19:50.550882Z",
     "start_time": "2020-07-06T08:19:50.546881Z"
    }
   },
   "outputs": [],
   "source": [
    "class Solution:\n",
    "    def majorityElement(self, nums: [int]) -> int:\n",
    "        vote = 0\n",
    "        for i in range(len(nums)):\n",
    "            if vote == 0:\n",
    "                ans = nums[i]\n",
    "                vote = 1\n",
    "                continue\n",
    "            if ans == nums[i]:\n",
    "                vote += 1\n",
    "            else:\n",
    "                vote -= 1\n",
    "        return ans"
   ]
  }
 ],
 "metadata": {
  "kernelspec": {
   "display_name": "Python 3",
   "language": "python",
   "name": "python3"
  },
  "language_info": {
   "codemirror_mode": {
    "name": "ipython",
    "version": 3
   },
   "file_extension": ".py",
   "mimetype": "text/x-python",
   "name": "python",
   "nbconvert_exporter": "python",
   "pygments_lexer": "ipython3",
   "version": "3.7.0"
  },
  "toc": {
   "base_numbering": 1,
   "nav_menu": {},
   "number_sections": true,
   "sideBar": true,
   "skip_h1_title": false,
   "title_cell": "Table of Contents",
   "title_sidebar": "Contents",
   "toc_cell": false,
   "toc_position": {},
   "toc_section_display": true,
   "toc_window_display": false
  },
  "varInspector": {
   "cols": {
    "lenName": 16,
    "lenType": 16,
    "lenVar": 40
   },
   "kernels_config": {
    "python": {
     "delete_cmd_postfix": "",
     "delete_cmd_prefix": "del ",
     "library": "var_list.py",
     "varRefreshCmd": "print(var_dic_list())"
    },
    "r": {
     "delete_cmd_postfix": ") ",
     "delete_cmd_prefix": "rm(",
     "library": "var_list.r",
     "varRefreshCmd": "cat(var_dic_list()) "
    }
   },
   "types_to_exclude": [
    "module",
    "function",
    "builtin_function_or_method",
    "instance",
    "_Feature"
   ],
   "window_display": false
  }
 },
 "nbformat": 4,
 "nbformat_minor": 2
}
