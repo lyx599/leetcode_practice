{
 "cells": [
  {
   "cell_type": "markdown",
   "metadata": {},
   "source": [
    "# 29两数相除"
   ]
  },
  {
   "cell_type": "markdown",
   "metadata": {},
   "source": [
    "思路：\n",
    "- 位运算\n",
    "    - 先寻找一个数y，y为2的整数次幂的指数部分，使得除数divisor << y最接近被除数dividend\n",
    "    - 用被除数dividend减去divisor << y，然后再去寻找一个数y使得它接近被除数\n",
    "    - 一直重复直到所有的y都被计算出来，最后累加得到答案\n"
   ]
  },
  {
   "cell_type": "markdown",
   "metadata": {},
   "source": [
    "例子： \n",
    "\n",
    "3 * x = 10\n",
    "\n",
    "3 << 1 = 6 且 3 << 2 = 12\n",
    "因12已经超过10的范围了，故y1 = 1。\n",
    "\n",
    "然后，求 3 * x = (10 - (3 << 1)) 即3 * x = 4\n",
    "\n",
    "可得y2 = 0，因为3 << 1 = 6,已经超过4了。\n",
    "\n",
    "之后4 - (3 << 0) = 4 - 3 = 1。由于1已经小于3，不需要再继续找y3了。\n",
    "\n",
    "故最终得出的y相关的数组为[1,0],则 x = 2^1 + 2^0 = 2 + 1 = 3（注：2^1 = 1<<1, 而在不溢出的情况下2 ^ n = 1 << n，后面不再赘述）。"
   ]
  },
  {
   "cell_type": "markdown",
   "metadata": {},
   "source": [
    "注意：\n",
    " - 任何一个数都可以表示为2的泰勒展开式\n",
    " - 最后结果的溢出只有一种情况： -2147483648/ -1才会造成溢出\n",
    " - 过程中也需要进行溢出的判断\n",
    " - 转化为负数计算，避免转化为正数造成溢出  如 -2147483648 "
   ]
  },
  {
   "cell_type": "markdown",
   "metadata": {
    "ExecuteTime": {
     "end_time": "2020-05-09T08:04:30.361559Z",
     "start_time": "2020-05-09T08:04:30.350566Z"
    }
   },
   "source": [
    "第一次思路：没有找到解决办法，但通过题意大概知道是用位运算来解决，通过参考别人思路写的\n",
    "\n",
    "https://leetcode-cn.com/problems/divide-two-integers/solution/shi-yong-wei-yi-cao-zuo-qiu-jie-by-johnh/"
   ]
  },
  {
   "cell_type": "code",
   "execution_count": 3,
   "metadata": {
    "ExecuteTime": {
     "end_time": "2020-05-09T08:05:16.177162Z",
     "start_time": "2020-05-09T08:05:16.163169Z"
    }
   },
   "outputs": [
    {
     "name": "stdout",
     "output_type": "stream",
     "text": [
      "2147483647\n"
     ]
    }
   ],
   "source": [
    "class Solution:\n",
    "    def divide(self, dividend: int, divisor: int) -> int:\n",
    "\n",
    "        int_max = (1 << 31) -1\n",
    "        int_min = -1 << 31\n",
    "\n",
    "        if (dividend>0 and divisor>0) or (dividend<0 and divisor<0): #确定符号，用于判断是否溢出\n",
    "            sign = 1\n",
    "        else:\n",
    "            sign = -1\n",
    "        #做负数处理，用负数来运算，避免溢出\n",
    "        if dividend > 0:\n",
    "            dividend = -dividend\n",
    "        if divisor > 0:\n",
    "            divisor = -divisor\n",
    "\n",
    "        ans = 0\n",
    "        times = self.div_negative(dividend,divisor)\n",
    "        for time in times:\n",
    "            if time == 31: #如果time为31 必然下一个time后面没有元素，短路处理\n",
    "                if sign == 1:\n",
    "                    return int_max\n",
    "                return int_min\n",
    "            ans += 1 << time\n",
    "\n",
    "        if sign == 1:\n",
    "            return ans\n",
    "        else:\n",
    "            return -ans\n",
    "\n",
    "\n",
    "    def div_negative(self,dividend,divisor):\n",
    "\n",
    "        timesMin = 0\n",
    "        timesMax = 32\n",
    "        mid = 0\n",
    "        if dividend > divisor:\n",
    "            return []\n",
    "\n",
    "        while(timesMax != timesMin+1):\n",
    "            mid = (timesMax + timesMin) >> 1\n",
    "            # divisor << mid后有可能超过 - 1 << 31的范围\n",
    "            # 因此要判断divisor是否大于等于 - 1 << (31 - mid)，一旦小于这个值，则必定溢出\n",
    "            if divisor < (-1 <<(31-mid)):\n",
    "                timesMax = mid\n",
    "                continue\n",
    "\n",
    "            testAns = divisor << mid\n",
    "            if testAns >= dividend:\n",
    "                timesMin = mid\n",
    "            else:\n",
    "                timesMax = mid\n",
    "\n",
    "        return [timesMin] + self.div_negative(dividend-(divisor << timesMin),divisor)\n",
    "\n",
    "\n",
    "\n",
    "s = Solution()\n",
    "print(s.divide(-2147483648,-1))\n"
   ]
  },
  {
   "cell_type": "markdown",
   "metadata": {},
   "source": [
    "# 答案"
   ]
  },
  {
   "cell_type": "code",
   "execution_count": 2,
   "metadata": {
    "ExecuteTime": {
     "end_time": "2020-05-09T08:05:02.147665Z",
     "start_time": "2020-05-09T08:05:02.131673Z"
    }
   },
   "outputs": [],
   "source": [
    "class Solution:\n",
    "    def divide(self, dividend: int, divisor: int) -> int:\n",
    "        int_max = (1 << 31) -1\n",
    "        int_min = -1 << 31\n",
    "\n",
    "        if (dividend>0 and divisor>0) or (dividend<0 and divisor<0):\n",
    "            sign = 1\n",
    "        else:\n",
    "            sign = -1\n",
    "\n",
    "        if dividend > 0:\n",
    "            dividend = -dividend\n",
    "        if divisor > 0:\n",
    "            divisor = -divisor\n",
    "\n",
    "        ans = 0\n",
    "        times = self.div_negative(dividend,divisor)\n",
    "        for time in times:\n",
    "            if time == 31:\n",
    "                if sign == 1:\n",
    "                    return int_max\n",
    "                return int_min\n",
    "            ans += 1 << time\n",
    "\n",
    "        if sign == 1:\n",
    "            return ans\n",
    "        else:\n",
    "            return -ans\n",
    "\n",
    "\n",
    "    def div_negative(self,dividend,divisor):\n",
    "\n",
    "        timesMin = 0\n",
    "        timesMax = 32\n",
    "        mid = 0\n",
    "        if dividend > divisor:\n",
    "            return []\n",
    "\n",
    "        while(timesMax != timesMin+1):\n",
    "            mid = (timesMax + timesMin) >> 1\n",
    "            # divisor << mid后有可能超过 - 1 << 31的范围\n",
    "            # 因此要判断divisor是否大于等于 - 1 << (31 - mid)，一旦小于这个值，则必定溢出\n",
    "            if divisor < (-1 <<(31-mid)):\n",
    "                timesMax = mid\n",
    "                continue\n",
    "\n",
    "            testAns = divisor << mid\n",
    "            if testAns >= dividend:\n",
    "                timesMin = mid\n",
    "            else:\n",
    "                timesMax = mid\n",
    "\n",
    "        return [timesMin] + self.div_negative(dividend-(divisor << timesMin),divisor)"
   ]
  }
 ],
 "metadata": {
  "hide_input": false,
  "kernelspec": {
   "display_name": "Python 3",
   "language": "python",
   "name": "python3"
  },
  "language_info": {
   "codemirror_mode": {
    "name": "ipython",
    "version": 3
   },
   "file_extension": ".py",
   "mimetype": "text/x-python",
   "name": "python",
   "nbconvert_exporter": "python",
   "pygments_lexer": "ipython3",
   "version": "3.7.0"
  },
  "toc": {
   "base_numbering": 1,
   "nav_menu": {},
   "number_sections": true,
   "sideBar": true,
   "skip_h1_title": false,
   "title_cell": "Table of Contents",
   "title_sidebar": "Contents",
   "toc_cell": false,
   "toc_position": {},
   "toc_section_display": true,
   "toc_window_display": false
  },
  "varInspector": {
   "cols": {
    "lenName": 16,
    "lenType": 16,
    "lenVar": 40
   },
   "kernels_config": {
    "python": {
     "delete_cmd_postfix": "",
     "delete_cmd_prefix": "del ",
     "library": "var_list.py",
     "varRefreshCmd": "print(var_dic_list())"
    },
    "r": {
     "delete_cmd_postfix": ") ",
     "delete_cmd_prefix": "rm(",
     "library": "var_list.r",
     "varRefreshCmd": "cat(var_dic_list()) "
    }
   },
   "types_to_exclude": [
    "module",
    "function",
    "builtin_function_or_method",
    "instance",
    "_Feature"
   ],
   "window_display": false
  }
 },
 "nbformat": 4,
 "nbformat_minor": 2
}
