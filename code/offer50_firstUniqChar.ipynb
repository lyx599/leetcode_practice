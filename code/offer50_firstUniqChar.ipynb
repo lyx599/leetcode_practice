{
 "cells": [
  {
   "cell_type": "markdown",
   "metadata": {},
   "source": [
    "# 剑指 Offer 50\t第一个只出现一次的字符  "
   ]
  },
  {
   "cell_type": "markdown",
   "metadata": {},
   "source": [
    "思路：\n",
    "- 哈希表--自己的方法\n",
    "    - 遍历字符串，用哈希表记录每个字符出现的次数\n",
    "    - 用列表char_order记录字符第一次出现的顺序\n",
    "    - 遍历完后再遍历哈希表，找出出现一次的字符记录在列表char\n",
    "    - 如果char为空返回空格，如果char只有一个字符则直接返回，如果char有多个字符，则比较他们在char_order的顺序，返回顺序靠前的字符\n",
    "    - 时间复杂度$O(N)$ : 字符串长度为N，遍历字符串一次，其他遍历在常数内\n",
    "    - 空间复杂度$O(1)$ : 最多记录26个字符，常数变量\n",
    "- 哈希表\n",
    "    - 两次遍历字符串，第一次遍历记录每个字符出现的次数\n",
    "    - 第二次遍历找到第一个出现一次的字符\n",
    "    - 时间复杂度$O(N)$ : 字符串长度为N，需要遍历字符串两次，HashMap 查找的操作复杂度为 $O(1)$\n",
    "    - 空间复杂度$O(1)$ :  HashMap 最多记录26个字符键值对\n",
    "- 有序哈希表\n",
    "    - 在哈希表的基础上，有序哈希表中的键值对是 `按照插入顺序排序` 的,基于此，可通过遍历有序哈希表，实现搜索首个 “数量为 1 的字符”\n",
    "    - 时间复杂度$O(N)$ : 字符串长度为N，需要遍历字符串一次，遍历哈希表一次\n",
    "    - 空间复杂度$O(1)$ :  HashMap 最多记录26个字符键值对"
   ]
  },
  {
   "cell_type": "markdown",
   "metadata": {},
   "source": [
    "注意：\n",
    "- [为什么Python 3.6以后字典有序并且效率更高？](https://www.cnblogs.com/xieqiankun/p/python_dict.html) 按进入字典的顺序排序\n"
   ]
  },
  {
   "cell_type": "code",
   "execution_count": 1,
   "metadata": {
    "ExecuteTime": {
     "end_time": "2020-07-22T12:14:21.172453Z",
     "start_time": "2020-07-22T12:14:21.164450Z"
    }
   },
   "outputs": [
    {
     "name": "stdout",
     "output_type": "stream",
     "text": [
      " \n"
     ]
    }
   ],
   "source": [
    "class Solution:\n",
    "    def firstUniqChar(self, s: str) -> str:\n",
    "\n",
    "        if len(s) < 1:\n",
    "            return ' '\n",
    "        dic = {}\n",
    "        char_order = []\n",
    "        char = []\n",
    "        for item in s:\n",
    "            dic[item] = dic.get(item, 0) + 1\n",
    "            if dic[item] == 1:\n",
    "                char_order.append(item)\n",
    "        for item in dic:\n",
    "            if dic[item] == 1:\n",
    "                char.append(item)\n",
    "        if len(char) == 0:\n",
    "            return ' '\n",
    "        elif len(char) == 1:\n",
    "            return char[-1]\n",
    "        else:\n",
    "            ans = char[0]\n",
    "            for i in range(1, len(char)):\n",
    "                if char_order.index(char[i]) < char_order.index(ans):\n",
    "                    ans = char[i]\n",
    "            return ans\n",
    "\n",
    "s = Solution()\n",
    "print(s.firstUniqChar(''))\n"
   ]
  },
  {
   "cell_type": "markdown",
   "metadata": {},
   "source": [
    "# 答案"
   ]
  },
  {
   "cell_type": "markdown",
   "metadata": {},
   "source": [
    "## 哈希表"
   ]
  },
  {
   "cell_type": "markdown",
   "metadata": {},
   "source": [
    "遍历一次字符串中，为了找到字符插入的顺序做了很多不必要的判断，因此比两次遍历字符串的性能还要差"
   ]
  },
  {
   "cell_type": "code",
   "execution_count": 2,
   "metadata": {
    "ExecuteTime": {
     "end_time": "2020-07-22T12:14:21.180454Z",
     "start_time": "2020-07-22T12:14:21.174452Z"
    }
   },
   "outputs": [],
   "source": [
    "class Solution:\n",
    "    def firstUniqChar(self, s: str) -> str:\n",
    "\n",
    "        if len(s) < 1:\n",
    "            return ' '\n",
    "        dic = {}\n",
    "        char_order = []\n",
    "        char = []\n",
    "        for item in s:\n",
    "            dic[item] = dic.get(item, 0) + 1\n",
    "            if dic[item] == 1:\n",
    "                char_order.append(item)\n",
    "        for item in dic:\n",
    "            if dic[item] == 1:\n",
    "                char.append(item)\n",
    "        if len(char) == 0:\n",
    "            return ' '\n",
    "        elif len(char) == 1:\n",
    "            return char[-1]\n",
    "        else:\n",
    "            ans = char[0]\n",
    "            for i in range(1, len(char)):\n",
    "                if char_order.index(char[i]) < char_order.index(ans):\n",
    "                    ans = char[i]\n",
    "            return ans"
   ]
  },
  {
   "cell_type": "code",
   "execution_count": 3,
   "metadata": {
    "ExecuteTime": {
     "end_time": "2020-07-22T12:14:21.186455Z",
     "start_time": "2020-07-22T12:14:21.182454Z"
    }
   },
   "outputs": [],
   "source": [
    "class Solution:\n",
    "    def firstUniqChar(self, s: str) -> str:\n",
    "        dic = {}\n",
    "        for c in s:\n",
    "            dic[c] = c not in dic\n",
    "        for c in s:\n",
    "            if dic[c]:\n",
    "                return c\n",
    "        return ' '"
   ]
  },
  {
   "cell_type": "markdown",
   "metadata": {},
   "source": [
    "## 有序哈希表"
   ]
  },
  {
   "cell_type": "markdown",
   "metadata": {},
   "source": [
    "Python 3.6 后，默认字典就是有序的，因此无需使用 OrderedDict()\n",
    "\n",
    "因此自己的方法就可以优化，不用寻找每个字符访问的的顺序，优化后和下面代码一样"
   ]
  },
  {
   "cell_type": "code",
   "execution_count": 4,
   "metadata": {
    "ExecuteTime": {
     "end_time": "2020-07-22T12:14:21.192456Z",
     "start_time": "2020-07-22T12:14:21.187455Z"
    }
   },
   "outputs": [],
   "source": [
    "class Solution:\n",
    "    def firstUniqChar(self, s: str) -> str:\n",
    "        dic = {}\n",
    "        for c in s:\n",
    "            dic[c] = not c in dic\n",
    "        for k, v in dic.items():\n",
    "            if v: return k\n",
    "        return ' '"
   ]
  }
 ],
 "metadata": {
  "kernelspec": {
   "display_name": "Python 3",
   "language": "python",
   "name": "python3"
  },
  "language_info": {
   "codemirror_mode": {
    "name": "ipython",
    "version": 3
   },
   "file_extension": ".py",
   "mimetype": "text/x-python",
   "name": "python",
   "nbconvert_exporter": "python",
   "pygments_lexer": "ipython3",
   "version": "3.7.0"
  },
  "toc": {
   "base_numbering": 1,
   "nav_menu": {},
   "number_sections": true,
   "sideBar": true,
   "skip_h1_title": false,
   "title_cell": "Table of Contents",
   "title_sidebar": "Contents",
   "toc_cell": false,
   "toc_position": {},
   "toc_section_display": true,
   "toc_window_display": false
  },
  "varInspector": {
   "cols": {
    "lenName": 16,
    "lenType": 16,
    "lenVar": 40
   },
   "kernels_config": {
    "python": {
     "delete_cmd_postfix": "",
     "delete_cmd_prefix": "del ",
     "library": "var_list.py",
     "varRefreshCmd": "print(var_dic_list())"
    },
    "r": {
     "delete_cmd_postfix": ") ",
     "delete_cmd_prefix": "rm(",
     "library": "var_list.r",
     "varRefreshCmd": "cat(var_dic_list()) "
    }
   },
   "types_to_exclude": [
    "module",
    "function",
    "builtin_function_or_method",
    "instance",
    "_Feature"
   ],
   "window_display": false
  }
 },
 "nbformat": 4,
 "nbformat_minor": 4
}
