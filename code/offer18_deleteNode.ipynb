{
 "cells": [
  {
   "cell_type": "markdown",
   "metadata": {},
   "source": [
    "# 面试题18\t删除链表的节点  "
   ]
  },
  {
   "cell_type": "markdown",
   "metadata": {},
   "source": [
    "思路：\n",
    "- 双指针法\n",
    "    - 使用pre，p指针分别记录前一个节点和当前判定是否删除的节点\n",
    "    - 如果p结点的值等于删除的值，就修改pre.next= p.next，返回头结点\n",
    "    - 如果不等，就依次遍历pre，p的下一个结点继续判定，直到链表结束\n",
    "    - 如果删除的是头结点，直接特判返回头结点的下一个\n",
    "    - 时间复杂度 $O(N)$ ： N 为链表长度，删除操作平均需循环 N/2 次，最差 N 次。\n",
    "    - 空间复杂度 $O(1)$ ： pre, p 占用常数大小额外空间。\n",
    "- 单指针法\n",
    "    - 新建一个结点p,让p指向头结点\n",
    "    - 依次遍历p.next的值进行判断是否等于要删除的值\n",
    "    - 如果相等p.nex= p.next.next，返回头结点\n",
    "    - 如果不等，就依次遍历p.next结点，直到链表结束\n",
    "- 保留法\n",
    "    - 如果遍历的当前结点p要删除\n",
    "    - 则把p的下一个结点的值覆盖当前p结点\n",
    "    - 然后删除p结点的下一个结点\n",
    "    - 这个方法无法处理，只有一个结点和要删除结点在链表尾部的情况\n",
    "    - 遇到上述情况，需要分开处理"
   ]
  },
  {
   "cell_type": "markdown",
   "metadata": {},
   "source": [
    "注意：\n",
    "- 如果删除的是头结点，直接特判返回头结点的下一个\n",
    "- 该题的解法都只能删除一个结点，因为题目保证链表中节点的值互不相同，如果要删除多个结点需要注意删除后的结构和索引"
   ]
  },
  {
   "cell_type": "code",
   "execution_count": 1,
   "metadata": {
    "ExecuteTime": {
     "end_time": "2020-06-15T05:23:18.954177Z",
     "start_time": "2020-06-15T05:23:18.949172Z"
    }
   },
   "outputs": [],
   "source": [
    "# Definition for singly-linked list.\n",
    "class ListNode:\n",
    "    def __init__(self, x):\n",
    "        self.val = x\n",
    "        self.next = None\n",
    "\n",
    "\n",
    "class Solution:\n",
    "    def deleteNode(self, head: ListNode, val: int) -> ListNode:\n",
    "\n",
    "        if not head:\n",
    "            return None\n",
    "        if head.val == val:\n",
    "            return head.next\n",
    "        else:\n",
    "            pre = head\n",
    "            p = head.next\n",
    "            while p:\n",
    "                if p.val == val:\n",
    "                    pre.next = p.next\n",
    "                    return head\n",
    "                p = p.next\n",
    "                pre = pre.next\n",
    "        return head"
   ]
  },
  {
   "cell_type": "markdown",
   "metadata": {},
   "source": [
    "# 答案"
   ]
  },
  {
   "cell_type": "markdown",
   "metadata": {},
   "source": [
    "## 双指针"
   ]
  },
  {
   "cell_type": "code",
   "execution_count": 2,
   "metadata": {
    "ExecuteTime": {
     "end_time": "2020-06-15T05:23:18.962175Z",
     "start_time": "2020-06-15T05:23:18.956174Z"
    }
   },
   "outputs": [],
   "source": [
    "# Definition for singly-linked list.\n",
    "# class ListNode:\n",
    "#     def __init__(self, x):\n",
    "#         self.val = x\n",
    "#         self.next = None\n",
    "class Solution:\n",
    "    def deleteNode(self, head: ListNode, val: int) -> ListNode:\n",
    "\n",
    "        if not head:\n",
    "            return None\n",
    "        if head.val == val:\n",
    "            return head.next\n",
    "        else:\n",
    "            pre = head\n",
    "            p = head.next\n",
    "            while p:\n",
    "                if p.val == val:\n",
    "                    pre.next = p.next\n",
    "                    return head\n",
    "                p = p.next\n",
    "                pre = pre.next\n",
    "        return head"
   ]
  },
  {
   "cell_type": "markdown",
   "metadata": {},
   "source": [
    "## 单指针"
   ]
  },
  {
   "cell_type": "markdown",
   "metadata": {},
   "source": [
    "单指针不用特判头结点"
   ]
  },
  {
   "cell_type": "code",
   "execution_count": 3,
   "metadata": {
    "ExecuteTime": {
     "end_time": "2020-06-15T05:23:18.966176Z",
     "start_time": "2020-06-15T05:23:18.963175Z"
    }
   },
   "outputs": [],
   "source": [
    "# Definition for singly-linked list.\n",
    "# class ListNode:\n",
    "#     def __init__(self, x):\n",
    "#         self.val = x\n",
    "#         self.next = None\n",
    "class Solution:\n",
    "    def deleteNode(self, head: ListNode, val: int) -> ListNode:\n",
    "\n",
    "        if not head:\n",
    "            return None\n",
    "        q = ListNode()\n",
    "        q.next = head\n",
    "        p = q\n",
    "        while p.next:\n",
    "            if p.next.val == val:\n",
    "                p.next = p.next.next\n",
    "                return q.next\n",
    "            p = p.next\n",
    "        return q.next"
   ]
  }
 ],
 "metadata": {
  "kernelspec": {
   "display_name": "Python 3",
   "language": "python",
   "name": "python3"
  },
  "language_info": {
   "codemirror_mode": {
    "name": "ipython",
    "version": 3
   },
   "file_extension": ".py",
   "mimetype": "text/x-python",
   "name": "python",
   "nbconvert_exporter": "python",
   "pygments_lexer": "ipython3",
   "version": "3.7.0"
  },
  "toc": {
   "base_numbering": 1,
   "nav_menu": {},
   "number_sections": true,
   "sideBar": true,
   "skip_h1_title": false,
   "title_cell": "Table of Contents",
   "title_sidebar": "Contents",
   "toc_cell": false,
   "toc_position": {},
   "toc_section_display": true,
   "toc_window_display": false
  },
  "varInspector": {
   "cols": {
    "lenName": 16,
    "lenType": 16,
    "lenVar": 40
   },
   "kernels_config": {
    "python": {
     "delete_cmd_postfix": "",
     "delete_cmd_prefix": "del ",
     "library": "var_list.py",
     "varRefreshCmd": "print(var_dic_list())"
    },
    "r": {
     "delete_cmd_postfix": ") ",
     "delete_cmd_prefix": "rm(",
     "library": "var_list.r",
     "varRefreshCmd": "cat(var_dic_list()) "
    }
   },
   "types_to_exclude": [
    "module",
    "function",
    "builtin_function_or_method",
    "instance",
    "_Feature"
   ],
   "window_display": false
  }
 },
 "nbformat": 4,
 "nbformat_minor": 2
}
