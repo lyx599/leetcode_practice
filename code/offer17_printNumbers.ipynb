{
 "cells": [
  {
   "cell_type": "markdown",
   "metadata": {},
   "source": [
    "# 面试题17\t打印从1到最大的n位数  "
   ]
  },
  {
   "cell_type": "markdown",
   "metadata": {},
   "source": [
    "思路：\n",
    "- 自己的方法\n",
    "    - 将输入的n*字符‘9’，得到最大的数的字符串表示\n",
    "    - 将字符串转为整型\n",
    "    - 再用列表推导生成答案\n",
    "    - 因为python的特性，不用考虑大数问题，数的大小受内存的限制\n",
    "- 自己的方法改进\n",
    "    - 用10的n次方可以直接找最大的数，不用转字符串\n",
    "- 全排列法：\n",
    "    - 针对大数问题的限制\n",
    "    - 分为两部分，全排列 + 符合习惯的输出\n",
    "    - 通过递归实现n个从0-9的全排列\n",
    "    - 通过设置标识量，去除数字前面的0\n",
    "    - 如果要通过提交，需要将字符串转为整型\n",
    "    - 时间复杂度 $O(10^n)$ ： 生成长度为 $10^n$ 的列表需使用 $O(10^n)$ 时间。\n",
    "    - 空间复杂度 $O(1)$ ： 建立列表需使用 $O(1)$  大小的额外空间（列表作为返回结果，不计入额外空间）。\n",
    "\n"
   ]
  },
  {
   "cell_type": "markdown",
   "metadata": {},
   "source": [
    "注意：\n",
    "- 自己的方法，要注意range的范围\n",
    "- 全排列DFS里 self.nine要还原，才能在9,99时进位，不然会出现逻辑错误，因为在十位以上的位数时，要循环到99时才进位，此时会加两次self.nine\n",
    "- 全排列DFS的逻辑要理清"
   ]
  },
  {
   "cell_type": "code",
   "execution_count": 1,
   "metadata": {
    "ExecuteTime": {
     "end_time": "2020-06-12T08:41:42.688053Z",
     "start_time": "2020-06-12T08:41:42.683052Z"
    }
   },
   "outputs": [
    {
     "name": "stdout",
     "output_type": "stream",
     "text": [
      "[1, 2, 3, 4, 5, 6, 7, 8, 9, 10, 11, 12, 13, 14, 15, 16, 17, 18, 19, 20, 21, 22, 23, 24, 25, 26, 27, 28, 29, 30, 31, 32, 33, 34, 35, 36, 37, 38, 39, 40, 41, 42, 43, 44, 45, 46, 47, 48, 49, 50, 51, 52, 53, 54, 55, 56, 57, 58, 59, 60, 61, 62, 63, 64, 65, 66, 67, 68, 69, 70, 71, 72, 73, 74, 75, 76, 77, 78, 79, 80, 81, 82, 83, 84, 85, 86, 87, 88, 89, 90, 91, 92, 93, 94, 95, 96, 97, 98, 99]\n"
     ]
    }
   ],
   "source": [
    "class Solution:\n",
    "    def printNumbers(self, n: int) -> [int]:\n",
    "\n",
    "        n_str = n * '9'\n",
    "        num_max = int(n_str)\n",
    "        ans = [i for i in range(1,num_max+1)]\n",
    "        return ans\n",
    "\n",
    "s = Solution()\n",
    "print(s.printNumbers(2))"
   ]
  },
  {
   "cell_type": "markdown",
   "metadata": {},
   "source": [
    "也可以直接找到最大的数，不用转字符串"
   ]
  },
  {
   "cell_type": "code",
   "execution_count": 2,
   "metadata": {
    "ExecuteTime": {
     "end_time": "2020-06-12T08:41:42.698065Z",
     "start_time": "2020-06-12T08:41:42.693054Z"
    }
   },
   "outputs": [
    {
     "name": "stdout",
     "output_type": "stream",
     "text": [
      "[1, 2, 3, 4, 5, 6, 7, 8, 9, 10, 11, 12, 13, 14, 15, 16, 17, 18, 19, 20, 21, 22, 23, 24, 25, 26, 27, 28, 29, 30, 31, 32, 33, 34, 35, 36, 37, 38, 39, 40, 41, 42, 43, 44, 45, 46, 47, 48, 49, 50, 51, 52, 53, 54, 55, 56, 57, 58, 59, 60, 61, 62, 63, 64, 65, 66, 67, 68, 69, 70, 71, 72, 73, 74, 75, 76, 77, 78, 79, 80, 81, 82, 83, 84, 85, 86, 87, 88, 89, 90, 91, 92, 93, 94, 95, 96, 97, 98, 99]\n"
     ]
    }
   ],
   "source": [
    "class Solution:\n",
    "    def printNumbers(self, n: int) -> [int]:\n",
    "\n",
    "        # n_str = n * '9'\n",
    "        num_max = 10 ** n\n",
    "        ans = [i for i in range(1,num_max)]\n",
    "        return ans\n",
    "\n",
    "s = Solution()\n",
    "print(s.printNumbers(2))"
   ]
  },
  {
   "cell_type": "markdown",
   "metadata": {},
   "source": [
    "# 答案"
   ]
  },
  {
   "cell_type": "markdown",
   "metadata": {},
   "source": [
    "## 简单法"
   ]
  },
  {
   "cell_type": "code",
   "execution_count": 3,
   "metadata": {
    "ExecuteTime": {
     "end_time": "2020-06-12T08:41:42.704055Z",
     "start_time": "2020-06-12T08:41:42.699055Z"
    }
   },
   "outputs": [],
   "source": [
    "class Solution:\n",
    "    def printNumbers(self, n: int) -> [int]:\n",
    "\n",
    "        n_str = n * '9'\n",
    "        num_max = int(n_str)\n",
    "        ans = [i for i in range(1,num_max+1)]\n",
    "        return ans"
   ]
  },
  {
   "cell_type": "markdown",
   "metadata": {},
   "source": [
    "## 全排列"
   ]
  },
  {
   "cell_type": "code",
   "execution_count": 4,
   "metadata": {
    "ExecuteTime": {
     "end_time": "2020-06-12T08:41:42.714059Z",
     "start_time": "2020-06-12T08:41:42.706058Z"
    }
   },
   "outputs": [
    {
     "name": "stdout",
     "output_type": "stream",
     "text": [
      "['1', '2', '3', '4', '5', '6', '7', '8', '9', '10', '11', '12', '13', '14', '15', '16', '17', '18', '19', '20', '21', '22', '23', '24', '25', '26', '27', '28', '29', '30', '31', '32', '33', '34', '35', '36', '37', '38', '39', '40', '41', '42', '43', '44', '45', '46', '47', '48', '49', '50', '51', '52', '53', '54', '55', '56', '57', '58', '59', '60', '61', '62', '63', '64', '65', '66', '67', '68', '69', '70', '71', '72', '73', '74', '75', '76', '77', '78', '79', '80', '81', '82', '83', '84', '85', '86', '87', '88', '89', '90', '91', '92', '93', '94', '95', '96', '97', '98', '99']\n"
     ]
    }
   ],
   "source": [
    "class Solution:\n",
    "    def __init__(self):\n",
    "        self.res = []\n",
    "        self.nine = 0\n",
    "\n",
    "    def printNumbers(self, n: int) -> [int]:\n",
    "\n",
    "        if n < 1:\n",
    "            return 'invaild input'\n",
    "\n",
    "        num = ['0'] * n\n",
    "        self.start = n - 1\n",
    "        self.dfs(num, 0, n)\n",
    "        return self.res[1:]\n",
    "\n",
    "    def dfs(self, num, cursor, n):\n",
    "        if cursor == n:\n",
    "            self.res.append(\"\".join(num)[self.start:])\n",
    "            #先记录，再进行进位判断，因为判断的是9，此时还没有进位，要下一位才是进位所以是先记录\n",
    "            if n - self.start == self.nine:\n",
    "                self.start -= 1\n",
    "            return\n",
    "\n",
    "        for i in range(10):\n",
    "            if i == 9:\n",
    "                self.nine += 1\n",
    "            num[cursor] = str(i)\n",
    "            self.dfs(num, cursor + 1, n)\n",
    "        #还原\n",
    "        self.nine -= 1\n",
    "\n",
    "\n",
    "s = Solution()\n",
    "\n",
    "print(s.printNumbers(2))"
   ]
  }
 ],
 "metadata": {
  "kernelspec": {
   "display_name": "Python 3",
   "language": "python",
   "name": "python3"
  },
  "language_info": {
   "codemirror_mode": {
    "name": "ipython",
    "version": 3
   },
   "file_extension": ".py",
   "mimetype": "text/x-python",
   "name": "python",
   "nbconvert_exporter": "python",
   "pygments_lexer": "ipython3",
   "version": "3.7.0"
  },
  "toc": {
   "base_numbering": 1,
   "nav_menu": {},
   "number_sections": true,
   "sideBar": true,
   "skip_h1_title": false,
   "title_cell": "Table of Contents",
   "title_sidebar": "Contents",
   "toc_cell": false,
   "toc_position": {},
   "toc_section_display": true,
   "toc_window_display": false
  },
  "varInspector": {
   "cols": {
    "lenName": 16,
    "lenType": 16,
    "lenVar": 40
   },
   "kernels_config": {
    "python": {
     "delete_cmd_postfix": "",
     "delete_cmd_prefix": "del ",
     "library": "var_list.py",
     "varRefreshCmd": "print(var_dic_list())"
    },
    "r": {
     "delete_cmd_postfix": ") ",
     "delete_cmd_prefix": "rm(",
     "library": "var_list.r",
     "varRefreshCmd": "cat(var_dic_list()) "
    }
   },
   "types_to_exclude": [
    "module",
    "function",
    "builtin_function_or_method",
    "instance",
    "_Feature"
   ],
   "window_display": false
  }
 },
 "nbformat": 4,
 "nbformat_minor": 2
}
