{
 "cells": [
  {
   "cell_type": "markdown",
   "metadata": {},
   "source": [
    "# 剑指 Offer 32 - I\t从上到下打印二叉树 "
   ]
  },
  {
   "cell_type": "markdown",
   "metadata": {},
   "source": [
    "思路：\n",
    "- 自己的方法-队列\n",
    "    - 由题意可知是层次遍历，先打印左子树，再打印后子树\n",
    "    - 列表ans存入根结点root的值，根结点入队\n",
    "    - 遍历队列，弹出队首结点，判断结点左右子树\n",
    "    - 如果存在左子树，列表ans存入左子树的值，左子树入队，有子树同理\n",
    "    - 直到队列为空\n",
    "    - 时间复杂度 $O(N)$：N 为二叉树的节点数量，即 BFS 需循环 N 次\n",
    "    - 空间复杂度 $O(N)$：最差情况下，即当树为平衡二叉树时，最多有 N/2 个树节点同时在 queue 中，使用 $O(N)$ 大小的额外空间"
   ]
  },
  {
   "cell_type": "markdown",
   "metadata": {},
   "source": [
    "注意："
   ]
  },
  {
   "cell_type": "markdown",
   "metadata": {},
   "source": [
    "操作比较费时间的是弹出队首结点，对列表来说这个操作时O(N)复杂度"
   ]
  },
  {
   "cell_type": "code",
   "execution_count": 5,
   "metadata": {
    "ExecuteTime": {
     "end_time": "2020-06-28T12:23:35.508823Z",
     "start_time": "2020-06-28T12:23:35.503835Z"
    }
   },
   "outputs": [],
   "source": [
    "# Definition for a binary tree node.\n",
    "class TreeNode:\n",
    "    def __init__(self, x):\n",
    "        self.val = x\n",
    "        self.left = None\n",
    "        self.right = None\n",
    "\n",
    "class Solution:\n",
    "    def levelOrder(self, root: TreeNode) -> [int]:\n",
    "        if not root:\n",
    "            return []\n",
    "        ans = [root.val]\n",
    "        q = [root]\n",
    "        while q:\n",
    "            node = q.pop(0)\n",
    "            if node.left:\n",
    "                ans.append(node.left.val)\n",
    "                q.append(node.left)\n",
    "            if node.right:\n",
    "                ans.append(node.right.val)\n",
    "                q.append(node.right)\n",
    "        return ans"
   ]
  },
  {
   "cell_type": "markdown",
   "metadata": {},
   "source": [
    "# 答案"
   ]
  },
  {
   "cell_type": "markdown",
   "metadata": {},
   "source": [
    "## 自己的答案-队列"
   ]
  },
  {
   "cell_type": "code",
   "execution_count": 6,
   "metadata": {
    "ExecuteTime": {
     "end_time": "2020-06-28T12:23:36.238185Z",
     "start_time": "2020-06-28T12:23:36.233198Z"
    }
   },
   "outputs": [],
   "source": [
    "# Definition for a binary tree node.\n",
    "# class TreeNode:\n",
    "#     def __init__(self, x):\n",
    "#         self.val = x\n",
    "#         self.left = None\n",
    "#         self.right = None\n",
    "\n",
    "class Solution:\n",
    "    def levelOrder(self, root: TreeNode) -> [int]:\n",
    "        if not root:\n",
    "            return []\n",
    "        ans = [root.val]\n",
    "        q = [root]\n",
    "        while q:\n",
    "            node = q.pop(0)\n",
    "            if node.left:\n",
    "                ans.append(node.left.val)\n",
    "                q.append(node.left)\n",
    "            if node.right:\n",
    "                ans.append(node.right.val)\n",
    "                q.append(node.right)\n",
    "        return ans"
   ]
  },
  {
   "cell_type": "markdown",
   "metadata": {},
   "source": [
    "## 双端队列"
   ]
  },
  {
   "cell_type": "code",
   "execution_count": 8,
   "metadata": {
    "ExecuteTime": {
     "end_time": "2020-06-28T12:23:43.359411Z",
     "start_time": "2020-06-28T12:23:43.356407Z"
    }
   },
   "outputs": [],
   "source": [
    "# Definition for a binary tree node.\n",
    "# class TreeNode:\n",
    "#     def __init__(self, x):\n",
    "#         self.val = x\n",
    "#         self.left = None\n",
    "#         self.right = None\n",
    "\n",
    "class Solution:\n",
    "    def levelOrder(self, root: TreeNode) -> [int]:\n",
    "        import collections\n",
    "        if not root:\n",
    "            return []\n",
    "        ans = []\n",
    "        q = collections.deque()\n",
    "        q.append(root)\n",
    "        while q:\n",
    "            # O（1）复杂度\n",
    "            node = q.popleft()\n",
    "            ans.append(node.val)\n",
    "            if node.left:\n",
    "                q.append(node.left)\n",
    "            if node.right:\n",
    "                q.append(node.right)\n",
    "        return ans"
   ]
  }
 ],
 "metadata": {
  "kernelspec": {
   "display_name": "Python 3",
   "language": "python",
   "name": "python3"
  },
  "language_info": {
   "codemirror_mode": {
    "name": "ipython",
    "version": 3
   },
   "file_extension": ".py",
   "mimetype": "text/x-python",
   "name": "python",
   "nbconvert_exporter": "python",
   "pygments_lexer": "ipython3",
   "version": "3.7.0"
  },
  "toc": {
   "base_numbering": 1,
   "nav_menu": {},
   "number_sections": true,
   "sideBar": true,
   "skip_h1_title": false,
   "title_cell": "Table of Contents",
   "title_sidebar": "Contents",
   "toc_cell": false,
   "toc_position": {},
   "toc_section_display": true,
   "toc_window_display": false
  },
  "varInspector": {
   "cols": {
    "lenName": 16,
    "lenType": 16,
    "lenVar": 40
   },
   "kernels_config": {
    "python": {
     "delete_cmd_postfix": "",
     "delete_cmd_prefix": "del ",
     "library": "var_list.py",
     "varRefreshCmd": "print(var_dic_list())"
    },
    "r": {
     "delete_cmd_postfix": ") ",
     "delete_cmd_prefix": "rm(",
     "library": "var_list.r",
     "varRefreshCmd": "cat(var_dic_list()) "
    }
   },
   "types_to_exclude": [
    "module",
    "function",
    "builtin_function_or_method",
    "instance",
    "_Feature"
   ],
   "window_display": false
  }
 },
 "nbformat": 4,
 "nbformat_minor": 2
}
