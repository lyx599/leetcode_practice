{
 "cells": [
  {
   "cell_type": "markdown",
   "metadata": {},
   "source": [
    "# 26. 删除排序数组中的重复项"
   ]
  },
  {
   "cell_type": "markdown",
   "metadata": {},
   "source": [
    "思路：\n",
    "- 暴力法\n",
    "    - 前后数字比较，相同的话，后一个数字的后面数组依次向前移动一格\n",
    "- 三指针法\n",
    "    - 用i，j指针来比较数字\n",
    "    - 用k指针来记录非重复数字插入的位置\n",
    "- 双指针法\n",
    "    - 放置两个指针 i 和 j，其中 i 是慢指针，而 j 是快指针\n",
    "    - 只要 nums[i] = nums[j]，我们就增加 j 以跳过重复项\n",
    "    - 当遇到nums[i]！=nums[j]时，把它（nums[j]）的值复制到 nums[i + 1]\n",
    "    - 然后递增 i，接着我们将再次重复相同的过程，直到 j 到达数组的末尾为止。"
   ]
  },
  {
   "cell_type": "markdown",
   "metadata": {},
   "source": [
    "注意：\n",
    "- 指针法，相当于默认插入了一次，当遇到不同的数字时，就再次插入"
   ]
  },
  {
   "cell_type": "markdown",
   "metadata": {},
   "source": [
    "第一次思路：前后数字比较，相同的话，后一个数字的后面数组依次向前移动一格。这是一来容易想到的暴力方法。\n",
    "\n",
    "基于此方法进一步优化，因为是排序数组，针对N个数字重复向前移动N步\n",
    "\n",
    "写完后又进一步优化成了三指针方法，只需一次遍历，复杂度降了一个指数级"
   ]
  },
  {
   "cell_type": "code",
   "execution_count": 2,
   "metadata": {
    "ExecuteTime": {
     "end_time": "2020-04-30T07:15:53.197462Z",
     "start_time": "2020-04-30T07:15:53.188468Z"
    }
   },
   "outputs": [
    {
     "name": "stdout",
     "output_type": "stream",
     "text": [
      "5\n"
     ]
    }
   ],
   "source": [
    "# Definition for singly-linked list.\n",
    "class Solution:\n",
    "    def removeDuplicates(self, nums: [int]) -> int:\n",
    "\n",
    "        nums_len = len(nums)\n",
    "        j = 0\n",
    "        i = 1\n",
    "        k = 0 #前移步数\n",
    "        flag = False #标记是否在记录相同数字个数，又遇到了不同的数字（如一来遇到不同的数字，只需移动而不需要进行前移操作）\n",
    "        while i < nums_len:\n",
    "            if nums[j] == nums[i]:\n",
    "                i += 1\n",
    "                k += 1\n",
    "                flag = True\n",
    "            elif not flag:\n",
    "                i += 1\n",
    "                j += 1\n",
    "            else:\n",
    "                nums_len -= k #进行了前移操作，因此减小长度\n",
    "                for m in range(j+1,nums_len):\n",
    "                    nums[m] = nums[m+k]\n",
    "                k = 0\n",
    "                j += 1\n",
    "                i = j +1\n",
    "\n",
    "        return j+1\n",
    "\n",
    "s = Solution()\n",
    "print(s.removeDuplicates([0,0,1,1,1,2,2,3,3,4]))\n"
   ]
  },
  {
   "cell_type": "markdown",
   "metadata": {
    "ExecuteTime": {
     "end_time": "2020-04-30T07:15:18.056111Z",
     "start_time": "2020-04-30T07:15:18.052115Z"
    }
   },
   "source": [
    "# 答案"
   ]
  },
  {
   "cell_type": "markdown",
   "metadata": {},
   "source": [
    "## 暴力优化法"
   ]
  },
  {
   "cell_type": "code",
   "execution_count": 4,
   "metadata": {
    "ExecuteTime": {
     "end_time": "2020-04-30T07:23:21.064142Z",
     "start_time": "2020-04-30T07:23:21.055147Z"
    }
   },
   "outputs": [],
   "source": [
    "class Solution:\n",
    "    def removeDuplicates(self, nums: [int]) -> int:\n",
    "        nums_len = len(nums)\n",
    "        j = 0\n",
    "        i = 1\n",
    "        k = 0\n",
    "        flag = False\n",
    "        while i < nums_len:\n",
    "            if nums[j] == nums[i]:\n",
    "                i += 1\n",
    "                k += 1\n",
    "                flag = True\n",
    "            elif not flag:\n",
    "                i += 1\n",
    "                j += 1\n",
    "            else:\n",
    "                nums_len -= k\n",
    "                for m in range(j+1,nums_len):\n",
    "                    nums[m] = nums[m+k]\n",
    "                k = 0\n",
    "                j += 1\n",
    "                i = j +1\n",
    "\n",
    "        return j+1"
   ]
  },
  {
   "cell_type": "markdown",
   "metadata": {},
   "source": [
    "## 三指针"
   ]
  },
  {
   "cell_type": "code",
   "execution_count": 7,
   "metadata": {
    "ExecuteTime": {
     "end_time": "2020-04-30T08:04:26.170856Z",
     "start_time": "2020-04-30T08:04:26.163860Z"
    }
   },
   "outputs": [],
   "source": [
    "class Solution:\n",
    "    def removeDuplicates(self, nums: [int]) -> int:\n",
    "        nums_len = len(nums)\n",
    "        if nums_len < 1:\n",
    "            return 0\n",
    "        j = 0\n",
    "        i = 1\n",
    "        k = 1 #插入位置记录\n",
    "        while i < nums_len:\n",
    "            if nums[j] == nums[i]:\n",
    "                i += 1\n",
    "            else:\n",
    "                nums[k] = nums[i]\n",
    "                j = i\n",
    "                i += 1\n",
    "                k += 1\n",
    "        return k"
   ]
  },
  {
   "cell_type": "markdown",
   "metadata": {},
   "source": [
    "## 双指针"
   ]
  },
  {
   "cell_type": "markdown",
   "metadata": {},
   "source": [
    "三指针进一步优化为双指针"
   ]
  },
  {
   "cell_type": "code",
   "execution_count": 9,
   "metadata": {
    "ExecuteTime": {
     "end_time": "2020-04-30T08:04:40.461600Z",
     "start_time": "2020-04-30T08:04:40.454604Z"
    }
   },
   "outputs": [],
   "source": [
    "class Solution:\n",
    "    def removeDuplicates(self, nums: [int]) -> int:\n",
    "        nums_len = len(nums)\n",
    "        if nums_len < 1:\n",
    "            return 0\n",
    "        j = 0\n",
    "        i = 1\n",
    "        while i < nums_len:\n",
    "            if nums[j] == nums[i]:\n",
    "                i += 1\n",
    "            else:\n",
    "                j += 1\n",
    "                nums[j] = nums[i]\n",
    "                i += 1\n",
    "\n",
    "        return j+1"
   ]
  }
 ],
 "metadata": {
  "hide_input": false,
  "kernelspec": {
   "display_name": "Python 3",
   "language": "python",
   "name": "python3"
  },
  "language_info": {
   "codemirror_mode": {
    "name": "ipython",
    "version": 3
   },
   "file_extension": ".py",
   "mimetype": "text/x-python",
   "name": "python",
   "nbconvert_exporter": "python",
   "pygments_lexer": "ipython3",
   "version": "3.7.0"
  },
  "toc": {
   "base_numbering": 1,
   "nav_menu": {},
   "number_sections": true,
   "sideBar": true,
   "skip_h1_title": false,
   "title_cell": "Table of Contents",
   "title_sidebar": "Contents",
   "toc_cell": false,
   "toc_position": {},
   "toc_section_display": true,
   "toc_window_display": false
  },
  "varInspector": {
   "cols": {
    "lenName": 16,
    "lenType": 16,
    "lenVar": 40
   },
   "kernels_config": {
    "python": {
     "delete_cmd_postfix": "",
     "delete_cmd_prefix": "del ",
     "library": "var_list.py",
     "varRefreshCmd": "print(var_dic_list())"
    },
    "r": {
     "delete_cmd_postfix": ") ",
     "delete_cmd_prefix": "rm(",
     "library": "var_list.r",
     "varRefreshCmd": "cat(var_dic_list()) "
    }
   },
   "types_to_exclude": [
    "module",
    "function",
    "builtin_function_or_method",
    "instance",
    "_Feature"
   ],
   "window_display": false
  }
 },
 "nbformat": 4,
 "nbformat_minor": 2
}
