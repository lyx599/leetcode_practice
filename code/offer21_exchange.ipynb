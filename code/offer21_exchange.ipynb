{
 "cells": [
  {
   "cell_type": "markdown",
   "metadata": {},
   "source": [
    "# 面试题21\t调整数组顺序使奇数位于偶数前面  "
   ]
  },
  {
   "cell_type": "markdown",
   "metadata": {},
   "source": [
    "思路：\n",
    "- 首尾双指针\n",
    "    - 定义首尾两个指针指向列表的首尾\n",
    "    - 前指针向后查找到偶数停下，后指针向前查找到奇数停下\n",
    "    - 交换前后指针指向的元素\n",
    "    - 继续前面的查找，直到前后指针指向同一个元素停止\n",
    "    - 时间复杂度 $O(n)$  遍历一遍数组\n",
    "    - 空间复杂度 $O(1)$  使用了常数大小辅助空间\n",
    "- 快慢双指针\n",
    "    - 定义快慢两个指针都指向列表的头部\n",
    "    - 用快指针寻找奇数，慢指针指向下一个奇数存储的位置，快指针找到奇数后和慢指针进行交换\n",
    "    - 交换后，慢指针向前移一步\n",
    "    - 重复上述操作，直到快指针遍历完数组\n",
    "    - 时间复杂度 $O(n)$  遍历一遍数组\n",
    "    - 空间复杂度 $O(1)$  使用了常数大小辅助空间"
   ]
  },
  {
   "cell_type": "markdown",
   "metadata": {
    "ExecuteTime": {
     "end_time": "2020-06-17T06:57:14.574374Z",
     "start_time": "2020-06-17T06:57:14.570366Z"
    }
   },
   "source": [
    "注意："
   ]
  },
  {
   "cell_type": "code",
   "execution_count": 3,
   "metadata": {
    "ExecuteTime": {
     "end_time": "2020-06-17T06:57:25.270777Z",
     "start_time": "2020-06-17T06:57:25.267775Z"
    }
   },
   "outputs": [
    {
     "name": "stdout",
     "output_type": "stream",
     "text": [
      "[1, 3, 2, 4]\n"
     ]
    }
   ],
   "source": [
    "class Solution:\n",
    "    def exchange(self, nums: [int]) -> [int]:\n",
    "\n",
    "        nums_len = len(nums)\n",
    "        first = 0\n",
    "        tail = nums_len - 1\n",
    "        while first < tail:\n",
    "            while nums[first] & 1 and first < tail:\n",
    "                first += 1\n",
    "            while not nums[tail] & 1 and first < tail:\n",
    "                tail -= 1\n",
    "            temp = nums[first]\n",
    "            nums[first] = nums[tail]\n",
    "            nums[tail] = temp\n",
    "        return nums\n",
    "\n",
    "\n",
    "s = Solution()\n",
    "print(s.exchange([1, 2, 3, 4]))"
   ]
  },
  {
   "cell_type": "markdown",
   "metadata": {},
   "source": [
    "# 答案"
   ]
  },
  {
   "cell_type": "markdown",
   "metadata": {},
   "source": [
    "## 首尾双指针"
   ]
  },
  {
   "cell_type": "code",
   "execution_count": 5,
   "metadata": {
    "ExecuteTime": {
     "end_time": "2020-06-17T06:57:42.199589Z",
     "start_time": "2020-06-17T06:57:42.195588Z"
    }
   },
   "outputs": [],
   "source": [
    "class Solution:\n",
    "    def exchange(self, nums: [int]) -> [int]:\n",
    "        nums_len = len(nums)\n",
    "        first = 0\n",
    "        tail = nums_len - 1\n",
    "        while first < tail:\n",
    "            while nums[first] & 1 and first < tail:\n",
    "                first += 1\n",
    "            while not nums[tail] & 1 and first < tail:\n",
    "                tail -= 1\n",
    "            temp = nums[first]\n",
    "            nums[first] = nums[tail]\n",
    "            nums[tail] = temp\n",
    "        return nums"
   ]
  },
  {
   "cell_type": "markdown",
   "metadata": {},
   "source": [
    "## 快慢双指针"
   ]
  },
  {
   "cell_type": "code",
   "execution_count": 7,
   "metadata": {
    "ExecuteTime": {
     "end_time": "2020-06-17T07:28:23.216374Z",
     "start_time": "2020-06-17T07:28:23.212358Z"
    }
   },
   "outputs": [],
   "source": [
    "class Solution:\n",
    "    def exchange(self, nums: [int]) -> [int]:\n",
    "        nums_len = len(nums)\n",
    "        fast = 0\n",
    "        slow = 0\n",
    "        while fast < nums_len:\n",
    "            if nums[fast] & 1:\n",
    "                temp = nums[slow]\n",
    "                nums[slow] = nums[fast]\n",
    "                nums[fast] = temp\n",
    "                slow += 1\n",
    "            fast += 1\n",
    "        return nums"
   ]
  }
 ],
 "metadata": {
  "kernelspec": {
   "display_name": "Python 3",
   "language": "python",
   "name": "python3"
  },
  "language_info": {
   "codemirror_mode": {
    "name": "ipython",
    "version": 3
   },
   "file_extension": ".py",
   "mimetype": "text/x-python",
   "name": "python",
   "nbconvert_exporter": "python",
   "pygments_lexer": "ipython3",
   "version": "3.7.0"
  },
  "toc": {
   "base_numbering": 1,
   "nav_menu": {},
   "number_sections": true,
   "sideBar": true,
   "skip_h1_title": false,
   "title_cell": "Table of Contents",
   "title_sidebar": "Contents",
   "toc_cell": false,
   "toc_position": {},
   "toc_section_display": true,
   "toc_window_display": false
  },
  "varInspector": {
   "cols": {
    "lenName": 16,
    "lenType": 16,
    "lenVar": 40
   },
   "kernels_config": {
    "python": {
     "delete_cmd_postfix": "",
     "delete_cmd_prefix": "del ",
     "library": "var_list.py",
     "varRefreshCmd": "print(var_dic_list())"
    },
    "r": {
     "delete_cmd_postfix": ") ",
     "delete_cmd_prefix": "rm(",
     "library": "var_list.r",
     "varRefreshCmd": "cat(var_dic_list()) "
    }
   },
   "types_to_exclude": [
    "module",
    "function",
    "builtin_function_or_method",
    "instance",
    "_Feature"
   ],
   "window_display": false
  }
 },
 "nbformat": 4,
 "nbformat_minor": 2
}
