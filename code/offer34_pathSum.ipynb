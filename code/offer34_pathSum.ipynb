{
 "cells": [
  {
   "cell_type": "markdown",
   "metadata": {},
   "source": [
    "# 剑指 Offer 34\t二叉树中和为某一值的路径  "
   ]
  },
  {
   "cell_type": "markdown",
   "metadata": {},
   "source": [
    "思路：\n",
    "- 回溯法\n",
    "    - 路径问题，需要路径恢复，故使用回溯法\n",
    "    - 采用先序遍历，遍历二叉树\n",
    "    - 递归出口，当前节点为叶节点且等于sum值，则将结果加入ans变量中\n",
    "    - 时间复杂度 $O(N)$：N 为二叉树的节点数，先序遍历需要遍历所有节点\n",
    "    - 空间复杂度 $O(N)$：最差情况下，即树退化为链表时，path 存储所有树节点，使用 $O(N)$ 额外空间\n",
    "- 迭代 + DFS\n",
    "- 迭代 + BFS"
   ]
  },
  {
   "cell_type": "markdown",
   "metadata": {},
   "source": [
    "注意：\n",
    "- 记录路径时若直接执行 ans.append(path) ，则是将 path 对象加入了 ans ；后续 path 改变时， ans 中的 path 对象也会随之改变,需使用 ans.append(list(path))"
   ]
  },
  {
   "cell_type": "code",
   "execution_count": 13,
   "metadata": {
    "ExecuteTime": {
     "end_time": "2020-06-30T14:32:39.617416Z",
     "start_time": "2020-06-30T14:32:39.612418Z"
    }
   },
   "outputs": [],
   "source": [
    "# Definition for a binary tree node.\n",
    "class TreeNode:\n",
    "    def __init__(self, x):\n",
    "        self.val = x\n",
    "        self.left = None\n",
    "        self.right = None\n",
    "\n",
    "\n",
    "class Solution:\n",
    "    def pathSum(self, root: TreeNode, sum: int) -> [[int]]:\n",
    "        if not root:\n",
    "            return []\n",
    "        ans = []\n",
    "        path = []\n",
    "        self.recur(root, sum, path, ans)\n",
    "        return ans\n",
    "\n",
    "    def recur(self, root: TreeNode, amount, path, ans):\n",
    "        path.append(root.val)\n",
    "        if not root.left and not root.right and sum(path) == amount:\n",
    "            ans.append(list(path))\n",
    "            return True\n",
    "#         本来想进行剪枝，但是对负数会错误判断\n",
    "#         if sum(path) > amount:\n",
    "#             return False\n",
    "        if root.left:\n",
    "            self.recur(root.left, amount, path, ans)\n",
    "            path.pop()\n",
    "        if root.right:\n",
    "            self.recur(root.right, amount, path, ans)\n",
    "            path.pop()"
   ]
  },
  {
   "cell_type": "markdown",
   "metadata": {},
   "source": [
    "# 答案"
   ]
  },
  {
   "cell_type": "markdown",
   "metadata": {},
   "source": [
    "## 回溯法"
   ]
  },
  {
   "cell_type": "code",
   "execution_count": 16,
   "metadata": {
    "ExecuteTime": {
     "end_time": "2020-07-01T07:11:38.543514Z",
     "start_time": "2020-07-01T07:11:38.534520Z"
    }
   },
   "outputs": [],
   "source": [
    "# Definition for a binary tree node.\n",
    "# class TreeNode:\n",
    "#     def __init__(self, x):\n",
    "#         self.val = x\n",
    "#         self.left = None\n",
    "#         self.right = None\n",
    "\n",
    "class Solution:\n",
    "    def pathSum(self, root: TreeNode, sum: int) -> [[int]]:\n",
    "        if not root:\n",
    "            return []\n",
    "        ans = []\n",
    "        path = []\n",
    "        self.recur(root, sum, path, ans)\n",
    "        return ans\n",
    "\n",
    "    def recur(self, root: TreeNode, amount, path, ans):\n",
    "        path.append(root.val)\n",
    "        if not root.left and not root.right and sum(path) == amount:\n",
    "            ans.append(list(path))\n",
    "            return True\n",
    "        if root.left:\n",
    "            self.recur(root.left, amount, path, ans)\n",
    "            path.pop()\n",
    "        if root.right:\n",
    "            self.recur(root.right, amount, path, ans)\n",
    "            path.pop()"
   ]
  },
  {
   "cell_type": "markdown",
   "metadata": {},
   "source": [
    "## 迭代法 + DFS"
   ]
  },
  {
   "cell_type": "code",
   "execution_count": 19,
   "metadata": {
    "ExecuteTime": {
     "end_time": "2020-07-01T07:22:30.092044Z",
     "start_time": "2020-07-01T07:22:30.088059Z"
    }
   },
   "outputs": [],
   "source": [
    "# Definition for a binary tree node.\n",
    "# class TreeNode:\n",
    "#     def __init__(self, x):\n",
    "#         self.val = x\n",
    "#         self.left = None\n",
    "#         self.right = None\n",
    "\n",
    "class Solution:\n",
    "    def pathSum(self, root: TreeNode, sum: int) -> [[int]]:\n",
    "        if not root:\n",
    "            return []\n",
    "        stack = [(root, root.val, [root.val])]\n",
    "        ans = []\n",
    "        while stack:\n",
    "            node, val, path = stack.pop()\n",
    "            if not node.left and not node.right and val == sum:\n",
    "                ans.append(path)\n",
    "                continue\n",
    "            if node.right:\n",
    "                stack.append((node.right, val + node.right.val, path + [node.right.val]))\n",
    "            if node.left:\n",
    "                stack.append((node.left, val + node.left.val, path + [node.left.val]))\n",
    "        return ans"
   ]
  },
  {
   "cell_type": "markdown",
   "metadata": {},
   "source": [
    "## 迭代法 + BFS"
   ]
  },
  {
   "cell_type": "code",
   "execution_count": 20,
   "metadata": {
    "ExecuteTime": {
     "end_time": "2020-07-01T07:22:47.089909Z",
     "start_time": "2020-07-01T07:22:47.084913Z"
    }
   },
   "outputs": [],
   "source": [
    "# Definition for a binary tree node.\n",
    "# class TreeNode:\n",
    "#     def __init__(self, x):\n",
    "#         self.val = x\n",
    "#         self.left = None\n",
    "#         self.right = None\n",
    "\n",
    "class Solution:\n",
    "    def pathSum(self, root: TreeNode, sum: int) -> [[int]]:\n",
    "        import collections\n",
    "        if not root:\n",
    "            return []\n",
    "        queue = collections.deque()\n",
    "        queue.append((root, root.val, [root.val]))\n",
    "        ans = []\n",
    "        while queue:\n",
    "            node, val, path = queue.popleft()\n",
    "            if not node.left and not node.right and val == sum:\n",
    "                ans.append(path)\n",
    "                continue\n",
    "            if node.right:\n",
    "                queue.append((node.right, val + node.right.val, path + [node.right.val]))\n",
    "            if node.left:\n",
    "                queue.append((node.left, val + node.left.val, path + [node.left.val]))\n",
    "        return ans"
   ]
  }
 ],
 "metadata": {
  "kernelspec": {
   "display_name": "Python 3",
   "language": "python",
   "name": "python3"
  },
  "language_info": {
   "codemirror_mode": {
    "name": "ipython",
    "version": 3
   },
   "file_extension": ".py",
   "mimetype": "text/x-python",
   "name": "python",
   "nbconvert_exporter": "python",
   "pygments_lexer": "ipython3",
   "version": "3.7.0"
  },
  "toc": {
   "base_numbering": 1,
   "nav_menu": {},
   "number_sections": true,
   "sideBar": true,
   "skip_h1_title": false,
   "title_cell": "Table of Contents",
   "title_sidebar": "Contents",
   "toc_cell": false,
   "toc_position": {},
   "toc_section_display": true,
   "toc_window_display": false
  },
  "varInspector": {
   "cols": {
    "lenName": 16,
    "lenType": 16,
    "lenVar": 40
   },
   "kernels_config": {
    "python": {
     "delete_cmd_postfix": "",
     "delete_cmd_prefix": "del ",
     "library": "var_list.py",
     "varRefreshCmd": "print(var_dic_list())"
    },
    "r": {
     "delete_cmd_postfix": ") ",
     "delete_cmd_prefix": "rm(",
     "library": "var_list.r",
     "varRefreshCmd": "cat(var_dic_list()) "
    }
   },
   "types_to_exclude": [
    "module",
    "function",
    "builtin_function_or_method",
    "instance",
    "_Feature"
   ],
   "window_display": false
  }
 },
 "nbformat": 4,
 "nbformat_minor": 2
}
