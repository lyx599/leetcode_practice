{
 "cells": [
  {
   "cell_type": "markdown",
   "metadata": {},
   "source": [
    "# 盛最多水的容器"
   ]
  },
  {
   "cell_type": "markdown",
   "metadata": {},
   "source": [
    "思路：\n",
    "- 暴力法\n",
    "    - 遍历所有组合，对面积进行计算并找出最大面积\n",
    "- 双指针法\n",
    "    - 思路在于，两线段之间形成的区域总是会受到其中较短那条长度的限制。此外，两线段距离越远，得到的面积就越大\n",
    "    - 因此放置两个指针在首尾，比较指针指向的长度，每次向中间移动指向较短长度的指针，此时就跳过了当前较短长度与其他长度的一些组合，因为这些组合一定小于当前的面积，从而优化了计算"
   ]
  },
  {
   "cell_type": "markdown",
   "metadata": {},
   "source": [
    "注意：\n",
    "- 简单解释双指针法，因为向中间移动减小了宽度，而长依靠最短长度的线段，一定是移动较短的长度的指针才会可能增大面积\n",
    "- 双指针详细推导：https://leetcode-cn.com/problems/container-with-most-water/solution/shuang-zhi-zhen-fa-zheng-que-xing-zheng-ming-by-r3/\n",
    "- 双指针本质是对暴力法的优化"
   ]
  },
  {
   "cell_type": "markdown",
   "metadata": {},
   "source": [
    "自己的解法：暴力法，遍历所有组合，对面积进行计算并找出最大面积，提交会`超时`"
   ]
  },
  {
   "cell_type": "code",
   "execution_count": 2,
   "metadata": {
    "ExecuteTime": {
     "end_time": "2020-04-14T03:24:57.549865Z",
     "start_time": "2020-04-14T03:24:57.542871Z"
    }
   },
   "outputs": [
    {
     "name": "stdout",
     "output_type": "stream",
     "text": [
      "49\n"
     ]
    }
   ],
   "source": [
    "class Solution(object):\n",
    "    def maxArea(height):\n",
    "        \"\"\"\n",
    "        :type height: List[int]\n",
    "        :rtype: int\n",
    "        \"\"\"\n",
    "        list_len = len(height)\n",
    "        max_area = 0\n",
    "        for i in range(list_len):\n",
    "            for j in range(i+1,list_len):\n",
    "                length = abs(j - i)\n",
    "                wide = min(height[i],height[j])\n",
    "                area = length * wide\n",
    "                if area > max_area:\n",
    "                    max_area = area\n",
    "        return max_area\n",
    "\n",
    "\n",
    "if __name__ == '__main__':\n",
    "    print(Solution.maxArea([1,8,6,2,5,4,8,3,7]))"
   ]
  },
  {
   "cell_type": "markdown",
   "metadata": {},
   "source": [
    "# 答案"
   ]
  },
  {
   "cell_type": "markdown",
   "metadata": {
    "ExecuteTime": {
     "end_time": "2020-04-14T03:50:12.953891Z",
     "start_time": "2020-04-14T03:50:12.949893Z"
    }
   },
   "source": [
    "## 暴力法"
   ]
  },
  {
   "cell_type": "code",
   "execution_count": 6,
   "metadata": {
    "ExecuteTime": {
     "end_time": "2020-04-14T03:51:31.328982Z",
     "start_time": "2020-04-14T03:51:31.321987Z"
    }
   },
   "outputs": [],
   "source": [
    "class Solution(object):\n",
    "    def maxArea(self, height):\n",
    "        \"\"\"\n",
    "        :type height: List[int]\n",
    "        :rtype: int\n",
    "        \"\"\"\n",
    "        list_len = len(height)\n",
    "        max_area = 0\n",
    "        for i in range(list_len):\n",
    "            for j in range(i+1,list_len):\n",
    "                length = abs(j - i)\n",
    "                wide = min(height[i],height[j])\n",
    "                area = length * wide\n",
    "                if area > max_area:\n",
    "                    max_area = area\n",
    "        return max_area"
   ]
  },
  {
   "cell_type": "markdown",
   "metadata": {},
   "source": [
    "## 双指针法"
   ]
  },
  {
   "cell_type": "code",
   "execution_count": 4,
   "metadata": {
    "ExecuteTime": {
     "end_time": "2020-04-14T03:51:08.006581Z",
     "start_time": "2020-04-14T03:51:08.000583Z"
    }
   },
   "outputs": [],
   "source": [
    "class Solution(object):\n",
    "    def maxArea(self, height):\n",
    "        \"\"\"\n",
    "        :type height: List[int]\n",
    "        :rtype: int\n",
    "        \"\"\"\n",
    "        i = 0\n",
    "        j = len(height) - 1\n",
    "        max_area = 0\n",
    "        while(i < j):\n",
    "            if height[i] < height[j]:\n",
    "                max_area = max(max_area,height[i] * (j - i))\n",
    "                i += 1\n",
    "            else:\n",
    "                max_area = max(max_area, height[j] * (j - i))\n",
    "                j -= 1\n",
    "\n",
    "        return max_area"
   ]
  }
 ],
 "metadata": {
  "hide_input": false,
  "kernelspec": {
   "display_name": "Python 3",
   "language": "python",
   "name": "python3"
  },
  "language_info": {
   "codemirror_mode": {
    "name": "ipython",
    "version": 3
   },
   "file_extension": ".py",
   "mimetype": "text/x-python",
   "name": "python",
   "nbconvert_exporter": "python",
   "pygments_lexer": "ipython3",
   "version": "3.7.0"
  },
  "toc": {
   "base_numbering": 1,
   "nav_menu": {},
   "number_sections": true,
   "sideBar": true,
   "skip_h1_title": false,
   "title_cell": "Table of Contents",
   "title_sidebar": "Contents",
   "toc_cell": false,
   "toc_position": {},
   "toc_section_display": true,
   "toc_window_display": false
  },
  "varInspector": {
   "cols": {
    "lenName": 16,
    "lenType": 16,
    "lenVar": 40
   },
   "kernels_config": {
    "python": {
     "delete_cmd_postfix": "",
     "delete_cmd_prefix": "del ",
     "library": "var_list.py",
     "varRefreshCmd": "print(var_dic_list())"
    },
    "r": {
     "delete_cmd_postfix": ") ",
     "delete_cmd_prefix": "rm(",
     "library": "var_list.r",
     "varRefreshCmd": "cat(var_dic_list()) "
    }
   },
   "types_to_exclude": [
    "module",
    "function",
    "builtin_function_or_method",
    "instance",
    "_Feature"
   ],
   "window_display": false
  }
 },
 "nbformat": 4,
 "nbformat_minor": 2
}
