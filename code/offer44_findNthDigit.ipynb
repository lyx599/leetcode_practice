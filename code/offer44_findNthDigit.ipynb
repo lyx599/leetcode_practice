{
 "cells": [
  {
   "cell_type": "markdown",
   "metadata": {},
   "source": [
    "# 剑指 Offer 44\t数字序列中某一位的数字  "
   ]
  },
  {
   "cell_type": "markdown",
   "metadata": {},
   "source": [
    "思路：\n",
    "- 找规律\n",
    "    - 根据位数分组，找出每个组数量的规律\n",
    "    - 通过n 与 每个组数量的减去比较，找出在那个分组\n",
    "    - 通过(n - 1) // digit 找出数字num\n",
    "    - 通过str(num)[(n - 1) % digit] 找出在数字的第几位\n",
    "    - 时间复杂度 $O(\\log n)$ ： 所求数位 n 对应数字 num 的位数 digit 最大为 $O(\\log n)$ ；第一步最多循环 $O(\\log n)$ 次；第三步中将 num 转化为字符串使用 $O(\\log n)$ 时间；因此总体为 $O(\\log n)$ 。\n",
    "    - 空间复杂度 $O(\\log n)$ ： 将数字 num 转化为字符串 str(num) ，占用 $O(\\log n)$ 的额外空间。\n",
    "    - https://leetcode-cn.com/problems/shu-zi-xu-lie-zhong-mou-yi-wei-de-shu-zi-lcof/solution/mian-shi-ti-44-shu-zi-xu-lie-zhong-mou-yi-wei-de-6/"
   ]
  },
  {
   "cell_type": "markdown",
   "metadata": {},
   "source": [
    "注意："
   ]
  },
  {
   "cell_type": "markdown",
   "metadata": {},
   "source": [
    "前面的0对分组找规律对我产生了一些误导\n",
    "\n",
    "分组好想到，难得是找出数字和数字的位数"
   ]
  },
  {
   "cell_type": "markdown",
   "metadata": {},
   "source": [
    "# 答案"
   ]
  },
  {
   "cell_type": "markdown",
   "metadata": {},
   "source": [
    "## 找规律"
   ]
  },
  {
   "cell_type": "code",
   "execution_count": 1,
   "metadata": {
    "ExecuteTime": {
     "end_time": "2020-07-13T08:17:48.217897Z",
     "start_time": "2020-07-13T08:17:48.213895Z"
    }
   },
   "outputs": [],
   "source": [
    "class Solution:\n",
    "    def findNthDigit(self, n: int) -> int:\n",
    "        start, digit = 1, 1\n",
    "        count = 9\n",
    "        while n > count:\n",
    "            n -= count\n",
    "            start = start * 10\n",
    "            digit = digit + 1\n",
    "            count = 9 * digit * start\n",
    "        num = start + (n - 1) // digit\n",
    "        ans = str(num)[(n - 1) % digit]\n",
    "        return int(ans)"
   ]
  }
 ],
 "metadata": {
  "kernelspec": {
   "display_name": "Python 3",
   "language": "python",
   "name": "python3"
  },
  "language_info": {
   "codemirror_mode": {
    "name": "ipython",
    "version": 3
   },
   "file_extension": ".py",
   "mimetype": "text/x-python",
   "name": "python",
   "nbconvert_exporter": "python",
   "pygments_lexer": "ipython3",
   "version": "3.7.0"
  },
  "toc": {
   "base_numbering": 1,
   "nav_menu": {},
   "number_sections": true,
   "sideBar": true,
   "skip_h1_title": false,
   "title_cell": "Table of Contents",
   "title_sidebar": "Contents",
   "toc_cell": false,
   "toc_position": {},
   "toc_section_display": true,
   "toc_window_display": false
  },
  "varInspector": {
   "cols": {
    "lenName": 16,
    "lenType": 16,
    "lenVar": 40
   },
   "kernels_config": {
    "python": {
     "delete_cmd_postfix": "",
     "delete_cmd_prefix": "del ",
     "library": "var_list.py",
     "varRefreshCmd": "print(var_dic_list())"
    },
    "r": {
     "delete_cmd_postfix": ") ",
     "delete_cmd_prefix": "rm(",
     "library": "var_list.r",
     "varRefreshCmd": "cat(var_dic_list()) "
    }
   },
   "types_to_exclude": [
    "module",
    "function",
    "builtin_function_or_method",
    "instance",
    "_Feature"
   ],
   "window_display": false
  }
 },
 "nbformat": 4,
 "nbformat_minor": 4
}
