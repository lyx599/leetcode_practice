{
 "cells": [
  {
   "cell_type": "markdown",
   "metadata": {},
   "source": [
    "# 剑指 Offer 38\t字符串的排列  "
   ]
  },
  {
   "cell_type": "markdown",
   "metadata": {},
   "source": [
    "思路：\n",
    "- 回溯法\n",
    "    - 对于一个长度为 n 的字符串（假设字符互不重复），其排列共有 $n \\times (n-1) \\times (n-2) … \\times 2 \\times 1$ 种方案。\n",
    "    - 解决思路就和上面排列思路一样，每个位置根据每次选择不同的字符进行排列，本质上是暴力法\n",
    "    - 时间复杂度 $O(N!)$ ： N 为字符串 s 的长度；时间复杂度和字符串排列的方案数成线性关系，方案数为 $N \\times (N-1) \\times (N-2) … \\times 2 \\times 1$ ，因此复杂度为 $O(N!)$ 。\n",
    "    - 空间复杂度 $O\\left(N^{2}\\right)$ ：全排列的递归深度为 N ，系统累计使用栈空间大小为 $O(N)$；递归中辅助 Set 累计存储的字符数量最多为 $N + (N-1) + ... + 2 + 1 = (N+1)N/2$ ，即占用 $O\\left(N^{2}\\right)$ 的额外空间。\n",
    "    - https://leetcode-cn.com/problems/zi-fu-chuan-de-pai-lie-lcof/solution/mian-shi-ti-38-zi-fu-chuan-de-pai-lie-hui-su-fa-by/"
   ]
  },
  {
   "cell_type": "markdown",
   "metadata": {},
   "source": [
    "注意："
   ]
  },
  {
   "cell_type": "markdown",
   "metadata": {},
   "source": [
    "回溯法，只能处理字符串没有重复的字符的情况\n",
    "\n",
    "考虑到了重复的问题，尝试提交果然存在重复字符串，没有找到解决重复问题的思路\n",
    "\n",
    "对于不存在重复字符，这个方法也做了很多次重复无效的判断 if item not in visited:"
   ]
  },
  {
   "cell_type": "code",
   "execution_count": 1,
   "metadata": {
    "ExecuteTime": {
     "end_time": "2020-07-05T11:49:21.329373Z",
     "start_time": "2020-07-05T11:49:21.322372Z"
    }
   },
   "outputs": [
    {
     "name": "stdout",
     "output_type": "stream",
     "text": [
      "['cba', 'bca', 'cab', 'acb', 'bac', 'abc']\n"
     ]
    }
   ],
   "source": [
    "class Solution:\n",
    "    def permutation(self, s: str) -> [str]:\n",
    "\n",
    "        s_list = list(s)\n",
    "        ans = []\n",
    "        visited = []\n",
    "\n",
    "        def dfs(order):\n",
    "            if len(s_list) == len(visited):\n",
    "                ans.append(order)\n",
    "                return\n",
    "            for item in s_list:\n",
    "                if item not in visited:\n",
    "                    visited.append(item)\n",
    "                    dfs(item + order)\n",
    "                    visited.remove(item)\n",
    "\n",
    "        dfs('')\n",
    "        return ans\n",
    "\n",
    "\n",
    "s = Solution()\n",
    "print(s.permutation(\"abc\"))"
   ]
  },
  {
   "cell_type": "markdown",
   "metadata": {},
   "source": [
    "通过交换位置来定位每个元素，巧妙的解决了元素是否使用过的问题，不用设置visited并在里面去查找是否使用过，解决了重复元素的问题---这是重复元素问题的关键\n",
    "\n",
    "这种交换位置才实现了递归的减少问题规模大小\n",
    "\n",
    "设置了一个set来进行判重，进而对递归进行剪枝，相当于在每一层（把每一次多个候选项看作一层）都进行了判断"
   ]
  },
  {
   "cell_type": "code",
   "execution_count": 2,
   "metadata": {
    "ExecuteTime": {
     "end_time": "2020-07-05T11:49:21.370382Z",
     "start_time": "2020-07-05T11:49:21.364387Z"
    }
   },
   "outputs": [
    {
     "name": "stdout",
     "output_type": "stream",
     "text": [
      "['aba', 'aab', 'baa']\n"
     ]
    }
   ],
   "source": [
    "class Solution:\n",
    "    def permutation(self, s: str) -> [str]:\n",
    "\n",
    "        s_list = list(s)\n",
    "        ans = []\n",
    "\n",
    "        def dfs(index):\n",
    "            if index == len(s) - 1:\n",
    "                ans.append(''.join(s_list))\n",
    "                return\n",
    "            duplicate = set()\n",
    "            for i in range(index, len(s)):\n",
    "                if s_list[i] in duplicate:\n",
    "                    continue\n",
    "                duplicate.add(s_list[i])\n",
    "                # 交换位置，固定每个元素（相当于通过交换位置来实现了全排列）\n",
    "                s_list[i], s_list[index] = s_list[index], s_list[i]\n",
    "                dfs(index + 1)\n",
    "                s_list[i], s_list[index] = s_list[index], s_list[i]\n",
    "\n",
    "        dfs(0)\n",
    "        return ans\n",
    "\n",
    "\n",
    "s = Solution()\n",
    "print(s.permutation(\"aba\"))\n"
   ]
  },
  {
   "cell_type": "markdown",
   "metadata": {},
   "source": [
    "# 答案"
   ]
  },
  {
   "cell_type": "markdown",
   "metadata": {},
   "source": [
    "## 回溯法"
   ]
  },
  {
   "cell_type": "code",
   "execution_count": 3,
   "metadata": {
    "ExecuteTime": {
     "end_time": "2020-07-05T11:49:21.376383Z",
     "start_time": "2020-07-05T11:49:21.371381Z"
    }
   },
   "outputs": [],
   "source": [
    "class Solution:\n",
    "    def permutation(self, s: str) -> [str]:\n",
    "        s_list = list(s)\n",
    "        ans = []\n",
    "\n",
    "        def dfs(index):\n",
    "            if index == len(s) - 1:\n",
    "                ans.append(''.join(s_list))\n",
    "                return\n",
    "            duplicate = set()\n",
    "            for i in range(index, len(s)):\n",
    "                if s_list[i] in duplicate:\n",
    "                    continue\n",
    "                duplicate.add(s_list[i])\n",
    "                s_list[i], s_list[index] = s_list[index], s_list[i]\n",
    "                dfs(index + 1)\n",
    "                s_list[i], s_list[index] = s_list[index], s_list[i]\n",
    "\n",
    "        dfs(0)\n",
    "        return ans"
   ]
  }
 ],
 "metadata": {
  "kernelspec": {
   "display_name": "Python 3",
   "language": "python",
   "name": "python3"
  },
  "language_info": {
   "codemirror_mode": {
    "name": "ipython",
    "version": 3
   },
   "file_extension": ".py",
   "mimetype": "text/x-python",
   "name": "python",
   "nbconvert_exporter": "python",
   "pygments_lexer": "ipython3",
   "version": "3.7.0"
  },
  "toc": {
   "base_numbering": 1,
   "nav_menu": {},
   "number_sections": true,
   "sideBar": true,
   "skip_h1_title": false,
   "title_cell": "Table of Contents",
   "title_sidebar": "Contents",
   "toc_cell": false,
   "toc_position": {},
   "toc_section_display": true,
   "toc_window_display": false
  },
  "varInspector": {
   "cols": {
    "lenName": 16,
    "lenType": 16,
    "lenVar": 40
   },
   "kernels_config": {
    "python": {
     "delete_cmd_postfix": "",
     "delete_cmd_prefix": "del ",
     "library": "var_list.py",
     "varRefreshCmd": "print(var_dic_list())"
    },
    "r": {
     "delete_cmd_postfix": ") ",
     "delete_cmd_prefix": "rm(",
     "library": "var_list.r",
     "varRefreshCmd": "cat(var_dic_list()) "
    }
   },
   "types_to_exclude": [
    "module",
    "function",
    "builtin_function_or_method",
    "instance",
    "_Feature"
   ],
   "window_display": false
  }
 },
 "nbformat": 4,
 "nbformat_minor": 2
}
