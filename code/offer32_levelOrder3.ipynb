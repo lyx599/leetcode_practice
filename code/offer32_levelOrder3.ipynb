{
 "cells": [
  {
   "cell_type": "markdown",
   "metadata": {},
   "source": [
    "# 剑指 Offer 32 - III. 从上到下打印二叉树 III"
   ]
  },
  {
   "cell_type": "markdown",
   "metadata": {},
   "source": [
    "思路：\n",
    "- 层序遍历 + 倒序\n",
    "    - 思路和前面题是一样的，遍历顺序是没有变的，依然要从上到下，从左到右\n",
    "    - 不同就是通过奇偶来控制打印的方向，奇就从左到右，偶就从右到左\n",
    "    - 因此为偶时，就反转当前层的结果\n",
    "    - 时间复杂度 $O(N)$：N 为二叉树的节点数量，即 BFS 需循环 N 次\n",
    "    - 空间复杂度 $O(N)$：最差情况下，即当树为平衡二叉树时，最多有 N/2 个树节点同时在 queue 中，使用 $O(N)$ 大小的额外空间\n",
    "- 层序遍历 + 双端队列\n",
    "    - 奇数层 则添加至 temp 尾部\n",
    "    - 偶数层 则添加至 temp 头部\n",
    "    - 时间复杂度 $O(N)$：N 为二叉树的节点数量，即 BFS 需循环 N 次\n",
    "    - 空间复杂度 $O(N)$：最差情况下，即当树为平衡二叉树时，最多有 N/2 个树节点同时在 queue 中，使用 $O(N)$ 大小的额外空间"
   ]
  },
  {
   "cell_type": "markdown",
   "metadata": {},
   "source": [
    "注意："
   ]
  },
  {
   "cell_type": "code",
   "execution_count": 27,
   "metadata": {
    "ExecuteTime": {
     "end_time": "2020-06-28T13:12:50.471400Z",
     "start_time": "2020-06-28T13:12:50.467401Z"
    }
   },
   "outputs": [],
   "source": [
    "# Definition for a binary tree node.\n",
    "class TreeNode:\n",
    "    def __init__(self, x):\n",
    "        self.val = x\n",
    "        self.left = None\n",
    "        self.right = None\n",
    "\n",
    "class Solution:\n",
    "    def levelOrder(self, root: TreeNode) -> [[int]]:\n",
    "        import collections\n",
    "        if not root:\n",
    "            return []\n",
    "        ans = []\n",
    "        q = collections.deque()\n",
    "        q.append(root)\n",
    "        k = 0\n",
    "        while q:\n",
    "            temp = []\n",
    "            k += 1\n",
    "            for _ in range(len(q)):\n",
    "                node = q.popleft()\n",
    "                temp.append(node.val)\n",
    "                if node.left:\n",
    "                    q.append(node.left)\n",
    "                if node.right:\n",
    "                    q.append(node.right)\n",
    "            if k % 2 == 1:\n",
    "                ans.append(temp)\n",
    "            else:\n",
    "                temp.reverse()\n",
    "                ans.append(temp)\n",
    "        return ans"
   ]
  },
  {
   "cell_type": "markdown",
   "metadata": {},
   "source": [
    "# 答案"
   ]
  },
  {
   "cell_type": "markdown",
   "metadata": {},
   "source": [
    "##  层序遍历 + 倒序"
   ]
  },
  {
   "cell_type": "code",
   "execution_count": 29,
   "metadata": {
    "ExecuteTime": {
     "end_time": "2020-06-28T13:23:22.231296Z",
     "start_time": "2020-06-28T13:23:22.226288Z"
    }
   },
   "outputs": [],
   "source": [
    "# Definition for a binary tree node.\n",
    "# class TreeNode:\n",
    "#     def __init__(self, x):\n",
    "#         self.val = x\n",
    "#         self.left = None\n",
    "#         self.right = None\n",
    "\n",
    "class Solution:\n",
    "    def levelOrder(self, root: TreeNode) -> [[int]]:\n",
    "        import collections\n",
    "        if not root:\n",
    "            return []\n",
    "        ans = []\n",
    "        q = collections.deque()\n",
    "        q.append(root)\n",
    "        k = 0\n",
    "        while q:\n",
    "            temp = []\n",
    "            k += 1\n",
    "            for _ in range(len(q)):       \n",
    "                node = q.popleft()\n",
    "                temp.append(node.val)\n",
    "                if node.left:\n",
    "                    q.append(node.left)\n",
    "                if node.right:\n",
    "                    q.append(node.right)\n",
    "            if k % 2 == 1:\n",
    "                ans.append(temp)\n",
    "            else:\n",
    "                temp.reverse()\n",
    "                ans.append(temp)\n",
    "        return ans"
   ]
  },
  {
   "cell_type": "markdown",
   "metadata": {},
   "source": [
    "##  层序遍历 + 双端队列"
   ]
  },
  {
   "cell_type": "code",
   "execution_count": 31,
   "metadata": {
    "ExecuteTime": {
     "end_time": "2020-06-28T13:27:24.611622Z",
     "start_time": "2020-06-28T13:27:24.606630Z"
    }
   },
   "outputs": [],
   "source": [
    "# Definition for a binary tree node.\n",
    "# class TreeNode:\n",
    "#     def __init__(self, x):\n",
    "#         self.val = x\n",
    "#         self.left = None\n",
    "#         self.right = None\n",
    "\n",
    "class Solution:\n",
    "    def levelOrder(self, root: TreeNode) -> [[int]]:\n",
    "        import collections\n",
    "        if not root:\n",
    "            return []\n",
    "        ans = []\n",
    "        q = collections.deque()\n",
    "        q.append(root)\n",
    "        k = 0\n",
    "        while q:\n",
    "            temp = collections.deque()\n",
    "            k += 1\n",
    "            for _ in range(len(q)):\n",
    "                node = q.popleft()\n",
    "                if k % 2 == 1:\n",
    "                    temp.append(node.val)\n",
    "                else:\n",
    "                    temp.appendleft(node.val)\n",
    "                if node.left:\n",
    "                    q.append(node.left)\n",
    "                if node.right:\n",
    "                    q.append(node.right)\n",
    "            # 队列转为列表\n",
    "            ans.append(list(temp))\n",
    "        return ans"
   ]
  }
 ],
 "metadata": {
  "kernelspec": {
   "display_name": "Python 3",
   "language": "python",
   "name": "python3"
  },
  "language_info": {
   "codemirror_mode": {
    "name": "ipython",
    "version": 3
   },
   "file_extension": ".py",
   "mimetype": "text/x-python",
   "name": "python",
   "nbconvert_exporter": "python",
   "pygments_lexer": "ipython3",
   "version": "3.7.0"
  },
  "toc": {
   "base_numbering": 1,
   "nav_menu": {},
   "number_sections": true,
   "sideBar": true,
   "skip_h1_title": false,
   "title_cell": "Table of Contents",
   "title_sidebar": "Contents",
   "toc_cell": false,
   "toc_position": {},
   "toc_section_display": true,
   "toc_window_display": false
  },
  "varInspector": {
   "cols": {
    "lenName": 16,
    "lenType": 16,
    "lenVar": 40
   },
   "kernels_config": {
    "python": {
     "delete_cmd_postfix": "",
     "delete_cmd_prefix": "del ",
     "library": "var_list.py",
     "varRefreshCmd": "print(var_dic_list())"
    },
    "r": {
     "delete_cmd_postfix": ") ",
     "delete_cmd_prefix": "rm(",
     "library": "var_list.r",
     "varRefreshCmd": "cat(var_dic_list()) "
    }
   },
   "types_to_exclude": [
    "module",
    "function",
    "builtin_function_or_method",
    "instance",
    "_Feature"
   ],
   "window_display": false
  }
 },
 "nbformat": 4,
 "nbformat_minor": 2
}
