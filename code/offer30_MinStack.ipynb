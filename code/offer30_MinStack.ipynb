{
 "cells": [
  {
   "cell_type": "markdown",
   "metadata": {},
   "source": [
    "# 剑指 Offer 30 包含min函数的栈 "
   ]
  },
  {
   "cell_type": "markdown",
   "metadata": {},
   "source": [
    "思路：\n",
    "- 普通栈的 push() 和 pop() 函数的复杂度为$O(1)$ ；而获取栈最小值 min() 函数需要遍历整个栈，复杂度为 $O(N)$\n",
    "- 因此需要一个辅助栈来实现（空间换时间）\n",
    "- 辅助栈中存储数据栈中所有 非严格降序 的元素，则数据栈中的最小元素始终对应辅助栈的栈顶元素，即 min() 函数只需返回辅助栈栈顶元素即可\n",
    "- 时间复杂度 $O(1)$： push(), pop(), top(), min() 四个函数的时间复杂度均为常数级别。\n",
    "- 空间复杂度 $O(N)$ ： 当共有 N 个待入栈元素时，辅助栈 B 最差情况下存储 N 个元素（入栈元素降序排列），使用 $O(N)$ 额外空间。\n",
    "- https://leetcode-cn.com/problems/bao-han-minhan-shu-de-zhan-lcof/solution/mian-shi-ti-30-bao-han-minhan-shu-de-zhan-fu-zhu-z/"
   ]
  },
  {
   "cell_type": "markdown",
   "metadata": {},
   "source": [
    "注意：\n",
    "- 当入栈元素等于最小值，也要入栈"
   ]
  },
  {
   "cell_type": "code",
   "execution_count": 1,
   "metadata": {
    "ExecuteTime": {
     "end_time": "2020-06-24T02:05:31.259196Z",
     "start_time": "2020-06-24T02:05:31.254203Z"
    }
   },
   "outputs": [],
   "source": [
    "class MinStack:\n",
    "\n",
    "    def __init__(self):\n",
    "        \"\"\"\n",
    "        initialize your data structure here.\n",
    "        \"\"\"\n",
    "        self.data = []\n",
    "        self.desc = []\n",
    "\n",
    "    def push(self, x: int) -> None:\n",
    "        self.data.append(x)\n",
    "        if not self.desc:\n",
    "            self.desc.append(x)\n",
    "        elif x <= self.desc[-1]:\n",
    "            self.desc.append(x)\n",
    "\n",
    "    def pop(self) -> None:\n",
    "        num = self.data.pop()\n",
    "        if num == self.desc[-1]:\n",
    "            self.desc.pop()\n",
    "\n",
    "    def top(self) -> int:\n",
    "        if self.data:\n",
    "            return self.data[-1]\n",
    "        else:\n",
    "            return None\n",
    "\n",
    "    def min(self) -> int:\n",
    "        if self.desc:\n",
    "            return self.desc[-1]\n",
    "        else:\n",
    "            return None\n",
    "\n",
    "\n",
    "obj = MinStack()\n",
    "obj.push(2)\n",
    "obj.pop()\n",
    "param_3 = obj.top()\n",
    "param_4 = obj.min()"
   ]
  },
  {
   "cell_type": "markdown",
   "metadata": {},
   "source": [
    "# 答案"
   ]
  },
  {
   "cell_type": "code",
   "execution_count": 2,
   "metadata": {
    "ExecuteTime": {
     "end_time": "2020-06-24T02:05:50.708857Z",
     "start_time": "2020-06-24T02:05:50.703860Z"
    }
   },
   "outputs": [],
   "source": [
    "class MinStack:\n",
    "\n",
    "    def __init__(self):\n",
    "        \"\"\"\n",
    "        initialize your data structure here.\n",
    "        \"\"\"\n",
    "        self.data = []\n",
    "        self.desc = []\n",
    "\n",
    "    def push(self, x: int) -> None:\n",
    "        self.data.append(x)\n",
    "        if not self.desc:\n",
    "            self.desc.append(x)\n",
    "        elif x <= self.desc[-1]:\n",
    "            self.desc.append(x)\n",
    "\n",
    "    def pop(self) -> None:\n",
    "        num = self.data.pop()\n",
    "        if num == self.desc[-1]:\n",
    "            self.desc.pop()\n",
    "\n",
    "    def top(self) -> int:\n",
    "        if self.data:\n",
    "            return self.data[-1]\n",
    "        else:\n",
    "            return None\n",
    "\n",
    "    def min(self) -> int:\n",
    "        if self.desc:\n",
    "            return self.desc[-1]\n",
    "        else:\n",
    "            return None\n",
    "\n",
    "\n",
    "\n",
    "# Your MinStack object will be instantiated and called as such:\n",
    "# obj = MinStack() \n",
    "# obj.push(x)\n",
    "# obj.pop()\n",
    "# param_3 = obj.top()\n",
    "# param_4 = obj.min()"
   ]
  }
 ],
 "metadata": {
  "kernelspec": {
   "display_name": "Python 3",
   "language": "python",
   "name": "python3"
  },
  "language_info": {
   "codemirror_mode": {
    "name": "ipython",
    "version": 3
   },
   "file_extension": ".py",
   "mimetype": "text/x-python",
   "name": "python",
   "nbconvert_exporter": "python",
   "pygments_lexer": "ipython3",
   "version": "3.7.0"
  },
  "toc": {
   "base_numbering": 1,
   "nav_menu": {},
   "number_sections": true,
   "sideBar": true,
   "skip_h1_title": false,
   "title_cell": "Table of Contents",
   "title_sidebar": "Contents",
   "toc_cell": false,
   "toc_position": {},
   "toc_section_display": true,
   "toc_window_display": false
  },
  "varInspector": {
   "cols": {
    "lenName": 16,
    "lenType": 16,
    "lenVar": 40
   },
   "kernels_config": {
    "python": {
     "delete_cmd_postfix": "",
     "delete_cmd_prefix": "del ",
     "library": "var_list.py",
     "varRefreshCmd": "print(var_dic_list())"
    },
    "r": {
     "delete_cmd_postfix": ") ",
     "delete_cmd_prefix": "rm(",
     "library": "var_list.r",
     "varRefreshCmd": "cat(var_dic_list()) "
    }
   },
   "types_to_exclude": [
    "module",
    "function",
    "builtin_function_or_method",
    "instance",
    "_Feature"
   ],
   "window_display": false
  }
 },
 "nbformat": 4,
 "nbformat_minor": 2
}
