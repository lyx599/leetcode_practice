{
 "cells": [
  {
   "cell_type": "markdown",
   "metadata": {},
   "source": [
    "# \t面试题14- I  剪绳子  "
   ]
  },
  {
   "cell_type": "markdown",
   "metadata": {},
   "source": [
    "思路：\n",
    "- 动态规划\n",
    "    - 状态定义：$f$ 为一维数组，其中 $f[i]$ 数值代表长度为i的绳子可能的最大乘积\n",
    "    - 状态转移方程：$f(n) = max(f(i)*f(n-i))$  其中0<i<n\n",
    "    - 初始条件：$f[1]=1$, $f[2]=2$, $f[3]=3$\n",
    "    - 特判2,3情况\n",
    "    - 主要就是去寻找每个长度最大的乘积\n",
    "    - 时间复杂度： $O(n^2)$  双层for循环 $n * (n / 2)$\n",
    "    - 空间复杂度： $O(n)$\n",
    "- 贪婪算法\n",
    "    - 通过数学推导得到多段相同的长度的乘积最大，长度为3乘积最大\n",
    "    - 数学推导：https://leetcode-cn.com/problems/jian-sheng-zi-lcof/solution/mian-shi-ti-14-i-jian-sheng-zi-tan-xin-si-xiang-by/\n",
    "    - 时间复杂度：$O(1)$  都是基本的运算\n",
    "    - 空间复杂度：$O(1)$"
   ]
  },
  {
   "cell_type": "markdown",
   "metadata": {},
   "source": [
    "注意：\n",
    "- 当剩余长度为4时，最大乘积时2*2"
   ]
  },
  {
   "cell_type": "code",
   "execution_count": 1,
   "metadata": {
    "ExecuteTime": {
     "end_time": "2020-06-10T13:27:47.222804Z",
     "start_time": "2020-06-10T13:27:47.216815Z"
    }
   },
   "outputs": [
    {
     "name": "stdout",
     "output_type": "stream",
     "text": [
      "36\n"
     ]
    }
   ],
   "source": [
    "class Solution:\n",
    "    def cuttingRope(self, n: int) -> int:\n",
    "\n",
    "        if n < 2:\n",
    "            return 0\n",
    "        if n == 2:\n",
    "            return 1\n",
    "        if n == 3:\n",
    "            return 2\n",
    "        # product[0]不使用\n",
    "        product = [0, 1, 2, 3]\n",
    "        for i in range(4, n + 1):\n",
    "            max_val = 0\n",
    "            for j in range(1, (i // 2) + 1):\n",
    "                val = product[j] * product[i - j]\n",
    "                if val > max_val:\n",
    "                    max_val = val\n",
    "            product.append(max_val)\n",
    "\n",
    "        return product[n]\n",
    "\n",
    "\n",
    "s = Solution()\n",
    "\n",
    "print(s.cuttingRope(10))\n"
   ]
  },
  {
   "cell_type": "markdown",
   "metadata": {},
   "source": [
    "# 答案"
   ]
  },
  {
   "cell_type": "markdown",
   "metadata": {},
   "source": [
    "## 动态规划"
   ]
  },
  {
   "cell_type": "code",
   "execution_count": 2,
   "metadata": {
    "ExecuteTime": {
     "end_time": "2020-06-10T13:27:47.228813Z",
     "start_time": "2020-06-10T13:27:47.224812Z"
    }
   },
   "outputs": [],
   "source": [
    "class Solution:\n",
    "    def cuttingRope(self, n: int) -> int:\n",
    "        if n < 2:\n",
    "            return 0\n",
    "        if n == 2:\n",
    "            return 1\n",
    "        if n == 3:\n",
    "            return 2\n",
    "        # product[0]不使用\n",
    "        product = [0, 1, 2, 3]\n",
    "        for i in range(4, n + 1):\n",
    "            max_val = 0\n",
    "            for j in range(1, (i // 2) + 1):\n",
    "                val = product[j] * product[i - j]\n",
    "                if val > max_val:\n",
    "                    max_val = val\n",
    "            product.append(max_val)\n",
    "\n",
    "        return product[n]"
   ]
  },
  {
   "cell_type": "markdown",
   "metadata": {},
   "source": [
    "## 贪婪算法"
   ]
  },
  {
   "cell_type": "code",
   "execution_count": 3,
   "metadata": {
    "ExecuteTime": {
     "end_time": "2020-06-10T13:27:47.234813Z",
     "start_time": "2020-06-10T13:27:47.230813Z"
    }
   },
   "outputs": [],
   "source": [
    "class Solution:\n",
    "    def cuttingRope(self, n: int) -> int:\n",
    "        if n < 2:\n",
    "            return 0\n",
    "        if n == 2:\n",
    "            return 1\n",
    "        if n == 3:\n",
    "            return 2\n",
    "        \n",
    "        times_of_3 = n // 3\n",
    "        # 剩余长度为4的情况，\n",
    "        if n - times_of_3 * 3 == 1:\n",
    "            times_of_3 -= 1\n",
    "        #剩余长度为2或者0\n",
    "        times_of_2 = (n - times_of_3 * 3) // 2\n",
    "\n",
    "        return 3 ** times_of_3 * 2 ** times_of_2"
   ]
  }
 ],
 "metadata": {
  "kernelspec": {
   "display_name": "Python 3",
   "language": "python",
   "name": "python3"
  },
  "language_info": {
   "codemirror_mode": {
    "name": "ipython",
    "version": 3
   },
   "file_extension": ".py",
   "mimetype": "text/x-python",
   "name": "python",
   "nbconvert_exporter": "python",
   "pygments_lexer": "ipython3",
   "version": "3.7.0"
  },
  "toc": {
   "base_numbering": 1,
   "nav_menu": {},
   "number_sections": true,
   "sideBar": true,
   "skip_h1_title": false,
   "title_cell": "Table of Contents",
   "title_sidebar": "Contents",
   "toc_cell": false,
   "toc_position": {},
   "toc_section_display": true,
   "toc_window_display": false
  },
  "varInspector": {
   "cols": {
    "lenName": 16,
    "lenType": 16,
    "lenVar": 40
   },
   "kernels_config": {
    "python": {
     "delete_cmd_postfix": "",
     "delete_cmd_prefix": "del ",
     "library": "var_list.py",
     "varRefreshCmd": "print(var_dic_list())"
    },
    "r": {
     "delete_cmd_postfix": ") ",
     "delete_cmd_prefix": "rm(",
     "library": "var_list.r",
     "varRefreshCmd": "cat(var_dic_list()) "
    }
   },
   "types_to_exclude": [
    "module",
    "function",
    "builtin_function_or_method",
    "instance",
    "_Feature"
   ],
   "window_display": false
  }
 },
 "nbformat": 4,
 "nbformat_minor": 2
}
