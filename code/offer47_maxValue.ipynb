{
 "cells": [
  {
   "cell_type": "markdown",
   "metadata": {},
   "source": [
    "# 剑指 Offer 47\t礼物的最大价值  "
   ]
  },
  {
   "cell_type": "markdown",
   "metadata": {},
   "source": [
    "思路：\n",
    "- 动态规划\n",
    "    - 由题可知每次移动只能向下或向右移动\n",
    "    - 则当前格子的最大值，由上方或左方中较大者与当前值相加得到\n",
    "    - 此时就把最右下角的最大值问题划分为小问题的求当前格子的最大值问题\n",
    "    - 状态转移公式：dp[i][j] = max(dp[i-1][j],dp[i][j-1]) + grid[i][j]\n",
    "    - 在边界上的值（如i=0或j=0）的元素在外面假设添加一层0，则边界上的值等于另一个方向的数加当前位置的值\n",
    "    - dp[i].append(dp[i][j - 1] + grid[i][j]) or  dp[i].append(dp[i - 1][j] + grid[i][j])\n",
    "    - 特殊的，当i=0 and j=0 dp[0][0] = grid[0][0]  也就是初始值\n",
    "    - 最后返回右下角的值\n",
    "    - 时间复杂度$O(M * N)$ :  m*n的矩形，遍历这个矩形\n",
    "    - 空间复杂度$O(M * N)$ :  m*n的矩形，dp列表和原列表同样大"
   ]
  },
  {
   "cell_type": "markdown",
   "metadata": {
    "ExecuteTime": {
     "end_time": "2020-07-19T06:57:49.076415Z",
     "start_time": "2020-07-19T06:57:49.072720Z"
    }
   },
   "source": [
    "注意：\n",
    "- [[]] * n 生成的嵌套列表，里面的子列表的引用是相同的，属于浅复制，用[[] for _ in range(n)]替代"
   ]
  },
  {
   "cell_type": "code",
   "execution_count": 1,
   "metadata": {
    "ExecuteTime": {
     "end_time": "2020-07-19T07:40:50.754003Z",
     "start_time": "2020-07-19T07:40:50.742001Z"
    }
   },
   "outputs": [
    {
     "name": "stdout",
     "output_type": "stream",
     "text": [
      "9\n"
     ]
    }
   ],
   "source": [
    "class Solution:\n",
    "    def maxValue(self, grid: [[int]]) -> int:\n",
    "\n",
    "        row = len(grid)\n",
    "        col = len(grid[0])\n",
    "        dp = [[] for _ in range(row)]\n",
    "        for i in range(row):\n",
    "            for j in range(col):\n",
    "                if i == 0 and j == 0:\n",
    "                    dp[i].append(grid[0][0])\n",
    "                elif i == 0:\n",
    "                    dp[i].append(dp[i][j - 1] + grid[i][j])\n",
    "                elif j == 0:\n",
    "                    dp[i].append(dp[i - 1][j] + grid[i][j])\n",
    "                else:\n",
    "                    dp[i].append(max(dp[i - 1][j], dp[i][j - 1]) + grid[i][j])\n",
    "        return dp[-1][-1]\n",
    "\n",
    "\n",
    "s = Solution()\n",
    "print(s.maxValue([[1,2,5],[3,2,1]]))"
   ]
  },
  {
   "cell_type": "markdown",
   "metadata": {},
   "source": [
    "# 答案"
   ]
  },
  {
   "cell_type": "markdown",
   "metadata": {},
   "source": [
    "## 动态规划"
   ]
  },
  {
   "cell_type": "code",
   "execution_count": 2,
   "metadata": {
    "ExecuteTime": {
     "end_time": "2020-07-19T07:40:50.768025Z",
     "start_time": "2020-07-19T07:40:50.755511Z"
    }
   },
   "outputs": [],
   "source": [
    "class Solution:\n",
    "    def maxValue(self, grid: [[int]]) -> int:\n",
    "        row = len(grid)\n",
    "        col = len(grid[0])\n",
    "        dp = [[] for _ in range(row)]\n",
    "        for i in range(row):\n",
    "            for j in range(col):\n",
    "                if i == 0 and j == 0:\n",
    "                    dp[i].append(grid[0][0])\n",
    "                elif i == 0:\n",
    "                    dp[i].append(dp[i][j - 1] + grid[i][j])\n",
    "                elif j == 0:\n",
    "                    dp[i].append(dp[i - 1][j] + grid[i][j])\n",
    "                else:\n",
    "                    dp[i].append(max(dp[i - 1][j], dp[i][j - 1]) + grid[i][j])\n",
    "        return dp[-1][-1]"
   ]
  },
  {
   "cell_type": "markdown",
   "metadata": {},
   "source": [
    "在外面加上一行一列0，可以简化代码"
   ]
  },
  {
   "cell_type": "code",
   "execution_count": 3,
   "metadata": {
    "ExecuteTime": {
     "end_time": "2020-07-19T07:40:50.777025Z",
     "start_time": "2020-07-19T07:40:50.770024Z"
    }
   },
   "outputs": [],
   "source": [
    "class Solution:\n",
    "    def maxValue(self, grid: [[int]]) -> int:\n",
    "        row = len(grid)\n",
    "        col = len(grid[0])\n",
    "        dp = [[0 for _ in range(col + 1)] for _ in range(row + 1)]\n",
    "        for i in range(1, row + 1):\n",
    "            for j in range(1, col + 1):\n",
    "                dp[i][j] = (max(dp[i - 1][j], dp[i][j - 1]) + grid[i - 1][j - 1])\n",
    "        return dp[-1][-1]"
   ]
  },
  {
   "cell_type": "markdown",
   "metadata": {},
   "source": [
    "如果原数组能改变，则在原数组上修改，可以优化空间复杂度为$O(1)$\n",
    "\n",
    "先处理第一行和第一列可以减少没用的重复判断"
   ]
  },
  {
   "cell_type": "code",
   "execution_count": 4,
   "metadata": {
    "ExecuteTime": {
     "end_time": "2020-07-19T07:40:50.785027Z",
     "start_time": "2020-07-19T07:40:50.778027Z"
    }
   },
   "outputs": [],
   "source": [
    "class Solution:\n",
    "    def maxValue(self, grid: [[int]]) -> int:\n",
    "        m, n = len(grid), len(grid[0])\n",
    "        for j in range(1, n): # 初始化第一行\n",
    "            grid[0][j] += grid[0][j - 1]\n",
    "        for i in range(1, m): # 初始化第一列\n",
    "            grid[i][0] += grid[i - 1][0]\n",
    "        for i in range(1, m):\n",
    "            for j in range(1, n):\n",
    "                grid[i][j] += max(grid[i][j - 1], grid[i - 1][j])\n",
    "        return grid[-1][-1]"
   ]
  }
 ],
 "metadata": {
  "kernelspec": {
   "display_name": "Python 3",
   "language": "python",
   "name": "python3"
  },
  "language_info": {
   "codemirror_mode": {
    "name": "ipython",
    "version": 3
   },
   "file_extension": ".py",
   "mimetype": "text/x-python",
   "name": "python",
   "nbconvert_exporter": "python",
   "pygments_lexer": "ipython3",
   "version": "3.7.0"
  },
  "toc": {
   "base_numbering": 1,
   "nav_menu": {},
   "number_sections": true,
   "sideBar": true,
   "skip_h1_title": false,
   "title_cell": "Table of Contents",
   "title_sidebar": "Contents",
   "toc_cell": false,
   "toc_position": {},
   "toc_section_display": true,
   "toc_window_display": false
  },
  "varInspector": {
   "cols": {
    "lenName": 16,
    "lenType": 16,
    "lenVar": 40
   },
   "kernels_config": {
    "python": {
     "delete_cmd_postfix": "",
     "delete_cmd_prefix": "del ",
     "library": "var_list.py",
     "varRefreshCmd": "print(var_dic_list())"
    },
    "r": {
     "delete_cmd_postfix": ") ",
     "delete_cmd_prefix": "rm(",
     "library": "var_list.r",
     "varRefreshCmd": "cat(var_dic_list()) "
    }
   },
   "types_to_exclude": [
    "module",
    "function",
    "builtin_function_or_method",
    "instance",
    "_Feature"
   ],
   "window_display": false
  }
 },
 "nbformat": 4,
 "nbformat_minor": 4
}
