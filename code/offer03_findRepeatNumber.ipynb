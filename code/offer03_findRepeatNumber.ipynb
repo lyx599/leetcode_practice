{
 "cells": [
  {
   "cell_type": "markdown",
   "metadata": {},
   "source": [
    "# 面试题03. 数组中重复的数字"
   ]
  },
  {
   "cell_type": "markdown",
   "metadata": {},
   "source": [
    "思路：\n",
    "- 排序+查找\n",
    "    - 先对数组进行排序\n",
    "    - 在排序后的数组中查找重复数字\n",
    "    - 时间复杂度$O(n \\log n)$ 空间复杂度$O(1)$ \n",
    "    - 改变数组\n",
    "- 哈希表\n",
    "    - 从头扫描数组中的每个数字\n",
    "    - 没扫描到一个数字时，判断哈希表中是否包含该数字\n",
    "    - 如果哈希表没有该数字，就加入哈希表，反之则找到一个重复数字\n",
    "    - 时间复杂度$O(n)$ 空间复杂度$O(n)$ \n",
    "    - 未改变数组\n",
    "- 原地交换\n",
    "    - 根据题意，数组的元素值的范围恰好和数组的长度是一样的，因此如果没有重复数字，按升序排列后数字和下标应该一一对应\n",
    "    - 从头扫描数组，如果元素和下标对应则继续扫描\n",
    "    - 如果不对应，则判断该元素值m与对应下标m上的元素值是否相同，如果相同则返回重复数字\n",
    "    - 如果不同则交换这两个元素，继续重复上述步骤判断交换后的元素\n",
    "    - 时间复杂度$O(n)$ 空间复杂度$O(1)$ \n",
    "    - 改变数组"
   ]
  },
  {
   "cell_type": "markdown",
   "metadata": {},
   "source": [
    "注意：\n",
    "- 对空数组的鲁棒性\n",
    "- 对非法输入的鲁棒性"
   ]
  },
  {
   "cell_type": "markdown",
   "metadata": {
    "ExecuteTime": {
     "end_time": "2020-05-21T07:52:11.235286Z",
     "start_time": "2020-05-21T07:52:11.223293Z"
    }
   },
   "source": [
    "第一次思路：首先想到的是对数组排序然后进行遍历查找。\n",
    "\n",
    "第二种方法是用散列表进行映射，找到其中重复的数字，因为数字的范围比数组长度小，因此用数组的长度来新建一个简单的散列表，也可以直接使用集合set"
   ]
  },
  {
   "cell_type": "code",
   "execution_count": 3,
   "metadata": {
    "ExecuteTime": {
     "end_time": "2020-05-21T07:52:24.922134Z",
     "start_time": "2020-05-21T07:52:24.917136Z"
    }
   },
   "outputs": [
    {
     "name": "stdout",
     "output_type": "stream",
     "text": [
      "None\n"
     ]
    }
   ],
   "source": [
    "class Solution:\n",
    "    def findRepeatNumber(self, nums: [int]) -> int:\n",
    "\n",
    "        nums_len = len(nums)\n",
    "        a = [None for i in range(nums_len)]\n",
    "        for num in nums:\n",
    "            if a[num] == None:\n",
    "                a[num] = num\n",
    "            else:\n",
    "                return num\n",
    "\n",
    "s = Solution()\n",
    "nums = [1,2,3,0]\n",
    "print(s.findRepeatNumber(nums))"
   ]
  },
  {
   "cell_type": "markdown",
   "metadata": {},
   "source": [
    "# 答案"
   ]
  },
  {
   "cell_type": "markdown",
   "metadata": {},
   "source": [
    "## 散列表"
   ]
  },
  {
   "cell_type": "code",
   "execution_count": 4,
   "metadata": {
    "ExecuteTime": {
     "end_time": "2020-05-21T07:52:43.802206Z",
     "start_time": "2020-05-21T07:52:43.797209Z"
    }
   },
   "outputs": [],
   "source": [
    "class Solution:\n",
    "    def findRepeatNumber(self, nums: [int]) -> int:\n",
    "\n",
    "        nums_len = len(nums)\n",
    "        a = [None for i in range(nums_len)]\n",
    "        for num in nums:\n",
    "            if a[num] == None:\n",
    "                a[num] = num\n",
    "            else:\n",
    "                return num"
   ]
  },
  {
   "cell_type": "markdown",
   "metadata": {},
   "source": [
    "## 原地交换"
   ]
  },
  {
   "cell_type": "code",
   "execution_count": 6,
   "metadata": {
    "ExecuteTime": {
     "end_time": "2020-05-21T08:38:45.972270Z",
     "start_time": "2020-05-21T08:38:45.966273Z"
    }
   },
   "outputs": [],
   "source": [
    "class Solution:\n",
    "    def findRepeatNumber(self, nums: [int]) -> int:\n",
    "        nums_len = len(nums)\n",
    "        i = 0\n",
    "        while i < nums_len:\n",
    "            if i == nums[i]:\n",
    "                i += 1\n",
    "            elif nums[i] == nums[nums[i]]:\n",
    "                return nums[i]\n",
    "            else:\n",
    "                t = nums[nums[i]]\n",
    "                nums[nums[i]] = nums[i]\n",
    "                nums[i] = t"
   ]
  },
  {
   "cell_type": "markdown",
   "metadata": {},
   "source": [
    "## 加入边界，特殊输入"
   ]
  },
  {
   "cell_type": "code",
   "execution_count": 1,
   "metadata": {
    "ExecuteTime": {
     "end_time": "2020-05-21T11:11:39.869419Z",
     "start_time": "2020-05-21T11:11:39.862424Z"
    }
   },
   "outputs": [],
   "source": [
    "class Solution:\n",
    "    def findRepeatNumber(self, nums: [int]) -> int:\n",
    "        nums_len = len(nums)\n",
    "        #判断非法输入，无需对空数组判断\n",
    "        for i in range(nums_len):\n",
    "            if nums[i] < 0 or nums[i] > nums_len - 1:\n",
    "                return None\n",
    "        \n",
    "        i = 0\n",
    "        while i < nums_len:\n",
    "            if i == nums[i]:\n",
    "                i += 1\n",
    "            elif nums[i] == nums[nums[i]]:\n",
    "                return nums[i]\n",
    "            else:\n",
    "                t = nums[nums[i]]\n",
    "                nums[nums[i]] = nums[i]\n",
    "                nums[i] = t"
   ]
  },
  {
   "cell_type": "markdown",
   "metadata": {},
   "source": [
    "# 变形题"
   ]
  },
  {
   "cell_type": "markdown",
   "metadata": {},
   "source": [
    "## 不修改数组找出重复数字"
   ]
  },
  {
   "cell_type": "markdown",
   "metadata": {},
   "source": [
    "在一个长度为n+1的数组里的所有数字都在1~n的范围内，所以数组中至少有一个数字是重复的。请找出数组中任意一个重复的数字，但不能修改输入的数组"
   ]
  },
  {
   "cell_type": "markdown",
   "metadata": {},
   "source": [
    "思路：\n",
    "- 哈希表\n",
    "    - 和上面一样使用哈希表\n",
    "    - 时间复杂度O(n) 空间复杂度O(n)\n",
    "- 二分查找\n",
    "    - 把1~n的数字从中间分成两部分，每部分去数组中查找，如果超过了范围的个数就存在重复，继续使用二分法缩小该部分直到找到答案\n",
    "    - 时间复杂度O(nlogn) 空间复杂度O(1)\n",
    "    - 该算法不能保证找出所有的重复数字"
   ]
  },
  {
   "cell_type": "markdown",
   "metadata": {},
   "source": [
    "###  二分查找"
   ]
  },
  {
   "cell_type": "code",
   "execution_count": 6,
   "metadata": {
    "ExecuteTime": {
     "end_time": "2020-05-21T11:31:00.744035Z",
     "start_time": "2020-05-21T11:31:00.734043Z"
    }
   },
   "outputs": [
    {
     "name": "stdout",
     "output_type": "stream",
     "text": [
      "None\n"
     ]
    }
   ],
   "source": [
    "class Solution:\n",
    "    def findRepeatNumber(self, nums: [int]) -> int:\n",
    "\n",
    "        nums_len = len(nums)\n",
    "        #特殊输入判断\n",
    "        if nums_len < 0:\n",
    "            return None\n",
    "        for i in range(nums_len): \n",
    "            if nums[i] < 1 or nums[i] > nums_len - 1:\n",
    "                return None\n",
    "\n",
    "        start = 1 #范围是1~n\n",
    "        end = nums_len - 1\n",
    "        while end >= start:\n",
    "            middle = (start + end) // 2\n",
    "            count = self.countRange(nums,nums_len,start,middle)\n",
    "            if end == start: #二分查找出口\n",
    "                if count > 1:\n",
    "                    return  start\n",
    "\n",
    "            if count > (middle - start + 1):\n",
    "                end = middle\n",
    "            else:\n",
    "                start = middle + 1\n",
    "\n",
    "\n",
    "    def countRange(self,nums,nums_len,start,end):\n",
    "        count = 0\n",
    "        for i in range(nums_len):\n",
    "            if nums[i] >= start and nums[i] <= end:\n",
    "                count += 1\n",
    "        return count\n",
    "\n",
    "\n",
    "s = Solution()\n",
    "nums = [0,0,2,3]\n",
    "print(s.findRepeatNumber(nums))"
   ]
  }
 ],
 "metadata": {
  "hide_input": false,
  "kernelspec": {
   "display_name": "Python 3",
   "language": "python",
   "name": "python3"
  },
  "language_info": {
   "codemirror_mode": {
    "name": "ipython",
    "version": 3
   },
   "file_extension": ".py",
   "mimetype": "text/x-python",
   "name": "python",
   "nbconvert_exporter": "python",
   "pygments_lexer": "ipython3",
   "version": "3.7.0"
  },
  "toc": {
   "base_numbering": 1,
   "nav_menu": {},
   "number_sections": true,
   "sideBar": true,
   "skip_h1_title": false,
   "title_cell": "Table of Contents",
   "title_sidebar": "Contents",
   "toc_cell": false,
   "toc_position": {},
   "toc_section_display": true,
   "toc_window_display": false
  },
  "varInspector": {
   "cols": {
    "lenName": 16,
    "lenType": 16,
    "lenVar": 40
   },
   "kernels_config": {
    "python": {
     "delete_cmd_postfix": "",
     "delete_cmd_prefix": "del ",
     "library": "var_list.py",
     "varRefreshCmd": "print(var_dic_list())"
    },
    "r": {
     "delete_cmd_postfix": ") ",
     "delete_cmd_prefix": "rm(",
     "library": "var_list.r",
     "varRefreshCmd": "cat(var_dic_list()) "
    }
   },
   "types_to_exclude": [
    "module",
    "function",
    "builtin_function_or_method",
    "instance",
    "_Feature"
   ],
   "window_display": false
  }
 },
 "nbformat": 4,
 "nbformat_minor": 2
}
