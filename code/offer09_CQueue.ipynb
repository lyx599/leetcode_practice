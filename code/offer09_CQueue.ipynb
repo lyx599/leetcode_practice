{
 "cells": [
  {
   "cell_type": "markdown",
   "metadata": {},
   "source": [
    "# 面试题09\t用两个栈实现队列  "
   ]
  },
  {
   "cell_type": "markdown",
   "metadata": {},
   "source": [
    "思路：\n",
    "- 第一个栈存储元素，第二个栈用于辅助操作\n",
    "- 添加元素直接在第一个栈存储\n",
    "- 删除元素需要用第二个栈，进行翻转数据\n",
    "- 复杂度分析\n",
    "  - 插入元素\n",
    "    - 时间复杂度：$O(n)$。插入元素时，对于已有元素，每个元素都要弹出栈两次，压入栈两次，因此是线性时间复杂度。\n",
    "    - 空间复杂度：$O(n)$。需要使用额外的空间存储已有元素。\n",
    "  - 删除元素\n",
    "    - 时间复杂度：$O(1)$。判断元素个数和删除队列头部元素都使用常数时间。\n",
    "    - 空间复杂度：$O(1)$。从第一个栈弹出一个元素，使用常数空间。"
   ]
  },
  {
   "cell_type": "markdown",
   "metadata": {},
   "source": [
    "注意："
   ]
  },
  {
   "cell_type": "markdown",
   "metadata": {},
   "source": [
    "第一次思路："
   ]
  },
  {
   "cell_type": "code",
   "execution_count": null,
   "metadata": {
    "ExecuteTime": {
     "end_time": "2020-06-08T07:50:41.618031Z",
     "start_time": "2020-06-08T07:50:41.588Z"
    }
   },
   "outputs": [],
   "source": [
    "class CQueue:\n",
    "\n",
    "    def __init__(self):\n",
    "        self.A = []\n",
    "        self.B = []\n",
    "\n",
    "    def appendTail(self, value: int) -> None:\n",
    "        self.A.append(value)\n",
    "\n",
    "    def deleteHead(self) -> int:\n",
    "        if self.B:\n",
    "            return self.B.pop()\n",
    "        else:\n",
    "            self.B = self.A[::-1]\n",
    "            self.A.clear()\n",
    "            if self.B:\n",
    "                return self.B.pop()\n",
    "            else:\n",
    "                return -1\n",
    "\n",
    "# Your CQueue object will be instantiated and called as such:\n",
    "# obj = CQueue()\n",
    "# obj.appendTail(value)\n",
    "# param_2 = obj.deleteHead()\n"
   ]
  },
  {
   "cell_type": "markdown",
   "metadata": {},
   "source": [
    "# 答案"
   ]
  },
  {
   "cell_type": "code",
   "execution_count": null,
   "metadata": {
    "ExecuteTime": {
     "end_time": "2020-06-08T07:50:41.619027Z",
     "start_time": "2020-06-08T07:50:41.591Z"
    }
   },
   "outputs": [],
   "source": [
    "class CQueue:\n",
    "\n",
    "    def __init__(self):\n",
    "        self.A = []\n",
    "        self.B = []\n",
    "\n",
    "    def appendTail(self, value: int) -> None:\n",
    "        self.A.append(value)\n",
    "\n",
    "    def deleteHead(self) -> int:\n",
    "        if self.B:\n",
    "            return self.B.pop()\n",
    "        else:\n",
    "            self.B = self.A[::-1]\n",
    "            self.A.clear()\n",
    "            if self.B:\n",
    "                return self.B.pop()\n",
    "            else:\n",
    "                return -1\n",
    "\n",
    "# Your CQueue object will be instantiated and called as such:\n",
    "# obj = CQueue()\n",
    "# obj.appendTail(value)\n",
    "# param_2 = obj.deleteHead()"
   ]
  },
  {
   "cell_type": "code",
   "execution_count": null,
   "metadata": {
    "ExecuteTime": {
     "end_time": "2020-06-08T07:50:41.620026Z",
     "start_time": "2020-06-08T07:50:41.595Z"
    }
   },
   "outputs": [],
   "source": [
    "class CQueue:\n",
    "\n",
    "    def __init__(self):\n",
    "        self.A = []\n",
    "        self.B = []\n",
    "\n",
    "    def appendTail(self, value: int) -> None:\n",
    "        self.A.append(value)\n",
    "\n",
    "    def deleteHead(self) -> int:\n",
    "        if self.B:\n",
    "            return self.B.pop()\n",
    "        if not self.A:\n",
    "            return -1\n",
    "        while self.A:\n",
    "            self.B.append(self.A.pop())\n",
    "        return self.B.pop()\n",
    "\n",
    "# Your CQueue object will be instantiated and called as such:\n",
    "# obj = CQueue()\n",
    "# obj.appendTail(value)\n",
    "# param_2 = obj.deleteHead()"
   ]
  }
 ],
 "metadata": {
  "kernelspec": {
   "display_name": "Python 3",
   "language": "python",
   "name": "python3"
  },
  "language_info": {
   "codemirror_mode": {
    "name": "ipython",
    "version": 3
   },
   "file_extension": ".py",
   "mimetype": "text/x-python",
   "name": "python",
   "nbconvert_exporter": "python",
   "pygments_lexer": "ipython3",
   "version": "3.7.0"
  },
  "toc": {
   "base_numbering": 1,
   "nav_menu": {},
   "number_sections": true,
   "sideBar": true,
   "skip_h1_title": false,
   "title_cell": "Table of Contents",
   "title_sidebar": "Contents",
   "toc_cell": false,
   "toc_position": {},
   "toc_section_display": true,
   "toc_window_display": false
  },
  "varInspector": {
   "cols": {
    "lenName": 16,
    "lenType": 16,
    "lenVar": 40
   },
   "kernels_config": {
    "python": {
     "delete_cmd_postfix": "",
     "delete_cmd_prefix": "del ",
     "library": "var_list.py",
     "varRefreshCmd": "print(var_dic_list())"
    },
    "r": {
     "delete_cmd_postfix": ") ",
     "delete_cmd_prefix": "rm(",
     "library": "var_list.r",
     "varRefreshCmd": "cat(var_dic_list()) "
    }
   },
   "types_to_exclude": [
    "module",
    "function",
    "builtin_function_or_method",
    "instance",
    "_Feature"
   ],
   "window_display": false
  }
 },
 "nbformat": 4,
 "nbformat_minor": 2
}
