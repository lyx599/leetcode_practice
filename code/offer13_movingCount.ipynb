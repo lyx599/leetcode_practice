{
 "cells": [
  {
   "cell_type": "markdown",
   "metadata": {},
   "source": [
    "# \t面试题13\t机器人的运动范围  "
   ]
  },
  {
   "cell_type": "markdown",
   "metadata": {},
   "source": [
    "思路：\n",
    "- DFS\n",
    "    - 类似于矩阵搜索路径\n",
    "    - 时间复杂度 $O(mn)$ ： 最差情况下，机器人遍历矩阵所有单元格，此时时间复杂度为 $O(mn)$ 。\n",
    "    - 空间复杂度 $O(mn)$ ： 最差情况下，visited 内存储矩阵所有单元格的索引，使用 $O(mn)$ 的额外空间。\n",
    "- BFS\n",
    "    - 时间复杂度：$O(mn)$，其中 m 为方格的行数，n 为方格的列数。考虑所有格子都能进入，那么搜索的时候一个格子最多会被访问的次数为常数，所以时间复杂度为 $O(2mn)$=$O(mn)$。\n",
    "    - 空间复杂度：$O(mn)$，其中 m 为方格的行数，n 为方格的列数。搜索的时候需要一个大小为 $O(mn)$ 的标记结构用来标记每个格子是否被走过\n",
    "- 递推\n",
    "    - 考虑到搜索的方向只需要朝下或朝右，我们可以得出一种递推的求解方法\n",
    "    - 可达的点，一定由左方或上方的可达点推出 $v i s[i][j]=v i s[i-1][j]$ or $v i s[i][j-1]$\n",
    "    - 通过（0,0）点递推所有可达的点\n",
    "    - 时间复杂度：$O(mn)$，其中 m 为方格的行数， n 为方格的列数。一共有 $O(mn)$ 个状态需要计算，每个状态递推计算的时间复杂度为 $O(1)$，所以总时间复杂度为 $O(mn)$。\n",
    "    - 空间复杂度：$O(mn)$，其中 m 为方格的行数，n 为方格的列数。我们需要 $O(mn)$ 大小的结构来记录每个位置是否可达。"
   ]
  },
  {
   "cell_type": "markdown",
   "metadata": {},
   "source": [
    "注意：\n",
    "- 隐藏的优化：我们在搜索的过程中搜索方向可以缩减为向右和向下，而不必再向上和向左进行搜索"
   ]
  },
  {
   "cell_type": "code",
   "execution_count": 2,
   "metadata": {
    "ExecuteTime": {
     "end_time": "2020-06-10T02:58:10.101709Z",
     "start_time": "2020-06-10T02:58:10.094708Z"
    }
   },
   "outputs": [
    {
     "name": "stdout",
     "output_type": "stream",
     "text": [
      "1\n"
     ]
    }
   ],
   "source": [
    "class Solution:\n",
    "    def __init__(self):\n",
    "        self.count = 0\n",
    "\n",
    "    def movingCount(self, m: int, n: int, k: int) -> int:\n",
    "\n",
    "        if m < 1 or n < 1:\n",
    "            return 0\n",
    "        if k == 0:\n",
    "            return 1\n",
    "        visited = [[False for i in range(n)] for j in range(m)]\n",
    "\n",
    "        self.dfs(m, n, 0, 0, k, visited)\n",
    "        return self.count\n",
    "\n",
    "    def dfs(self, m, n, row, col, k, visited):\n",
    "        if visited[row][col]:\n",
    "            return\n",
    "        if self.num_sum(row, col) > k:\n",
    "            return\n",
    "        else:\n",
    "            visited[row][col] = True\n",
    "            self.count += 1\n",
    "            if row > 0:\n",
    "                self.dfs(m, n, row - 1, col, k, visited)\n",
    "            if row < m - 1:\n",
    "                self.dfs(m, n, row + 1, col, k, visited)\n",
    "            if col > 0:\n",
    "                self.dfs(m, n, row, col - 1, k, visited)\n",
    "            if col < n - 1:\n",
    "                self.dfs(m, n, row, col + 1, k, visited)\n",
    "\n",
    "    def num_sum(self, row, col):\n",
    "        sum = 0\n",
    "        while row:\n",
    "            sum += row % 10\n",
    "            row = row // 10\n",
    "        while col:\n",
    "            sum += col % 10\n",
    "            col = col // 10\n",
    "        return sum\n",
    "\n",
    "\n",
    "s = Solution()\n",
    "m = 3\n",
    "n = 4\n",
    "k = 0\n",
    "print(s.movingCount(m, n, k))"
   ]
  },
  {
   "cell_type": "markdown",
   "metadata": {},
   "source": [
    "# 答案"
   ]
  },
  {
   "cell_type": "markdown",
   "metadata": {},
   "source": [
    "## DFS"
   ]
  },
  {
   "cell_type": "code",
   "execution_count": 3,
   "metadata": {
    "ExecuteTime": {
     "end_time": "2020-06-10T07:17:06.824572Z",
     "start_time": "2020-06-10T07:17:06.782561Z"
    }
   },
   "outputs": [],
   "source": [
    "class Solution:\n",
    "    def __init__(self):\n",
    "        self.count = 0\n",
    "\n",
    "    def movingCount(self, m: int, n: int, k: int) -> int:\n",
    "\n",
    "        if m < 1 or n < 1:\n",
    "            return 0\n",
    "        if k == 0:\n",
    "            return 1\n",
    "        visited = [[False for i in range(n)] for j in range(m)]\n",
    "\n",
    "        self.dfs(m, n, 0, 0, k, visited)\n",
    "        return self.count\n",
    "\n",
    "    def dfs(self, m, n, row, col, k, visited):\n",
    "        if visited[row][col]:\n",
    "            return\n",
    "        if self.num_sum(row, col) > k:\n",
    "            return\n",
    "        else:\n",
    "            visited[row][col] = True\n",
    "            self.count += 1\n",
    "#             可以不向左向上搜索\n",
    "#             if row > 0:\n",
    "#                 self.dfs(m, n, row - 1, col, k, visited)\n",
    "            if row < m - 1:\n",
    "                self.dfs(m, n, row + 1, col, k, visited)\n",
    "#             if col > 0:\n",
    "#                 self.dfs(m, n, row, col - 1, k, visited)\n",
    "            if col < n - 1:\n",
    "                self.dfs(m, n, row, col + 1, k, visited)\n",
    "\n",
    "    def num_sum(self, row, col):\n",
    "        sum = 0\n",
    "        while row:\n",
    "            sum += row % 10\n",
    "            row = row // 10\n",
    "        while col:\n",
    "            sum += col % 10\n",
    "            col = col // 10\n",
    "        return sum"
   ]
  },
  {
   "cell_type": "markdown",
   "metadata": {},
   "source": [
    "## BFS"
   ]
  },
  {
   "cell_type": "code",
   "execution_count": 4,
   "metadata": {
    "ExecuteTime": {
     "end_time": "2020-06-10T07:17:34.591254Z",
     "start_time": "2020-06-10T07:17:34.583251Z"
    }
   },
   "outputs": [],
   "source": [
    "class Solution:\n",
    "    def movingCount(self, m: int, n: int, k: int) -> int:\n",
    "\n",
    "        from queue import Queue\n",
    "        q = Queue()\n",
    "        ans = set()\n",
    "        q.put((0, 0))\n",
    "        while not q.empty():\n",
    "            x, y = q.get()\n",
    "            if (x, y) not in ans and 0 <= x < m and 0 <= y < n and self.num_sum(x, y) <= k:\n",
    "                ans.add((x, y))\n",
    "                for nx, ny in [(x + 1, y), (x, y + 1)]:\n",
    "                    q.put((nx, ny))\n",
    "        return len(ans)\n",
    "\n",
    "    def num_sum(self, row, col):\n",
    "        sum = 0\n",
    "        while row:\n",
    "            sum += row % 10\n",
    "            row = row // 10\n",
    "        while col:\n",
    "            sum += col % 10\n",
    "            col = col // 10\n",
    "        return sum"
   ]
  },
  {
   "cell_type": "markdown",
   "metadata": {},
   "source": [
    "## 递推"
   ]
  },
  {
   "cell_type": "code",
   "execution_count": 5,
   "metadata": {
    "ExecuteTime": {
     "end_time": "2020-06-10T07:40:58.417281Z",
     "start_time": "2020-06-10T07:40:58.412293Z"
    }
   },
   "outputs": [],
   "source": [
    "class Solution:\n",
    "    def movingCount(self, m: int, n: int, k: int) -> int:\n",
    "\n",
    "        ans = set()\n",
    "        ans.add((0, 0))\n",
    "\n",
    "        for i in range(m):\n",
    "            for j in range(n):\n",
    "                if ((i - 1, j) in ans or (i, j - 1) in ans) and self.num_sum(i, j) <= k:\n",
    "                    ans.add((i, j))\n",
    "\n",
    "        return len(ans)\n",
    "\n",
    "    def num_sum(self, row, col):\n",
    "        sum = 0\n",
    "        while row:\n",
    "            sum += row % 10\n",
    "            row = row // 10\n",
    "        while col:\n",
    "            sum += col % 10\n",
    "            col = col // 10\n",
    "        return sum"
   ]
  }
 ],
 "metadata": {
  "kernelspec": {
   "display_name": "Python 3",
   "language": "python",
   "name": "python3"
  },
  "language_info": {
   "codemirror_mode": {
    "name": "ipython",
    "version": 3
   },
   "file_extension": ".py",
   "mimetype": "text/x-python",
   "name": "python",
   "nbconvert_exporter": "python",
   "pygments_lexer": "ipython3",
   "version": "3.7.0"
  },
  "toc": {
   "base_numbering": 1,
   "nav_menu": {},
   "number_sections": true,
   "sideBar": true,
   "skip_h1_title": false,
   "title_cell": "Table of Contents",
   "title_sidebar": "Contents",
   "toc_cell": false,
   "toc_position": {},
   "toc_section_display": true,
   "toc_window_display": false
  },
  "varInspector": {
   "cols": {
    "lenName": 16,
    "lenType": 16,
    "lenVar": 40
   },
   "kernels_config": {
    "python": {
     "delete_cmd_postfix": "",
     "delete_cmd_prefix": "del ",
     "library": "var_list.py",
     "varRefreshCmd": "print(var_dic_list())"
    },
    "r": {
     "delete_cmd_postfix": ") ",
     "delete_cmd_prefix": "rm(",
     "library": "var_list.r",
     "varRefreshCmd": "cat(var_dic_list()) "
    }
   },
   "types_to_exclude": [
    "module",
    "function",
    "builtin_function_or_method",
    "instance",
    "_Feature"
   ],
   "window_display": false
  }
 },
 "nbformat": 4,
 "nbformat_minor": 2
}
