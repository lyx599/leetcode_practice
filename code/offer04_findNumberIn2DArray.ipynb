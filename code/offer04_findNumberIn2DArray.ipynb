{
 "cells": [
  {
   "cell_type": "markdown",
   "metadata": {},
   "source": [
    "# 面试题04.二维数组中的查找"
   ]
  },
  {
   "cell_type": "markdown",
   "metadata": {},
   "source": [
    "思路：\n",
    "- 暴力法\n",
    "    - 直接遍历整个二维数组的每一个元素，判断目标值是否在二维数组中存在\n",
    "    - 就没有考虑已排好序的特征\n",
    "    - 时间复杂度$O(n m)$\n",
    "- 线性查找\n",
    "    - 考虑二维数组已排好序，选择右上角为起始点\n",
    "    - 如果小于target，则该行的数都小于target，剔除该行\n",
    "    - 如果大于target，则该列的数都大于target，剔除该列\n",
    "    - 直到找到查找的数字，或者查找范围为空\n",
    "    - 时间复杂度$O(n+m)$"
   ]
  },
  {
   "cell_type": "markdown",
   "metadata": {},
   "source": [
    "注意：\n",
    "- 特殊输入的判断  如空数组\n",
    "- 也可以选择左下角为起始点"
   ]
  },
  {
   "cell_type": "code",
   "execution_count": 1,
   "metadata": {
    "ExecuteTime": {
     "end_time": "2020-05-22T07:23:13.542786Z",
     "start_time": "2020-05-22T07:23:13.533792Z"
    }
   },
   "outputs": [
    {
     "name": "stdout",
     "output_type": "stream",
     "text": [
      "False\n"
     ]
    }
   ],
   "source": [
    "class Solution:\n",
    "    def findNumberIn2DArray(self, matrix: [[int]], target: int) -> bool:\n",
    "\n",
    "        row = len(matrix)\n",
    "        if row == 0:\n",
    "            return False\n",
    "        col = len(matrix[0])\n",
    "        if col == 0:\n",
    "            return False\n",
    "\n",
    "        x = 0\n",
    "        y = col - 1\n",
    "\n",
    "        while x < row and y >= 0:\n",
    "            if matrix[x][y] > target:\n",
    "                y -= 1\n",
    "            elif matrix[x][y] < target:\n",
    "                x += 1\n",
    "            else:\n",
    "                return True\n",
    "        return False\n",
    "\n",
    "\n",
    "\n",
    "s = Solution()\n",
    "nums = [\n",
    "]\n",
    "print(s.findNumberIn2DArray(nums,1))"
   ]
  },
  {
   "cell_type": "markdown",
   "metadata": {},
   "source": [
    "# 答案"
   ]
  },
  {
   "cell_type": "markdown",
   "metadata": {},
   "source": [
    "## 线性查找---右上角"
   ]
  },
  {
   "cell_type": "code",
   "execution_count": 2,
   "metadata": {
    "ExecuteTime": {
     "end_time": "2020-05-22T07:23:13.552780Z",
     "start_time": "2020-05-22T07:23:13.544785Z"
    }
   },
   "outputs": [],
   "source": [
    "class Solution:\n",
    "    def findNumberIn2DArray(self, matrix: [[int]], target: int) -> bool:\n",
    "        row = len(matrix)\n",
    "        if row == 0:\n",
    "            return False\n",
    "        col = len(matrix[0])\n",
    "        if col == 0:\n",
    "            return False\n",
    "        \n",
    "        x = 0\n",
    "        y = col - 1\n",
    "\n",
    "        while x < row and y >= 0:\n",
    "            if matrix[x][y] > target:\n",
    "                y -= 1\n",
    "            elif matrix[x][y] < target:\n",
    "                x += 1\n",
    "            else:\n",
    "                return True\n",
    "        return False"
   ]
  },
  {
   "cell_type": "markdown",
   "metadata": {},
   "source": [
    "## 线性查找---左下角"
   ]
  },
  {
   "cell_type": "code",
   "execution_count": 3,
   "metadata": {
    "ExecuteTime": {
     "end_time": "2020-05-22T07:23:13.567771Z",
     "start_time": "2020-05-22T07:23:13.560777Z"
    }
   },
   "outputs": [],
   "source": [
    "class Solution:\n",
    "    def findNumberIn2DArray(self, matrix: [[int]], target: int) -> bool:\n",
    "\n",
    "        row = len(matrix)\n",
    "        if row == 0:\n",
    "            return False\n",
    "        col = len(matrix[0])\n",
    "        if col == 0:\n",
    "            return False\n",
    "\n",
    "        x = row - 1\n",
    "        y = 0\n",
    "\n",
    "        while x >= 0 and y < col:\n",
    "            if matrix[x][y] > target:\n",
    "                x -= 1\n",
    "            elif matrix[x][y] < target:\n",
    "                y += 1\n",
    "            else:\n",
    "                return True\n",
    "        return False"
   ]
  }
 ],
 "metadata": {
  "hide_input": false,
  "kernelspec": {
   "display_name": "Python 3",
   "language": "python",
   "name": "python3"
  },
  "language_info": {
   "codemirror_mode": {
    "name": "ipython",
    "version": 3
   },
   "file_extension": ".py",
   "mimetype": "text/x-python",
   "name": "python",
   "nbconvert_exporter": "python",
   "pygments_lexer": "ipython3",
   "version": "3.7.0"
  },
  "toc": {
   "base_numbering": 1,
   "nav_menu": {},
   "number_sections": true,
   "sideBar": true,
   "skip_h1_title": false,
   "title_cell": "Table of Contents",
   "title_sidebar": "Contents",
   "toc_cell": false,
   "toc_position": {},
   "toc_section_display": true,
   "toc_window_display": false
  },
  "varInspector": {
   "cols": {
    "lenName": 16,
    "lenType": 16,
    "lenVar": 40
   },
   "kernels_config": {
    "python": {
     "delete_cmd_postfix": "",
     "delete_cmd_prefix": "del ",
     "library": "var_list.py",
     "varRefreshCmd": "print(var_dic_list())"
    },
    "r": {
     "delete_cmd_postfix": ") ",
     "delete_cmd_prefix": "rm(",
     "library": "var_list.r",
     "varRefreshCmd": "cat(var_dic_list()) "
    }
   },
   "types_to_exclude": [
    "module",
    "function",
    "builtin_function_or_method",
    "instance",
    "_Feature"
   ],
   "window_display": false
  }
 },
 "nbformat": 4,
 "nbformat_minor": 2
}
