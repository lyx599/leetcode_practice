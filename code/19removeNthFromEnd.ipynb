{
 "cells": [
  {
   "cell_type": "markdown",
   "metadata": {},
   "source": [
    "# 19. 删除链表的倒数第N个节点"
   ]
  },
  {
   "cell_type": "markdown",
   "metadata": {
    "ExecuteTime": {
     "end_time": "2020-04-21T03:36:00.304185Z",
     "start_time": "2020-04-21T03:36:00.129286Z"
    }
   },
   "source": [
    "思路:\n",
    "- 暴力法--两次遍历法\n",
    "    - 第一次遍历得到链表的长度\n",
    "    - 第二次遍历去删除倒数的第N个节点\n",
    "- 双指针法 - 一次遍历\n",
    "    - 设置两个指针，一个慢指针，一个快指针\n",
    "    - 快指针先移动n次，然后快慢指针一起移动，直到快指针移动到结尾，删除慢指针下一个节点，返回头指针"
   ]
  },
  {
   "cell_type": "markdown",
   "metadata": {},
   "source": [
    "注意：\n",
    "- 因为头指针指向第一个数据，因此需要设置一个节点来指向头指针，便于删除第一个节点\n",
    "- 指针指向问题要多思考"
   ]
  },
  {
   "cell_type": "markdown",
   "metadata": {
    "ExecuteTime": {
     "end_time": "2020-04-21T03:36:22.604475Z",
     "start_time": "2020-04-21T03:36:22.598476Z"
    }
   },
   "source": [
    "第一次思路：因为两次遍历很容易想到，因此直接思考一次遍历的方法，想到的就是双指针"
   ]
  },
  {
   "cell_type": "code",
   "execution_count": 5,
   "metadata": {
    "ExecuteTime": {
     "end_time": "2020-04-21T03:58:29.365673Z",
     "start_time": "2020-04-21T03:58:29.359677Z"
    }
   },
   "outputs": [],
   "source": [
    "# Definition for singly-linked list.\n",
    "class ListNode:\n",
    "    def __init__(self, x):\n",
    "        self.val = x\n",
    "        self.next = None\n",
    "\n",
    "class Solution:\n",
    "    def removeNthFromEnd(self, head: ListNode, n: int) -> ListNode:\n",
    "\n",
    "            pre = ListNode(None)\n",
    "            p = ListNode(None)\n",
    "            pre.next = head\n",
    "            p.next = head\n",
    "\n",
    "            for i in range(n):\n",
    "                p = p.next\n",
    "\n",
    "            while p.next != None:\n",
    "                pre = pre.next\n",
    "                p = p.next\n",
    "\n",
    "            pre.next = pre.next.next\n",
    "\n",
    "            return head\n"
   ]
  },
  {
   "cell_type": "markdown",
   "metadata": {},
   "source": [
    "这个答案是错误的，因为返回的是head，对于只有一个节点，删除倒数第一个节点的情况，输出应为空，但由于返回的是head，此时返回的是第一个节点，所以存在错误。虽然这个head被删除了，但是由于返回的是head，所以它是有值的。\n",
    "\n",
    "同理 ，用ans = p ，返回p.next 同样是相同的错误。 只有pre进行了删除操作，p.next依然指向head。所以ans = pre才对。或者建一个指针，让p,pre 都指向新建的指针，返回新建指针的下一位\n",
    "\n",
    "因此要特别注意思考连接的指向问题"
   ]
  },
  {
   "cell_type": "code",
   "execution_count": 6,
   "metadata": {
    "ExecuteTime": {
     "end_time": "2020-04-21T04:05:00.578505Z",
     "start_time": "2020-04-21T04:05:00.570511Z"
    }
   },
   "outputs": [],
   "source": [
    "# Definition for singly-linked list.\n",
    "class ListNode:\n",
    "    def __init__(self, x):\n",
    "        self.val = x\n",
    "        self.next = None\n",
    "\n",
    "class Solution:\n",
    "    def removeNthFromEnd(self, head: ListNode, n: int) -> ListNode:\n",
    "\n",
    "            pre = ListNode(None)\n",
    "            p = ListNode(None)\n",
    "            pre.next = head\n",
    "            p.next = head\n",
    "            ans = pre\n",
    "\n",
    "            for i in range(n):\n",
    "                p = p.next\n",
    "\n",
    "            while p.next != None:\n",
    "                pre = pre.next\n",
    "                p = p.next\n",
    "\n",
    "            pre.next = pre.next.next\n",
    "\n",
    "            return ans"
   ]
  },
  {
   "cell_type": "markdown",
   "metadata": {},
   "source": [
    "# 答案"
   ]
  },
  {
   "cell_type": "markdown",
   "metadata": {},
   "source": [
    "## 暴力法"
   ]
  },
  {
   "cell_type": "markdown",
   "metadata": {},
   "source": [
    "暴力法就没写了，直接看看别人的\n",
    "\n",
    "作者：luyao777\n",
    "\n",
    "链接：https://leetcode-cn.com/problems/remove-nth-node-from-end-of-list/solution/python-liang-tang-fa-by-luyao777/\n",
    "\n",
    "来源：力扣（LeetCode）"
   ]
  },
  {
   "cell_type": "code",
   "execution_count": null,
   "metadata": {},
   "outputs": [],
   "source": [
    "# @lc code=start\n",
    "# Definition for singly-linked list.\n",
    "# class ListNode:\n",
    "#     def __init__(self, x):\n",
    "#         self.val = x\n",
    "#         self.next = None\n",
    "\n",
    "\n",
    "class Solution:\n",
    "    def removeNthFromEnd(self, head: ListNode, n: int) -> ListNode:\n",
    "        node_no = 0\n",
    "        node = head\n",
    "        while node is not None:\n",
    "            node = node.next\n",
    "            node_no += 1\n",
    "        node_no -= n + 1\n",
    "\n",
    "        node = head\n",
    "        if node_no == -1:\n",
    "            head = head.next\n",
    "        else:\n",
    "            while(node_no):\n",
    "                node = node.next\n",
    "                node_no -= 1\n",
    "            node.next = node.next.next\n",
    "        return head"
   ]
  },
  {
   "cell_type": "markdown",
   "metadata": {},
   "source": [
    "## 双指针"
   ]
  },
  {
   "cell_type": "code",
   "execution_count": 7,
   "metadata": {
    "ExecuteTime": {
     "end_time": "2020-04-21T04:06:23.905732Z",
     "start_time": "2020-04-21T04:06:23.899735Z"
    }
   },
   "outputs": [],
   "source": [
    "# Definition for singly-linked list.\n",
    "class ListNode:\n",
    "    def __init__(self, x):\n",
    "        self.val = x\n",
    "        self.next = None\n",
    "\n",
    "class Solution:\n",
    "    def removeNthFromEnd(self, head: ListNode, n: int) -> ListNode:\n",
    "\n",
    "        pre = ListNode(None)\n",
    "        p = ListNode(None)\n",
    "        pre.next = head\n",
    "        p.next = head\n",
    "        ans = pre\n",
    "\n",
    "        for i in range(n):\n",
    "            p = p.next\n",
    "\n",
    "        while p.next != None:\n",
    "            pre = pre.next\n",
    "            p = p.next\n",
    "\n",
    "        pre.next = pre.next.next\n",
    "\n",
    "        return ans.next"
   ]
  }
 ],
 "metadata": {
  "hide_input": false,
  "kernelspec": {
   "display_name": "Python 3",
   "language": "python",
   "name": "python3"
  },
  "language_info": {
   "codemirror_mode": {
    "name": "ipython",
    "version": 3
   },
   "file_extension": ".py",
   "mimetype": "text/x-python",
   "name": "python",
   "nbconvert_exporter": "python",
   "pygments_lexer": "ipython3",
   "version": "3.7.0"
  },
  "toc": {
   "base_numbering": 1,
   "nav_menu": {},
   "number_sections": true,
   "sideBar": true,
   "skip_h1_title": false,
   "title_cell": "Table of Contents",
   "title_sidebar": "Contents",
   "toc_cell": false,
   "toc_position": {},
   "toc_section_display": true,
   "toc_window_display": false
  },
  "varInspector": {
   "cols": {
    "lenName": 16,
    "lenType": 16,
    "lenVar": 40
   },
   "kernels_config": {
    "python": {
     "delete_cmd_postfix": "",
     "delete_cmd_prefix": "del ",
     "library": "var_list.py",
     "varRefreshCmd": "print(var_dic_list())"
    },
    "r": {
     "delete_cmd_postfix": ") ",
     "delete_cmd_prefix": "rm(",
     "library": "var_list.r",
     "varRefreshCmd": "cat(var_dic_list()) "
    }
   },
   "types_to_exclude": [
    "module",
    "function",
    "builtin_function_or_method",
    "instance",
    "_Feature"
   ],
   "window_display": false
  }
 },
 "nbformat": 4,
 "nbformat_minor": 2
}
