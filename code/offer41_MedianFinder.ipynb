{
 "cells": [
  {
   "cell_type": "markdown",
   "metadata": {},
   "source": [
    "# 剑指 Offer 41\t数据流中的中位数  "
   ]
  },
  {
   "cell_type": "markdown",
   "metadata": {},
   "source": [
    "思路：\n",
    "- 排序\n",
    "    - 添加数据直接在列表尾部添加，查找中位数时对列表排序，再返回中位数\n",
    "    - 时间复杂度 $O(N \\log N)$ : addNum函数复杂度$O(1)$，findMedian中排序的复杂度$O(N \\log N)$\n",
    "    - 空间复杂度 $O(N)$ : N 为数据流中的元素数量\n",
    "- 二分查找插入\n",
    "    - 添加数据时通过二分查找插入排好序的数据中\n",
    "    - 时间复杂度 $O(N)$ : 查找$O(\\log N)$ ，插入$O(N)$\n",
    "    - 空间复杂度 $O(N)$ : N 为数据流中的元素数量\n",
    "- 堆\n",
    "    - 使用一个小顶堆A和大顶堆B分别保存数据的一半\n",
    "    - 小顶堆A保存较大一部分，大顶堆B保存较小一部分，中位数即可由堆顶元素求出\n",
    "    - 要进入一个堆，要先通过另一个堆，从而进行排序，使堆顶保持为中位数\n",
    "    - 设元素总数为 $N = m + n$ ，其中 m 和 n 分别为 A 和 B 中的元素个数\n",
    "    - 当 $m = n$（即 N 为 偶数）：需向 A 添加一个元素。实现方法：将新元素num 插入至 B ，再将 B 堆顶元素插入至 A \n",
    "    - 当 $m \\ne n$（即 N 为 奇数）：需向 B 添加一个元素。实现方法：将新元素 num插入至 A，再将 A 堆顶元素插入至 B \n",
    "    - 当  $m = n$（即 N 为 偶数）：则中位数为 ( A 的堆顶元素 + B 的堆顶元素 )/2\n",
    "    - 当 $m \\ne n$（即 N 为 奇数）：则中位数为 A 的堆顶元素。因为数据先加入A,如果数据先进入B，则弹出B的堆顶\n",
    "    - 时间复杂度\n",
    "        - 查找中位数 $O(1)$ ： 获取堆顶元素使用 $O(1)$ 时间；\n",
    "        - 添加数字 $O(\\log N)$ ： 堆的插入和弹出操作使用 $O(\\log N)$ 时间。\n",
    "    - 空间复杂度 $O(N)$ : N 为数据流中的元素数量，小顶堆 A 和大顶堆 B 最多同时保存 N 个元素"
   ]
  },
  {
   "cell_type": "markdown",
   "metadata": {},
   "source": [
    "注意：\n",
    "- python中heapq 只有小顶堆，要实现大顶堆需要取相反数"
   ]
  },
  {
   "cell_type": "markdown",
   "metadata": {},
   "source": [
    "超时，添加数字函数考虑的是插入排序，复杂度O(N)\n",
    "\n",
    "考虑到可能是添加数据操作较多，直接插入数据，在查找中位数时排序后再返回中位数值"
   ]
  },
  {
   "cell_type": "code",
   "execution_count": 1,
   "metadata": {
    "ExecuteTime": {
     "end_time": "2020-07-08T11:26:29.811534Z",
     "start_time": "2020-07-08T11:26:29.804532Z"
    }
   },
   "outputs": [],
   "source": [
    "class MedianFinder:\n",
    "\n",
    "    def __init__(self):\n",
    "        \"\"\"\n",
    "        initialize your data structure here.\n",
    "        \"\"\"\n",
    "        self.datas = []\n",
    "\n",
    "    def addNum(self, num: int) -> None:\n",
    "        self.datas.append(num)\n",
    "        for i in range(len(self.datas) - 1, 0, -1):\n",
    "            if self.datas[i] < self.datas[i - 1]:\n",
    "                self.datas[i], self.datas[i - 1] = self.datas[i - 1], self.datas[i]\n",
    "\n",
    "    def findMedian(self) -> float:\n",
    "        index = len(self.datas) // 2\n",
    "        if len(self.datas) % 2 == 0:\n",
    "            return (self.datas[index] + self.datas[index-1]) / 2\n",
    "        else:\n",
    "            return self.datas[index]\n",
    "\n",
    "\n",
    "# Your MedianFinder object will be instantiated and called as such:\n",
    "# obj = MedianFinder()\n",
    "# obj.addNum(num)\n",
    "# param_2 = obj.findMedian()"
   ]
  },
  {
   "cell_type": "code",
   "execution_count": 2,
   "metadata": {
    "ExecuteTime": {
     "end_time": "2020-07-08T11:26:29.817541Z",
     "start_time": "2020-07-08T11:26:29.812534Z"
    }
   },
   "outputs": [],
   "source": [
    "class MedianFinder:\n",
    "\n",
    "    def __init__(self):\n",
    "        \"\"\"\n",
    "        initialize your data structure here.\n",
    "        \"\"\"\n",
    "        self.datas = []\n",
    "\n",
    "    def addNum(self, num: int) -> None:\n",
    "        self.datas.append(num)\n",
    "        \n",
    "\n",
    "    def findMedian(self) -> float:\n",
    "        self.datas.sort()\n",
    "        index = len(self.datas) // 2\n",
    "        if len(self.datas) % 2 == 0:\n",
    "            return (self.datas[index] + self.datas[index-1]) / 2\n",
    "        else:\n",
    "            return self.datas[index]\n",
    "\n",
    "\n",
    "# Your MedianFinder object will be instantiated and called as such:\n",
    "# obj = MedianFinder()\n",
    "# obj.addNum(num)\n",
    "# param_2 = obj.findMedian()"
   ]
  },
  {
   "cell_type": "markdown",
   "metadata": {},
   "source": [
    "# 答案"
   ]
  },
  {
   "cell_type": "markdown",
   "metadata": {},
   "source": [
    "## 排序"
   ]
  },
  {
   "cell_type": "code",
   "execution_count": 3,
   "metadata": {
    "ExecuteTime": {
     "end_time": "2020-07-08T11:26:29.823535Z",
     "start_time": "2020-07-08T11:26:29.818542Z"
    }
   },
   "outputs": [],
   "source": [
    "class MedianFinder:\n",
    "\n",
    "    def __init__(self):\n",
    "        \"\"\"\n",
    "        initialize your data structure here.\n",
    "        \"\"\"\n",
    "        self.datas = []\n",
    "\n",
    "    def addNum(self, num: int) -> None:\n",
    "        self.datas.append(num)\n",
    "        \n",
    "\n",
    "    def findMedian(self) -> float:\n",
    "        self.datas.sort()\n",
    "        index = len(self.datas) // 2\n",
    "        if len(self.datas) % 2 == 0:\n",
    "            return (self.datas[index] + self.datas[index-1]) / 2\n",
    "        else:\n",
    "            return self.datas[index]\n",
    "\n",
    "\n",
    "# Your MedianFinder object will be instantiated and called as such:\n",
    "# obj = MedianFinder()\n",
    "# obj.addNum(num)\n",
    "# param_2 = obj.findMedian()"
   ]
  },
  {
   "cell_type": "markdown",
   "metadata": {},
   "source": [
    "## 堆"
   ]
  },
  {
   "cell_type": "code",
   "execution_count": 4,
   "metadata": {
    "ExecuteTime": {
     "end_time": "2020-07-08T11:26:29.830543Z",
     "start_time": "2020-07-08T11:26:29.825542Z"
    }
   },
   "outputs": [],
   "source": [
    "from heapq import *\n",
    "\n",
    "class MedianFinder:\n",
    "\n",
    "    def __init__(self):\n",
    "        \"\"\"\n",
    "        initialize your data structure here.\n",
    "        \"\"\"\n",
    "        self.A = []\n",
    "        self.B = []\n",
    "\n",
    "    def addNum(self, num: int) -> None:\n",
    "        if len(self.A) != len(self.B):\n",
    "            heappush(self.A, num)\n",
    "            heappush(self.B, -heappop(self.A))\n",
    "        else:\n",
    "            heappush(self.B, -num)\n",
    "            heappush(self.A, -heappop(self.B))\n",
    "\n",
    "    def findMedian(self) -> float:\n",
    "        if len(self.A) != len(self.B):\n",
    "            return self.A[0]\n",
    "        else:\n",
    "            # B中存的相反数，所以减去B的元素\n",
    "            return (self.A[0] - self.B[0]) / 2\n",
    "\n",
    "# Your MedianFinder object will be instantiated and called as such:\n",
    "# obj = MedianFinder()\n",
    "# obj.addNum(num)\n",
    "# param_2 = obj.findMedian()"
   ]
  },
  {
   "cell_type": "markdown",
   "metadata": {},
   "source": [
    "数据如果先进入B的情况"
   ]
  },
  {
   "cell_type": "code",
   "execution_count": 5,
   "metadata": {
    "ExecuteTime": {
     "end_time": "2020-07-08T11:26:29.837538Z",
     "start_time": "2020-07-08T11:26:29.831543Z"
    }
   },
   "outputs": [],
   "source": [
    "class MedianFinder:\n",
    "\n",
    "    def __init__(self):\n",
    "        \"\"\"\n",
    "        initialize your data structure here.\n",
    "        \"\"\"\n",
    "        self.A = []\n",
    "        self.B = []\n",
    "\n",
    "    def addNum(self, num: int) -> None:\n",
    "        if len(self.A) != len(self.B):\n",
    "            heappush(self.B, -num)\n",
    "            heappush(self.A, -heappop(self.B))\n",
    "            \n",
    "        else:\n",
    "            heappush(self.A, num)\n",
    "            heappush(self.B, -heappop(self.A))\n",
    "\n",
    "    def findMedian(self) -> float:\n",
    "        if len(self.A) != len(self.B):\n",
    "            return -self.B[0]\n",
    "        else:\n",
    "            return (self.A[0] - self.B[0]) / 2\n",
    "\n",
    "# Your MedianFinder object will be instantiated and called as such:\n",
    "# obj = MedianFinder()\n",
    "# obj.addNum(num)\n",
    "# param_2 = obj.findMedian()"
   ]
  },
  {
   "cell_type": "markdown",
   "metadata": {},
   "source": [
    "push和pop联合的函数比两个分开的效率更高"
   ]
  },
  {
   "cell_type": "code",
   "execution_count": 6,
   "metadata": {
    "ExecuteTime": {
     "end_time": "2020-07-08T11:26:29.843539Z",
     "start_time": "2020-07-08T11:26:29.839539Z"
    }
   },
   "outputs": [],
   "source": [
    "class MedianFinder:\n",
    "\n",
    "    def __init__(self):\n",
    "        \"\"\"\n",
    "        initialize your data structure here.\n",
    "        \"\"\"\n",
    "        self.A = []\n",
    "        self.B = []\n",
    "\n",
    "    def addNum(self, num: int) -> None:\n",
    "        if len(self.A) != len(self.B):\n",
    "            heappush(self.B, -heappushpop(self.A,num))\n",
    "        else:\n",
    "            heappush(self.A, -heappushpop(self.B,-num))\n",
    "\n",
    "    def findMedian(self) -> float:\n",
    "        if len(self.A) != len(self.B):\n",
    "            return self.A[0]\n",
    "        else:\n",
    "            # B中存的相反数，所以减去B的元素\n",
    "            return (self.A[0] - self.B[0]) / 2\n",
    "\n",
    "# Your MedianFinder object will be instantiated and called as such:\n",
    "# obj = MedianFinder()\n",
    "# obj.addNum(num)\n",
    "# param_2 = obj.findMedian()"
   ]
  }
 ],
 "metadata": {
  "kernelspec": {
   "display_name": "Python 3",
   "language": "python",
   "name": "python3"
  },
  "language_info": {
   "codemirror_mode": {
    "name": "ipython",
    "version": 3
   },
   "file_extension": ".py",
   "mimetype": "text/x-python",
   "name": "python",
   "nbconvert_exporter": "python",
   "pygments_lexer": "ipython3",
   "version": "3.7.0"
  },
  "toc": {
   "base_numbering": 1,
   "nav_menu": {},
   "number_sections": true,
   "sideBar": true,
   "skip_h1_title": false,
   "title_cell": "Table of Contents",
   "title_sidebar": "Contents",
   "toc_cell": false,
   "toc_position": {},
   "toc_section_display": true,
   "toc_window_display": false
  },
  "varInspector": {
   "cols": {
    "lenName": 16,
    "lenType": 16,
    "lenVar": 40
   },
   "kernels_config": {
    "python": {
     "delete_cmd_postfix": "",
     "delete_cmd_prefix": "del ",
     "library": "var_list.py",
     "varRefreshCmd": "print(var_dic_list())"
    },
    "r": {
     "delete_cmd_postfix": ") ",
     "delete_cmd_prefix": "rm(",
     "library": "var_list.r",
     "varRefreshCmd": "cat(var_dic_list()) "
    }
   },
   "types_to_exclude": [
    "module",
    "function",
    "builtin_function_or_method",
    "instance",
    "_Feature"
   ],
   "window_display": false
  }
 },
 "nbformat": 4,
 "nbformat_minor": 2
}
