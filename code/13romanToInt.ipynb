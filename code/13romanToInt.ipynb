{
 "cells": [
  {
   "cell_type": "markdown",
   "metadata": {},
   "source": [
    "# 罗马数字转整数\n"
   ]
  },
  {
   "cell_type": "markdown",
   "metadata": {},
   "source": [
    "思路：\n",
    "- 暴力法 ----自己的解法\n",
    "    - 罗马数字转整数只需将对应的字符转换为数字相加即得答案，需要特殊处理4,9,40等这类特例\n",
    "- 减法\n",
    "    - 把一个小值放在大值的左边，就是做减法，否则为加法。如IV 就是先减一在加五\n",
    "    - 最后一位必定是加法"
   ]
  },
  {
   "cell_type": "markdown",
   "metadata": {},
   "source": [
    "注意：下标是否溢出"
   ]
  },
  {
   "cell_type": "markdown",
   "metadata": {},
   "source": [
    "第一次思路：罗马数字转整数只需将对应的字符转换为数字相加即得答案，需要特殊处理4,9,40等这类特例"
   ]
  },
  {
   "cell_type": "code",
   "execution_count": 8,
   "metadata": {
    "ExecuteTime": {
     "end_time": "2020-04-16T04:03:07.205079Z",
     "start_time": "2020-04-16T04:03:07.195085Z"
    }
   },
   "outputs": [
    {
     "name": "stdout",
     "output_type": "stream",
     "text": [
      "3\n"
     ]
    }
   ],
   "source": [
    "class Solution:\n",
    "    def romanToInt(s: str) -> int:\n",
    "\n",
    "        hashmap = {'M': 1000, 'CM': 900, 'D': 500, 'CD':  400,'C':  100,'XC': 90,\n",
    "                   'L': 50,'XL': 40,'X': 10,'IX':  9,'V': 5,'IV': 4,'I': 1}\n",
    "        s_len = len(s)\n",
    "        ans = 0\n",
    "        i = 0\n",
    "        while i < s_len:\n",
    "            if s[i] == 'I' or s[i] == 'X' or s[i] == 'C':  #特例判断\n",
    "                if i + 1 < s_len:\n",
    "                    ch = s[i] + s[i+1]\n",
    "                    if ch in hashmap:\n",
    "                        ans += hashmap[ch]\n",
    "                        i += 1\n",
    "                    else:\n",
    "                        ans += hashmap[s[i]]\n",
    "                else:\n",
    "                    ans += hashmap[s[i]]  #特例在最后一个直接加\n",
    "            else:\n",
    "                ans += hashmap[s[i]]\n",
    "            i += 1\n",
    "        return ans\n",
    "\n",
    "if __name__ == '__main__':\n",
    "    print(Solution.romanToInt('III'))"
   ]
  },
  {
   "cell_type": "markdown",
   "metadata": {},
   "source": [
    "# 答案"
   ]
  },
  {
   "cell_type": "code",
   "execution_count": 9,
   "metadata": {
    "ExecuteTime": {
     "end_time": "2020-04-16T04:31:01.167298Z",
     "start_time": "2020-04-16T04:31:01.155303Z"
    }
   },
   "outputs": [],
   "source": [
    "class Solution:\n",
    "    def romanToInt(self, s: str) -> int:\n",
    "        hashmap = {'M': 1000, 'CM': 900, 'D': 500, 'CD':  400,'C':  100,'XC': 90,\n",
    "                   'L': 50,'XL': 40,'X': 10,'IX':  9,'V': 5,'IV': 4,'I': 1}\n",
    "        s_len = len(s)\n",
    "        ans = 0\n",
    "        i = 0\n",
    "        while i < s_len:\n",
    "            if s[i] == 'I' or s[i] == 'X' or s[i] == 'C':\n",
    "                if i + 1 < s_len:\n",
    "                    ch = s[i] + s[i+1]\n",
    "                    if ch in hashmap:\n",
    "                        ans += hashmap[ch]\n",
    "                        i += 1\n",
    "                    else:\n",
    "                        ans += hashmap[s[i]]\n",
    "                else:\n",
    "                    ans += hashmap[s[i]]\n",
    "            else:\n",
    "                ans += hashmap[s[i]]\n",
    "            i += 1\n",
    "        return ans"
   ]
  },
  {
   "cell_type": "markdown",
   "metadata": {},
   "source": [
    "## 减法"
   ]
  },
  {
   "cell_type": "code",
   "execution_count": 10,
   "metadata": {
    "ExecuteTime": {
     "end_time": "2020-04-16T04:32:57.613324Z",
     "start_time": "2020-04-16T04:32:57.606327Z"
    }
   },
   "outputs": [],
   "source": [
    "class Solution:\n",
    "    def romanToInt(self, s: str) -> int:\n",
    "        d={'I':1,'V':5,'X':10,'L':50,'C':100,'D':500,'M':1000}\n",
    "        s_len = len(s)\n",
    "        ans = 0\n",
    "\n",
    "        for i in range(s_len-1):\n",
    "            if d[s[i]] < d[s[i+1]]:\n",
    "                ans -= d[s[i]]\n",
    "            else:\n",
    "                ans += d[s[i]]\n",
    "\n",
    "        ans = ans + d[s[-1]] #最后一位没进入循环 故加上\n",
    "        return ans"
   ]
  }
 ],
 "metadata": {
  "hide_input": false,
  "kernelspec": {
   "display_name": "Python 3",
   "language": "python",
   "name": "python3"
  },
  "language_info": {
   "codemirror_mode": {
    "name": "ipython",
    "version": 3
   },
   "file_extension": ".py",
   "mimetype": "text/x-python",
   "name": "python",
   "nbconvert_exporter": "python",
   "pygments_lexer": "ipython3",
   "version": "3.7.0"
  },
  "toc": {
   "base_numbering": 1,
   "nav_menu": {},
   "number_sections": true,
   "sideBar": true,
   "skip_h1_title": false,
   "title_cell": "Table of Contents",
   "title_sidebar": "Contents",
   "toc_cell": false,
   "toc_position": {},
   "toc_section_display": true,
   "toc_window_display": false
  },
  "varInspector": {
   "cols": {
    "lenName": 16,
    "lenType": 16,
    "lenVar": 40
   },
   "kernels_config": {
    "python": {
     "delete_cmd_postfix": "",
     "delete_cmd_prefix": "del ",
     "library": "var_list.py",
     "varRefreshCmd": "print(var_dic_list())"
    },
    "r": {
     "delete_cmd_postfix": ") ",
     "delete_cmd_prefix": "rm(",
     "library": "var_list.r",
     "varRefreshCmd": "cat(var_dic_list()) "
    }
   },
   "types_to_exclude": [
    "module",
    "function",
    "builtin_function_or_method",
    "instance",
    "_Feature"
   ],
   "window_display": false
  }
 },
 "nbformat": 4,
 "nbformat_minor": 2
}
