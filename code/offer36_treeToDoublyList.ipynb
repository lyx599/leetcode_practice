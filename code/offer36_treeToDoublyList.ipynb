{
 "cells": [
  {
   "cell_type": "markdown",
   "metadata": {},
   "source": [
    "# 剑指 Offer 36\t二叉搜索树与双向链表  "
   ]
  },
  {
   "cell_type": "markdown",
   "metadata": {},
   "source": [
    "思路：\n",
    "- 递归\n",
    "    - 要转换为排序的双向链表，应采用中序遍历\n",
    "    - 通过一个全局变量来记录当前节点cur的前一个节点pre，初始化pre=None\n",
    "    - 每次递归，前一个节点pre的后驱连接当前节点cur，当前节点cur前驱连接前一个节点pre\n",
    "    - 特殊处理，当前节点cur的前一个节点pre==None，则表明cur是头结点，应次记录下头结点head = cur\n",
    "    - 递归完成后，只有头结点没有前驱，和尾节点没有后驱，此时pre正好是尾结点，因此把他们两个连接起来组成双向链表\n",
    "    - 时间复杂度 $O(N)$ : 中序遍历所有节点\n",
    "    - 空间复杂度 $O(N)$ : 最差情况下，即树退化为链表时，递归深度达到N，系统使用 $O(N)$  栈空间。\n",
    "    - https://leetcode-cn.com/problems/er-cha-sou-suo-shu-yu-shuang-xiang-lian-biao-lcof/solution/mian-shi-ti-36-er-cha-sou-suo-shu-yu-shuang-xian-5/\n",
    "- 迭代\n",
    "    - 和递归思路一样，把递归改成了迭代\n",
    "    - 时间复杂度 $O(N)$ : 中序遍历所有节点\n",
    "    - 空间复杂度 $O(N)$ : 最差情况下，即树退化为链表时，栈存入N个节点，使用 $O(N)$  空间。"
   ]
  },
  {
   "cell_type": "markdown",
   "metadata": {
    "ExecuteTime": {
     "end_time": "2020-07-03T10:44:41.960945Z",
     "start_time": "2020-07-03T10:44:41.957943Z"
    }
   },
   "source": [
    "注意：\n",
    "- 树结构是单向的，所以我们需要将上一个节点保存下来"
   ]
  },
  {
   "cell_type": "markdown",
   "metadata": {},
   "source": [
    "- 想到了中序遍历，开始没注意是有序的双向链表\n",
    "- 想到了递归\n",
    "- 最左下是头节点，最右下是尾节点\n",
    "- 没有理清楚里面的传递关系---通过增加一个全局变量来进行前后节点的连接"
   ]
  },
  {
   "cell_type": "code",
   "execution_count": 1,
   "metadata": {
    "ExecuteTime": {
     "end_time": "2020-07-03T13:12:54.174848Z",
     "start_time": "2020-07-03T13:12:54.168845Z"
    }
   },
   "outputs": [],
   "source": [
    "# Definition for a Node.\n",
    "class Node:\n",
    "    def __init__(self, val, left=None, right=None):\n",
    "        self.val = val\n",
    "        self.left = left\n",
    "        self.right = right\n",
    "\n",
    "\n",
    "class Solution:\n",
    "    def treeToDoublyList(self, root: 'Node') -> 'Node':\n",
    "\n",
    "        def dfs(cur):\n",
    "            if not cur:\n",
    "                return\n",
    "            dfs(cur.left)\n",
    "            if self.pre:\n",
    "                self.pre.right, cur.left = cur, self.pre\n",
    "            else:\n",
    "                self.head = cur\n",
    "            self.pre = cur\n",
    "            dfs(cur.right)\n",
    "        if not root:\n",
    "            return\n",
    "        self.pre = None\n",
    "        dfs(root)\n",
    "        self.head.left, self.pre.right = self.pre, self.head\n",
    "        return self.head"
   ]
  },
  {
   "cell_type": "markdown",
   "metadata": {},
   "source": [
    "# 答案"
   ]
  },
  {
   "cell_type": "markdown",
   "metadata": {},
   "source": [
    "## 递归"
   ]
  },
  {
   "cell_type": "code",
   "execution_count": 2,
   "metadata": {
    "ExecuteTime": {
     "end_time": "2020-07-03T13:12:54.182847Z",
     "start_time": "2020-07-03T13:12:54.176849Z"
    }
   },
   "outputs": [],
   "source": [
    "\"\"\"\n",
    "# Definition for a Node.\n",
    "class Node:\n",
    "    def __init__(self, val, left=None, right=None):\n",
    "        self.val = val\n",
    "        self.left = left\n",
    "        self.right = right\n",
    "\"\"\"\n",
    "class Solution:\n",
    "    def treeToDoublyList(self, root: 'Node') -> 'Node': \n",
    "        def dfs(cur):\n",
    "            if not cur:\n",
    "                return\n",
    "            dfs(cur.left)\n",
    "            if self.pre:\n",
    "                self.pre.right, cur.left = cur, self.pre\n",
    "            else:\n",
    "                self.head = cur\n",
    "            self.pre = cur\n",
    "            dfs(cur.right)\n",
    "        if not root:\n",
    "            return\n",
    "        self.pre = None\n",
    "        dfs(root)\n",
    "        self.head.left, self.pre.right = self.pre, self.head\n",
    "        return self.head"
   ]
  },
  {
   "cell_type": "code",
   "execution_count": 3,
   "metadata": {
    "ExecuteTime": {
     "end_time": "2020-07-03T13:12:54.187850Z",
     "start_time": "2020-07-03T13:12:54.184849Z"
    }
   },
   "outputs": [],
   "source": [
    "\"\"\"\n",
    "# Definition for a Node.\n",
    "class Node:\n",
    "    def __init__(self, val, left=None, right=None):\n",
    "        self.val = val\n",
    "        self.left = left\n",
    "        self.right = right\n",
    "\"\"\"\n",
    "class Solution:\n",
    "    def treeToDoublyList(self, root: 'Node') -> 'Node': \n",
    "        if not root:\n",
    "            return\n",
    "        pre = None\n",
    "        stack = []\n",
    "        while stack or root:\n",
    "            if root:\n",
    "                stack.append(root)\n",
    "                root = root.left\n",
    "            else:\n",
    "                cur = stack.pop()\n",
    "                if not pre:\n",
    "                    head = cur\n",
    "                else:\n",
    "                   pre.right = cur \n",
    "                cur.left = pre\n",
    "                pre = cur\n",
    "                root = cur.right\n",
    "        head.left,pre.right= cur,head\n",
    "        return head"
   ]
  }
 ],
 "metadata": {
  "kernelspec": {
   "display_name": "Python 3",
   "language": "python",
   "name": "python3"
  },
  "language_info": {
   "codemirror_mode": {
    "name": "ipython",
    "version": 3
   },
   "file_extension": ".py",
   "mimetype": "text/x-python",
   "name": "python",
   "nbconvert_exporter": "python",
   "pygments_lexer": "ipython3",
   "version": "3.7.0"
  },
  "toc": {
   "base_numbering": 1,
   "nav_menu": {},
   "number_sections": true,
   "sideBar": true,
   "skip_h1_title": false,
   "title_cell": "Table of Contents",
   "title_sidebar": "Contents",
   "toc_cell": false,
   "toc_position": {},
   "toc_section_display": true,
   "toc_window_display": false
  },
  "varInspector": {
   "cols": {
    "lenName": 16,
    "lenType": 16,
    "lenVar": 40
   },
   "kernels_config": {
    "python": {
     "delete_cmd_postfix": "",
     "delete_cmd_prefix": "del ",
     "library": "var_list.py",
     "varRefreshCmd": "print(var_dic_list())"
    },
    "r": {
     "delete_cmd_postfix": ") ",
     "delete_cmd_prefix": "rm(",
     "library": "var_list.r",
     "varRefreshCmd": "cat(var_dic_list()) "
    }
   },
   "types_to_exclude": [
    "module",
    "function",
    "builtin_function_or_method",
    "instance",
    "_Feature"
   ],
   "window_display": false
  }
 },
 "nbformat": 4,
 "nbformat_minor": 2
}
