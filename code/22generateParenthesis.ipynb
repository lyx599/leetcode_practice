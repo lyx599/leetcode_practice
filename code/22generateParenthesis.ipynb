{
 "cells": [
  {
   "cell_type": "markdown",
   "metadata": {},
   "source": [
    "# 22括号生成"
   ]
  },
  {
   "cell_type": "markdown",
   "metadata": {},
   "source": [
    "思路：\n",
    "- DFS\n",
    "    - 通过深度优先搜索向下递归查找\n",
    "    - 如果左括号数量不大于n，我们可以放一个左括号。如果右括号数量小于左括号的数量，我们可以放一个右括号\n",
    "    - 当左括号等于n，且左右括号相等，此时递归结束\n",
    "- 自己的思路\n",
    "    - 任何括号序列都是左括号开始的，因此以左括号'('为起始\n",
    "    - 循环n次，每次循环都添加一个左括号，右括号组合通过遍历得到所有可能的组合\n",
    "    - 感觉像是广度优先搜索"
   ]
  },
  {
   "cell_type": "markdown",
   "metadata": {
    "ExecuteTime": {
     "end_time": "2020-04-23T06:52:23.242061Z",
     "start_time": "2020-04-23T06:52:23.237064Z"
    }
   },
   "source": [
    "注意：\n",
    "- DFS的递归出口，还有参数的改变\n",
    "- 加强参数传递过程中的一些问题--目前对python还不熟悉"
   ]
  },
  {
   "cell_type": "markdown",
   "metadata": {},
   "source": [
    "第一次思路：通过类似树状结构依次向下推，类似回溯法。任何括号序列都是左括号开始的，因此以左括号'('为起始，他会有两种情况，1 加一个'('形成((,2 加')('形成()(，然后对新的结构元素进行遍历重复操作，对于两个及两个以上的n个'(('结构，在增加右括号时存在n种情况（如'(('，对应两种情况，'(()(''(())('）。反正就是每次循环都是添加一个左括号，根据上面的原因因此需要一个记录未匹配的左括号数量的标记元素。\n",
    "\n",
    "\n",
    "简单来说就是对于每一次循环都是添加左括号，对应就是直接添加左括号，或者加完右括号在加左括号，其中就存在遍历右括号的组合情况\n",
    "\n",
    "本质上感觉还是暴力法--看了题解发现这个更像广度优先搜索\n",
    "\n",
    "python没有结构体，所以使用的类来代替"
   ]
  },
  {
   "cell_type": "code",
   "execution_count": 6,
   "metadata": {
    "ExecuteTime": {
     "end_time": "2020-04-23T07:12:24.775835Z",
     "start_time": "2020-04-23T07:12:24.765839Z"
    }
   },
   "outputs": [
    {
     "name": "stdout",
     "output_type": "stream",
     "text": [
      "['((()))', '(()())', '(())()', '()(())', '()()()']\n"
     ]
    }
   ],
   "source": [
    "class item:\n",
    "    def __init__(self,ch,status):\n",
    "        self.str = ch\n",
    "        self.status = status\n",
    "\n",
    "class Solution:\n",
    "    def generateParenthesis(self, n: int):\n",
    "\n",
    "        start = item('(',1)  #开头节点\n",
    "        res = []\n",
    "        res.append(start)\n",
    "\n",
    "        for i in range(1,n):\n",
    "            t = []\n",
    "            for r in res:\n",
    "                t.append(item(r.str + '(', r.status + 1))  #直接添加左括号\n",
    "                if r.status > 1: #多个左括号的情况\n",
    "                    for i in range(r.status):\n",
    "                        t.append(item(r.str + (i+1)*')'+'(', r.status-i))   #遍历所有添加右括号的情况，在添加一个左括号，并记算此时的未匹配的左括号数量\n",
    "                elif r.status > 0:  #这是一个左括号的情况\n",
    "                    t.append(item(r.str + ')(', r.status))\n",
    "            res = t\n",
    "        ans = []\n",
    "        for r in res:\n",
    "            ans.append(r.str+r.status*')')  #将括号匹配完整存入答案\n",
    "\n",
    "        return ans\n",
    "\n",
    "\n",
    "\n",
    "s = Solution()\n",
    "print(s.generateParenthesis(3))\n"
   ]
  },
  {
   "cell_type": "markdown",
   "metadata": {},
   "source": [
    "优化了判断后的版本，提交运行效率却降低了。。。。"
   ]
  },
  {
   "cell_type": "code",
   "execution_count": 8,
   "metadata": {
    "ExecuteTime": {
     "end_time": "2020-04-23T07:21:39.291468Z",
     "start_time": "2020-04-23T07:21:39.281474Z"
    }
   },
   "outputs": [
    {
     "name": "stdout",
     "output_type": "stream",
     "text": [
      "['((()))', '(()())', '(())()', '()(())', '()()()']\n"
     ]
    }
   ],
   "source": [
    "class item:\n",
    "    def __init__(self,ch,status):\n",
    "        self.str = ch\n",
    "        self.status = status\n",
    "\n",
    "class Solution:\n",
    "    def generateParenthesis(self, n: int):\n",
    "\n",
    "        start = item('(',1)\n",
    "        res = []\n",
    "        res.append(start)\n",
    "\n",
    "        for i in range(1,n):\n",
    "            t = []\n",
    "            for r in res:\n",
    "                for i in range(r.status+1):   #遍历右括号可能的组合情况\n",
    "                    t.append(item(r.str + i * ')' + '(', r.status - i + 1))\n",
    "\n",
    "            res = t\n",
    "        ans = []\n",
    "        for r in res:\n",
    "            ans.append(r.str+r.status*')')\n",
    "\n",
    "        return ans\n",
    "\n",
    "\n",
    "\n",
    "s = Solution()\n",
    "print(s.generateParenthesis(3))\n"
   ]
  },
  {
   "cell_type": "markdown",
   "metadata": {},
   "source": [
    "# 答案"
   ]
  },
  {
   "cell_type": "code",
   "execution_count": 5,
   "metadata": {
    "ExecuteTime": {
     "end_time": "2020-04-23T06:53:12.903264Z",
     "start_time": "2020-04-23T06:53:12.895269Z"
    }
   },
   "outputs": [],
   "source": [
    "class item:\n",
    "    def __init__(self,ch,status):\n",
    "        self.str = ch\n",
    "        self.status = status\n",
    "class Solution:\n",
    "\n",
    "    def generateParenthesis(self, n: int):\n",
    "        start = item('(',1)\n",
    "        res = []\n",
    "        res.append(start)\n",
    "\n",
    "        for i in range(1,n):\n",
    "            t = []\n",
    "            for r in res:\n",
    "                t.append(item(r.str + '(', r.status + 1))\n",
    "                if r.status > 1:\n",
    "                    for i in range(r.status):\n",
    "                        t.append(item(r.str + (i+1)*')'+'(', r.status-i))\n",
    "                elif r.status > 0:\n",
    "                    t.append(item(r.str + ')(', r.status))\n",
    "            res = t\n",
    "        ans = []\n",
    "        for r in res:\n",
    "            ans.append(r.str+r.status*')')\n",
    "\n",
    "        return ans"
   ]
  },
  {
   "cell_type": "markdown",
   "metadata": {},
   "source": [
    "## DFS"
   ]
  },
  {
   "cell_type": "code",
   "execution_count": 1,
   "metadata": {
    "ExecuteTime": {
     "end_time": "2020-04-24T03:17:47.872936Z",
     "start_time": "2020-04-24T03:17:47.866939Z"
    }
   },
   "outputs": [],
   "source": [
    "class Solution:\n",
    "\n",
    "    def generateParenthesis(self, n: int):\n",
    "\n",
    "        ans = []\n",
    "        self.dfs(1,0,'(',n,ans)\n",
    "        return ans\n",
    "\n",
    "\n",
    "    def dfs(self,left,right,str,n,ans):\n",
    "\n",
    "        if left == n and right == left:  #左右括号数相同且等于n，递归完成\n",
    "            ans.append(str)\n",
    "            return\n",
    "\n",
    "        if left < n:  #左括号为达到n\n",
    "            # left +=1\n",
    "            # str += '('  如果通过改变变量的值，在传入参数，会造成递归回来回不到初始状态\n",
    "            self.dfs(left+1,right,str+'(',n,ans)\n",
    "        if left > right: #右括号少于左括号，此时可以加右括号\n",
    "            self.dfs(left, right+1, str+')', n, ans)"
   ]
  }
 ],
 "metadata": {
  "hide_input": false,
  "kernelspec": {
   "display_name": "Python 3",
   "language": "python",
   "name": "python3"
  },
  "language_info": {
   "codemirror_mode": {
    "name": "ipython",
    "version": 3
   },
   "file_extension": ".py",
   "mimetype": "text/x-python",
   "name": "python",
   "nbconvert_exporter": "python",
   "pygments_lexer": "ipython3",
   "version": "3.7.0"
  },
  "toc": {
   "base_numbering": 1,
   "nav_menu": {},
   "number_sections": true,
   "sideBar": true,
   "skip_h1_title": false,
   "title_cell": "Table of Contents",
   "title_sidebar": "Contents",
   "toc_cell": false,
   "toc_position": {},
   "toc_section_display": true,
   "toc_window_display": false
  },
  "varInspector": {
   "cols": {
    "lenName": 16,
    "lenType": 16,
    "lenVar": 40
   },
   "kernels_config": {
    "python": {
     "delete_cmd_postfix": "",
     "delete_cmd_prefix": "del ",
     "library": "var_list.py",
     "varRefreshCmd": "print(var_dic_list())"
    },
    "r": {
     "delete_cmd_postfix": ") ",
     "delete_cmd_prefix": "rm(",
     "library": "var_list.r",
     "varRefreshCmd": "cat(var_dic_list()) "
    }
   },
   "types_to_exclude": [
    "module",
    "function",
    "builtin_function_or_method",
    "instance",
    "_Feature"
   ],
   "window_display": false
  }
 },
 "nbformat": 4,
 "nbformat_minor": 2
}
