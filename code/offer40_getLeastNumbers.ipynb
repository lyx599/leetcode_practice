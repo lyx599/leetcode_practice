{
 "cells": [
  {
   "cell_type": "markdown",
   "metadata": {},
   "source": [
    "# 剑指 Offer 40\t最小的k个数  "
   ]
  },
  {
   "cell_type": "markdown",
   "metadata": {},
   "source": [
    "思路：\n",
    "- 排序\n",
    "    - 先对数组排序，然后输出前k个数即为答案\n",
    "    - 时间复杂度 $O(N \\log N)$：排序算法的时间复杂度\n",
    "    - 空间复杂度 $O(\\log N)$：排序需要的额外空间\n",
    "- 堆\n",
    "    - 用一个大根堆来维护最小的前k个数\n",
    "    - 时间复杂度 $O(N \\log k)$：其中 N 是数组 arr 的长度。由于大根堆实时维护前 k 小值，所以插入删除都是 $O(\\log k)$ 的时间复杂度，最坏情况下数组里 N 个数都会插入，所以一共需要 $O(N \\log k)$ 的时间复杂度\n",
    "    - 空间复杂度 $O(k)$：大根堆里最多k个数\n",
    "- 快排思想\n",
    "    - 我们可以借鉴快速排序的思想。我们知道快排的划分函数每次执行完后都能将数组分成两个部分，小于等于分界值 pivot 的元素的都会被放到数组的左边，大于的都会被放到数组的右边，然后返回分界值的下标。与快速排序不同的是，快速排序会根据分界值的下标递归处理划分的两侧，而这里我们只处理划分的一边\n",
    "    - 如果返回的位置个数比k大，则在分界值pivot左侧\n",
    "    - 如果返回的位置个数比k小，则在分界值pivot右侧\n",
    "    - 如果相同，则直接返回\n",
    "    - 时间复杂度 $O(N)$：期望时间复杂度$O(N)$。证明过程很复杂\n",
    "    - 空间复杂度 $O(\\log N)$：期望为 $O(\\log N)$，递归调用的期望深度为 $O(\\log N)$，每层需要的空间为 $O(1)$，只有常数个变量。最坏情况下的空间复杂度为 $O(N)$。最坏情况下需要划分 n 次，即 quick_select 函数递归调用最深 n−1 层，而每层由于需要 $O(1)$ 的空间，所以一共需要 $O(N)$ 的空间复杂度"
   ]
  },
  {
   "cell_type": "markdown",
   "metadata": {},
   "source": [
    "注意：\n",
    "\n",
    "在面试中，另一个常常问的问题就是这两种方法有何优劣。看起来分治法的快速选择算法的时间、空间复杂度都优于使用堆的方法，但是要注意到快速选择算法的几点局限性：\n",
    "\n",
    "第一，算法需要修改原数组，如果原数组不能修改的话，还需要拷贝一份数组，空间复杂度就上去了。\n",
    "\n",
    "第二，算法需要保存所有的数据。如果把数据看成输入流的话，使用堆的方法是来一个处理一个，不需要保存数据，只需要保存 k 个元素的最大堆。而快速选择的方法需要先保存下来所有的数据，再运行算法。当数据量非常大的时候，甚至内存都放不下的时候，就麻烦了。所以当数据量大的时候还是用基于堆的方法比较好。\n"
   ]
  },
  {
   "cell_type": "code",
   "execution_count": 1,
   "metadata": {
    "ExecuteTime": {
     "end_time": "2020-07-07T13:35:19.525002Z",
     "start_time": "2020-07-07T13:35:19.521002Z"
    }
   },
   "outputs": [
    {
     "name": "stdout",
     "output_type": "stream",
     "text": [
      "[1, 2]\n"
     ]
    }
   ],
   "source": [
    "class Solution:\n",
    "    def getLeastNumbers(self, arr: [int], k: int) -> [int]:\n",
    "        arr.sort()\n",
    "        return arr[:k]\n",
    "\n",
    "\n",
    "s = Solution()\n",
    "print(s.getLeastNumbers(arr=[3, 2, 1], k=2))"
   ]
  },
  {
   "cell_type": "markdown",
   "metadata": {},
   "source": [
    "# 答案"
   ]
  },
  {
   "cell_type": "markdown",
   "metadata": {},
   "source": [
    "## 排序"
   ]
  },
  {
   "cell_type": "code",
   "execution_count": 2,
   "metadata": {
    "ExecuteTime": {
     "end_time": "2020-07-07T13:35:19.532003Z",
     "start_time": "2020-07-07T13:35:19.529002Z"
    }
   },
   "outputs": [],
   "source": [
    "class Solution:\n",
    "    def getLeastNumbers(self, arr: [int], k: int) -> [int]:\n",
    "        arr.sort()\n",
    "        return arr[:k]"
   ]
  },
  {
   "cell_type": "markdown",
   "metadata": {},
   "source": [
    "## 堆"
   ]
  },
  {
   "cell_type": "code",
   "execution_count": 3,
   "metadata": {
    "ExecuteTime": {
     "end_time": "2020-07-07T13:35:19.538005Z",
     "start_time": "2020-07-07T13:35:19.533005Z"
    }
   },
   "outputs": [],
   "source": [
    "class Solution:\n",
    "    def getLeastNumbers(self, arr: [int], k: int) -> [int]:\n",
    "        import heapq\n",
    "        if k == 0:\n",
    "            return []\n",
    "\n",
    "        hq = [-x for x in arr[:k]]\n",
    "        heapq.heapify(hq)\n",
    "        for i in range(k, len(arr)):\n",
    "            if -hq[0] > arr[i]:\n",
    "                heapq.heappop(hq)\n",
    "                heapq.heappush(hq, -arr[i])\n",
    "        ans = [-x for x in hq]\n",
    "        return ans"
   ]
  },
  {
   "cell_type": "markdown",
   "metadata": {},
   "source": [
    "## 快排思想"
   ]
  },
  {
   "cell_type": "code",
   "execution_count": 4,
   "metadata": {
    "ExecuteTime": {
     "end_time": "2020-07-07T13:35:19.543006Z",
     "start_time": "2020-07-07T13:35:19.539005Z"
    }
   },
   "outputs": [],
   "source": [
    "class Solution:\n",
    "    def getLeastNumbers(self, arr: [int], k: int) -> [int]:\n",
    "        if k == 0:\n",
    "            return []\n",
    "        # len(arr) - 1 因为要用最后一个作为标记量\n",
    "        self.quick_select(arr, 0, len(arr) - 1, k)\n",
    "        return arr[:k]\n",
    "\n",
    "    def partition(self, arr, l, r):\n",
    "        pivot = arr[r]\n",
    "        i = l - 1\n",
    "        for j in range(l, r):\n",
    "            if arr[j] <= pivot:\n",
    "                i += 1\n",
    "                arr[i], arr[j] = arr[j], arr[i]\n",
    "        arr[i + 1], arr[r] = arr[r], arr[i + 1]\n",
    "        return i + 1\n",
    "\n",
    "    def quick_select(self, arr, l, r, k):\n",
    "        pos = self.partition(arr, l, r)\n",
    "        num = pos - l + 1\n",
    "        if num > k:\n",
    "            self.quick_select(arr, l, pos - 1, k)\n",
    "        elif num < k:\n",
    "            self.quick_select(arr, pos + 1, r, k - num)"
   ]
  },
  {
   "cell_type": "markdown",
   "metadata": {},
   "source": [
    "加入随机选择，能优化时间复杂度"
   ]
  },
  {
   "cell_type": "code",
   "execution_count": 5,
   "metadata": {
    "ExecuteTime": {
     "end_time": "2020-07-07T13:35:19.550007Z",
     "start_time": "2020-07-07T13:35:19.544007Z"
    }
   },
   "outputs": [],
   "source": [
    "class Solution:\n",
    "    def getLeastNumbers(self, arr: [int], k: int) -> [int]:\n",
    "        if k == 0:\n",
    "            return []\n",
    "        self.quick_select(arr, 0, len(arr) - 1, k)\n",
    "        return arr[:k]\n",
    "\n",
    "    def partition(self, arr, l, r):\n",
    "        pivot = arr[r]\n",
    "        i = l - 1\n",
    "        for j in range(l, r):\n",
    "            if arr[j] <= pivot:\n",
    "                i += 1\n",
    "                arr[i], arr[j] = arr[j], arr[i]\n",
    "        arr[i + 1], arr[r] = arr[r], arr[i + 1]\n",
    "        return i + 1\n",
    "\n",
    "    def quick_select(self, arr, l, r, k):\n",
    "        pos = self.randomized_partition(arr, l, r)\n",
    "        num = pos - l + 1\n",
    "        if num > k:\n",
    "            self.quick_select(arr, l, pos - 1, k)\n",
    "        elif num < k:\n",
    "            self.quick_select(arr, pos + 1, r, k - num)\n",
    "\n",
    "    def randomized_partition(self, arr, l, r):\n",
    "        import random\n",
    "        i = random.randint(l, r)\n",
    "        arr[r], arr[i] = arr[i], arr[r]\n",
    "        return self.partition(arr, l, r)"
   ]
  }
 ],
 "metadata": {
  "kernelspec": {
   "display_name": "Python 3",
   "language": "python",
   "name": "python3"
  },
  "language_info": {
   "codemirror_mode": {
    "name": "ipython",
    "version": 3
   },
   "file_extension": ".py",
   "mimetype": "text/x-python",
   "name": "python",
   "nbconvert_exporter": "python",
   "pygments_lexer": "ipython3",
   "version": "3.7.0"
  },
  "toc": {
   "base_numbering": 1,
   "nav_menu": {},
   "number_sections": true,
   "sideBar": true,
   "skip_h1_title": false,
   "title_cell": "Table of Contents",
   "title_sidebar": "Contents",
   "toc_cell": false,
   "toc_position": {},
   "toc_section_display": true,
   "toc_window_display": false
  },
  "varInspector": {
   "cols": {
    "lenName": 16,
    "lenType": 16,
    "lenVar": 40
   },
   "kernels_config": {
    "python": {
     "delete_cmd_postfix": "",
     "delete_cmd_prefix": "del ",
     "library": "var_list.py",
     "varRefreshCmd": "print(var_dic_list())"
    },
    "r": {
     "delete_cmd_postfix": ") ",
     "delete_cmd_prefix": "rm(",
     "library": "var_list.r",
     "varRefreshCmd": "cat(var_dic_list()) "
    }
   },
   "types_to_exclude": [
    "module",
    "function",
    "builtin_function_or_method",
    "instance",
    "_Feature"
   ],
   "window_display": false
  }
 },
 "nbformat": 4,
 "nbformat_minor": 2
}
