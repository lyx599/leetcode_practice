{
 "cells": [
  {
   "cell_type": "markdown",
   "metadata": {},
   "source": [
    "# 剑指 Offer 46\t把数字翻译成字符串 "
   ]
  },
  {
   "cell_type": "markdown",
   "metadata": {},
   "source": [
    "思路：\n",
    "- 递归\n",
    "    - 先将数字转化为列表形式，遍历列表\n",
    "    - 每次递归选择一个或两个数，递归两个数时要判断是否符合转换规则\n",
    "    - 递归出口为遍历完列表，也就是等于列表长度，count + 1\n",
    "    - 最后返回count即为答案\n",
    "    - 时间复杂度$O(N)$ ：N 为字符串 s 的长度（即数字 num 的位数 $\\log(num)$ ），其决定了循环次数\n",
    "    - 空间复杂度$O(N)$ ：N 为字符串 s 的长度，转化为列表$O(N)$，递归栈深$O(N)$，全部选择一个数的情况\n",
    "- 动态规划\n",
    "    - dp[i]表示当前位置结尾的翻译方案数量\n",
    "    - 分为两种情况，和前面数字组合，和不能组合的情况\n",
    "    - 时间复杂度$O(N)$ : N 为字符串 s 的长度（即数字 num 的位数 $\\log(num)$ ），其决定了循环次数\n",
    "    - 空间复杂度分情况看如何实现的\n",
    "    - https://leetcode-cn.com/problems/ba-shu-zi-fan-yi-cheng-zi-fu-chuan-lcof/solution/mian-shi-ti-46-ba-shu-zi-fan-yi-cheng-zi-fu-chua-6/"
   ]
  },
  {
   "cell_type": "markdown",
   "metadata": {},
   "source": [
    "注意：\n",
    "- 中间数字有0的，不能和后面一个数构成一个数，如506，只有2种翻译方法\n",
    "- 递归出口下标的判断"
   ]
  },
  {
   "cell_type": "code",
   "execution_count": 1,
   "metadata": {
    "ExecuteTime": {
     "end_time": "2020-07-17T09:11:21.586459Z",
     "start_time": "2020-07-17T09:11:21.578459Z"
    }
   },
   "outputs": [
    {
     "name": "stdout",
     "output_type": "stream",
     "text": [
      "3\n"
     ]
    }
   ],
   "source": [
    "class Solution:\n",
    "    def translateNum(self, num: int) -> int:\n",
    "        def dfs(index):\n",
    "            if index == nums_len:\n",
    "                self.count += 1\n",
    "                return\n",
    "            dfs(index + 1)\n",
    "            if index + 1 < nums_len:\n",
    "                if nums[index] == 0:\n",
    "                    return \n",
    "                if 10 * nums[index] + nums[index + 1] < 26:\n",
    "                    dfs(index + 2)\n",
    "        self.count = 0\n",
    "        nums = [int(x) for x in str(num)]\n",
    "        nums_len = len(nums)\n",
    "        dfs(0)\n",
    "        return self.count\n",
    "\n",
    "s = Solution()\n",
    "print(s.translateNum(125))\n"
   ]
  },
  {
   "cell_type": "markdown",
   "metadata": {},
   "source": [
    "# 答案"
   ]
  },
  {
   "cell_type": "markdown",
   "metadata": {},
   "source": [
    "## 递归-自己的解法"
   ]
  },
  {
   "cell_type": "code",
   "execution_count": 2,
   "metadata": {
    "ExecuteTime": {
     "end_time": "2020-07-17T09:11:21.592462Z",
     "start_time": "2020-07-17T09:11:21.587460Z"
    }
   },
   "outputs": [],
   "source": [
    "class Solution:\n",
    "    def translateNum(self, num: int) -> int:\n",
    "        def dfs(index):\n",
    "            if index == nums_len:\n",
    "                self.count += 1\n",
    "                return\n",
    "            dfs(index + 1)\n",
    "            if index + 1 < nums_len:\n",
    "                if nums[index] == 0:\n",
    "                    return \n",
    "                if 10 * nums[index] + nums[index + 1] < 26:\n",
    "                    dfs(index + 2)\n",
    "        self.count = 0\n",
    "        nums = [int(x) for x in str(num)]\n",
    "        nums_len = len(nums)\n",
    "        dfs(0)\n",
    "        return self.count"
   ]
  },
  {
   "cell_type": "markdown",
   "metadata": {},
   "source": [
    "## 动态规划"
   ]
  },
  {
   "cell_type": "code",
   "execution_count": 3,
   "metadata": {
    "ExecuteTime": {
     "end_time": "2020-07-17T09:11:21.599463Z",
     "start_time": "2020-07-17T09:11:21.593463Z"
    }
   },
   "outputs": [],
   "source": [
    "class Solution:\n",
    "    def translateNum(self, num: int) -> int:\n",
    "        num = str(num)\n",
    "        dp = [1, 1]\n",
    "        for i in range(2, len(num) + 1):\n",
    "            if '10' <= num[i-2:i] <= '25':\n",
    "                dp.append(dp[i - 1] + dp[i - 2])\n",
    "            else:\n",
    "                dp.append(dp[i - 1])\n",
    "        return dp[len(num)]"
   ]
  },
  {
   "cell_type": "markdown",
   "metadata": {},
   "source": [
    "空间复杂度$O(N)$"
   ]
  },
  {
   "cell_type": "code",
   "execution_count": 4,
   "metadata": {
    "ExecuteTime": {
     "end_time": "2020-07-17T09:11:21.604466Z",
     "start_time": "2020-07-17T09:11:21.600462Z"
    }
   },
   "outputs": [],
   "source": [
    "class Solution:\n",
    "    def translateNum(self, num: int) -> int:\n",
    "        num = str(num)\n",
    "        a, b = 1, 1\n",
    "        for i in range(2, len(num) + 1):\n",
    "            if '10' <= num[i - 2:i] <= '25':\n",
    "                a, b = b, a + b\n",
    "            else:\n",
    "                a = b\n",
    "        return b"
   ]
  },
  {
   "cell_type": "markdown",
   "metadata": {
    "ExecuteTime": {
     "end_time": "2020-07-17T09:01:46.580248Z",
     "start_time": "2020-07-17T09:01:46.576254Z"
    }
   },
   "source": [
    "空间复杂度$O(1)$,利用对称性，从右到左计算"
   ]
  },
  {
   "cell_type": "code",
   "execution_count": 5,
   "metadata": {
    "ExecuteTime": {
     "end_time": "2020-07-17T09:11:21.611464Z",
     "start_time": "2020-07-17T09:11:21.605464Z"
    }
   },
   "outputs": [],
   "source": [
    "class Solution:\n",
    "    def translateNum(self, num: int) -> int:\n",
    "        a = b = 1\n",
    "        y = num % 10\n",
    "        while num != 0:\n",
    "            num //= 10\n",
    "            x = num % 10\n",
    "            a, b = (a + b if 10 <= 10 * x + y <= 25 else a), a\n",
    "            y = x\n",
    "        return a"
   ]
  }
 ],
 "metadata": {
  "kernelspec": {
   "display_name": "Python 3",
   "language": "python",
   "name": "python3"
  },
  "language_info": {
   "codemirror_mode": {
    "name": "ipython",
    "version": 3
   },
   "file_extension": ".py",
   "mimetype": "text/x-python",
   "name": "python",
   "nbconvert_exporter": "python",
   "pygments_lexer": "ipython3",
   "version": "3.7.0"
  },
  "toc": {
   "base_numbering": 1,
   "nav_menu": {},
   "number_sections": true,
   "sideBar": true,
   "skip_h1_title": false,
   "title_cell": "Table of Contents",
   "title_sidebar": "Contents",
   "toc_cell": false,
   "toc_position": {},
   "toc_section_display": true,
   "toc_window_display": false
  },
  "varInspector": {
   "cols": {
    "lenName": 16,
    "lenType": 16,
    "lenVar": 40
   },
   "kernels_config": {
    "python": {
     "delete_cmd_postfix": "",
     "delete_cmd_prefix": "del ",
     "library": "var_list.py",
     "varRefreshCmd": "print(var_dic_list())"
    },
    "r": {
     "delete_cmd_postfix": ") ",
     "delete_cmd_prefix": "rm(",
     "library": "var_list.r",
     "varRefreshCmd": "cat(var_dic_list()) "
    }
   },
   "types_to_exclude": [
    "module",
    "function",
    "builtin_function_or_method",
    "instance",
    "_Feature"
   ],
   "window_display": false
  }
 },
 "nbformat": 4,
 "nbformat_minor": 4
}
