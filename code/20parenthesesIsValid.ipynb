{
 "cells": [
  {
   "cell_type": "markdown",
   "metadata": {},
   "source": [
    "# 20有效的括号"
   ]
  },
  {
   "cell_type": "markdown",
   "metadata": {},
   "source": [
    "思路：\n",
    "- 栈\n",
    "    - 通过栈先进后出的特性，进行括号匹配\n",
    "    - 遇左括号进栈，遇右括号出栈，比较出栈的左括号和右括号是否匹配"
   ]
  },
  {
   "cell_type": "markdown",
   "metadata": {},
   "source": [
    "注意：\n",
    "- 栈空判断。避免出栈时无数据的错误"
   ]
  },
  {
   "cell_type": "markdown",
   "metadata": {},
   "source": [
    "第一次思路：括号匹配属于经典的用栈处理问题。遇左括号进栈，遇右括号出栈，比较出栈的左括号和右括号是否匹配，需要注意出栈时要进行栈是否为空的判断，最后判断匹配时要判断栈是否为空，也就是是否括号处理完。"
   ]
  },
  {
   "cell_type": "code",
   "execution_count": 2,
   "metadata": {
    "ExecuteTime": {
     "end_time": "2020-04-22T08:48:01.442071Z",
     "start_time": "2020-04-22T08:48:01.433077Z"
    }
   },
   "outputs": [
    {
     "name": "stdout",
     "output_type": "stream",
     "text": [
      "False\n"
     ]
    }
   ],
   "source": [
    "class Solution:\n",
    "    def isValid(self, s: str) -> bool:\n",
    "\n",
    "        status = []\n",
    "        flag = True\n",
    "\n",
    "        for ch in s:\n",
    "            if ch == '(' or ch == '[' or ch == '{':\n",
    "                status.append(ch)\n",
    "            if ch == ')' or ch == ']' or ch == '}':\n",
    "                if status:  #栈空判断。避免无数据的错误\n",
    "                    c = status.pop()\n",
    "                    if (ch == ')' and c == '(') or (ch == ']'and c == '[') or (ch == '}' and c == '{'):\n",
    "                        continue\n",
    "                    else:\n",
    "                        flag = False\n",
    "                        break\n",
    "                else:\n",
    "                    flag = False\n",
    "                    break\n",
    "\n",
    "        if flag and not status: #标志为True且栈为空，此时表明匹配成功\n",
    "            return True\n",
    "        else:\n",
    "            return False\n",
    "\n",
    "\n",
    "\n",
    "s = Solution()\n",
    "print(s.isValid('(()'))\n"
   ]
  },
  {
   "cell_type": "markdown",
   "metadata": {},
   "source": [
    "# 答案"
   ]
  },
  {
   "cell_type": "markdown",
   "metadata": {},
   "source": [
    "## 栈"
   ]
  },
  {
   "cell_type": "code",
   "execution_count": 3,
   "metadata": {
    "ExecuteTime": {
     "end_time": "2020-04-22T08:59:00.257891Z",
     "start_time": "2020-04-22T08:59:00.250895Z"
    }
   },
   "outputs": [],
   "source": [
    "class Solution:\n",
    "    def isValid(self, s: str) -> bool:\n",
    "\n",
    "        status = []\n",
    "        flag = True\n",
    "\n",
    "        for ch in s:\n",
    "            if ch == '(' or ch == '[' or ch == '{':\n",
    "                status.append(ch)\n",
    "            if ch == ')' or ch == ']' or ch == '}':\n",
    "                if status:\n",
    "                    c = status.pop()\n",
    "                    if (ch == ')' and c == '(') or (ch == ']'and c == '[') or (ch == '}' and c == '{'):\n",
    "                        continue\n",
    "                    else:\n",
    "                        flag = False\n",
    "                        break\n",
    "                else:\n",
    "                    flag = False\n",
    "                    break\n",
    "\n",
    "        if flag and not status:\n",
    "            return True\n",
    "        else:\n",
    "            return False"
   ]
  }
 ],
 "metadata": {
  "hide_input": false,
  "kernelspec": {
   "display_name": "Python 3",
   "language": "python",
   "name": "python3"
  },
  "language_info": {
   "codemirror_mode": {
    "name": "ipython",
    "version": 3
   },
   "file_extension": ".py",
   "mimetype": "text/x-python",
   "name": "python",
   "nbconvert_exporter": "python",
   "pygments_lexer": "ipython3",
   "version": "3.7.0"
  },
  "toc": {
   "base_numbering": 1,
   "nav_menu": {},
   "number_sections": true,
   "sideBar": true,
   "skip_h1_title": false,
   "title_cell": "Table of Contents",
   "title_sidebar": "Contents",
   "toc_cell": false,
   "toc_position": {},
   "toc_section_display": true,
   "toc_window_display": false
  },
  "varInspector": {
   "cols": {
    "lenName": 16,
    "lenType": 16,
    "lenVar": 40
   },
   "kernels_config": {
    "python": {
     "delete_cmd_postfix": "",
     "delete_cmd_prefix": "del ",
     "library": "var_list.py",
     "varRefreshCmd": "print(var_dic_list())"
    },
    "r": {
     "delete_cmd_postfix": ") ",
     "delete_cmd_prefix": "rm(",
     "library": "var_list.r",
     "varRefreshCmd": "cat(var_dic_list()) "
    }
   },
   "types_to_exclude": [
    "module",
    "function",
    "builtin_function_or_method",
    "instance",
    "_Feature"
   ],
   "window_display": false
  }
 },
 "nbformat": 4,
 "nbformat_minor": 2
}
