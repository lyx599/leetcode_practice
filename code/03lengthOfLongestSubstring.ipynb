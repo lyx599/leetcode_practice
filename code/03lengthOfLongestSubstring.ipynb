{
 "cells": [
  {
   "cell_type": "markdown",
   "metadata": {},
   "source": [
    "# 无重复字符的最长子串"
   ]
  },
  {
   "cell_type": "markdown",
   "metadata": {},
   "source": [
    "思路：\n",
    "- 暴力法\n",
    "    - 2重循环找出字符串的所有子串\n",
    "    - 对所有子串进行判断，找出最长子串\n",
    "- 窗口滑动\n",
    "    - 依次判断字符串，当遇到重复字符时，找到当前窗口的重复字符索引，窗口起始位置更换为当前窗口重复字符索引加一位置\n",
    "    - 每判断一次比较当前是否为最长子串，一直到字符串遍历完"
   ]
  },
  {
   "cell_type": "markdown",
   "metadata": {},
   "source": [
    "注意：\n",
    "- 一般这种题使用的是窗口滑动，暴力法消耗的时间太多\n",
    "- 窗口滑动类似于队列，但当重复字符不在队首时会出队多个字符"
   ]
  },
  {
   "cell_type": "code",
   "execution_count": 17,
   "metadata": {
    "ExecuteTime": {
     "end_time": "2020-03-30T07:33:00.346420Z",
     "start_time": "2020-03-30T07:33:00.339424Z"
    }
   },
   "outputs": [],
   "source": [
    "def lengthOfLongestSubstring(s):\n",
    "    \"\"\"\n",
    "        :type s: str\n",
    "        :rtype: int\n",
    "        \"\"\"\n",
    "    s_len = len(s)\n",
    "    l = []\n",
    "    ans = 0\n",
    "    for i in range(s_len):\n",
    "        if s[i] in l:\n",
    "            l = l[l.index(s[i]) + 1:]\n",
    "            l.append(s[i])\n",
    "        else:\n",
    "            l.append(s[i])\n",
    "        if len(l) > ans:\n",
    "            ans = len(l)\n",
    "    return ans"
   ]
  },
  {
   "cell_type": "code",
   "execution_count": 19,
   "metadata": {
    "ExecuteTime": {
     "end_time": "2020-03-30T07:33:28.178707Z",
     "start_time": "2020-03-30T07:33:28.173709Z"
    }
   },
   "outputs": [
    {
     "name": "stdout",
     "output_type": "stream",
     "text": [
      "3\n"
     ]
    }
   ],
   "source": [
    "s = 'abcabcbb'\n",
    "print(lengthOfLongestSubstring(s))"
   ]
  },
  {
   "cell_type": "markdown",
   "metadata": {},
   "source": [
    "## 滑动窗口解法"
   ]
  },
  {
   "cell_type": "code",
   "execution_count": 15,
   "metadata": {
    "ExecuteTime": {
     "end_time": "2020-03-30T07:13:59.851400Z",
     "start_time": "2020-03-30T07:13:59.844403Z"
    }
   },
   "outputs": [],
   "source": [
    "class Solution(object):\n",
    "    def lengthOfLongestSubstring(self, s):\n",
    "        \"\"\"\n",
    "        :type s: str\n",
    "        :rtype: int\n",
    "        \"\"\"\n",
    "        s_len = len(s)\n",
    "        l = []\n",
    "        ans = 0\n",
    "        for i in range(s_len):\n",
    "            if s[i] in l:\n",
    "                l = l[l.index(s[i])+1:]\n",
    "                l.append(s[i])\n",
    "            else:\n",
    "                l.append(s[i])\n",
    "            if len(l) > ans:\n",
    "                ans = len(l)\n",
    "        return ans"
   ]
  }
 ],
 "metadata": {
  "hide_input": false,
  "kernelspec": {
   "display_name": "Python 3",
   "language": "python",
   "name": "python3"
  },
  "language_info": {
   "codemirror_mode": {
    "name": "ipython",
    "version": 3
   },
   "file_extension": ".py",
   "mimetype": "text/x-python",
   "name": "python",
   "nbconvert_exporter": "python",
   "pygments_lexer": "ipython3",
   "version": "3.7.0"
  },
  "toc": {
   "base_numbering": 1,
   "nav_menu": {},
   "number_sections": true,
   "sideBar": true,
   "skip_h1_title": false,
   "title_cell": "Table of Contents",
   "title_sidebar": "Contents",
   "toc_cell": false,
   "toc_position": {},
   "toc_section_display": true,
   "toc_window_display": false
  },
  "varInspector": {
   "cols": {
    "lenName": 16,
    "lenType": 16,
    "lenVar": 40
   },
   "kernels_config": {
    "python": {
     "delete_cmd_postfix": "",
     "delete_cmd_prefix": "del ",
     "library": "var_list.py",
     "varRefreshCmd": "print(var_dic_list())"
    },
    "r": {
     "delete_cmd_postfix": ") ",
     "delete_cmd_prefix": "rm(",
     "library": "var_list.r",
     "varRefreshCmd": "cat(var_dic_list()) "
    }
   },
   "types_to_exclude": [
    "module",
    "function",
    "builtin_function_or_method",
    "instance",
    "_Feature"
   ],
   "window_display": false
  }
 },
 "nbformat": 4,
 "nbformat_minor": 2
}
