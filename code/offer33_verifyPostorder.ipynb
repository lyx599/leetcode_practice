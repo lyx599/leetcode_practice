{
 "cells": [
  {
   "cell_type": "markdown",
   "metadata": {},
   "source": [
    "# 剑指 Offer 33\t二叉搜索树的后序遍历序列  "
   ]
  },
  {
   "cell_type": "markdown",
   "metadata": {},
   "source": [
    "思路：\n",
    "- 单调栈\n",
    "    - 把后序遍历‘左右根’反转为‘根右左’\n",
    "    - 这样先遍历右结点，并且遍历值会越来越大，用栈进行记录，当遍历的值小于当前栈顶的值，说明进入了左结点\n",
    "    - 遇到左结点，就弹出比该结点大的数，直到遇到比它小的值或栈为空，这前一个弹出的值为当前左结点的根节点\n",
    "    - 后面左子树的每个结点都应该小于该左子树的根结点\n",
    "    - 设第一个根结点为无穷大，二叉搜索树的根节点为第一个根结点的左子树\n",
    "    - 时间复杂度 $O(N)$ ：遍历 postorder 所有节点，各节点均入栈 / 出栈一次，使用 $O(N)$ 时间\n",
    "    - 空间复杂度 $O(N)$ ：最差情况下，单调栈 stack 存储所有节点，使用 $O(N)$ 额外空间\n",
    "- 递归\n",
    "    - 二叉搜索树左右子树仍然是二叉搜索树，通过递归求解每一个左右子树是否满足条件\n",
    "    - 遍历后序遍历的列表，找到第一个大于根节点的数，这个数前面的就是左子树，后面（包括这个数，不包括根节点）就是右子树\n",
    "    - 左子树满足都小于根节点，根据上面的条件，需要进行对右子树进行判断都大于根节点，不满足返回False\n",
    "    - 递归左右子树，减小问题规模，进行同样的判断\n",
    "    - 递归出口是子树节点小于1个，返回TRUE\n",
    "    - 时间复杂度 $O(N)$：每次调用 recur(i,j) 减去一个根节点，因此递归占用 $O(N)$ ；最差情况下（即当树退化为链表），每轮递归都需遍历树所有节点，占用 $O(N)$ \n",
    "    - 空间复杂度 $O(N)$：  最差情况下（即当树退化为链表），递归深度将达到 N"
   ]
  },
  {
   "cell_type": "markdown",
   "metadata": {},
   "source": [
    "注意：\n",
    "- 列表为空，返回True"
   ]
  },
  {
   "cell_type": "markdown",
   "metadata": {},
   "source": [
    "参考别的人的解法"
   ]
  },
  {
   "cell_type": "code",
   "execution_count": 1,
   "metadata": {
    "ExecuteTime": {
     "end_time": "2020-06-30T13:35:09.254234Z",
     "start_time": "2020-06-30T13:35:09.250235Z"
    }
   },
   "outputs": [],
   "source": [
    "class Solution:\n",
    "    def verifyPostorder(self, postorder: [int]) -> bool:\n",
    "\n",
    "        if not postorder:\n",
    "            return False\n",
    "        stack = []\n",
    "        root = float(\"inf\")\n",
    "        for i in range(len(postorder) - 1, -1, -1):\n",
    "            if postorder[i] > root:\n",
    "                return False\n",
    "            while stack and postorder[i] < stack[-1]:\n",
    "                root = stack.pop()\n",
    "            stack.append(postorder[i])\n",
    "        return True"
   ]
  },
  {
   "cell_type": "markdown",
   "metadata": {},
   "source": [
    "# 答案"
   ]
  },
  {
   "cell_type": "markdown",
   "metadata": {},
   "source": [
    "## 单调栈"
   ]
  },
  {
   "cell_type": "code",
   "execution_count": 2,
   "metadata": {
    "ExecuteTime": {
     "end_time": "2020-06-30T13:35:09.262237Z",
     "start_time": "2020-06-30T13:35:09.256237Z"
    }
   },
   "outputs": [],
   "source": [
    "class Solution:\n",
    "    def verifyPostorder(self, postorder: [int]) -> bool:\n",
    "        if not postorder:\n",
    "            return True\n",
    "        stack = []\n",
    "        root = float(\"inf\")\n",
    "        for i in range(len(postorder) - 1, -1, -1):\n",
    "            if postorder[i] > root:\n",
    "                return False\n",
    "            while stack and postorder[i] < stack[-1]:\n",
    "                root = stack.pop()\n",
    "            stack.append(postorder[i])\n",
    "        return True"
   ]
  },
  {
   "cell_type": "markdown",
   "metadata": {},
   "source": [
    "## 递归"
   ]
  },
  {
   "cell_type": "code",
   "execution_count": 3,
   "metadata": {
    "ExecuteTime": {
     "end_time": "2020-06-30T13:35:09.269239Z",
     "start_time": "2020-06-30T13:35:09.264242Z"
    }
   },
   "outputs": [],
   "source": [
    "class Solution:\n",
    "    def verifyPostorder(self, postorder: [int]) -> bool:\n",
    "        if not postorder:\n",
    "            return True\n",
    "        i = 0\n",
    "        j = len(postorder) - 1\n",
    "        return self.recur(postorder, i, j)\n",
    "\n",
    "    def recur(self, postorder, i, j):\n",
    "        if i >= j:\n",
    "            return True\n",
    "        k = i\n",
    "        while k < j and postorder[k] < postorder[j]:\n",
    "            k += 1\n",
    "        p = k\n",
    "        while k < j and postorder[k] > postorder[j]:\n",
    "            k += 1\n",
    "        if k == j:\n",
    "            return self.recur(postorder, i, p - 1) and self.recur(postorder,p, j - 1)\n",
    "        else:\n",
    "            return False"
   ]
  }
 ],
 "metadata": {
  "kernelspec": {
   "display_name": "Python 3",
   "language": "python",
   "name": "python3"
  },
  "language_info": {
   "codemirror_mode": {
    "name": "ipython",
    "version": 3
   },
   "file_extension": ".py",
   "mimetype": "text/x-python",
   "name": "python",
   "nbconvert_exporter": "python",
   "pygments_lexer": "ipython3",
   "version": "3.7.0"
  },
  "toc": {
   "base_numbering": 1,
   "nav_menu": {},
   "number_sections": true,
   "sideBar": true,
   "skip_h1_title": false,
   "title_cell": "Table of Contents",
   "title_sidebar": "Contents",
   "toc_cell": false,
   "toc_position": {},
   "toc_section_display": true,
   "toc_window_display": false
  },
  "varInspector": {
   "cols": {
    "lenName": 16,
    "lenType": 16,
    "lenVar": 40
   },
   "kernels_config": {
    "python": {
     "delete_cmd_postfix": "",
     "delete_cmd_prefix": "del ",
     "library": "var_list.py",
     "varRefreshCmd": "print(var_dic_list())"
    },
    "r": {
     "delete_cmd_postfix": ") ",
     "delete_cmd_prefix": "rm(",
     "library": "var_list.r",
     "varRefreshCmd": "cat(var_dic_list()) "
    }
   },
   "types_to_exclude": [
    "module",
    "function",
    "builtin_function_or_method",
    "instance",
    "_Feature"
   ],
   "window_display": false
  }
 },
 "nbformat": 4,
 "nbformat_minor": 2
}
