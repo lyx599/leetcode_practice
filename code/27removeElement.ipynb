{
 "cells": [
  {
   "cell_type": "markdown",
   "metadata": {},
   "source": [
    "# 27移除元素"
   ]
  },
  {
   "cell_type": "markdown",
   "metadata": {},
   "source": [
    "思路：\n",
    "- 双指针-自己的方法\n",
    "    - 先将数组进行排序，循环遍历，当找到第一个和目标值相同数字时，一个指针指向该位置，继续遍历，当找到不等于目标值的数字时，此时往前移动所有后面的数字\n",
    "- 双指针-跳过目标值\n",
    "    - 把所有不等于目标值的数字从头依次插入一遍\n",
    "- 双指针-交换尾部\n",
    "    - 当遇到等于目标值的数字，就让它和尾部数字交换，并让数组长度减一，最后得到的长度即为答案"
   ]
  },
  {
   "cell_type": "markdown",
   "metadata": {},
   "source": [
    "注意："
   ]
  },
  {
   "cell_type": "markdown",
   "metadata": {},
   "source": [
    "第一次思路：先将数组进行排序，循环遍历，当找到第一个和目标值相同数字时，一个指针指向该位置，继续遍历，当找到不等于目标值的数字时，此时往前移动所有后面的数字"
   ]
  },
  {
   "cell_type": "code",
   "execution_count": 1,
   "metadata": {
    "ExecuteTime": {
     "end_time": "2020-05-04T09:23:22.139220Z",
     "start_time": "2020-05-04T09:23:22.128227Z"
    }
   },
   "outputs": [
    {
     "name": "stdout",
     "output_type": "stream",
     "text": [
      "2\n",
      "[2, 2, 3, 3]\n"
     ]
    }
   ],
   "source": [
    "class Solution:\n",
    "    def removeElement(self, nums: [int], val: int) -> int:\n",
    "\n",
    "        nums_len = len(nums)\n",
    "        nums.sort()\n",
    "        flag = True #第一次找到等于目标值的数字标志\n",
    "        j = 0 #第一次找到等于目标值的数字位置标记\n",
    "        for i in range(nums_len):\n",
    "            if flag and nums[i] == val:\n",
    "                # j = i\n",
    "                flag = False\n",
    "                continue\n",
    "            elif flag: #与目标值不同且未标记第一个值\n",
    "                j += 1\n",
    "                continue\n",
    "            elif nums[i] == val:#与目标值相同且已标记第一个值\n",
    "                continue\n",
    "            else: #与目标值不同且已标记第一个值\n",
    "                nums[j] = nums[i]\n",
    "                j += 1\n",
    "        return j\n",
    "\n",
    "s = Solution()\n",
    "nums = [3,2,2,3]\n",
    "print(s.removeElement(nums,3))\n",
    "print(nums)\n"
   ]
  },
  {
   "cell_type": "markdown",
   "metadata": {},
   "source": [
    "这个逻辑更清楚一点"
   ]
  },
  {
   "cell_type": "code",
   "execution_count": 2,
   "metadata": {
    "ExecuteTime": {
     "end_time": "2020-05-04T09:23:22.153212Z",
     "start_time": "2020-05-04T09:23:22.141219Z"
    }
   },
   "outputs": [
    {
     "name": "stdout",
     "output_type": "stream",
     "text": [
      "2\n",
      "[2, 2, 3, 3]\n"
     ]
    }
   ],
   "source": [
    "class Solution:\n",
    "    def removeElement(self, nums: [int], val: int) -> int:\n",
    "\n",
    "        nums_len = len(nums)\n",
    "        nums.sort()\n",
    "        flag = True\n",
    "        j = 0\n",
    "        for i in range(nums_len):\n",
    "            if flag and nums[i] == val: #标记第一个位置\n",
    "                # j = i\n",
    "                flag = False\n",
    "                continue\n",
    "            if not flag and nums[i] == val: \n",
    "                continue\n",
    "            if not flag and nums[i] != val: \n",
    "                nums[j] = nums[i]\n",
    "            j += 1\n",
    "        return j\n",
    "\n",
    "s = Solution()\n",
    "nums = [3,2,2,3]\n",
    "print(s.removeElement(nums,3))\n",
    "print(nums)"
   ]
  },
  {
   "cell_type": "markdown",
   "metadata": {},
   "source": [
    "# 答案"
   ]
  },
  {
   "cell_type": "markdown",
   "metadata": {
    "ExecuteTime": {
     "end_time": "2020-05-04T09:24:17.054039Z",
     "start_time": "2020-05-04T09:24:17.051040Z"
    }
   },
   "source": [
    "## 双指针-跳过目标值"
   ]
  },
  {
   "cell_type": "code",
   "execution_count": 3,
   "metadata": {
    "ExecuteTime": {
     "end_time": "2020-05-04T09:23:22.166204Z",
     "start_time": "2020-05-04T09:23:22.155211Z"
    }
   },
   "outputs": [],
   "source": [
    "class Solution:\n",
    "    def removeElement(self, nums: [int], val: int) -> int:\n",
    "        nums_len = len(nums)\n",
    "        nums.sort()\n",
    "        flag = True\n",
    "        j = 0\n",
    "        for i in range(nums_len):\n",
    "            if flag and nums[i] == val:\n",
    "                # j = i\n",
    "                flag = False\n",
    "                continue\n",
    "            elif flag:\n",
    "                j += 1\n",
    "                continue\n",
    "            elif nums[i] == val:\n",
    "                continue\n",
    "            else:\n",
    "                nums[j] = nums[i]\n",
    "                j += 1\n",
    "        return j"
   ]
  },
  {
   "cell_type": "markdown",
   "metadata": {},
   "source": [
    "## 双指针-跳过目标值优化版"
   ]
  },
  {
   "cell_type": "code",
   "execution_count": 4,
   "metadata": {
    "ExecuteTime": {
     "end_time": "2020-05-04T09:23:22.266147Z",
     "start_time": "2020-05-04T09:23:22.261150Z"
    }
   },
   "outputs": [],
   "source": [
    "class Solution:\n",
    "    def removeElement(self, nums: [int], val: int) -> int:\n",
    "        nums_len = len(nums)\n",
    "        j= 0\n",
    "        for i in range(nums_len):\n",
    "            if nums[i] != val:\n",
    "                nums[j] = nums[i]\n",
    "                j += 1\n",
    "\n",
    "        return j"
   ]
  },
  {
   "cell_type": "markdown",
   "metadata": {},
   "source": [
    "## 双指针-交换尾部"
   ]
  },
  {
   "cell_type": "code",
   "execution_count": 5,
   "metadata": {
    "ExecuteTime": {
     "end_time": "2020-05-04T09:23:22.362092Z",
     "start_time": "2020-05-04T09:23:22.357095Z"
    }
   },
   "outputs": [],
   "source": [
    "class Solution:\n",
    "    def removeElement(self, nums: [int], val: int) -> int:\n",
    "        nums_len = len(nums)\n",
    "        i = 0\n",
    "        while i < nums_len:\n",
    "            if nums[i] == val:\n",
    "                nums[i] = nums[nums_len - 1]\n",
    "                nums_len -= 1  #此时i值未变，尾部的值仍会判断是否与目标值相等\n",
    "            else:\n",
    "                i += 1\n",
    "\n",
    "\n",
    "        return nums_len"
   ]
  }
 ],
 "metadata": {
  "hide_input": false,
  "kernelspec": {
   "display_name": "Python 3",
   "language": "python",
   "name": "python3"
  },
  "language_info": {
   "codemirror_mode": {
    "name": "ipython",
    "version": 3
   },
   "file_extension": ".py",
   "mimetype": "text/x-python",
   "name": "python",
   "nbconvert_exporter": "python",
   "pygments_lexer": "ipython3",
   "version": "3.7.0"
  },
  "toc": {
   "base_numbering": 1,
   "nav_menu": {},
   "number_sections": true,
   "sideBar": true,
   "skip_h1_title": false,
   "title_cell": "Table of Contents",
   "title_sidebar": "Contents",
   "toc_cell": false,
   "toc_position": {},
   "toc_section_display": true,
   "toc_window_display": false
  },
  "varInspector": {
   "cols": {
    "lenName": 16,
    "lenType": 16,
    "lenVar": 40
   },
   "kernels_config": {
    "python": {
     "delete_cmd_postfix": "",
     "delete_cmd_prefix": "del ",
     "library": "var_list.py",
     "varRefreshCmd": "print(var_dic_list())"
    },
    "r": {
     "delete_cmd_postfix": ") ",
     "delete_cmd_prefix": "rm(",
     "library": "var_list.r",
     "varRefreshCmd": "cat(var_dic_list()) "
    }
   },
   "types_to_exclude": [
    "module",
    "function",
    "builtin_function_or_method",
    "instance",
    "_Feature"
   ],
   "window_display": false
  }
 },
 "nbformat": 4,
 "nbformat_minor": 2
}
