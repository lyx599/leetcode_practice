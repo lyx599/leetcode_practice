{
 "cells": [
  {
   "cell_type": "markdown",
   "metadata": {},
   "source": [
    "# 剑指 Offer 31\t栈的压入、弹出序列  "
   ]
  },
  {
   "cell_type": "markdown",
   "metadata": {
    "ExecuteTime": {
     "end_time": "2020-06-26T08:04:50.226333Z",
     "start_time": "2020-06-26T08:04:50.221341Z"
    }
   },
   "source": [
    "思路：\n",
    "- 自己的方法\n",
    "    - 用辅助栈模拟入栈出栈的过程\n",
    "    - 出栈列表进行对比，与辅助栈相同元素就出栈，出栈列表向后移一位\n",
    "    - 与入栈列表相同，表明元素入栈便出栈，入栈列表和出栈列表都向后移一位\n",
    "    - 不符合上述情况则元素入栈，入栈列表向后移一位\n",
    "    - 直到push列表遍历完\n",
    "    - 循环判断辅助栈和出栈列表，能否全部出栈成功\n",
    "    - 时间复杂度 $O(N)$ : 遍历一遍列表\n",
    "    - 空间复杂度 $O(N)$ : 最差情况，入栈列表元素全部进入辅助栈\n",
    "- 模拟\n",
    "    - 由于题目规定 栈的所有数字均不相等 ，因此在循环入栈中，每个元素出栈的位置的可能性是唯一的（若有重复数字，则具有多个可出栈的位置）。因而，在遇到 “栈顶元素 == 弹出序列的当前元素” 就应立即执行出栈\n",
    "    - 时间复杂度 $O(N)$ ： 其中 N 为列表 pushed 的长度；每个元素最多入栈与出栈一次，即最多共 2N 次出入栈操作。\n",
    "    - 空间复杂度 $O(N)$  ： 辅助栈 stack 最多同时存储 N 个元素。\n",
    "    - https://leetcode-cn.com/problems/zhan-de-ya-ru-dan-chu-xu-lie-lcof/solution/mian-shi-ti-31-zhan-de-ya-ru-dan-chu-xu-lie-mo-n-2/\n"
   ]
  },
  {
   "cell_type": "markdown",
   "metadata": {},
   "source": [
    "注意：\n",
    "- 题目指出 pushed 是 popped 的排列 。因此，无需考虑 pushed 和 popped 长度不同 或 包含元素不同 的情况"
   ]
  },
  {
   "cell_type": "markdown",
   "metadata": {},
   "source": [
    "用辅助栈模拟入栈出栈的过程，用出栈列表和辅助栈，出栈列表进行对比，与辅助栈相同元素就出栈，出栈列表向后移一位；与入栈列表相同，表明元素入栈便出栈，入栈列表和出栈列表都向后移一位；不符合上述情况则元素入栈，入栈列表向后移一位。\n",
    "\n",
    "由于题目本身的一些限制，没有对pushed列表和popped列表进行完善的判断，对错误输入没有健壮性"
   ]
  },
  {
   "cell_type": "code",
   "execution_count": 1,
   "metadata": {
    "ExecuteTime": {
     "end_time": "2020-06-26T11:51:47.778253Z",
     "start_time": "2020-06-26T11:51:47.769250Z"
    }
   },
   "outputs": [
    {
     "name": "stdout",
     "output_type": "stream",
     "text": [
      "False\n"
     ]
    }
   ],
   "source": [
    "class Solution:\n",
    "    def validateStackSequences(self, pushed: [int], popped: [int]) -> bool:\n",
    "        if not pushed:\n",
    "            return True\n",
    "\n",
    "        stack_len = len(pushed)\n",
    "        stack = []\n",
    "        i, j = 0, 0\n",
    "        while i < stack_len and j < stack_len:\n",
    "            # 出栈列表和模拟栈顶元素比较，判断是否出栈\n",
    "            while j < stack_len and stack:\n",
    "                if popped[j] == stack[-1]:\n",
    "                    stack.pop()\n",
    "                    j += 1\n",
    "                else:\n",
    "                    break\n",
    "            # 出栈列表和入栈列表元素比较，相同就跳过该入栈元素\n",
    "            if popped[j] == pushed[i]:\n",
    "                i += 1\n",
    "                j += 1\n",
    "                continue\n",
    "            # 上述两种情况都不符合，就进栈\n",
    "            else:\n",
    "                stack.append(pushed[i])\n",
    "                i += 1\n",
    "        # 一定是push列表先遍历完\n",
    "        while j < stack_len and stack:\n",
    "            if popped[j] == stack[-1]:\n",
    "                stack.pop()\n",
    "                j += 1\n",
    "            else:\n",
    "                return False\n",
    "\n",
    "        if not stack:\n",
    "            return True\n",
    "\n",
    "        return False\n",
    "\n",
    "\n",
    "s = Solution()\n",
    "print(s.validateStackSequences([1, 2, 3, 4, 5], [4, 3, 5, 1, 2]))"
   ]
  },
  {
   "cell_type": "markdown",
   "metadata": {},
   "source": [
    "# 答案"
   ]
  },
  {
   "cell_type": "markdown",
   "metadata": {},
   "source": [
    "## 模拟"
   ]
  },
  {
   "cell_type": "code",
   "execution_count": 2,
   "metadata": {
    "ExecuteTime": {
     "end_time": "2020-06-26T11:51:47.784254Z",
     "start_time": "2020-06-26T11:51:47.779253Z"
    }
   },
   "outputs": [],
   "source": [
    "class Solution:\n",
    "    def validateStackSequences(self, pushed: [int], popped: [int]) -> bool:\n",
    "        stack = []\n",
    "        i = 0\n",
    "        popped_len = len(popped)\n",
    "        for num in pushed:\n",
    "            stack.append(num)\n",
    "            while stack and i < popped_len:\n",
    "                if popped[i] == stack[-1]:\n",
    "                    stack.pop()\n",
    "                    i += 1\n",
    "                else:\n",
    "                    break\n",
    "        return not stack"
   ]
  }
 ],
 "metadata": {
  "kernelspec": {
   "display_name": "Python 3",
   "language": "python",
   "name": "python3"
  },
  "language_info": {
   "codemirror_mode": {
    "name": "ipython",
    "version": 3
   },
   "file_extension": ".py",
   "mimetype": "text/x-python",
   "name": "python",
   "nbconvert_exporter": "python",
   "pygments_lexer": "ipython3",
   "version": "3.7.0"
  },
  "toc": {
   "base_numbering": 1,
   "nav_menu": {},
   "number_sections": true,
   "sideBar": true,
   "skip_h1_title": false,
   "title_cell": "Table of Contents",
   "title_sidebar": "Contents",
   "toc_cell": false,
   "toc_position": {},
   "toc_section_display": true,
   "toc_window_display": false
  },
  "varInspector": {
   "cols": {
    "lenName": 16,
    "lenType": 16,
    "lenVar": 40
   },
   "kernels_config": {
    "python": {
     "delete_cmd_postfix": "",
     "delete_cmd_prefix": "del ",
     "library": "var_list.py",
     "varRefreshCmd": "print(var_dic_list())"
    },
    "r": {
     "delete_cmd_postfix": ") ",
     "delete_cmd_prefix": "rm(",
     "library": "var_list.r",
     "varRefreshCmd": "cat(var_dic_list()) "
    }
   },
   "types_to_exclude": [
    "module",
    "function",
    "builtin_function_or_method",
    "instance",
    "_Feature"
   ],
   "window_display": false
  }
 },
 "nbformat": 4,
 "nbformat_minor": 2
}
