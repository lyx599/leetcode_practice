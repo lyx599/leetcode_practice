{
 "cells": [
  {
   "cell_type": "markdown",
   "metadata": {},
   "source": [
    "# 剑指 Offer 45\t把数组排成最小的数  "
   ]
  },
  {
   "cell_type": "markdown",
   "metadata": {},
   "source": [
    "思路：\n",
    "- 建立新的排序规则\n",
    "    - 排序判断规则：设 nums 任意两数字的字符串格式 x 和 y ，则\n",
    "        - 若拼接字符串 x + y > y + x ，则 m > n\n",
    "        - 反之，若 x + y < y + x ，则 m < n \n",
    "    - 对数组通过该规则进行排序，最后按顺序拼接的到的数为最小的\n",
    "    - 时间复杂度 $O(N \\log N)$ ： N 为最终返回值的字符数量（ strs 列表的长度 $\\leq N$ ）；使用快排或内置函数的平均时间复杂度为 $O(N \\log N)$ ，最差为 $O(N^2)$\n",
    "    - 空间复杂度 $O(N)$ ： 字符串列表 strs 占用线性大小的额外空间\n",
    "    - https://leetcode-cn.com/problems/ba-shu-zu-pai-cheng-zui-xiao-de-shu-lcof/solution/mian-shi-ti-45-ba-shu-zu-pai-cheng-zui-xiao-de-s-4/"
   ]
  },
  {
   "cell_type": "markdown",
   "metadata": {},
   "source": [
    "注意：\n",
    "- 排序规则的建立\n",
    "- 排序规则的正确性证明很复杂"
   ]
  },
  {
   "cell_type": "code",
   "execution_count": 1,
   "metadata": {
    "ExecuteTime": {
     "end_time": "2020-07-15T08:10:49.567699Z",
     "start_time": "2020-07-15T08:10:49.559710Z"
    }
   },
   "outputs": [
    {
     "name": "stdout",
     "output_type": "stream",
     "text": [
      "1123\n"
     ]
    }
   ],
   "source": [
    "class Solution:\n",
    "    def minNumber(self, nums: [int]) -> str:\n",
    "\n",
    "        def quick_sort(l, r):\n",
    "            if l >= r:\n",
    "                return\n",
    "            i, j = l, r\n",
    "            while i < j:\n",
    "                while nums[j] + nums[l] >= nums[l] + nums[j] and i < j:\n",
    "                    j -= 1\n",
    "                while nums[i] + nums[l] <= nums[l] + nums[i] and i < j:\n",
    "                    i += 1\n",
    "                nums[i], nums[j] = nums[j], nums[i]\n",
    "            nums[i], nums[l] = nums[l], nums[i]\n",
    "            quick_sort(l, i - 1)\n",
    "            quick_sort(i + 1, r)\n",
    "\n",
    "        nums = [str(num) for num in nums]\n",
    "        quick_sort(0, len(nums) - 1)\n",
    "        return ''.join(nums)\n",
    "\n",
    "\n",
    "s = Solution()\n",
    "print(s.minNumber([1, 2, 3, 1]))\n"
   ]
  },
  {
   "cell_type": "markdown",
   "metadata": {},
   "source": [
    "# 答案"
   ]
  },
  {
   "cell_type": "markdown",
   "metadata": {},
   "source": [
    "## 建立新的排序规则"
   ]
  },
  {
   "cell_type": "code",
   "execution_count": 4,
   "metadata": {
    "ExecuteTime": {
     "end_time": "2020-07-15T08:13:50.218764Z",
     "start_time": "2020-07-15T08:13:50.211762Z"
    }
   },
   "outputs": [],
   "source": [
    "class Solution:\n",
    "    def minNumber(self, nums: [int]) -> str:\n",
    "        def quick_sort(l, r):\n",
    "            if l >= r:\n",
    "                return\n",
    "            i, j = l, r\n",
    "            while i < j:\n",
    "                while nums[j] + nums[l] >= nums[l] + nums[j] and i < j:\n",
    "                    j -= 1\n",
    "                while nums[i] + nums[l] <= nums[l] + nums[i] and i < j:\n",
    "                    i += 1\n",
    "                nums[i], nums[j] = nums[j], nums[i]\n",
    "            nums[i], nums[l] = nums[l], nums[i]\n",
    "            quick_sort(l, i - 1)\n",
    "            quick_sort(i + 1, r)\n",
    "\n",
    "        nums = [str(num) for num in nums]\n",
    "        quick_sort(0, len(nums) - 1)\n",
    "        return ''.join(nums)"
   ]
  },
  {
   "cell_type": "code",
   "execution_count": 5,
   "metadata": {
    "ExecuteTime": {
     "end_time": "2020-07-15T08:13:55.258997Z",
     "start_time": "2020-07-15T08:13:55.255005Z"
    }
   },
   "outputs": [],
   "source": [
    "class Solution:\n",
    "    def minNumber(self, nums: [int]) -> str:\n",
    "        def sort_rule(x, y):\n",
    "            a, b = x + y, y + x\n",
    "            if a > b: return 1\n",
    "            elif a < b: return -1\n",
    "            else: return 0\n",
    "        \n",
    "        strs = [str(num) for num in nums]\n",
    "        strs.sort(key = functools.cmp_to_key(sort_rule))\n",
    "        return ''.join(strs)"
   ]
  }
 ],
 "metadata": {
  "kernelspec": {
   "display_name": "Python 3",
   "language": "python",
   "name": "python3"
  },
  "language_info": {
   "codemirror_mode": {
    "name": "ipython",
    "version": 3
   },
   "file_extension": ".py",
   "mimetype": "text/x-python",
   "name": "python",
   "nbconvert_exporter": "python",
   "pygments_lexer": "ipython3",
   "version": "3.7.0"
  },
  "toc": {
   "base_numbering": 1,
   "nav_menu": {},
   "number_sections": true,
   "sideBar": true,
   "skip_h1_title": false,
   "title_cell": "Table of Contents",
   "title_sidebar": "Contents",
   "toc_cell": false,
   "toc_position": {},
   "toc_section_display": true,
   "toc_window_display": false
  },
  "varInspector": {
   "cols": {
    "lenName": 16,
    "lenType": 16,
    "lenVar": 40
   },
   "kernels_config": {
    "python": {
     "delete_cmd_postfix": "",
     "delete_cmd_prefix": "del ",
     "library": "var_list.py",
     "varRefreshCmd": "print(var_dic_list())"
    },
    "r": {
     "delete_cmd_postfix": ") ",
     "delete_cmd_prefix": "rm(",
     "library": "var_list.r",
     "varRefreshCmd": "cat(var_dic_list()) "
    }
   },
   "types_to_exclude": [
    "module",
    "function",
    "builtin_function_or_method",
    "instance",
    "_Feature"
   ],
   "window_display": false
  }
 },
 "nbformat": 4,
 "nbformat_minor": 4
}
