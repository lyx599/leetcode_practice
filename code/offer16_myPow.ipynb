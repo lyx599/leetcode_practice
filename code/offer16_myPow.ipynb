{
 "cells": [
  {
   "cell_type": "markdown",
   "metadata": {},
   "source": [
    "# 面试题16\t数值的整数次方 "
   ]
  },
  {
   "cell_type": "markdown",
   "metadata": {},
   "source": [
    "思路：\n",
    "- 快速幂\n",
    "    - 求$x^n$最简单的方法是通过循环将n个x乘起来，依次求$x^1$，$x^2$，$x^{n-1}$，$x^n$，时间复杂度为$O(n)$。快速幂法可将时间复杂度降低至$O(log2n)$\n",
    "    - 时间复杂度  $O(log_2 n)$ 二分的时间复杂度为对数级别。\n",
    "    - 空间复杂度 $O(1)$ ： res,等变量占用常数大小额外空间。\n",
    "    - 快速幂参考https://leetcode-cn.com/problems/shu-zhi-de-zheng-shu-ci-fang-lcof/solution/mian-shi-ti-16-shu-zhi-de-zheng-shu-ci-fang-kuai-s/\n",
    "- 递归快速幂\n",
    "    - 使用递归完成快速幂"
   ]
  },
  {
   "cell_type": "markdown",
   "metadata": {},
   "source": [
    "注意：\n",
    "- 考虑指数为负，0等情况，以及0和负指数与0指数情况\n",
    "- 次方是 32 位有符号整数，需要使用快速幂求解，不然会超时\n",
    "- 由于python特性，不用考虑数字越界问题"
   ]
  },
  {
   "cell_type": "code",
   "execution_count": 1,
   "metadata": {
    "ExecuteTime": {
     "end_time": "2020-06-11T12:43:38.618247Z",
     "start_time": "2020-06-11T12:43:38.613247Z"
    }
   },
   "outputs": [
    {
     "name": "stdout",
     "output_type": "stream",
     "text": [
      "0.0\n"
     ]
    }
   ],
   "source": [
    "class Solution:\n",
    "    def myPow(self, x: float, n: int) -> float:\n",
    "\n",
    "        if x == 0 and n < 0:\n",
    "            return 'invalid input'\n",
    "        if x == 0 and n == 0:\n",
    "            return 0\n",
    "\n",
    "        if n < 0:\n",
    "            exp = -n\n",
    "            return 1 / self.cus_pow(x, exp)\n",
    "        else:\n",
    "            return self.cus_pow(x, n)\n",
    "\n",
    "    def cus_pow(self, x, n):\n",
    "        res = 1\n",
    "        while n > 0:\n",
    "            if n % 2:\n",
    "                res = res * x\n",
    "            x = x * x\n",
    "            n //= 2\n",
    "        return res\n",
    "\n",
    "s = Solution()\n",
    "\n",
    "print(s.myPow(0.00001, 2147483647))"
   ]
  },
  {
   "cell_type": "markdown",
   "metadata": {},
   "source": [
    "# 答案"
   ]
  },
  {
   "cell_type": "markdown",
   "metadata": {},
   "source": [
    "## 快速幂"
   ]
  },
  {
   "cell_type": "code",
   "execution_count": 2,
   "metadata": {
    "ExecuteTime": {
     "end_time": "2020-06-11T12:43:38.624249Z",
     "start_time": "2020-06-11T12:43:38.619243Z"
    }
   },
   "outputs": [],
   "source": [
    "class Solution:\n",
    "    def myPow(self, x: float, n: int) -> float:\n",
    "        if x == 0 and n < 0:\n",
    "            return 'invalid input'\n",
    "        if x == 0 and n == 0:\n",
    "            return 0\n",
    "\n",
    "        if n < 0:\n",
    "            exp = -n\n",
    "            return 1 / self.cus_pow(x, exp)\n",
    "        else:\n",
    "            return self.cus_pow(x, n)\n",
    "\n",
    "    def cus_pow(self, x, n):\n",
    "        res = 1\n",
    "        while n > 0:\n",
    "            if n % 2:\n",
    "                res = res * x\n",
    "            x = x * x\n",
    "            n //= 2\n",
    "        return res"
   ]
  },
  {
   "cell_type": "markdown",
   "metadata": {},
   "source": [
    "## 递归快速幂"
   ]
  },
  {
   "cell_type": "code",
   "execution_count": 3,
   "metadata": {
    "ExecuteTime": {
     "end_time": "2020-06-11T12:43:38.630250Z",
     "start_time": "2020-06-11T12:43:38.625248Z"
    }
   },
   "outputs": [],
   "source": [
    "class Solution:\n",
    "    def myPow(self, x: float, n: int) -> float:\n",
    "        if x == 0 and n < 0:\n",
    "            return 'invalid input'\n",
    "        if x == 0 and n == 0:\n",
    "            return 0\n",
    "\n",
    "        if n < 0:\n",
    "            exp = -n\n",
    "            return 1 / self.cus_pow(x, exp)\n",
    "        else:\n",
    "            return self.cus_pow(x, n)\n",
    "\n",
    "    def cus_pow(self, x, n):\n",
    "        if n == 0:\n",
    "            return 1\n",
    "        if n == 1:\n",
    "            return x\n",
    "        result = self.cus_pow(x, n >> 1)\n",
    "        result *= result\n",
    "        if n % 2:\n",
    "            result *= x\n",
    "        return result"
   ]
  }
 ],
 "metadata": {
  "kernelspec": {
   "display_name": "Python 3",
   "language": "python",
   "name": "python3"
  },
  "language_info": {
   "codemirror_mode": {
    "name": "ipython",
    "version": 3
   },
   "file_extension": ".py",
   "mimetype": "text/x-python",
   "name": "python",
   "nbconvert_exporter": "python",
   "pygments_lexer": "ipython3",
   "version": "3.7.0"
  },
  "toc": {
   "base_numbering": 1,
   "nav_menu": {},
   "number_sections": true,
   "sideBar": true,
   "skip_h1_title": false,
   "title_cell": "Table of Contents",
   "title_sidebar": "Contents",
   "toc_cell": false,
   "toc_position": {},
   "toc_section_display": true,
   "toc_window_display": false
  },
  "varInspector": {
   "cols": {
    "lenName": 16,
    "lenType": 16,
    "lenVar": 40
   },
   "kernels_config": {
    "python": {
     "delete_cmd_postfix": "",
     "delete_cmd_prefix": "del ",
     "library": "var_list.py",
     "varRefreshCmd": "print(var_dic_list())"
    },
    "r": {
     "delete_cmd_postfix": ") ",
     "delete_cmd_prefix": "rm(",
     "library": "var_list.r",
     "varRefreshCmd": "cat(var_dic_list()) "
    }
   },
   "types_to_exclude": [
    "module",
    "function",
    "builtin_function_or_method",
    "instance",
    "_Feature"
   ],
   "window_display": false
  }
 },
 "nbformat": 4,
 "nbformat_minor": 2
}
