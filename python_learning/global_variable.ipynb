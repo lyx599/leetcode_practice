{
 "cells": [
  {
   "cell_type": "markdown",
   "metadata": {},
   "source": [
    "# 全局变量"
   ]
  },
  {
   "cell_type": "markdown",
   "metadata": {
    "ExecuteTime": {
     "end_time": "2020-06-19T07:56:39.712208Z",
     "start_time": "2020-06-19T07:56:39.708200Z"
    }
   },
   "source": [
    "`__main__` 中的变量可以被任何函数访问，它们也被称作 **全局变量（global）** 。 与函数结束时就会消失的局部变量不同，不同函数调用时全局变量一直都存在"
   ]
  },
  {
   "cell_type": "markdown",
   "metadata": {},
   "source": [
    "## 对全局变量进行赋值"
   ]
  },
  {
   "cell_type": "code",
   "execution_count": 7,
   "metadata": {
    "ExecuteTime": {
     "end_time": "2020-06-19T08:14:35.768675Z",
     "start_time": "2020-06-19T08:14:35.765682Z"
    }
   },
   "outputs": [],
   "source": [
    "been_called = False\n",
    "\n",
    "def example2():\n",
    "    been_called = True  "
   ]
  },
  {
   "cell_type": "code",
   "execution_count": 8,
   "metadata": {
    "ExecuteTime": {
     "end_time": "2020-06-19T08:14:36.137300Z",
     "start_time": "2020-06-19T08:14:36.133299Z"
    }
   },
   "outputs": [
    {
     "data": {
      "text/plain": [
       "False"
      ]
     },
     "execution_count": 8,
     "metadata": {},
     "output_type": "execute_result"
    }
   ],
   "source": [
    "# 值未改变\n",
    "been_called"
   ]
  },
  {
   "cell_type": "markdown",
   "metadata": {},
   "source": [
    "在函数内对全局变量重新赋值，你必须在使用之前 声明(declare) 该全局变量"
   ]
  },
  {
   "cell_type": "code",
   "execution_count": 9,
   "metadata": {
    "ExecuteTime": {
     "end_time": "2020-06-19T08:14:37.174765Z",
     "start_time": "2020-06-19T08:14:37.172752Z"
    }
   },
   "outputs": [],
   "source": [
    "been_called = False\n",
    "\n",
    "def example2():\n",
    "    global been_called\n",
    "    been_called = True"
   ]
  },
  {
   "cell_type": "code",
   "execution_count": 10,
   "metadata": {
    "ExecuteTime": {
     "end_time": "2020-06-19T08:14:38.105059Z",
     "start_time": "2020-06-19T08:14:38.101057Z"
    }
   },
   "outputs": [
    {
     "data": {
      "text/plain": [
       "True"
      ]
     },
     "execution_count": 10,
     "metadata": {},
     "output_type": "execute_result"
    }
   ],
   "source": [
    "example2()\n",
    "been_called"
   ]
  },
  {
   "cell_type": "markdown",
   "metadata": {},
   "source": [
    "试图更新全局变量的例子"
   ]
  },
  {
   "cell_type": "code",
   "execution_count": 11,
   "metadata": {
    "ExecuteTime": {
     "end_time": "2020-06-19T08:14:40.119865Z",
     "start_time": "2020-06-19T08:14:40.117864Z"
    }
   },
   "outputs": [],
   "source": [
    "count = 0\n",
    "\n",
    "def example3():\n",
    "    count = count + 1          # 错误"
   ]
  },
  {
   "cell_type": "code",
   "execution_count": 12,
   "metadata": {
    "ExecuteTime": {
     "end_time": "2020-06-19T08:14:40.821354Z",
     "start_time": "2020-06-19T08:14:40.814351Z"
    }
   },
   "outputs": [
    {
     "ename": "UnboundLocalError",
     "evalue": "local variable 'count' referenced before assignment",
     "output_type": "error",
     "traceback": [
      "\u001b[1;31m---------------------------------------------------------------------------\u001b[0m",
      "\u001b[1;31mUnboundLocalError\u001b[0m                         Traceback (most recent call last)",
      "\u001b[1;32m<ipython-input-12-bf3402d0be88>\u001b[0m in \u001b[0;36m<module>\u001b[1;34m()\u001b[0m\n\u001b[1;32m----> 1\u001b[1;33m \u001b[0mexample3\u001b[0m\u001b[1;33m(\u001b[0m\u001b[1;33m)\u001b[0m\u001b[1;33m\u001b[0m\u001b[0m\n\u001b[0m",
      "\u001b[1;32m<ipython-input-11-a595c7a8b38c>\u001b[0m in \u001b[0;36mexample3\u001b[1;34m()\u001b[0m\n\u001b[0;32m      2\u001b[0m \u001b[1;33m\u001b[0m\u001b[0m\n\u001b[0;32m      3\u001b[0m \u001b[1;32mdef\u001b[0m \u001b[0mexample3\u001b[0m\u001b[1;33m(\u001b[0m\u001b[1;33m)\u001b[0m\u001b[1;33m:\u001b[0m\u001b[1;33m\u001b[0m\u001b[0m\n\u001b[1;32m----> 4\u001b[1;33m     \u001b[0mcount\u001b[0m \u001b[1;33m=\u001b[0m \u001b[0mcount\u001b[0m \u001b[1;33m+\u001b[0m \u001b[1;36m1\u001b[0m          \u001b[1;31m# 错误\u001b[0m\u001b[1;33m\u001b[0m\u001b[0m\n\u001b[0m",
      "\u001b[1;31mUnboundLocalError\u001b[0m: local variable 'count' referenced before assignment"
     ]
    }
   ],
   "source": [
    "example3()"
   ]
  },
  {
   "cell_type": "markdown",
   "metadata": {},
   "source": [
    "如果要改变依然要声明是全局变量"
   ]
  },
  {
   "cell_type": "markdown",
   "metadata": {
    "ExecuteTime": {
     "end_time": "2020-06-19T08:01:52.234458Z",
     "start_time": "2020-06-19T08:01:52.232451Z"
    }
   },
   "source": [
    "## 可变的全局变量"
   ]
  },
  {
   "cell_type": "markdown",
   "metadata": {
    "ExecuteTime": {
     "end_time": "2020-06-19T08:02:26.666792Z",
     "start_time": "2020-06-19T08:02:26.661790Z"
    }
   },
   "source": [
    "如果全局变量是可变的，你可以不加声明地修改它"
   ]
  },
  {
   "cell_type": "code",
   "execution_count": 13,
   "metadata": {
    "ExecuteTime": {
     "end_time": "2020-06-19T08:14:43.433652Z",
     "start_time": "2020-06-19T08:14:43.430650Z"
    }
   },
   "outputs": [],
   "source": [
    "known = {0:0, 1:1}\n",
    "\n",
    "def example4():\n",
    "    known[2] = 1"
   ]
  },
  {
   "cell_type": "code",
   "execution_count": 14,
   "metadata": {
    "ExecuteTime": {
     "end_time": "2020-06-19T08:14:43.906827Z",
     "start_time": "2020-06-19T08:14:43.901826Z"
    }
   },
   "outputs": [
    {
     "data": {
      "text/plain": [
       "{0: 0, 1: 1, 2: 1}"
      ]
     },
     "execution_count": 14,
     "metadata": {},
     "output_type": "execute_result"
    }
   ],
   "source": [
    "example4()\n",
    "known"
   ]
  },
  {
   "cell_type": "markdown",
   "metadata": {
    "ExecuteTime": {
     "end_time": "2020-06-19T08:04:10.049615Z",
     "start_time": "2020-06-19T08:04:10.046608Z"
    }
   },
   "source": [
    "你可以增加、删除和替代全局列表或者字典的元素， 但是如果你想对变量重新赋值，你必须声明它"
   ]
  },
  {
   "cell_type": "code",
   "execution_count": 15,
   "metadata": {
    "ExecuteTime": {
     "end_time": "2020-06-19T08:14:45.984784Z",
     "start_time": "2020-06-19T08:14:45.981782Z"
    }
   },
   "outputs": [],
   "source": [
    "def example5():\n",
    "    global known\n",
    "    known = dict()"
   ]
  },
  {
   "cell_type": "code",
   "execution_count": 16,
   "metadata": {
    "ExecuteTime": {
     "end_time": "2020-06-19T08:14:47.610487Z",
     "start_time": "2020-06-19T08:14:47.606486Z"
    }
   },
   "outputs": [
    {
     "data": {
      "text/plain": [
       "{}"
      ]
     },
     "execution_count": 16,
     "metadata": {},
     "output_type": "execute_result"
    }
   ],
   "source": [
    "example5()\n",
    "known"
   ]
  },
  {
   "cell_type": "code",
   "execution_count": 17,
   "metadata": {
    "ExecuteTime": {
     "end_time": "2020-06-19T08:14:48.552877Z",
     "start_time": "2020-06-19T08:14:48.549881Z"
    }
   },
   "outputs": [],
   "source": [
    "known = {0:0, 1:1}\n",
    "\n",
    "def example6():\n",
    "    known = {2:2,3:3}"
   ]
  },
  {
   "cell_type": "code",
   "execution_count": 18,
   "metadata": {
    "ExecuteTime": {
     "end_time": "2020-06-19T08:14:49.265367Z",
     "start_time": "2020-06-19T08:14:49.261367Z"
    }
   },
   "outputs": [
    {
     "data": {
      "text/plain": [
       "{0: 0, 1: 1}"
      ]
     },
     "execution_count": 18,
     "metadata": {},
     "output_type": "execute_result"
    }
   ],
   "source": [
    "example6()\n",
    "known"
   ]
  },
  {
   "cell_type": "markdown",
   "metadata": {},
   "source": [
    "# 总结"
   ]
  },
  {
   "cell_type": "markdown",
   "metadata": {},
   "source": [
    "对于不可变的对象，操作时要声明\n",
    "\n",
    "对于可变的对象，只有重新赋值时才需要声明"
   ]
  }
 ],
 "metadata": {
  "kernelspec": {
   "display_name": "Python 3",
   "language": "python",
   "name": "python3"
  },
  "language_info": {
   "codemirror_mode": {
    "name": "ipython",
    "version": 3
   },
   "file_extension": ".py",
   "mimetype": "text/x-python",
   "name": "python",
   "nbconvert_exporter": "python",
   "pygments_lexer": "ipython3",
   "version": "3.7.0"
  },
  "toc": {
   "base_numbering": 1,
   "nav_menu": {},
   "number_sections": true,
   "sideBar": false,
   "skip_h1_title": false,
   "title_cell": "Table of Contents",
   "title_sidebar": "Contents",
   "toc_cell": false,
   "toc_position": {
    "height": "795px",
    "left": "1420px",
    "top": "92px",
    "width": "384px"
   },
   "toc_section_display": true,
   "toc_window_display": true
  },
  "varInspector": {
   "cols": {
    "lenName": 16,
    "lenType": 16,
    "lenVar": 40
   },
   "kernels_config": {
    "python": {
     "delete_cmd_postfix": "",
     "delete_cmd_prefix": "del ",
     "library": "var_list.py",
     "varRefreshCmd": "print(var_dic_list())"
    },
    "r": {
     "delete_cmd_postfix": ") ",
     "delete_cmd_prefix": "rm(",
     "library": "var_list.r",
     "varRefreshCmd": "cat(var_dic_list()) "
    }
   },
   "types_to_exclude": [
    "module",
    "function",
    "builtin_function_or_method",
    "instance",
    "_Feature"
   ],
   "window_display": false
  }
 },
 "nbformat": 4,
 "nbformat_minor": 2
}
